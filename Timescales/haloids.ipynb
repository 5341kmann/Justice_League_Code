{
 "cells": [
  {
   "cell_type": "code",
   "execution_count": 2,
   "metadata": {},
   "outputs": [],
   "source": [
    "import numpy as np\n",
    "import matplotlib.pyplot as plt\n",
    "import matplotlib as mpl\n",
    "import pynbody\n",
    "import pickle\n",
    "\n",
    "mpl.rc('font',**{'family':'serif','monospace':['Palatino']})\n",
    "mpl.rc('text', usetex=True)\n",
    "mpl.rcParams.update({'font.size': 9})\n",
    "\n",
    "pynbody.config['halo-class-priority'] =  [pynbody.halo.ahf.AHFCatalogue,\n",
    "                                          pynbody.halo.GrpCatalogue,\n",
    "                                          pynbody.halo.AmigaGrpCatalogue,\n",
    "                                          pynbody.halo.legacy.RockstarIntermediateCatalogue,\n",
    "                                          pynbody.halo.rockstar.RockstarCatalogue,\n",
    "                                          pynbody.halo.subfind.SubfindCatalogue,\n",
    "                                          pynbody.halo.hop.HOPCatalogue]"
   ]
  },
  {
   "cell_type": "code",
   "execution_count": 7,
   "metadata": {},
   "outputs": [
    {
     "name": "stdout",
     "output_type": "stream",
     "text": [
      "13797\n"
     ]
    }
   ],
   "source": [
    "s = pynbody.load('/home/christenc/Data/Sims/h148.cosmo50PLK.3072g/h148.cosmo50PLK.3072g3HbwK1BH/snapshots_200bkgdens/h148.cosmo50PLK.3072g3HbwK1BH.004096')\n",
    "s.physical_units()\n",
    "h = s.halos()\n",
    "print(len(h))"
   ]
  },
  {
   "cell_type": "code",
   "execution_count": 8,
   "metadata": {},
   "outputs": [
    {
     "name": "stdout",
     "output_type": "stream",
     "text": [
      "Halo ids for bulk processing\n",
      "[1, 2, 3, 5, 6, 9, 10, 11, 13, 14, 21, 24, 27, 28, 30, 32, 36, 37, 41, 45, 47, 48, 58, 61, 65, 68, 80, 81, 96, 105, 119, 127, 128, 136, 163, 212, 265, 278, 283, 329, 372, 377, 384, 386, 442, 491, 620, 678, 699, 711, 759, 914, 1004, 1024, 1201, 1217, 1451, 2905, 5039]\n",
      "halo ids for merger trees\n",
      "[1, 2, 3, 5, 6, 9, 10, 11, 13, 14, 21, 24, 27, 28, 30, 32, 36, 37, 41, 45, 47, 48, 58, 61, 65, 68, 80, 81, 96, 105, 119, 127, 128, 136, 163, 212, 265, 278, 283, 329, 372, 377, 384, 386, 442, 491, 620, 678, 699, 759, 914, 1004, 1024, 1201]\n"
     ]
    }
   ],
   "source": [
    "ids1,ids2,ids3 = [],[],[]\n",
    "for halo in h:\n",
    "    if len(halo.s) != 0 and halo.properties['fMhires'] > 0.9:\n",
    "        ids1.append(halo.properties['halo_id'])\n",
    "        if len(halo.dm)>1000:\n",
    "            ids2.append(halo.properties['halo_id'])\n",
    "        \n",
    "print('Halo ids for bulk processing')\n",
    "print(ids1)\n",
    "print('halo ids for merger trees')\n",
    "print(ids2)"
   ]
  },
  {
   "cell_type": "code",
   "execution_count": 4,
   "metadata": {},
   "outputs": [
    {
     "data": {
      "text/plain": [
       "[<Simulation(\"snapshots\")>, <Simulation(\"snapshots_200bkgdens\")>]"
      ]
     },
     "execution_count": 4,
     "metadata": {},
     "output_type": "execute_result"
    }
   ],
   "source": [
    "import os\n",
    "os.environ['TANGOS_DB_CONNECTION'] = '/home/akinshol/Data/Timescales/TangosData/h229.db'\n",
    "import tangos\n",
    "tangos.all_simulations()"
   ]
  },
  {
   "cell_type": "code",
   "execution_count": 6,
   "metadata": {},
   "outputs": [
    {
     "data": {
      "text/plain": [
       "[<TimeStep 'snapshots_200bkgdens/h229.cosmo50PLK.3072gst5HbwK1BH.004096' z=0.00 t=13.80 Gyr>,\n",
       " <TimeStep 'snapshots_200bkgdens/h229.cosmo50PLK.3072gst5HbwK1BH.004032' z=0.02 t=13.59 Gyr>,\n",
       " <TimeStep 'snapshots_200bkgdens/h229.cosmo50PLK.3072gst5HbwK1BH.003936' z=0.04 t=13.26 Gyr>,\n",
       " <TimeStep 'snapshots_200bkgdens/h229.cosmo50PLK.3072gst5HbwK1BH.003840' z=0.06 t=12.94 Gyr>,\n",
       " <TimeStep 'snapshots_200bkgdens/h229.cosmo50PLK.3072gst5HbwK1BH.003744' z=0.09 t=12.62 Gyr>,\n",
       " <TimeStep 'snapshots_200bkgdens/h229.cosmo50PLK.3072gst5HbwK1BH.003648' z=0.11 t=12.29 Gyr>,\n",
       " <TimeStep 'snapshots_200bkgdens/h229.cosmo50PLK.3072gst5HbwK1BH.003606' z=0.12 t=12.15 Gyr>,\n",
       " <TimeStep 'snapshots_200bkgdens/h229.cosmo50PLK.3072gst5HbwK1BH.003552' z=0.14 t=11.97 Gyr>,\n",
       " <TimeStep 'snapshots_200bkgdens/h229.cosmo50PLK.3072gst5HbwK1BH.003456' z=0.17 t=11.65 Gyr>,\n",
       " <TimeStep 'snapshots_200bkgdens/h229.cosmo50PLK.3072gst5HbwK1BH.003360' z=0.20 t=11.32 Gyr>,\n",
       " <TimeStep 'snapshots_200bkgdens/h229.cosmo50PLK.3072gst5HbwK1BH.003264' z=0.23 t=11.00 Gyr>,\n",
       " <TimeStep 'snapshots_200bkgdens/h229.cosmo50PLK.3072gst5HbwK1BH.003195' z=0.25 t=10.77 Gyr>,\n",
       " <TimeStep 'snapshots_200bkgdens/h229.cosmo50PLK.3072gst5HbwK1BH.003168' z=0.26 t=10.68 Gyr>,\n",
       " <TimeStep 'snapshots_200bkgdens/h229.cosmo50PLK.3072gst5HbwK1BH.003072' z=0.29 t=10.35 Gyr>,\n",
       " <TimeStep 'snapshots_200bkgdens/h229.cosmo50PLK.3072gst5HbwK1BH.002976' z=0.33 t=10.03 Gyr>,\n",
       " <TimeStep 'snapshots_200bkgdens/h229.cosmo50PLK.3072gst5HbwK1BH.002880' z=0.36 t=9.71 Gyr>,\n",
       " <TimeStep 'snapshots_200bkgdens/h229.cosmo50PLK.3072gst5HbwK1BH.002784' z=0.40 t=9.38 Gyr>,\n",
       " <TimeStep 'snapshots_200bkgdens/h229.cosmo50PLK.3072gst5HbwK1BH.002688' z=0.44 t=9.06 Gyr>,\n",
       " <TimeStep 'snapshots_200bkgdens/h229.cosmo50PLK.3072gst5HbwK1BH.002592' z=0.48 t=8.74 Gyr>,\n",
       " <TimeStep 'snapshots_200bkgdens/h229.cosmo50PLK.3072gst5HbwK1BH.002554' z=0.50 t=8.61 Gyr>,\n",
       " <TimeStep 'snapshots_200bkgdens/h229.cosmo50PLK.3072gst5HbwK1BH.002496' z=0.53 t=8.41 Gyr>,\n",
       " <TimeStep 'snapshots_200bkgdens/h229.cosmo50PLK.3072gst5HbwK1BH.002400' z=0.57 t=8.09 Gyr>,\n",
       " <TimeStep 'snapshots_200bkgdens/h229.cosmo50PLK.3072gst5HbwK1BH.002304' z=0.62 t=7.77 Gyr>,\n",
       " <TimeStep 'snapshots_200bkgdens/h229.cosmo50PLK.3072gst5HbwK1BH.002208' z=0.68 t=7.44 Gyr>,\n",
       " <TimeStep 'snapshots_200bkgdens/h229.cosmo50PLK.3072gst5HbwK1BH.002112' z=0.73 t=7.12 Gyr>,\n",
       " <TimeStep 'snapshots_200bkgdens/h229.cosmo50PLK.3072gst5HbwK1BH.002088' z=0.75 t=7.04 Gyr>,\n",
       " <TimeStep 'snapshots_200bkgdens/h229.cosmo50PLK.3072gst5HbwK1BH.002016' z=0.80 t=6.80 Gyr>,\n",
       " <TimeStep 'snapshots_200bkgdens/h229.cosmo50PLK.3072gst5HbwK1BH.001920' z=0.86 t=6.47 Gyr>,\n",
       " <TimeStep 'snapshots_200bkgdens/h229.cosmo50PLK.3072gst5HbwK1BH.001824' z=0.93 t=6.15 Gyr>,\n",
       " <TimeStep 'snapshots_200bkgdens/h229.cosmo50PLK.3072gst5HbwK1BH.001740' z=1.00 t=5.87 Gyr>,\n",
       " <TimeStep 'snapshots_200bkgdens/h229.cosmo50PLK.3072gst5HbwK1BH.001728' z=1.01 t=5.83 Gyr>,\n",
       " <TimeStep 'snapshots_200bkgdens/h229.cosmo50PLK.3072gst5HbwK1BH.001632' z=1.09 t=5.50 Gyr>,\n",
       " <TimeStep 'snapshots_200bkgdens/h229.cosmo50PLK.3072gst5HbwK1BH.001536' z=1.19 t=5.18 Gyr>,\n",
       " <TimeStep 'snapshots_200bkgdens/h229.cosmo50PLK.3072gst5HbwK1BH.001475' z=1.25 t=4.98 Gyr>,\n",
       " <TimeStep 'snapshots_200bkgdens/h229.cosmo50PLK.3072gst5HbwK1BH.001440' z=1.29 t=4.86 Gyr>,\n",
       " <TimeStep 'snapshots_200bkgdens/h229.cosmo50PLK.3072gst5HbwK1BH.001344' z=1.40 t=4.53 Gyr>,\n",
       " <TimeStep 'snapshots_200bkgdens/h229.cosmo50PLK.3072gst5HbwK1BH.001269' z=1.50 t=4.28 Gyr>,\n",
       " <TimeStep 'snapshots_200bkgdens/h229.cosmo50PLK.3072gst5HbwK1BH.001248' z=1.53 t=4.21 Gyr>,\n",
       " <TimeStep 'snapshots_200bkgdens/h229.cosmo50PLK.3072gst5HbwK1BH.001152' z=1.67 t=3.89 Gyr>,\n",
       " <TimeStep 'snapshots_200bkgdens/h229.cosmo50PLK.3072gst5HbwK1BH.001106' z=1.75 t=3.73 Gyr>,\n",
       " <TimeStep 'snapshots_200bkgdens/h229.cosmo50PLK.3072gst5HbwK1BH.001056' z=1.84 t=3.57 Gyr>,\n",
       " <TimeStep 'snapshots_200bkgdens/h229.cosmo50PLK.3072gst5HbwK1BH.000974' z=2.00 t=3.29 Gyr>,\n",
       " <TimeStep 'snapshots_200bkgdens/h229.cosmo50PLK.3072gst5HbwK1BH.000960' z=2.03 t=3.24 Gyr>,\n",
       " <TimeStep 'snapshots_200bkgdens/h229.cosmo50PLK.3072gst5HbwK1BH.000864' z=2.25 t=2.92 Gyr>,\n",
       " <TimeStep 'snapshots_200bkgdens/h229.cosmo50PLK.3072gst5HbwK1BH.000776' z=2.50 t=2.62 Gyr>,\n",
       " <TimeStep 'snapshots_200bkgdens/h229.cosmo50PLK.3072gst5HbwK1BH.000768' z=2.52 t=2.60 Gyr>,\n",
       " <TimeStep 'snapshots_200bkgdens/h229.cosmo50PLK.3072gst5HbwK1BH.000672' z=2.86 t=2.27 Gyr>,\n",
       " <TimeStep 'snapshots_200bkgdens/h229.cosmo50PLK.3072gst5HbwK1BH.000637' z=3.00 t=2.15 Gyr>,\n",
       " <TimeStep 'snapshots_200bkgdens/h229.cosmo50PLK.3072gst5HbwK1BH.000576' z=3.28 t=1.95 Gyr>,\n",
       " <TimeStep 'snapshots_200bkgdens/h229.cosmo50PLK.3072gst5HbwK1BH.000480' z=3.83 t=1.63 Gyr>,\n",
       " <TimeStep 'snapshots_200bkgdens/h229.cosmo50PLK.3072gst5HbwK1BH.000456' z=4.00 t=1.54 Gyr>,\n",
       " <TimeStep 'snapshots_200bkgdens/h229.cosmo50PLK.3072gst5HbwK1BH.000384' z=4.60 t=1.30 Gyr>,\n",
       " <TimeStep 'snapshots_200bkgdens/h229.cosmo50PLK.3072gst5HbwK1BH.000347' z=4.99 t=1.18 Gyr>,\n",
       " <TimeStep 'snapshots_200bkgdens/h229.cosmo50PLK.3072gst5HbwK1BH.000288' z=5.78 t=0.98 Gyr>,\n",
       " <TimeStep 'snapshots_200bkgdens/h229.cosmo50PLK.3072gst5HbwK1BH.000275' z=5.99 t=0.94 Gyr>,\n",
       " <TimeStep 'snapshots_200bkgdens/h229.cosmo50PLK.3072gst5HbwK1BH.000225' z=6.98 t=0.77 Gyr>,\n",
       " <TimeStep 'snapshots_200bkgdens/h229.cosmo50PLK.3072gst5HbwK1BH.000192' z=7.86 t=0.66 Gyr>,\n",
       " <TimeStep 'snapshots_200bkgdens/h229.cosmo50PLK.3072gst5HbwK1BH.000188' z=7.99 t=0.64 Gyr>,\n",
       " <TimeStep 'snapshots_200bkgdens/h229.cosmo50PLK.3072gst5HbwK1BH.000139' z=9.95 t=0.48 Gyr>,\n",
       " <TimeStep 'snapshots_200bkgdens/h229.cosmo50PLK.3072gst5HbwK1BH.000107' z=11.99 t=0.37 Gyr>,\n",
       " <TimeStep 'snapshots_200bkgdens/h229.cosmo50PLK.3072gst5HbwK1BH.000096' z=12.94 t=0.33 Gyr>,\n",
       " <TimeStep 'snapshots_200bkgdens/h229.cosmo50PLK.3072gst5HbwK1BH.000071' z=15.93 t=0.25 Gyr>]"
      ]
     },
     "execution_count": 6,
     "metadata": {},
     "output_type": "execute_result"
    }
   ],
   "source": [
    "s = tangos.get_simulation('snapshots_200bkgdens')\n",
    "list(np.flip(list(s.timesteps)))"
   ]
  },
  {
   "cell_type": "code",
   "execution_count": 9,
   "metadata": {},
   "outputs": [],
   "source": [
    "\n",
    "snapshots =['h229.cosmo50PLK.3072gst5HbwK1BH.004096',\n",
    "            'h229.cosmo50PLK.3072gst5HbwK1BH.004032',\n",
    "            'h229.cosmo50PLK.3072gst5HbwK1BH.003936',\n",
    "            'h229.cosmo50PLK.3072gst5HbwK1BH.003840',\n",
    "            'h229.cosmo50PLK.3072gst5HbwK1BH.003744',\n",
    "            'h229.cosmo50PLK.3072gst5HbwK1BH.003648',\n",
    "            'h229.cosmo50PLK.3072gst5HbwK1BH.003606',\n",
    "            'h229.cosmo50PLK.3072gst5HbwK1BH.003552',\n",
    "            'h229.cosmo50PLK.3072gst5HbwK1BH.003456',\n",
    "            'h229.cosmo50PLK.3072gst5HbwK1BH.003360',\n",
    "            'h229.cosmo50PLK.3072gst5HbwK1BH.003264',\n",
    "            'h229.cosmo50PLK.3072gst5HbwK1BH.003195',\n",
    "            'h229.cosmo50PLK.3072gst5HbwK1BH.003168',\n",
    "            'h229.cosmo50PLK.3072gst5HbwK1BH.003072',\n",
    "            'h229.cosmo50PLK.3072gst5HbwK1BH.002976',\n",
    "            'h229.cosmo50PLK.3072gst5HbwK1BH.002880',\n",
    "            'h229.cosmo50PLK.3072gst5HbwK1BH.002784',\n",
    "            'h229.cosmo50PLK.3072gst5HbwK1BH.002688',\n",
    "            'h229.cosmo50PLK.3072gst5HbwK1BH.002592',\n",
    "            'h229.cosmo50PLK.3072gst5HbwK1BH.002554',\n",
    "            'h229.cosmo50PLK.3072gst5HbwK1BH.002496',\n",
    "            'h229.cosmo50PLK.3072gst5HbwK1BH.002400',\n",
    "            'h229.cosmo50PLK.3072gst5HbwK1BH.002304',\n",
    "            'h229.cosmo50PLK.3072gst5HbwK1BH.002208',\n",
    "            'h229.cosmo50PLK.3072gst5HbwK1BH.002112',\n",
    "            'h229.cosmo50PLK.3072gst5HbwK1BH.002088',\n",
    "            'h229.cosmo50PLK.3072gst5HbwK1BH.002016',\n",
    "            'h229.cosmo50PLK.3072gst5HbwK1BH.001920',\n",
    "            'h229.cosmo50PLK.3072gst5HbwK1BH.001824',\n",
    "            'h229.cosmo50PLK.3072gst5HbwK1BH.001740',\n",
    "            'h229.cosmo50PLK.3072gst5HbwK1BH.001728',\n",
    "            'h229.cosmo50PLK.3072gst5HbwK1BH.001632',\n",
    "            'h229.cosmo50PLK.3072gst5HbwK1BH.001536',\n",
    "            'h229.cosmo50PLK.3072gst5HbwK1BH.001475',\n",
    "            'h229.cosmo50PLK.3072gst5HbwK1BH.001440',\n",
    "            'h229.cosmo50PLK.3072gst5HbwK1BH.001344',\n",
    "            'h229.cosmo50PLK.3072gst5HbwK1BH.001269',\n",
    "            'h229.cosmo50PLK.3072gst5HbwK1BH.001248',\n",
    "            'h229.cosmo50PLK.3072gst5HbwK1BH.001152',\n",
    "            'h229.cosmo50PLK.3072gst5HbwK1BH.001106',\n",
    "            'h229.cosmo50PLK.3072gst5HbwK1BH.001056',\n",
    "            'h229.cosmo50PLK.3072gst5HbwK1BH.000974',\n",
    "            'h229.cosmo50PLK.3072gst5HbwK1BH.000960',\n",
    "            'h229.cosmo50PLK.3072gst5HbwK1BH.000864',\n",
    "            'h229.cosmo50PLK.3072gst5HbwK1BH.000776',\n",
    "            'h229.cosmo50PLK.3072gst5HbwK1BH.000768',\n",
    "            'h229.cosmo50PLK.3072gst5HbwK1BH.000672',\n",
    "            'h229.cosmo50PLK.3072gst5HbwK1BH.000637',\n",
    "            'h229.cosmo50PLK.3072gst5HbwK1BH.000576',\n",
    "            'h229.cosmo50PLK.3072gst5HbwK1BH.000480',\n",
    "            'h229.cosmo50PLK.3072gst5HbwK1BH.000456',\n",
    "            'h229.cosmo50PLK.3072gst5HbwK1BH.000384',\n",
    "            'h229.cosmo50PLK.3072gst5HbwK1BH.000347',\n",
    "            'h229.cosmo50PLK.3072gst5HbwK1BH.000288',\n",
    "            'h229.cosmo50PLK.3072gst5HbwK1BH.000275',\n",
    "            'h229.cosmo50PLK.3072gst5HbwK1BH.000225',\n",
    "            'h229.cosmo50PLK.3072gst5HbwK1BH.000192',\n",
    "            'h229.cosmo50PLK.3072gst5HbwK1BH.000188',\n",
    "            'h229.cosmo50PLK.3072gst5HbwK1BH.000139',\n",
    "            'h229.cosmo50PLK.3072gst5HbwK1BH.000107',\n",
    "            'h229.cosmo50PLK.3072gst5HbwK1BH.000096',\n",
    "            'h229.cosmo50PLK.3072gst5HbwK1BH.000071']\n",
    "\n",
    "path = '/home/christenc/Data/Sims/h229.cosmo50PLK.3072g/h229.cosmo50PLK.3072gst5HbwK1BH/snapshots_200bkgdens/'"
   ]
  },
  {
   "cell_type": "code",
   "execution_count": 10,
   "metadata": {},
   "outputs": [
    {
     "name": "stdout",
     "output_type": "stream",
     "text": [
      "h229.cosmo50PLK.3072gst5HbwK1BH.004096\n",
      "h229.cosmo50PLK.3072gst5HbwK1BH.004032\n",
      "h229.cosmo50PLK.3072gst5HbwK1BH.003936\n",
      "h229.cosmo50PLK.3072gst5HbwK1BH.003840\n",
      "h229.cosmo50PLK.3072gst5HbwK1BH.003744\n",
      "h229.cosmo50PLK.3072gst5HbwK1BH.003648\n",
      "h229.cosmo50PLK.3072gst5HbwK1BH.003606\n",
      "h229.cosmo50PLK.3072gst5HbwK1BH.003552\n",
      "h229.cosmo50PLK.3072gst5HbwK1BH.003456\n",
      "h229.cosmo50PLK.3072gst5HbwK1BH.003360\n",
      "h229.cosmo50PLK.3072gst5HbwK1BH.003264\n",
      "h229.cosmo50PLK.3072gst5HbwK1BH.003195\n",
      "h229.cosmo50PLK.3072gst5HbwK1BH.003168\n",
      "h229.cosmo50PLK.3072gst5HbwK1BH.003072\n",
      "h229.cosmo50PLK.3072gst5HbwK1BH.002976\n",
      "h229.cosmo50PLK.3072gst5HbwK1BH.002880\n",
      "h229.cosmo50PLK.3072gst5HbwK1BH.002784\n",
      "h229.cosmo50PLK.3072gst5HbwK1BH.002688\n",
      "h229.cosmo50PLK.3072gst5HbwK1BH.002592\n",
      "h229.cosmo50PLK.3072gst5HbwK1BH.002554\n",
      "h229.cosmo50PLK.3072gst5HbwK1BH.002496\n",
      "h229.cosmo50PLK.3072gst5HbwK1BH.002400\n",
      "h229.cosmo50PLK.3072gst5HbwK1BH.002304\n",
      "h229.cosmo50PLK.3072gst5HbwK1BH.002208\n",
      "h229.cosmo50PLK.3072gst5HbwK1BH.002112\n",
      "h229.cosmo50PLK.3072gst5HbwK1BH.002088\n",
      "h229.cosmo50PLK.3072gst5HbwK1BH.002016\n",
      "h229.cosmo50PLK.3072gst5HbwK1BH.001920\n",
      "h229.cosmo50PLK.3072gst5HbwK1BH.001824\n",
      "h229.cosmo50PLK.3072gst5HbwK1BH.001740\n",
      "h229.cosmo50PLK.3072gst5HbwK1BH.001728\n",
      "h229.cosmo50PLK.3072gst5HbwK1BH.001632\n",
      "h229.cosmo50PLK.3072gst5HbwK1BH.001536\n",
      "h229.cosmo50PLK.3072gst5HbwK1BH.001475\n",
      "h229.cosmo50PLK.3072gst5HbwK1BH.001440\n",
      "h229.cosmo50PLK.3072gst5HbwK1BH.001344\n",
      "h229.cosmo50PLK.3072gst5HbwK1BH.001269\n",
      "h229.cosmo50PLK.3072gst5HbwK1BH.001248\n",
      "h229.cosmo50PLK.3072gst5HbwK1BH.001152\n",
      "h229.cosmo50PLK.3072gst5HbwK1BH.001106\n",
      "h229.cosmo50PLK.3072gst5HbwK1BH.001056\n",
      "h229.cosmo50PLK.3072gst5HbwK1BH.000974\n",
      "h229.cosmo50PLK.3072gst5HbwK1BH.000960\n",
      "h229.cosmo50PLK.3072gst5HbwK1BH.000864\n",
      "h229.cosmo50PLK.3072gst5HbwK1BH.000776\n"
     ]
    },
    {
     "name": "stderr",
     "output_type": "stream",
     "text": [
      "/home/akinshol/anaconda3/envs/py37/lib/python3.7/site-packages/sqlalchemy/ext/declarative/clsregistry.py:129: SAWarning: This declarative base already contains a class with the same class name and module name as tangos.relation_finding.multi_hop.MultiHopHaloLink_ldfy, and will be replaced in the string-lookup table.\n",
      "  % (item.__module__, item.__name__)\n"
     ]
    },
    {
     "name": "stdout",
     "output_type": "stream",
     "text": [
      "h229.cosmo50PLK.3072gst5HbwK1BH.000768\n",
      "h229.cosmo50PLK.3072gst5HbwK1BH.000672\n",
      "h229.cosmo50PLK.3072gst5HbwK1BH.000637\n",
      "h229.cosmo50PLK.3072gst5HbwK1BH.000576\n",
      "h229.cosmo50PLK.3072gst5HbwK1BH.000480\n",
      "h229.cosmo50PLK.3072gst5HbwK1BH.000456\n",
      "h229.cosmo50PLK.3072gst5HbwK1BH.000384\n",
      "h229.cosmo50PLK.3072gst5HbwK1BH.000347\n",
      "h229.cosmo50PLK.3072gst5HbwK1BH.000288\n",
      "h229.cosmo50PLK.3072gst5HbwK1BH.000275\n",
      "h229.cosmo50PLK.3072gst5HbwK1BH.000225\n",
      "h229.cosmo50PLK.3072gst5HbwK1BH.000192\n",
      "h229.cosmo50PLK.3072gst5HbwK1BH.000188\n",
      "h229.cosmo50PLK.3072gst5HbwK1BH.000139\n",
      "h229.cosmo50PLK.3072gst5HbwK1BH.000107\n",
      "h229.cosmo50PLK.3072gst5HbwK1BH.000096\n",
      "h229.cosmo50PLK.3072gst5HbwK1BH.000071\n"
     ]
    }
   ],
   "source": [
    "\n",
    "for tstep in range(len(snapshots)):\n",
    "    snapshot = snapshots[tstep]\n",
    "    print(snapshot)\n",
    "    sim = pynbody.load(path+snapshot)\n",
    "    sim.physical_units()\n",
    "    h = sim.halos()\n",
    "    \n",
    "    for z0haloid in ids2:\n",
    "        halo = s.timesteps[-1].halos[z0haloid-1]\n",
    "        haloids, ndms = halo.calculate_for_progenitors('halo_number()', 'NDM()')\n",
    "        try:\n",
    "            haloid = haloids[tstep]\n",
    "        except:\n",
    "            continue\n",
    "        ndm = ndms[tstep]\n",
    "        pyn_ndm = len(h[haloid].dm)\n",
    "        if ndm != pyn_ndm:\n",
    "            print(f'z = 0 haloid {z0haloid}, tangos NDM, {ndm}, pynbody {pyn_ndm}')\n",
    "        \n",
    "    "
   ]
  },
  {
   "cell_type": "code",
   "execution_count": 11,
   "metadata": {},
   "outputs": [
    {
     "name": "stdout",
     "output_type": "stream",
     "text": [
      "1: [1, 1, 1, 1, 1, 1, 1, 1, 1, 1, 1, 1, 1, 1, 1, 1, 1, 1, 1, 1, 1, 1, 1, 1, 1, 1, 1, 1, 1, 1, 1, 1, 1, 1, 1, 1, 1, 1, 1, 2, 1, 1, 1, 1, 1, 1, 1, 1, 1, 1, 1, 1, 1, 1, 1, 1, 1, 1, 4, 13, 16],\n",
      "2: [2, 2, 2, 2, 2, 2, 2, 2, 2, 2, 2, 2, 2, 2, 3, 2, 3, 3, 3, 3, 3, 3, 3, 3, 3, 3, 3, 3, 3, 3, 3, 3, 3, 3, 3, 3, 3, 4, 5, 5, 5, 5, 4, 4, 4, 4, 3, 4, 4, 5, 5, 7, 15, 20, 23, 24, 23, 24, 48, 87],\n",
      "5: [5, 5, 6, 6, 6, 5, 5, 5, 5, 6, 4, 4, 4, 4, 4, 3, 4, 4, 4, 4, 4, 4, 4, 4, 5, 5, 5, 5, 5, 5, 5, 5, 5, 5, 6, 7, 7, 8, 10, 10, 10, 10, 9, 8, 10, 10, 14, 15, 15, 16, 18, 15, 19, 25, 25, 23, 32, 36, 29, 82],\n",
      "7: [7, 7, 7, 7, 8, 7, 6, 6, 7, 7, 7, 6, 6, 6, 7, 6, 7, 8, 8, 8, 7, 6, 6, 8, 8, 8, 8, 8, 7, 8, 8, 9, 9, 10, 11, 11, 11, 12, 12, 12, 12, 11, 12, 12, 21, 20, 24, 24, 28, 35, 38, 53, 59, 77, 87, 217, 234, 231],\n",
      "17: [17, 17, 16, 18, 18, 17, 17, 18, 19, 19, 20, 19, 20, 21, 23, 22, 25, 24, 24, 25, 23, 23, 26, 26, 26, 26, 28, 28, 28, 30, 30, 30, 30, 29, 29, 32, 38, 43, 42, 44, 41, 42, 43, 40, 42, 43, 57, 62, 68, 71, 77, 80, 81, 86, 93, 128, 149, 153, 198],\n",
      "20: [20, 19, 17, 17, 17, 15, 15, 15, 15, 15, 15, 15, 15, 14, 16, 13, 14, 14, 14, 15, 15, 13, 14, 13, 14, 14, 13, 13, 14, 13, 13, 13, 13, 13, 14, 15, 18, 19, 30, 30, 30, 33, 34, 42, 44, 45, 53, 53, 54, 55, 58, 70, 72, 71, 69, 63, 61, 63, 43, 36, 36, 25],\n",
      "22: [22, 22, 22, 22, 22, 21, 20, 21, 21, 21, 21, 20, 19, 18, 20, 18, 17, 16, 16, 14, 10, 10, 10, 11, 10, 10, 10, 10, 9, 9, 9, 8, 7, 7, 8, 9, 9, 10, 9, 9, 8, 8, 8, 9, 9, 8, 9, 9, 10, 9, 10, 9, 6, 17, 20, 20, 21, 22, 20, 40, 40],\n",
      "23: [23, 23, 23, 23, 23, 22, 23, 22, 23, 24, 25, 23, 23, 25, 26, 23, 22, 22, 21, 19, 19, 17, 17, 16, 16, 15, 15, 15, 15, 14, 14, 14, 14, 14, 15, 19, 22, 23, 25, 26, 27, 27, 28, 28, 32, 33, 37, 35, 43, 56, 56, 56, 61, 70, 86, 106, 135, 137, 182],\n",
      "27: [27, 27, 28, 28, 29, 30, 31, 31, 30, 30, 29, 30, 30, 30, 32, 32, 32, 31, 29, 30, 30, 26, 25, 25, 31, 27, 21, 20, 20, 20, 20, 20, 21, 20, 21, 21, 20, 21, 21, 21, 21, 22, 23, 23, 25, 23, 19, 20, 22, 26, 32, 33, 30, 36, 34, 60, 60, 61, 109],\n",
      "29: [29, 29, 30, 30, 32, 32, 33, 33, 32, 33, 33, 34, 34, 36, 38, 38, 39, 37, 37, 37, 37, 38, 38, 37, 36, 36, 38, 37, 37, 41, 41, 36, 34, 36, 36, 35, 35, 38, 37, 36, 36, 38, 40, 37, 39, 40, 47, 46, 50, 52, 55, 60, 64, 61, 62, 57, 49, 48, 40, 26, 20, 12],\n",
      "33: [33, 34, 34, 32, 34, 34, 21, 17, 17, 16, 16, 16, 16, 17, 19, 19, 21, 21, 22, 22, 22, 21, 22, 22, 22, 21, 22, 21, 21, 19, 19, 18, 19, 21, 25, 17, 16, 17, 19, 19, 19, 19, 20, 21, 22, 21, 21, 21, 23, 23, 26, 29, 28, 30, 31, 27, 26, 26, 17, 14, 12, 8],\n",
      "52: [52, 52, 51, 51, 51, 50, 50, 49, 48, 47, 47, 46, 45, 48, 50, 46, 45, 46, 48, 46, 44, 42, 41, 42, 38, 38, 39, 38, 38, 39, 38, 38, 36, 38, 39, 38, 39, 41, 40, 39, 38, 41, 42, 41, 43, 44, 52, 52, 56, 59, 60, 63, 62, 56, 56, 75, 68, 69, 33, 28, 46],\n",
      "53: [53, 54, 54, 69, 53, 52, 51, 50, 49, 48, 48, 47, 46, 47, 48, 47, 46, 47, 46, 44, 42, 40, 39, 41, 40, 39, 36, 31, 27, 28, 28, 26, 25, 26, 27, 27, 27, 28, 28, 28, 24, 24, 25, 69, 56, 56, 62, 63, 64, 82, 88, 95, 106, 279, 291, 277, 253, 245, 190],\n",
      "55: [55, 53, 52, 50, 49, 45, 44, 42, 39, 37, 35, 36, 36, 34, 33, 30, 24, 20, 18, 18, 18, 19, 20, 18, 17, 17, 17, 17, 16, 16, 16, 15, 15, 15, 17, 16, 15, 16, 18, 18, 18, 18, 18, 17, 20, 19, 18, 19, 21, 19, 22, 28, 96, 109, 108, 353],\n",
      "59: [59, 60, 58, 57, 59, 60, 61, 61, 60, 59, 58, 58, 57, 59, 60, 58, 61, 62, 64, 64, 64, 64, 65, 64, 65, 66, 65, 66, 64, 65, 63, 62, 57, 56, 56, 47, 44, 47, 46, 46, 52, 57, 59, 60, 67, 69, 72, 74, 81, 77, 83, 91, 98, 90, 92, 110, 359, 356],\n",
      "61: [61, 61, 62, 63, 64, 64, 64, 65, 65, 64, 66, 67, 65, 66, 67, 65, 67, 66, 67, 65, 67, 67, 66, 65, 66, 67, 70, 69, 71, 71, 71, 73, 76, 76, 76, 77, 81, 81, 81, 78, 80, 81, 84, 92, 100, 100, 109, 110, 111, 106, 120, 138, 170, 178, 181, 174, 145, 144, 118, 85, 70],\n",
      "62: [62, 62, 63, 62, 61, 59, 58, 58, 59, 57, 57, 55, 67, 41, 40, 39, 40, 39, 41, 40, 40, 41, 43, 46, 46, 47, 49, 48, 49, 51, 51, 53, 55, 53, 55, 53, 56, 56, 58, 61, 61, 69, 68, 77, 80, 81, 95, 102, 96, 92, 96, 115, 123, 189, 195, 171, 147, 148, 121, 104],\n",
      "73: [73, 72, 70, 71, 71, 68, 68, 68, 70, 66, 67, 63, 62, 65, 30, 27, 29, 28, 28, 29, 28, 30, 30, 28, 28, 29, 30, 30, 29, 31, 31, 28, 26, 25, 26, 26, 25, 26, 27, 27, 25, 25, 26, 26, 29, 28, 29, 29, 32, 37, 37, 41, 36, 38, 38, 44, 40, 39, 36, 103],\n",
      "104: [104, 106, 105, 107, 105, 105, 107, 109, 106, 102, 105, 105, 105, 106, 102, 98, 94, 87, 88, 86, 84, 84, 83, 81, 82, 81, 83, 82, 82, 82, 82, 80, 81, 80, 79, 74, 73, 73, 64, 66, 63, 58, 55, 49, 54, 54, 68, 70, 74, 72, 79, 90, 99, 110, 113, 105, 126, 128, 185],\n",
      "113: [113, 111, 104, 96, 87, 82, 78, 78, 77, 75, 77, 77, 75, 74, 73, 70, 60, 53, 52, 50, 50, 50, 40, 40, 37, 37, 40, 39, 39, 40, 37, 37, 35, 33, 32, 37, 29, 31, 26, 25, 26, 26, 27, 27, 31, 31, 34, 32, 39, 41, 41, 42, 34, 37, 36, 54, 87, 90],\n",
      "139: [139, 140, 137, 136, 137, 136, 137, 135, 134, 129, 135, 120, 111, 102, 100, 100, 102, 99, 101, 99, 98, 99, 99, 101, 103, 104, 105, 109, 102, 103, 103, 105, 104, 101, 104, 103, 106, 109, 111, 109, 112, 111, 113, 116, 121, 122, 125, 126, 131, 127, 132, 147, 155, 148, 130, 123, 202, 207, 155],\n",
      "212: [212, 212, 208, 200, 186, 178, 175, 171, 159, 85, 79, 80, 79, 81, 80, 77, 77, 73, 69, 66, 66, 65, 48, 35, 34, 34, 35, 35, 33, 35, 35, 32, 32, 31, 35, 29, 31, 34, 35, 35, 35, 37, 38, 34, 36, 36, 45, 41, 49, 49, 50, 49, 45, 58, 61, 89, 76, 76, 56, 53, 55],\n",
      "290: [290, 288, 287, 287, 284, 284, 286, 290, 295, 297, 306, 307, 310, 314, 313, 315, 322, 325, 328, 323, 318, 307, 287, 276, 281, 281, 345, 219, 222, 228, 229, 238, 261, 258, 267, 268, 269, 274, 281, 279, 283, 275, 278, 263, 251, 253, 294, 296, 301, 314, 321, 326, 330, 334, 329, 339, 343, 345],\n",
      "549: [549, 548, 537, 550, 522, 511, 501],\n"
     ]
    }
   ],
   "source": [
    "for z0haloid in ids2:\n",
    "    halo = s.timesteps[-1].halos[z0haloid-1]\n",
    "    halo_num, = halo.calculate_for_progenitors('halo_number()')\n",
    "    print(str(z0haloid)+': [', end='')\n",
    "    print(*halo_num, sep=', ', end='')\n",
    "    print('],')\n"
   ]
  },
  {
   "cell_type": "code",
   "execution_count": 34,
   "metadata": {},
   "outputs": [
    {
     "data": {
      "text/plain": [
       "62"
      ]
     },
     "execution_count": 34,
     "metadata": {},
     "output_type": "execute_result"
    }
   ],
   "source": [
    "len(snapshots)"
   ]
  },
  {
   "cell_type": "code",
   "execution_count": 16,
   "metadata": {},
   "outputs": [
    {
     "data": {
      "text/plain": [
       "4.934124072198533e-09"
      ]
     },
     "execution_count": 16,
     "metadata": {},
     "output_type": "execute_result"
    }
   ],
   "source": [
    "\n",
    "age = np.array(h[15].star['age'].in_units('Myr'),dtype=float)\n",
    "\n",
    "np.sum(np.array(h[15].star['mass'].in_units('Msol'))[age < 100]) / 100e6 "
   ]
  },
  {
   "cell_type": "code",
   "execution_count": null,
   "metadata": {},
   "outputs": [],
   "source": []
  }
 ],
 "metadata": {
  "kernelspec": {
   "display_name": "Python 3",
   "language": "python",
   "name": "python3"
  },
  "language_info": {
   "codemirror_mode": {
    "name": "ipython",
    "version": 3
   },
   "file_extension": ".py",
   "mimetype": "text/x-python",
   "name": "python",
   "nbconvert_exporter": "python",
   "pygments_lexer": "ipython3",
   "version": "3.7.3"
  }
 },
 "nbformat": 4,
 "nbformat_minor": 2
}
