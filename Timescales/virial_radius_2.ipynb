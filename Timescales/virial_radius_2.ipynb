{
 "cells": [
  {
   "cell_type": "code",
   "execution_count": 1,
   "metadata": {},
   "outputs": [],
   "source": [
    "import numpy as np\n",
    "import matplotlib.pyplot as plt\n",
    "import matplotlib as mpl\n",
    "import pandas as pd\n",
    "import pickle\n",
    "import pynbody\n",
    "pynbody.config['halo-class-priority'] =  [pynbody.halo.ahf.AHFCatalogue,\n",
    "                                          pynbody.halo.GrpCatalogue,\n",
    "                                          pynbody.halo.AmigaGrpCatalogue,\n",
    "                                          pynbody.halo.legacy.RockstarIntermediateCatalogue,\n",
    "                                          pynbody.halo.rockstar.RockstarCatalogue,\n",
    "                                          pynbody.halo.subfind.SubfindCatalogue, pynbody.halo.hop.HOPCatalogue]\n",
    "\n",
    "%matplotlib inline\n",
    "mpl.rc('font',**{'family':'serif','monospace':['Palatino']})\n",
    "mpl.rc('text', usetex=True)\n",
    "mpl.rcParams.update({'font.size': 9})"
   ]
  },
  {
   "cell_type": "code",
   "execution_count": 2,
   "metadata": {},
   "outputs": [],
   "source": [
    "def read_file(name, halo_num):\n",
    "    data = []\n",
    "    with open('/home/akinshol/Data/Timescales/DataFiles/'+name+'.data','rb') as f:\n",
    "        while True:\n",
    "            try: \n",
    "                data.append(pickle.load(f))\n",
    "            except EOFError:\n",
    "                break\n",
    "    data = pd.DataFrame(data)\n",
    "    \n",
    "    if not halo_num=='all':\n",
    "        data = data[data.z0haloid == halo_num]\n",
    "\n",
    "    return data"
   ]
  },
  {
   "cell_type": "code",
   "execution_count": 17,
   "metadata": {},
   "outputs": [
    {
     "name": "stdout",
     "output_type": "stream",
     "text": [
      "11: [62.0, 61.08, 59.71, 58.36, 57.02, 55.69, 55.21, 54.6, 53.45, 52.19, 51.03, 50.04, 49.57, 48.05, 46.67, 45.2, 43.78, 42.09, 39.97, 38.72, 36.19, 34.38, 33.03, 31.71, 30.55, 30.28, 29.41, 28.28, 27.19, 26.24, 26.09, 24.85, 23.62, 22.76, 22.32, 21.02, 20.06, 19.79, 18.54, 17.98, 17.37, 16.39, 16.19, 14.79, 13.54, 13.44, 12.07, 11.61, 10.88, 9.12, 8.61, 6.85, 5.95, 4.76, 4.42, 3.49, 2.91, 2.83, 1.69],\n",
      "31: [49.46, 48.73, 47.63, 46.55, 45.48, 44.43, 43.97, 43.38, 42.34, 41.32, 40.3, 39.57, 39.29, 38.28, 37.22, 36.14, 35.08, 33.98, 32.9, 32.48, 31.83, 30.64, 29.47, 28.46, 27.48, 27.24, 26.44, 25.33, 24.24, 23.31, 23.05, 22.27, 21.41, 20.66, 20.11, 19.08, 16.15, 15.68, 14.13, 13.57, 12.7, 10.25, 10.07, 9.03, 8.2, 8.11, 7.21, 6.89, 6.38, 5.64, 5.37, 4.18, 3.72, 3.03, 2.86, 2.07, 1.85, 1.82, 1.1],\n",
      "33: [35.93, 35.37, 34.55, 33.73, 32.95, 32.18, 31.86, 31.46, 30.8, 30.19, 29.66, 29.37, 29.24, 28.91, 34.66, 33.74, 32.83, 31.92, 31.01, 30.65, 30.11, 29.21, 28.31, 27.22, 26.21, 26.0, 25.23, 23.66, 22.75, 21.97, 21.84, 20.88, 19.88, 19.24, 18.83, 17.74, 16.92, 16.67, 15.61, 15.11, 14.58, 13.77, 13.62, 12.51, 11.16, 11.03, 9.91, 3.7, 5.3, 5.31, 5.15, 4.1, 3.14, 2.07, 1.95, 1.58, 1.3, 1.27],\n",
      "40: [40.02, 39.42, 38.54, 37.66, 36.8, 35.94, 35.57, 35.1, 34.26, 33.43, 32.56, 31.96, 31.73, 30.81, 29.9, 29.01, 28.1, 27.24, 26.34, 25.96, 25.42, 24.52, 23.56, 22.65, 21.77, 21.56, 20.91, 20.09, 19.35, 18.65, 18.54, 17.71, 16.79, 16.21, 15.88, 14.98, 14.24, 14.03, 13.1, 12.67, 12.26, 11.72, 11.64, 10.7, 9.45, 9.29, 7.35, 6.95, 6.35, 5.79, 5.53, 4.38, 3.28, 2.71, 2.59, 2.23, 2.09, 2.05, 1.15],\n",
      "64: [32.14, 31.66, 30.95, 30.25, 29.55, 28.87, 28.57, 28.19, 27.51, 26.85, 26.18, 25.71, 25.53, 24.88, 24.23, 23.59, 22.95, 22.31, 21.68, 21.43, 21.04, 20.4, 19.76, 19.13, 18.5, 18.36, 17.9, 17.28, 16.64, 16.06, 15.98, 15.31, 14.57, 14.11, 13.88, 13.05, 12.27, 12.07, 11.06, 10.73, 10.39, 9.76, 9.68, 8.77, 7.63, 7.58, 6.84, 6.32, 5.51, 3.56, 3.39, 2.82, 2.58, 2.11, 2.01, 1.76, 1.72, 1.69, 1.21, 0.9],\n",
      "103: [22.56, 22.3, 21.7, 21.22, 20.76, 20.28, 20.07, 19.81, 19.39, 18.96, 18.57, 18.29, 18.18, 17.81, 15.45, 12.92, 12.57, 12.22, 11.87, 11.74, 11.53, 11.18, 8.38, 4.1, 6.84, 8.19, 12.02, 13.63, 13.15, 12.72, 12.66, 12.13, 11.66, 11.38, 11.25, 10.98, 10.92, 10.93, 10.86, 10.66, 10.83, 11.07, 11.0, 9.9, 8.88, 8.79, 7.55, 7.2, 6.57, 5.53, 5.27, 4.47, 4.14, 3.55, 3.43, 2.8, 2.02, 1.94, 1.29],\n",
      "133: [24.29, 23.93, 23.39, 22.86, 22.33, 21.82, 21.59, 21.3, 20.79, 20.29, 19.79, 19.43, 19.29, 18.8, 18.31, 17.82, 17.34, 16.86, 16.38, 16.19, 15.9, 15.47, 15.03, 14.6, 14.18, 14.07, 13.81, 13.53, 17.11, 16.54, 16.45, 15.79, 15.12, 14.7, 14.45, 13.77, 13.35, 13.21, 12.59, 12.32, 11.93, 11.22, 11.1, 10.25, 9.27, 9.25, 8.6, 8.07, 7.33, 6.06, 5.62, 4.61, 3.65, 2.36, 2.2, 1.52],\n",
      "137: [19.65, 19.36, 18.93, 18.5, 18.07, 17.65, 17.47, 17.24, 16.83, 16.42, 16.1, 15.77, 15.67, 15.35, 21.84, 21.26, 20.68, 20.11, 19.54, 19.31, 18.97, 18.4, 17.83, 17.27, 16.7, 16.56, 16.15, 15.66, 15.28, 15.15, 21.45, 20.59, 19.72, 19.16, 18.84, 17.95, 17.31, 17.12, 16.04, 15.47, 14.84, 13.75, 13.6, 12.6, 11.65, 11.56, 10.27, 9.85, 9.1, 7.82, 7.43, 6.26, 5.76, 4.78, 4.58, 3.81, 3.37, 3.31, 2.32, 1.28, 1.0],\n",
      "146: [19.65, 19.36, 18.93, 18.5, 18.13, 17.75, 17.52, 17.28, 16.83, 16.47, 16.01, 15.8, 15.62, 15.24, 14.88, 14.39, 14.03, 13.58, 13.19, 13.04, 12.8, 12.37, 12.03, 11.58, 11.2, 11.09, 10.81, 10.4, 9.99, 9.65, 9.6, 9.18, 8.75, 8.49, 8.34, 7.9, 7.55, 7.45, 6.99, 6.78, 6.56, 6.17, 6.1, 5.66, 5.22, 5.17, 4.65, 4.44, 4.05, 3.5, 3.37, 2.92, 2.65, 2.27, 2.2, 1.9, 1.65, 1.63, 1.31, 1.03, 0.95],\n",
      "185: [25.07, 24.7, 24.14, 23.6, 23.05, 22.52, 22.29, 21.99, 21.46, 20.94, 20.43, 20.06, 19.91, 19.4, 18.9, 18.4, 17.9, 17.4, 16.91, 16.71, 16.42, 15.92, 15.43, 14.94, 14.45, 14.33, 13.96, 13.47, 12.97, 12.54, 12.47, 11.97, 11.66, 12.42, 12.21, 11.64, 11.18, 11.05, 10.46, 10.17, 9.81, 9.29, 9.18, 8.32, 7.35, 7.27, 6.57, 6.32, 5.83, 4.78, 4.54, 4.13, 3.75, 3.02, 2.93, 2.42, 2.05, 2.02, 1.51, 0.99, 0.86],\n",
      "447: [25.07, 24.7, 24.14, 23.6, 23.05, 22.52, 22.29, 21.99, 21.46, 20.94, 20.43],\n"
     ]
    }
   ],
   "source": [
    "name = 'h329'\n",
    "data = read_file(name,'all')\n",
    "ids = np.unique(data.z0haloid)\n",
    "\n",
    "for i in ids:\n",
    "    print(str(int(i))+': ', end='')\n",
    "    data = read_file(name,i)\n",
    "    rvir = np.array(data.Rvir, dtype=float)\n",
    "    h1dist = np.array(data.h1dist, dtype=float)\n",
    "    newrvir = np.array([],dtype=float)\n",
    "    for r, d, a in zip(np.flip(rvir), np.flip(h1dist), np.flip(data.a)):\n",
    "        if d <= 1.1:\n",
    "            newrvir = np.append(newrvir, round(prev_r * a, 2))\n",
    "        else:\n",
    "            prev_r = r / a # in comoving units\n",
    "            newrvir = np.append(newrvir, round(r, 2))\n",
    "            continue\n",
    "        \n",
    "    newrvir = np.flip(newrvir)\n",
    "    print(list(newrvir), end='')\n",
    "    print(',')\n",
    "    \n",
    "#     plt.figure(dpi=150)\n",
    "#     plt.plot(data.time, h1dist, label='h1dist')\n",
    "#     plt.plot(data.time, rvir, label='old')\n",
    "#     plt.plot(data.time, newrvir, label='new')\n",
    "#     plt.semilogy()\n",
    "#     plt.legend()\n",
    "#     plt.show()"
   ]
  },
  {
   "cell_type": "markdown",
   "metadata": {},
   "source": [
    "# scale factor!!!"
   ]
  },
  {
   "cell_type": "code",
   "execution_count": null,
   "metadata": {},
   "outputs": [],
   "source": []
  },
  {
   "cell_type": "code",
   "execution_count": null,
   "metadata": {},
   "outputs": [],
   "source": []
  },
  {
   "cell_type": "code",
   "execution_count": null,
   "metadata": {},
   "outputs": [],
   "source": []
  },
  {
   "cell_type": "code",
   "execution_count": null,
   "metadata": {},
   "outputs": [],
   "source": []
  },
  {
   "cell_type": "code",
   "execution_count": null,
   "metadata": {},
   "outputs": [],
   "source": []
  },
  {
   "cell_type": "code",
   "execution_count": null,
   "metadata": {},
   "outputs": [],
   "source": []
  },
  {
   "cell_type": "code",
   "execution_count": null,
   "metadata": {},
   "outputs": [],
   "source": []
  }
 ],
 "metadata": {
  "kernelspec": {
   "display_name": "Python 3",
   "language": "python",
   "name": "python3"
  },
  "language_info": {
   "codemirror_mode": {
    "name": "ipython",
    "version": 3
   },
   "file_extension": ".py",
   "mimetype": "text/x-python",
   "name": "python",
   "nbconvert_exporter": "python",
   "pygments_lexer": "ipython3",
   "version": "3.7.3"
  }
 },
 "nbformat": 4,
 "nbformat_minor": 2
}
