{
 "cells": [
  {
   "cell_type": "code",
   "execution_count": 1,
   "metadata": {},
   "outputs": [],
   "source": [
    "import numpy as np\n",
    "import matplotlib.pyplot as plt\n",
    "import matplotlib as mpl\n",
    "import pynbody\n",
    "import pickle\n",
    "\n",
    "mpl.rc('font',**{'family':'serif','monospace':['Palatino']})\n",
    "mpl.rc('text', usetex=True)\n",
    "mpl.rcParams.update({'font.size': 9})\n",
    "\n",
    "pynbody.config['halo-class-priority'] =  [pynbody.halo.ahf.AHFCatalogue,\n",
    "                                          pynbody.halo.GrpCatalogue,\n",
    "                                          pynbody.halo.AmigaGrpCatalogue,\n",
    "                                          pynbody.halo.legacy.RockstarIntermediateCatalogue,\n",
    "                                          pynbody.halo.rockstar.RockstarCatalogue,\n",
    "                                          pynbody.halo.subfind.SubfindCatalogue,\n",
    "                                          pynbody.halo.hop.HOPCatalogue]"
   ]
  },
  {
   "cell_type": "code",
   "execution_count": 2,
   "metadata": {},
   "outputs": [
    {
     "name": "stdout",
     "output_type": "stream",
     "text": [
      "13797\n"
     ]
    }
   ],
   "source": [
    "s = pynbody.load('/home/christenc/Data/Sims/h148.cosmo50PLK.3072g/h148.cosmo50PLK.3072g3HbwK1BH/snapshots_200bkgdens/h148.cosmo50PLK.3072g3HbwK1BH.004096')\n",
    "s.physical_units()\n",
    "h = s.halos()\n",
    "print(len(h))"
   ]
  },
  {
   "cell_type": "code",
   "execution_count": 3,
   "metadata": {},
   "outputs": [
    {
     "name": "stdout",
     "output_type": "stream",
     "text": [
      "Halo ids for bulk processing\n",
      "[1, 2, 3, 5, 6, 9, 10, 11, 13, 14, 21, 24, 27, 28, 30, 32, 36, 37, 41, 45, 47, 48, 58, 61, 65, 68, 80, 81, 96, 105, 119, 127, 128, 136, 163, 212, 265, 278, 283, 329, 372, 377, 384, 386, 442, 491, 620, 678, 699, 711, 759, 914, 1004, 1024, 1201, 1217, 1451, 2905, 5039]\n",
      "halo ids for merger trees\n",
      "[1, 2, 3, 5, 6, 9, 10, 11, 13, 14, 21, 24, 27, 28, 30, 32, 36, 37, 41, 45, 47, 48, 58, 61, 65, 68, 80, 81, 96, 105, 119, 127, 128, 136, 163, 212, 265, 278, 283, 329, 372, 377, 384, 386, 442, 491, 620, 678, 699, 759, 914, 1004, 1024, 1201]\n"
     ]
    }
   ],
   "source": [
    "ids1,ids2,ids3 = [],[],[]\n",
    "for halo in h:\n",
    "    if len(halo.s) != 0 and halo.properties['fMhires'] > 0.9:\n",
    "        ids1.append(halo.properties['halo_id'])\n",
    "        if len(halo.dm)>1000:\n",
    "            ids2.append(halo.properties['halo_id'])\n",
    "        \n",
    "print('Halo ids for bulk processing')\n",
    "print(ids1)\n",
    "print('halo ids for merger trees')\n",
    "print(ids2)"
   ]
  },
  {
   "cell_type": "code",
   "execution_count": 4,
   "metadata": {},
   "outputs": [
    {
     "data": {
      "text/plain": [
       "[<Simulation(\"snapshots\")>, <Simulation(\"snapshots_200bkgdens\")>]"
      ]
     },
     "execution_count": 4,
     "metadata": {},
     "output_type": "execute_result"
    }
   ],
   "source": [
    "import os\n",
    "os.environ['TANGOS_DB_CONNECTION'] = '/home/akinshol/Data/Timescales/TangosData/h148.db'\n",
    "import tangos\n",
    "tangos.all_simulations()"
   ]
  },
  {
   "cell_type": "code",
   "execution_count": 5,
   "metadata": {},
   "outputs": [
    {
     "data": {
      "text/plain": [
       "[<TimeStep 'snapshots_200bkgdens/h148.cosmo50PLK.3072g3HbwK1BH.004096' z=0.00 t=13.80 Gyr>,\n",
       " <TimeStep 'snapshots_200bkgdens/h148.cosmo50PLK.3072g3HbwK1BH.003968' z=0.03 t=13.37 Gyr>,\n",
       " <TimeStep 'snapshots_200bkgdens/h148.cosmo50PLK.3072g3HbwK1BH.003840' z=0.06 t=12.94 Gyr>,\n",
       " <TimeStep 'snapshots_200bkgdens/h148.cosmo50PLK.3072g3HbwK1BH.003712' z=0.10 t=12.51 Gyr>,\n",
       " <TimeStep 'snapshots_200bkgdens/h148.cosmo50PLK.3072g3HbwK1BH.003606' z=0.12 t=12.15 Gyr>,\n",
       " <TimeStep 'snapshots_200bkgdens/h148.cosmo50PLK.3072g3HbwK1BH.003584' z=0.13 t=12.08 Gyr>,\n",
       " <TimeStep 'snapshots_200bkgdens/h148.cosmo50PLK.3072g3HbwK1BH.003456' z=0.17 t=11.65 Gyr>,\n",
       " <TimeStep 'snapshots_200bkgdens/h148.cosmo50PLK.3072g3HbwK1BH.003328' z=0.21 t=11.21 Gyr>,\n",
       " <TimeStep 'snapshots_200bkgdens/h148.cosmo50PLK.3072g3HbwK1BH.003200' z=0.25 t=10.78 Gyr>,\n",
       " <TimeStep 'snapshots_200bkgdens/h148.cosmo50PLK.3072g3HbwK1BH.003195' z=0.25 t=10.77 Gyr>,\n",
       " <TimeStep 'snapshots_200bkgdens/h148.cosmo50PLK.3072g3HbwK1BH.003072' z=0.29 t=10.35 Gyr>,\n",
       " <TimeStep 'snapshots_200bkgdens/h148.cosmo50PLK.3072g3HbwK1BH.002944' z=0.34 t=9.92 Gyr>,\n",
       " <TimeStep 'snapshots_200bkgdens/h148.cosmo50PLK.3072g3HbwK1BH.002816' z=0.39 t=9.49 Gyr>,\n",
       " <TimeStep 'snapshots_200bkgdens/h148.cosmo50PLK.3072g3HbwK1BH.002688' z=0.44 t=9.06 Gyr>,\n",
       " <TimeStep 'snapshots_200bkgdens/h148.cosmo50PLK.3072g3HbwK1BH.002554' z=0.50 t=8.61 Gyr>,\n",
       " <TimeStep 'snapshots_200bkgdens/h148.cosmo50PLK.3072g3HbwK1BH.002432' z=0.56 t=8.20 Gyr>,\n",
       " <TimeStep 'snapshots_200bkgdens/h148.cosmo50PLK.3072g3HbwK1BH.002304' z=0.62 t=7.77 Gyr>,\n",
       " <TimeStep 'snapshots_200bkgdens/h148.cosmo50PLK.3072g3HbwK1BH.002176' z=0.70 t=7.34 Gyr>,\n",
       " <TimeStep 'snapshots_200bkgdens/h148.cosmo50PLK.3072g3HbwK1BH.002088' z=0.75 t=7.04 Gyr>,\n",
       " <TimeStep 'snapshots_200bkgdens/h148.cosmo50PLK.3072g3HbwK1BH.002048' z=0.77 t=6.91 Gyr>,\n",
       " <TimeStep 'snapshots_200bkgdens/h148.cosmo50PLK.3072g3HbwK1BH.001920' z=0.86 t=6.47 Gyr>,\n",
       " <TimeStep 'snapshots_200bkgdens/h148.cosmo50PLK.3072g3HbwK1BH.001740' z=1.00 t=5.87 Gyr>,\n",
       " <TimeStep 'snapshots_200bkgdens/h148.cosmo50PLK.3072g3HbwK1BH.001536' z=1.19 t=5.18 Gyr>,\n",
       " <TimeStep 'snapshots_200bkgdens/h148.cosmo50PLK.3072g3HbwK1BH.001408' z=1.32 t=4.75 Gyr>,\n",
       " <TimeStep 'snapshots_200bkgdens/h148.cosmo50PLK.3072g3HbwK1BH.001280' z=1.48 t=4.32 Gyr>,\n",
       " <TimeStep 'snapshots_200bkgdens/h148.cosmo50PLK.3072g3HbwK1BH.001269' z=1.50 t=4.28 Gyr>,\n",
       " <TimeStep 'snapshots_200bkgdens/h148.cosmo50PLK.3072g3HbwK1BH.001152' z=1.67 t=3.89 Gyr>,\n",
       " <TimeStep 'snapshots_200bkgdens/h148.cosmo50PLK.3072g3HbwK1BH.001106' z=1.75 t=3.73 Gyr>,\n",
       " <TimeStep 'snapshots_200bkgdens/h148.cosmo50PLK.3072g3HbwK1BH.001024' z=1.90 t=3.46 Gyr>,\n",
       " <TimeStep 'snapshots_200bkgdens/h148.cosmo50PLK.3072g3HbwK1BH.000974' z=2.00 t=3.29 Gyr>,\n",
       " <TimeStep 'snapshots_200bkgdens/h148.cosmo50PLK.3072g3HbwK1BH.000896' z=2.17 t=3.03 Gyr>,\n",
       " <TimeStep 'snapshots_200bkgdens/h148.cosmo50PLK.3072g3HbwK1BH.000866' z=2.25 t=2.93 Gyr>,\n",
       " <TimeStep 'snapshots_200bkgdens/h148.cosmo50PLK.3072g3HbwK1BH.000768' z=2.52 t=2.60 Gyr>,\n",
       " <TimeStep 'snapshots_200bkgdens/h148.cosmo50PLK.3072g3HbwK1BH.000701' z=2.75 t=2.37 Gyr>,\n",
       " <TimeStep 'snapshots_200bkgdens/h148.cosmo50PLK.3072g3HbwK1BH.000640' z=2.98 t=2.16 Gyr>,\n",
       " <TimeStep 'snapshots_200bkgdens/h148.cosmo50PLK.3072g3HbwK1BH.000512' z=3.63 t=1.73 Gyr>,\n",
       " <TimeStep 'snapshots_200bkgdens/h148.cosmo50PLK.3072g3HbwK1BH.000456' z=4.00 t=1.54 Gyr>,\n",
       " <TimeStep 'snapshots_200bkgdens/h148.cosmo50PLK.3072g3HbwK1BH.000384' z=4.60 t=1.30 Gyr>,\n",
       " <TimeStep 'snapshots_200bkgdens/h148.cosmo50PLK.3072g3HbwK1BH.000347' z=4.99 t=1.18 Gyr>,\n",
       " <TimeStep 'snapshots_200bkgdens/h148.cosmo50PLK.3072g3HbwK1BH.000275' z=5.99 t=0.94 Gyr>,\n",
       " <TimeStep 'snapshots_200bkgdens/h148.cosmo50PLK.3072g3HbwK1BH.000225' z=6.98 t=0.77 Gyr>,\n",
       " <TimeStep 'snapshots_200bkgdens/h148.cosmo50PLK.3072g3HbwK1BH.000188' z=7.99 t=0.64 Gyr>,\n",
       " <TimeStep 'snapshots_200bkgdens/h148.cosmo50PLK.3072g3HbwK1BH.000139' z=9.95 t=0.48 Gyr>]"
      ]
     },
     "execution_count": 5,
     "metadata": {},
     "output_type": "execute_result"
    }
   ],
   "source": [
    "s = tangos.get_simulation('snapshots_200bkgdens')\n",
    "list(np.flip(list(s.timesteps)))"
   ]
  },
  {
   "cell_type": "code",
   "execution_count": 6,
   "metadata": {},
   "outputs": [],
   "source": [
    "\n",
    "snapshots =['h148.cosmo50PLK.3072g3HbwK1BH.004096',\n",
    "            'h148.cosmo50PLK.3072g3HbwK1BH.003968',\n",
    "            'h148.cosmo50PLK.3072g3HbwK1BH.003840',\n",
    "            'h148.cosmo50PLK.3072g3HbwK1BH.003712',\n",
    "            'h148.cosmo50PLK.3072g3HbwK1BH.003606',\n",
    "            'h148.cosmo50PLK.3072g3HbwK1BH.003584',\n",
    "            'h148.cosmo50PLK.3072g3HbwK1BH.003456',\n",
    "            'h148.cosmo50PLK.3072g3HbwK1BH.003328',\n",
    "            'h148.cosmo50PLK.3072g3HbwK1BH.003200',\n",
    "            'h148.cosmo50PLK.3072g3HbwK1BH.003195',\n",
    "            'h148.cosmo50PLK.3072g3HbwK1BH.003072',\n",
    "            'h148.cosmo50PLK.3072g3HbwK1BH.002944',\n",
    "            'h148.cosmo50PLK.3072g3HbwK1BH.002816',\n",
    "            'h148.cosmo50PLK.3072g3HbwK1BH.002688',\n",
    "            'h148.cosmo50PLK.3072g3HbwK1BH.002554',\n",
    "            'h148.cosmo50PLK.3072g3HbwK1BH.002432',\n",
    "            'h148.cosmo50PLK.3072g3HbwK1BH.002304',\n",
    "            'h148.cosmo50PLK.3072g3HbwK1BH.002176',\n",
    "            'h148.cosmo50PLK.3072g3HbwK1BH.002088',\n",
    "            'h148.cosmo50PLK.3072g3HbwK1BH.002048',\n",
    "            'h148.cosmo50PLK.3072g3HbwK1BH.001920',\n",
    "            'h148.cosmo50PLK.3072g3HbwK1BH.001740',\n",
    "            'h148.cosmo50PLK.3072g3HbwK1BH.001536',\n",
    "            'h148.cosmo50PLK.3072g3HbwK1BH.001408',\n",
    "            'h148.cosmo50PLK.3072g3HbwK1BH.001280',\n",
    "            'h148.cosmo50PLK.3072g3HbwK1BH.001269',\n",
    "            'h148.cosmo50PLK.3072g3HbwK1BH.001152',\n",
    "            'h148.cosmo50PLK.3072g3HbwK1BH.001106',\n",
    "            'h148.cosmo50PLK.3072g3HbwK1BH.001024',\n",
    "            'h148.cosmo50PLK.3072g3HbwK1BH.000974',\n",
    "            'h148.cosmo50PLK.3072g3HbwK1BH.000896',\n",
    "            'h148.cosmo50PLK.3072g3HbwK1BH.000866',\n",
    "            'h148.cosmo50PLK.3072g3HbwK1BH.000768',\n",
    "            'h148.cosmo50PLK.3072g3HbwK1BH.000701',\n",
    "            'h148.cosmo50PLK.3072g3HbwK1BH.000640',\n",
    "            'h148.cosmo50PLK.3072g3HbwK1BH.000512',\n",
    "            'h148.cosmo50PLK.3072g3HbwK1BH.000456',\n",
    "            'h148.cosmo50PLK.3072g3HbwK1BH.000384',\n",
    "            'h148.cosmo50PLK.3072g3HbwK1BH.000347',\n",
    "            'h148.cosmo50PLK.3072g3HbwK1BH.000275',\n",
    "            'h148.cosmo50PLK.3072g3HbwK1BH.000225',\n",
    "            'h148.cosmo50PLK.3072g3HbwK1BH.000188',\n",
    "            'h148.cosmo50PLK.3072g3HbwK1BH.000139']\n",
    "\n",
    "\n",
    "\n",
    "path = '/home/christenc/Data/Sims/h148.cosmo50PLK.3072g/h148.cosmo50PLK.3072g3HbwK1BH/snapshots_200bkgdens/'"
   ]
  },
  {
   "cell_type": "code",
   "execution_count": 7,
   "metadata": {},
   "outputs": [
    {
     "name": "stdout",
     "output_type": "stream",
     "text": [
      "h148.cosmo50PLK.3072g3HbwK1BH.004096\n",
      "h148.cosmo50PLK.3072g3HbwK1BH.003968\n",
      "h148.cosmo50PLK.3072g3HbwK1BH.003840\n",
      "h148.cosmo50PLK.3072g3HbwK1BH.003712\n",
      "h148.cosmo50PLK.3072g3HbwK1BH.003606\n",
      "h148.cosmo50PLK.3072g3HbwK1BH.003584\n",
      "h148.cosmo50PLK.3072g3HbwK1BH.003456\n",
      "h148.cosmo50PLK.3072g3HbwK1BH.003328\n"
     ]
    },
    {
     "name": "stderr",
     "output_type": "stream",
     "text": [
      "/home/akinshol/anaconda3/envs/py37/lib/python3.7/site-packages/sqlalchemy/ext/declarative/clsregistry.py:129: SAWarning: This declarative base already contains a class with the same class name and module name as tangos.relation_finding.multi_hop.MultiHopHaloLink_hsco, and will be replaced in the string-lookup table.\n",
      "  % (item.__module__, item.__name__)\n"
     ]
    },
    {
     "name": "stdout",
     "output_type": "stream",
     "text": [
      "h148.cosmo50PLK.3072g3HbwK1BH.003200\n",
      "h148.cosmo50PLK.3072g3HbwK1BH.003195\n",
      "h148.cosmo50PLK.3072g3HbwK1BH.003072\n",
      "h148.cosmo50PLK.3072g3HbwK1BH.002944\n",
      "h148.cosmo50PLK.3072g3HbwK1BH.002816\n",
      "h148.cosmo50PLK.3072g3HbwK1BH.002688\n",
      "h148.cosmo50PLK.3072g3HbwK1BH.002554\n",
      "h148.cosmo50PLK.3072g3HbwK1BH.002432\n",
      "h148.cosmo50PLK.3072g3HbwK1BH.002304\n",
      "h148.cosmo50PLK.3072g3HbwK1BH.002176\n",
      "h148.cosmo50PLK.3072g3HbwK1BH.002088\n",
      "h148.cosmo50PLK.3072g3HbwK1BH.002048\n"
     ]
    },
    {
     "name": "stderr",
     "output_type": "stream",
     "text": [
      "/home/akinshol/anaconda3/envs/py37/lib/python3.7/site-packages/sqlalchemy/ext/declarative/clsregistry.py:129: SAWarning: This declarative base already contains a class with the same class name and module name as tangos.relation_finding.multi_hop.MultiHopHaloLink_ntwp, and will be replaced in the string-lookup table.\n",
      "  % (item.__module__, item.__name__)\n"
     ]
    },
    {
     "name": "stdout",
     "output_type": "stream",
     "text": [
      "h148.cosmo50PLK.3072g3HbwK1BH.001920\n"
     ]
    },
    {
     "name": "stderr",
     "output_type": "stream",
     "text": [
      "/home/akinshol/anaconda3/envs/py37/lib/python3.7/site-packages/sqlalchemy/ext/declarative/clsregistry.py:129: SAWarning: This declarative base already contains a class with the same class name and module name as tangos.relation_finding.multi_hop.MultiHopHaloLink_hedg, and will be replaced in the string-lookup table.\n",
      "  % (item.__module__, item.__name__)\n"
     ]
    },
    {
     "name": "stdout",
     "output_type": "stream",
     "text": [
      "h148.cosmo50PLK.3072g3HbwK1BH.001740\n",
      "h148.cosmo50PLK.3072g3HbwK1BH.001536\n",
      "h148.cosmo50PLK.3072g3HbwK1BH.001408\n",
      "h148.cosmo50PLK.3072g3HbwK1BH.001280\n",
      "h148.cosmo50PLK.3072g3HbwK1BH.001269\n",
      "h148.cosmo50PLK.3072g3HbwK1BH.001152\n",
      "h148.cosmo50PLK.3072g3HbwK1BH.001106\n"
     ]
    },
    {
     "name": "stderr",
     "output_type": "stream",
     "text": [
      "/home/akinshol/anaconda3/envs/py37/lib/python3.7/site-packages/sqlalchemy/ext/declarative/clsregistry.py:129: SAWarning: This declarative base already contains a class with the same class name and module name as tangos.relation_finding.multi_hop.MultiHopHaloLink_xidl, and will be replaced in the string-lookup table.\n",
      "  % (item.__module__, item.__name__)\n"
     ]
    },
    {
     "name": "stdout",
     "output_type": "stream",
     "text": [
      "h148.cosmo50PLK.3072g3HbwK1BH.001024\n",
      "h148.cosmo50PLK.3072g3HbwK1BH.000974\n",
      "h148.cosmo50PLK.3072g3HbwK1BH.000896\n",
      "h148.cosmo50PLK.3072g3HbwK1BH.000866\n"
     ]
    },
    {
     "name": "stderr",
     "output_type": "stream",
     "text": [
      "/home/akinshol/anaconda3/envs/py37/lib/python3.7/site-packages/sqlalchemy/ext/declarative/clsregistry.py:129: SAWarning: This declarative base already contains a class with the same class name and module name as tangos.relation_finding.multi_hop.MultiHopHaloLink_wyvu, and will be replaced in the string-lookup table.\n",
      "  % (item.__module__, item.__name__)\n"
     ]
    },
    {
     "name": "stdout",
     "output_type": "stream",
     "text": [
      "h148.cosmo50PLK.3072g3HbwK1BH.000768\n",
      "h148.cosmo50PLK.3072g3HbwK1BH.000701\n",
      "h148.cosmo50PLK.3072g3HbwK1BH.000640\n",
      "h148.cosmo50PLK.3072g3HbwK1BH.000512\n",
      "h148.cosmo50PLK.3072g3HbwK1BH.000456\n",
      "h148.cosmo50PLK.3072g3HbwK1BH.000384\n",
      "h148.cosmo50PLK.3072g3HbwK1BH.000347\n"
     ]
    },
    {
     "name": "stderr",
     "output_type": "stream",
     "text": [
      "/home/akinshol/anaconda3/envs/py37/lib/python3.7/site-packages/sqlalchemy/ext/declarative/clsregistry.py:129: SAWarning: This declarative base already contains a class with the same class name and module name as tangos.relation_finding.multi_hop.MultiHopHaloLink_ippj, and will be replaced in the string-lookup table.\n",
      "  % (item.__module__, item.__name__)\n"
     ]
    },
    {
     "name": "stdout",
     "output_type": "stream",
     "text": [
      "h148.cosmo50PLK.3072g3HbwK1BH.000275\n"
     ]
    },
    {
     "name": "stderr",
     "output_type": "stream",
     "text": [
      "/home/akinshol/anaconda3/envs/py37/lib/python3.7/site-packages/sqlalchemy/ext/declarative/clsregistry.py:129: SAWarning: This declarative base already contains a class with the same class name and module name as tangos.relation_finding.multi_hop.MultiHopHaloLink_gkes, and will be replaced in the string-lookup table.\n",
      "  % (item.__module__, item.__name__)\n"
     ]
    },
    {
     "name": "stdout",
     "output_type": "stream",
     "text": [
      "h148.cosmo50PLK.3072g3HbwK1BH.000225\n",
      "h148.cosmo50PLK.3072g3HbwK1BH.000188\n",
      "h148.cosmo50PLK.3072g3HbwK1BH.000139\n"
     ]
    }
   ],
   "source": [
    "\n",
    "for tstep in range(len(snapshots)):\n",
    "    snapshot = snapshots[tstep]\n",
    "    print(snapshot)\n",
    "    sim = pynbody.load(path+snapshot)\n",
    "    sim.physical_units()\n",
    "    h = sim.halos()\n",
    "    \n",
    "    for z0haloid in ids2:\n",
    "        halo = s.timesteps[-1].halos[z0haloid-1]\n",
    "        haloids, ndms = halo.calculate_for_progenitors('halo_number()', 'NDM()')\n",
    "        try:\n",
    "            haloid = haloids[tstep]\n",
    "        except:\n",
    "            continue\n",
    "        ndm = ndms[tstep]\n",
    "        pyn_ndm = len(h[haloid].dm)\n",
    "        if ndm != pyn_ndm:\n",
    "            print(f'z = 0 haloid {z0haloid}, tangos NDM, {ndm}, pynbody {pyn_ndm}')\n",
    "        \n",
    "    "
   ]
  },
  {
   "cell_type": "code",
   "execution_count": 8,
   "metadata": {},
   "outputs": [
    {
     "name": "stdout",
     "output_type": "stream",
     "text": [
      "1: [1, 1, 1, 1, 1, 1, 1, 1, 1, 1, 1, 1, 1, 1, 1, 1, 1, 1, 1, 1, 1, 1, 1, 1, 1, 1, 1, 1, 1, 1, 1, 1, 1, 1, 1, 1, 1, 1, 10, 13, 40, 45, 54],\n",
      "2: [2, 2, 2, 2, 2, 2, 2, 2, 2, 2, 2, 3, 3, 3, 3, 3, 3, 3, 3, 3, 4, 4, 4, 4, 5, 5, 5, 5, 6, 5, 5, 5, 5, 6, 4, 5, 6, 18, 25, 33, 15, 19, 24],\n",
      "3: [3, 3, 3, 3, 3, 3, 3, 3, 4, 4, 4, 4, 4, 4, 4, 4, 4, 4, 4, 4, 3, 3, 3, 3, 4, 4, 4, 4, 4, 6, 11, 12, 11, 13, 14, 17, 16, 14, 18, 10, 8, 5, 4],\n",
      "5: [5, 5, 5, 4, 4, 4, 4, 4, 5, 5, 6, 6, 6, 6, 6, 6, 6, 6, 6, 5, 5, 5, 6, 6, 6, 6, 6, 7, 7, 7, 6, 7, 10, 14, 10, 8, 10, 7, 5, 3, 3, 4, 5],\n",
      "6: [6, 6, 6, 6, 6, 6, 6, 5, 6, 6, 5, 5, 5, 5, 5, 5, 5, 5, 5, 6, 6, 6, 7, 7, 8, 8, 8, 8, 10, 10, 8, 8, 8, 12, 15, 18, 17, 17, 16, 54, 47, 46, 44],\n",
      "9: [9, 9, 9, 9, 7, 7, 7, 7, 8, 8, 8, 8, 9, 9, 9, 9, 8, 8, 8, 8, 8, 8, 9, 9, 11, 11, 9, 9, 12, 12, 9, 9, 7, 10, 23, 20, 19, 19, 23, 22, 11, 9, 55],\n",
      "10: [10, 10, 11, 11, 11, 11, 12, 12, 13, 13, 13, 13, 13, 13, 13, 14, 14, 13, 13, 13, 13, 13, 18, 18, 20, 20, 20, 20, 22, 21, 29, 29, 34, 36, 42, 51, 72, 112, 123, 211, 613],\n",
      "11: [11, 11, 10, 10, 10, 10, 11, 11, 12, 12, 10, 11, 10, 19, 10, 10, 10, 10, 10, 10, 10, 10, 11, 12, 15, 15, 18, 18, 16, 16, 20, 20, 32, 34, 39, 39, 39, 40, 42, 29, 14, 12, 16],\n",
      "13: [13, 13, 13, 13, 13, 13, 14, 14, 14, 14, 14, 14, 15, 12, 12, 11, 11, 11, 11, 11, 11, 11, 12, 13, 13, 13, 14, 14, 15, 15, 18, 18, 17, 18, 16, 16, 25, 23, 20, 12, 9, 11, 9],\n",
      "14: [14, 14, 14, 12, 12, 12, 13, 13, 15, 15, 15, 15, 14, 14, 14, 15, 15, 15, 15, 15, 16, 16, 19, 24, 42, 42, 47, 44, 46, 49, 54, 57, 69, 74, 71, 71, 73, 109, 113, 121, 193, 232],\n",
      "21: [21, 19, 18, 16, 16, 17, 17, 17, 17, 17, 17, 17, 17, 18, 19, 19, 19, 18, 17, 17, 18, 17, 22, 22, 27, 28, 35, 36, 42, 65, 85, 84, 82, 88, 91, 173, 194, 263, 347, 401, 450, 445, 320],\n",
      "24: [24, 24, 24, 23, 23, 24, 24, 24, 25, 25, 25, 24, 24, 26, 26, 26, 27, 28, 29, 30, 32, 33, 35, 35, 36, 36, 38, 37, 38, 41, 42, 41, 45, 54, 74, 118, 111, 132, 214, 313, 518],\n",
      "27: [27, 28, 28, 28, 29, 29, 25, 23, 23, 23, 18, 19, 18, 16, 18, 17, 17, 14, 14, 14, 14, 15, 17, 17, 19, 19, 22, 22, 24, 24, 27, 27, 25, 26, 29, 32, 33, 41, 48, 125, 243, 343],\n",
      "28: [28, 29, 29, 29, 27, 26, 22, 19, 19, 19, 19, 18, 19, 17, 17, 16, 16, 17, 19, 19, 12, 12, 13, 15, 17, 18, 17, 16, 17, 18, 22, 24, 23, 24, 22, 45, 61, 118, 129, 110, 108, 101, 182],\n",
      "30: [30, 31, 31, 31, 32, 33, 33, 32, 31, 31, 32, 30, 30, 31, 32, 31, 35, 46, 51, 51, 54, 60, 64, 66, 72, 71, 69, 70, 68, 66, 77, 78, 94, 101, 108, 123, 141, 163, 174, 199, 163, 116, 107],\n",
      "32: [32, 27, 27, 26, 26, 27, 27, 26, 27, 27, 27, 27, 27, 28, 27, 27, 28, 26, 28, 29, 30, 29, 32, 38, 45, 47, 52, 54, 53, 53, 59, 59, 64, 63, 64, 92, 233, 229, 248, 271, 303, 375, 369],\n",
      "36: [36, 35, 33, 40, 34, 34, 31, 29, 28, 28, 26, 26, 26, 25, 24, 25, 24, 25, 26, 26, 27, 28, 33, 33, 33, 33, 36, 35, 37, 42, 44, 44, 46, 48, 51, 53, 54, 56, 66, 83, 85, 102, 269],\n",
      "37: [37, 37, 36, 34, 35, 36, 35, 34, 34, 34, 34, 32, 28, 23, 23, 24, 23, 24, 23, 25, 26, 26, 28, 28, 28, 29, 33, 34, 36, 39, 45, 45, 48, 52, 59, 108, 128, 206, 209, 224, 277],\n",
      "41: [41, 40, 40, 42, 43, 44, 45, 46, 46, 46, 50, 48, 49, 48, 45, 47, 46, 47, 48, 49, 52, 54, 60, 61, 61, 61, 58, 60, 63, 70, 93, 93, 112, 123, 129, 126, 124, 146, 188, 302, 269, 216],\n",
      "45: [45, 43, 43, 39, 40, 41, 39, 38, 36, 36, 36, 35, 32, 30, 28, 22, 20, 19, 18, 20, 22, 19, 23, 21, 24, 24, 27, 27, 32, 32, 30, 30, 31, 37, 50, 63, 65, 75, 154, 172, 285, 351, 297],\n",
      "47: [47, 47, 46, 45, 47, 47, 46, 45, 45, 45, 48, 45, 45, 47, 44, 46, 45, 45, 45, 47, 50, 52, 83, 81, 88, 91, 107, 281, 251, 230, 191, 181, 187, 226, 235, 262, 288, 470, 424, 595, 620, 471],\n",
      "48: [48, 48, 38, 32, 31, 32, 30, 31, 32, 32, 33, 34, 34, 34, 34, 34, 34, 34, 34, 36, 40, 39, 43, 47, 54, 56, 63, 65, 66, 62, 66, 75, 91, 97, 112, 195, 360, 483, 523, 830],\n",
      "58: [58, 60, 60, 60, 60, 61, 63, 64, 67, 66, 67, 67, 69, 72, 73, 72, 70, 75, 77, 76, 79, 82, 96, 101, 107, 105, 103, 105, 108, 114, 121, 122, 123, 132, 135, 152, 173, 171, 176, 230, 262, 201],\n",
      "61: [61, 62, 62, 57, 59, 60, 61, 60, 59, 59, 55, 55, 47, 42, 40, 40, 41, 42, 43, 46, 49, 49, 57, 59, 64, 64, 64, 63, 67, 63, 67, 68, 74, 78, 85, 98, 98, 96, 98, 91, 68, 48, 46],\n",
      "65: [65, 64, 65, 64, 57, 57, 52, 48, 47, 47, 49, 47, 48, 50, 54, 54, 52, 56, 59, 58, 60, 61, 67, 70, 122, 132, 162, 189, 204, 212, 212, 206, 186, 187, 188, 199, 209, 214, 202, 194, 212, 263, 277],\n",
      "68: [68, 51, 49, 46, 45, 45, 44, 43, 42, 42, 41, 37, 39, 27, 21, 21, 21, 21, 22, 23, 24, 21, 25, 25, 25, 25, 28, 30, 34, 38, 40, 46, 126, 152, 160, 203, 238, 254, 283, 662, 756],\n",
      "80: [80, 69, 66, 55, 51, 51, 49, 44, 41, 41, 39, 33, 31, 32, 30, 29, 30, 23, 21, 21, 21, 27, 21, 20, 22, 22, 24, 24, 25, 25, 28, 28, 28, 31, 30, 28, 26, 22, 29, 32, 28, 33, 25],\n"
     ]
    },
    {
     "name": "stderr",
     "output_type": "stream",
     "text": [
      "/home/akinshol/anaconda3/envs/py37/lib/python3.7/site-packages/sqlalchemy/ext/declarative/clsregistry.py:129: SAWarning: This declarative base already contains a class with the same class name and module name as tangos.relation_finding.multi_hop.MultiHopHaloLink_rggl, and will be replaced in the string-lookup table.\n",
      "  % (item.__module__, item.__name__)\n"
     ]
    },
    {
     "name": "stdout",
     "output_type": "stream",
     "text": [
      "81: [81, 91, 77, 73, 70, 70, 69, 69, 63, 62, 58, 54, 60, 63, 74, 76, 74, 80, 79, 79, 81, 84, 117, 137, 155, 153, 164, 169, 187, 187, 205, 203, 215, 232, 255, 299, 299, 329, 303, 256, 295, 282, 195],\n",
      "96: [96, 97, 99, 99, 95, 93, 92, 90, 86, 86, 87, 99, 59, 54, 55, 53, 49, 49, 53, 53, 53, 56, 61, 64, 67, 67, 67, 71, 69, 68, 73, 70, 73, 75, 83, 103, 109, 121, 118, 92, 65, 47, 28],\n",
      "105: [105, 105, 107, 108, 107, 109, 113, 111, 113, 112, 113, 121, 118, 121, 122, 124, 125, 129, 132, 131, 136, 137, 147, 159, 175, 174, 174, 177, 179, 177, 188, 184, 194, 207, 216, 246, 263, 251, 266, 294, 266, 200, 143],\n",
      "119: [119, 120, 128, 129, 129, 130, 132, 132, 130, 129, 132, 128, 124, 119, 110, 110, 106, 106, 101, 102, 96, 90, 89, 102, 116, 115, 120, 126, 130, 133, 135, 137, 137, 135, 142, 186, 190, 202, 193, 212, 881],\n",
      "127: [127, 124, 118, 117, 116, 117, 85, 37, 37, 37, 37, 38, 37, 39, 37, 38, 38, 36, 36, 38, 41, 42, 48, 53, 53, 53, 55, 56, 57, 56, 69, 74, 81, 93, 128, 148, 155, 200, 197, 167, 151, 174, 246],\n",
      "128: [128, 130, 132, 131, 127, 128, 123, 113, 109, 109, 104, 100, 100, 98, 79, 68, 66, 66, 68, 69, 72, 73, 75, 73, 78, 77, 74, 79, 77, 76, 82, 82, 85, 89, 89, 85, 106, 211, 236, 259, 237, 328, 346],\n",
      "136: [136, 136, 141, 143, 144, 145, 146, 151, 153, 153, 155, 158, 159, 159, 154, 151, 199, 125, 122, 119, 108, 108, 98, 114, 82, 81, 83, 82, 80, 84, 89, 88, 111, 116, 122, 155, 164, 167, 165, 153, 120, 99, 122],\n",
      "163: [163, 163, 171, 172, 171, 174, 176, 184, 183, 183, 186, 189, 195, 203, 204, 206, 211, 216, 222, 222, 229, 233, 210, 218, 87, 86, 85, 83, 81, 83, 86, 85, 87, 92, 93, 101, 95, 91, 86, 78, 67, 115, 83],\n",
      "212: [212, 211, 211, 203, 188, 185, 179, 183, 178, 178, 175, 171, 168, 164, 126, 121, 117, 116, 112, 111, 103, 57, 58, 58, 65, 65, 75, 80, 86, 90, 95, 91, 97, 105, 120, 188, 188, 197, 179, 128, 156, 184, 317],\n",
      "265: [265, 264, 258, 255, 249, 250, 246, 247, 184, 184, 176, 179, 174, 180, 174, 171, 167, 145, 133, 136, 139, 92, 90, 90, 92, 92, 89, 89, 89, 93, 97, 94, 105, 109, 111, 112, 118, 129, 133, 100, 76, 96, 342],\n",
      "278: [278, 280, 286, 309, 289, 268, 189, 158, 119, 119, 116, 119, 113, 110, 101, 93, 87, 50, 47, 33, 36, 44, 49, 50, 50, 50, 51, 48, 50, 51, 56, 56, 65, 67, 66, 75, 92, 151, 157, 152, 205, 214, 232],\n",
      "283: [283, 279, 267, 229, 213, 207, 180, 173, 173, 175, 196, 74, 68, 46, 48, 36, 32, 33, 32, 35, 38, 36, 41, 42, 44, 44, 46, 46, 49, 52, 60, 63, 72, 86, 94, 139, 178, 184, 167, 208, 337, 393],\n",
      "329: [329, 324, 304, 279, 262, 264, 260, 261, 251, 252, 253, 247, 229, 214, 207, 190, 200, 169, 147, 137, 128, 130, 112, 93, 132, 79, 43, 42, 43, 45, 51, 52, 67, 71, 77, 77, 80, 73, 71, 47, 63, 87, 88],\n",
      "372: [372, 370, 360, 342, 272, 260, 229, 213, 204, 204, 204, 195, 190, 182, 165, 154, 150, 156, 154, 155, 161, 151, 154, 167, 179, 179, 191, 190, 196, 198, 201, 199, 223, 244, 246, 219, 255, 304, 315, 280, 289, 303, 307],\n",
      "377: [377, 368, 353, 334, 318, 311],\n",
      "384: [384, 335, 331, 311, 303, 301, 281, 273, 272, 272, 277, 267, 263, 256, 233, 222, 224, 225, 234, 226, 221, 202, 166, 141, 145, 143, 141, 138, 136, 142, 138, 138, 138, 143, 145, 149, 145, 155, 153, 164, 109, 83, 234],\n",
      "386: [386, 304, 222, 218, 217, 217, 216, 217, 215, 215, 212, 210, 166, 168, 169, 169, 164, 166, 168, 167, 162, 133, 119, 122, 130, 126, 118, 117, 111, 111, 116, 112, 115, 118, 117, 113, 115, 130, 132, 116, 96, 139, 80],\n",
      "442: [442, 403, 438, 84, 52, 53, 55, 53, 54, 54, 56, 58, 57, 58, 56, 57, 56, 59, 60, 60, 59, 64, 78, 91, 102, 102, 106, 108, 113, 119, 128, 131, 141, 146, 143, 146, 148, 168, 168, 175, 203, 204, 163],\n",
      "491: [491, 478, 483, 481, 485, 487, 489, 492, 486, 486, 491, 491, 429, 418, 420, 427, 431, 443, 449, 457, 459, 452, 397, 230, 243, 241, 242, 237, 235, 236, 234, 230, 247, 255, 258, 268, 265, 216, 190, 213, 176, 105, 50],\n",
      "620: [620, 313, 264, 263, 260, 259, 258, 263, 252, 253, 247, 232, 227, 237, 192, 174, 172, 177, 183, 183, 186, 191, 205, 215, 240, 238, 248, 253, 265, 274, 283, 287, 295, 325, 325, 357, 359, 379, 413, 402, 315, 257, 149],\n",
      "678: [678, 660, 548, 519, 521, 520, 514, 499, 482, 482, 509, 332, 317, 317, 322, 327, 329, 336, 328, 314, 277, 502, 168, 116, 97, 97, 96, 100, 100, 103, 115, 115, 131, 151, 153, 143, 180, 327, 339, 343, 302, 249, 197],\n",
      "699: [699, 707, 714, 725, 738, 744, 761, 770, 777, 777, 784, 769, 737, 745, 781, 513, 486, 484, 471, 466, 422, 353, 224, 227, 239, 234, 213, 199, 178, 233, 123, 121, 118, 121, 130, 132, 127, 139, 160, 249, 329, 312, 235],\n",
      "759: [760, 767, 777, 789, 800, 802, 817, 821, 823, 826, 826, 837, 848, 864, 835, 827, 831, 851, 860, 864, 896, 891, 804, 693, 580, 496, 449, 448, 473, 722, 471, 481, 510, 524, 497, 553, 820, 882, 1044],\n",
      "914: [915, 912, 906, 910, 910, 910, 903, 881, 890, 893, 887, 899, 896, 901, 894, 886, 893, 896, 891, 889, 906, 909, 963, 1026, 1065, 1076, 1105, 1101, 1141, 1148, 1135, 1142, 1256, 1367, 1449, 1580, 1723],\n",
      "1004: [1005, 1022, 1038, 1061, 1078, 1080, 1093, 1091, 1110, 1103, 1120, 1150, 1208, 1244, 1336, 1470],\n",
      "1024: [1025, 1067, 1103, 1128, 1161, 1165, 1216, 1254, 1301, 1304, 1364, 1381, 1424],\n",
      "1201: [1202, 1228],\n"
     ]
    }
   ],
   "source": [
    "for z0haloid in ids2:\n",
    "    halo = s.timesteps[-1].halos[z0haloid-1]\n",
    "    halo_num, = halo.calculate_for_progenitors('halo_number()')\n",
    "    print(str(z0haloid)+': [', end='')\n",
    "    print(*halo_num, sep=', ', end='')\n",
    "    print('],')\n"
   ]
  },
  {
   "cell_type": "code",
   "execution_count": 11,
   "metadata": {},
   "outputs": [
    {
     "data": {
      "text/plain": [
       "39"
      ]
     },
     "execution_count": 11,
     "metadata": {},
     "output_type": "execute_result"
    }
   ],
   "source": [
    "len([760, 767, 777, 789, 800, 802, 817, 821, 823, 826, 826, 837, 848, 864, 835, 827, 831, 851, 860, 864, 896, 891, 804, 693, 580, 496, 449, 448, 473, 722, 471, 481, 510, 524, 497, 553, 820, 882, 1044])"
   ]
  },
  {
   "cell_type": "code",
   "execution_count": 10,
   "metadata": {},
   "outputs": [
    {
     "data": {
      "text/plain": [
       "43"
      ]
     },
     "execution_count": 10,
     "metadata": {},
     "output_type": "execute_result"
    }
   ],
   "source": [
    "len(snapshots)"
   ]
  },
  {
   "cell_type": "code",
   "execution_count": 16,
   "metadata": {},
   "outputs": [
    {
     "data": {
      "text/plain": [
       "4.934124072198533e-09"
      ]
     },
     "execution_count": 16,
     "metadata": {},
     "output_type": "execute_result"
    }
   ],
   "source": [
    "\n",
    "age = np.array(h[15].star['age'].in_units('Myr'),dtype=float)\n",
    "\n",
    "np.sum(np.array(h[15].star['mass'].in_units('Msol'))[age < 100]) / 100e6 "
   ]
  },
  {
   "cell_type": "code",
   "execution_count": null,
   "metadata": {},
   "outputs": [],
   "source": []
  }
 ],
 "metadata": {
  "kernelspec": {
   "display_name": "Python 3",
   "language": "python",
   "name": "python3"
  },
  "language_info": {
   "codemirror_mode": {
    "name": "ipython",
    "version": 3
   },
   "file_extension": ".py",
   "mimetype": "text/x-python",
   "name": "python",
   "nbconvert_exporter": "python",
   "pygments_lexer": "ipython3",
   "version": "3.7.3"
  }
 },
 "nbformat": 4,
 "nbformat_minor": 2
}
