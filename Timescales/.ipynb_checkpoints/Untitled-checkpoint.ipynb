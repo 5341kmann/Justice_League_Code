{
 "cells": [
  {
   "cell_type": "code",
   "execution_count": 1,
   "metadata": {},
   "outputs": [],
   "source": [
    "import os\n",
    "import matplotlib.pyplot as plt\n",
    "import matplotlib as mpl\n",
    "%matplotlib inline\n",
    "import numpy as np\n",
    "os.environ['TANGOS_DB_CONNECTION'] = '/home/akinshol/Data/Timescales/TangosData/h329.db'\n",
    "\n",
    "#mpl.rcParams['font.monospace'] = 'Terminal'\n",
    "mpl.rc('font',**{'family':'serif','monospace':['Palatino']})\n",
    "mpl.rc('text', usetex=True)\n",
    "mpl.rcParams.update({'font.size': 9})"
   ]
  },
  {
   "cell_type": "markdown",
   "metadata": {},
   "source": [
    "We load in the tangos data for the h329 simulation."
   ]
  },
  {
   "cell_type": "code",
   "execution_count": 2,
   "metadata": {},
   "outputs": [],
   "source": [
    "import tangos"
   ]
  },
  {
   "cell_type": "code",
   "execution_count": 3,
   "metadata": {},
   "outputs": [
    {
     "data": {
      "text/plain": [
       "[<Simulation(\"snapshots\")>]"
      ]
     },
     "execution_count": 3,
     "metadata": {},
     "output_type": "execute_result"
    }
   ],
   "source": [
    "tangos.all_simulations()"
   ]
  },
  {
   "cell_type": "code",
   "execution_count": 4,
   "metadata": {},
   "outputs": [],
   "source": [
    "s = tangos.get_simulation('snapshots')"
   ]
  },
  {
   "cell_type": "code",
   "execution_count": 5,
   "metadata": {},
   "outputs": [
    {
     "data": {
      "text/plain": [
       "12"
      ]
     },
     "execution_count": 5,
     "metadata": {},
     "output_type": "execute_result"
    }
   ],
   "source": [
    "def nhalos(tstep):\n",
    "    l = 0\n",
    "    while True:\n",
    "        try:\n",
    "            tstep.halos[l]\n",
    "            l += 1\n",
    "        except:\n",
    "            break\n",
    "    return l\n",
    "\n",
    "nhalos(s.timesteps[0])"
   ]
  },
  {
   "cell_type": "code",
   "execution_count": 6,
   "metadata": {},
   "outputs": [],
   "source": [
    "import pynbody\n",
    "pynbody.config['halo-class-priority'] =  [pynbody.halo.ahf.AHFCatalogue,\n",
    "                                          pynbody.halo.GrpCatalogue,\n",
    "                                          pynbody.halo.AmigaGrpCatalogue,\n",
    "                                          pynbody.halo.legacy.RockstarIntermediateCatalogue,\n",
    "                                          pynbody.halo.rockstar.RockstarCatalogue,\n",
    "                                          pynbody.halo.subfind.SubfindCatalogue,\n",
    "                                          pynbody.halo.hop.HOPCatalogue]\n",
    "\n",
    "path = '/home/christenc/Data/Sims/h329.cosmo50PLK.3072g/h329.cosmo50PLK.3072gst5HbwK1BH/snapshots/'"
   ]
  },
  {
   "cell_type": "code",
   "execution_count": 7,
   "metadata": {},
   "outputs": [],
   "source": [
    "snapshots = ['h329.cosmo50PLK.3072gst5HbwK1BH.000071',\n",
    "             'h329.cosmo50PLK.3072gst5HbwK1BH.000096',\n",
    "             'h329.cosmo50PLK.3072gst5HbwK1BH.000107',\n",
    "             'h329.cosmo50PLK.3072gst5HbwK1BH.000139',\n",
    "             'h329.cosmo50PLK.3072gst5HbwK1BH.000188',\n",
    "             'h329.cosmo50PLK.3072gst5HbwK1BH.000192',\n",
    "             'h329.cosmo50PLK.3072gst5HbwK1BH.000225',\n",
    "             'h329.cosmo50PLK.3072gst5HbwK1BH.000275',\n",
    "             'h329.cosmo50PLK.3072gst5HbwK1BH.000288',\n",
    "             'h329.cosmo50PLK.3072gst5HbwK1BH.000347',\n",
    "             'h329.cosmo50PLK.3072gst5HbwK1BH.000384',\n",
    "             'h329.cosmo50PLK.3072gst5HbwK1BH.000456',\n",
    "             'h329.cosmo50PLK.3072gst5HbwK1BH.000480',\n",
    "             'h329.cosmo50PLK.3072gst5HbwK1BH.000576',\n",
    "             'h329.cosmo50PLK.3072gst5HbwK1BH.000637',\n",
    "             'h329.cosmo50PLK.3072gst5HbwK1BH.000672',\n",
    "             'h329.cosmo50PLK.3072gst5HbwK1BH.000768',\n",
    "             'h329.cosmo50PLK.3072gst5HbwK1BH.000776',\n",
    "             'h329.cosmo50PLK.3072gst5HbwK1BH.000864',\n",
    "             'h329.cosmo50PLK.3072gst5HbwK1BH.000960',\n",
    "             'h329.cosmo50PLK.3072gst5HbwK1BH.000974',\n",
    "             'h329.cosmo50PLK.3072gst5HbwK1BH.001056',\n",
    "             'h329.cosmo50PLK.3072gst5HbwK1BH.001106',\n",
    "             'h329.cosmo50PLK.3072gst5HbwK1BH.001152',\n",
    "             'h329.cosmo50PLK.3072gst5HbwK1BH.001248',\n",
    "             'h329.cosmo50PLK.3072gst5HbwK1BH.001269',\n",
    "             'h329.cosmo50PLK.3072gst5HbwK1BH.001344',\n",
    "             'h329.cosmo50PLK.3072gst5HbwK1BH.001440',\n",
    "             'h329.cosmo50PLK.3072gst5HbwK1BH.001475',\n",
    "             'h329.cosmo50PLK.3072gst5HbwK1BH.001536',\n",
    "             'h329.cosmo50PLK.3072gst5HbwK1BH.001632',\n",
    "             'h329.cosmo50PLK.3072gst5HbwK1BH.001728',\n",
    "             'h329.cosmo50PLK.3072gst5HbwK1BH.001740',\n",
    "             'h329.cosmo50PLK.3072gst5HbwK1BH.001824',\n",
    "             'h329.cosmo50PLK.3072gst5HbwK1BH.001920',\n",
    "             'h329.cosmo50PLK.3072gst5HbwK1BH.002016',\n",
    "             'h329.cosmo50PLK.3072gst5HbwK1BH.002088',\n",
    "             'h329.cosmo50PLK.3072gst5HbwK1BH.002112',\n",
    "             'h329.cosmo50PLK.3072gst5HbwK1BH.002208',\n",
    "             'h329.cosmo50PLK.3072gst5HbwK1BH.002304',\n",
    "             'h329.cosmo50PLK.3072gst5HbwK1BH.002400',\n",
    "             'h329.cosmo50PLK.3072gst5HbwK1BH.002496',\n",
    "             'h329.cosmo50PLK.3072gst5HbwK1BH.002554',\n",
    "             'h329.cosmo50PLK.3072gst5HbwK1BH.002592',\n",
    "             'h329.cosmo50PLK.3072gst5HbwK1BH.002688',\n",
    "             'h329.cosmo50PLK.3072gst5HbwK1BH.002784',\n",
    "             'h329.cosmo50PLK.3072gst5HbwK1BH.002880',\n",
    "             'h329.cosmo50PLK.3072gst5HbwK1BH.002976',\n",
    "             'h329.cosmo50PLK.3072gst5HbwK1BH.003072',\n",
    "             'h329.cosmo50PLK.3072gst5HbwK1BH.003168',\n",
    "             'h329.cosmo50PLK.3072gst5HbwK1BH.003195',\n",
    "             'h329.cosmo50PLK.3072gst5HbwK1BH.003264',\n",
    "             'h329.cosmo50PLK.3072gst5HbwK1BH.003360',\n",
    "             'h329.cosmo50PLK.3072gst5HbwK1BH.003456',\n",
    "             'h329.cosmo50PLK.3072gst5HbwK1BH.003552',\n",
    "             'h329.cosmo50PLK.3072gst5HbwK1BH.003606',\n",
    "             'h329.cosmo50PLK.3072gst5HbwK1BH.003648',\n",
    "             'h329.cosmo50PLK.3072gst5HbwK1BH.003744',\n",
    "             'h329.cosmo50PLK.3072gst5HbwK1BH.003840',\n",
    "             'h329.cosmo50PLK.3072gst5HbwK1BH.003936',\n",
    "             'h329.cosmo50PLK.3072gst5HbwK1BH.004032',\n",
    "             'h329.cosmo50PLK.3072gst5HbwK1BH.004096']"
   ]
  },
  {
   "cell_type": "code",
   "execution_count": 54,
   "metadata": {},
   "outputs": [],
   "source": [
    "i = 18\n",
    "print(tstep)\n",
    "haloidstangos = []\n",
    "NDMtangos = []\n",
    "for i in range(nhalos(s.timesteps[tstep])):\n",
    "    halo = s.timesteps[tstep].halos[i]\n",
    "    if halo['n_star'] != 0:\n",
    "        NDMtangos.append(halo.NDM)\n",
    "        haloidstangos.append(i)\n",
    "        \n",
    "NDMtangos = np.array(NDMtangos)\n",
    "\n",
    "\n",
    "sim = pynbody.load(path+snapshots[tstep])\n",
    "h = sim.halos()\n",
    "\n",
    "NDM = []\n",
    "haloids = []\n",
    "for halo in h:\n",
    "    if halo.properties['n_star'] != 0:\n",
    "        NDM.append(halo.properties['npart']-halo.properties['n_star']-halo.properties['n_gas'])\n",
    "        haloids.append(halo.properties['#ID']+1)\n",
    "\n",
    "NDM = np.array(NDM)\n",
    "haloids = np.array(haloids)\n",
    "\n",
    "print('Tangos # of halos:', len(NDMtangos))\n",
    "print('Pynbody # of halos w/ NDM > 1000:',len(NDM[NDM>1000]))\n",
    "print('Halo id of last halo w/ NDM > 1000:', haloids[NDM>1000][-1])"
   ]
  },
  {
   "cell_type": "code",
   "execution_count": 55,
   "metadata": {},
   "outputs": [
    {
     "data": {
      "image/png": "[encoded data removed]",
      "text/plain": [
       "<Figure size 1200x800 with 1 Axes>"
      ]
     },
     "metadata": {
      "needs_background": "light"
     },
     "output_type": "display_data"
    }
   ],
   "source": [
    "plt.figure(dpi=200)\n",
    "plt.scatter(haloids,NDM,c='b',s=2)\n",
    "plt.scatter(haloids[NDM>1000],NDM[NDM>1000],c='r',s=7)\n",
    "plt.scatter(np.array(haloidstangos)+1, NDMtangos, c='k', s=1)\n",
    "# plt.xlim(80,200)\n",
    "# plt.ylim(3e2,2e3)\n",
    "plt.loglog()\n",
    "plt.show()"
   ]
  },
  {
   "cell_type": "code",
   "execution_count": 53,
   "metadata": {},
   "outputs": [
    {
     "name": "stdout",
     "output_type": "stream",
     "text": [
      "0\n",
      "1\n",
      "2\n",
      "3\n",
      "4\n",
      "5\n",
      "6\n",
      "7\n",
      "8\n",
      "9\n",
      "10\n",
      "11\n",
      "12\n",
      "13\n",
      "14\n",
      "15\n",
      "16\n",
      "17\n",
      "18\n"
     ]
    },
    {
     "ename": "AssertionError",
     "evalue": "",
     "output_type": "error",
     "traceback": [
      "\u001b[0;31m--------------------------------\u001b[0m",
      "\u001b[0;31mAssertionError\u001b[0mTraceback (most recent call last)",
      "\u001b[0;32m<ipython-input-53-46a82120d239>\u001b[0m in \u001b[0;36m<module>\u001b[0;34m\u001b[0m\n\u001b[1;32m     30\u001b[0m \u001b[0;31m#     print('Halo id of last halo w/ NDM > 1000:', haloids[NDM>1000][-1])\u001b[0m\u001b[0;34m\u001b[0m\u001b[0;34m\u001b[0m\u001b[0;34m\u001b[0m\u001b[0m\n\u001b[1;32m     31\u001b[0m \u001b[0;34m\u001b[0m\u001b[0m\n\u001b[0;32m---> 32\u001b[0;31m     \u001b[0;32massert\u001b[0m \u001b[0mlen\u001b[0m\u001b[0;34m(\u001b[0m\u001b[0mNDMtangos\u001b[0m\u001b[0;34m)\u001b[0m \u001b[0;34m==\u001b[0m \u001b[0mlen\u001b[0m\u001b[0;34m(\u001b[0m\u001b[0mNDM\u001b[0m\u001b[0;34m[\u001b[0m\u001b[0mNDM\u001b[0m\u001b[0;34m>\u001b[0m\u001b[0;36m1000\u001b[0m\u001b[0;34m]\u001b[0m\u001b[0;34m)\u001b[0m\u001b[0;34m\u001b[0m\u001b[0;34m\u001b[0m\u001b[0m\n\u001b[0m\u001b[1;32m     33\u001b[0m \u001b[0;34m\u001b[0m\u001b[0m\n\u001b[1;32m     34\u001b[0m \u001b[0;34m\u001b[0m\u001b[0m\n",
      "\u001b[0;31mAssertionError\u001b[0m: "
     ]
    }
   ],
   "source": [
    "for tstep in range(len(s.timesteps)):\n",
    "    print(tstep)\n",
    "\n",
    "    haloidstangos = []\n",
    "    NDMtangos = []\n",
    "    for i in range(nhalos(s.timesteps[tstep])):\n",
    "        halo = s.timesteps[tstep].halos[i]\n",
    "        if halo['n_star'] != 0:\n",
    "            NDMtangos.append(halo.NDM)\n",
    "            haloidstangos.append(i)\n",
    "\n",
    "    NDMtangos = np.array(NDMtangos)\n",
    "\n",
    "\n",
    "    sim = pynbody.load(path+snapshots[tstep])\n",
    "    h = sim.halos()\n",
    "\n",
    "    NDM = []\n",
    "    haloids = []\n",
    "    for halo in h:\n",
    "        if halo.properties['n_star'] != 0:\n",
    "            NDM.append(halo.properties['npart']-halo.properties['n_star']-halo.properties['n_gas'])\n",
    "            haloids.append(halo.properties['#ID']+1)\n",
    "\n",
    "    NDM = np.array(NDM)\n",
    "    haloids = np.array(haloids)\n",
    "    \n",
    "#     print('Tangos # of halos:', len(NDMtangos))\n",
    "#     print('Pynbody # of halos w/ NDM > 1000:',len(NDM[NDM>1000]))\n",
    "#     print('Halo id of last halo w/ NDM > 1000:', haloids[NDM>1000][-1])\n",
    "    \n",
    "    assert len(NDMtangos) == len(NDM[NDM>1000])\n",
    "\n",
    "\n",
    "# plt.figure(dpi=200)\n",
    "# plt.scatter(range(1,len(h)),NDM,c='b',s=2)\n",
    "# plt.scatter(haloids[NDM>1000],NDM[NDM>1000],c='r',s=7)\n",
    "# plt.scatter(range(1,nhalos(s.timesteps[tstep])+1), NDMtangos, c='k', s=1)\n",
    "# plt.loglog()\n",
    "# plt.show()"
   ]
  },
  {
   "cell_type": "code",
   "execution_count": 56,
   "metadata": {},
   "outputs": [
    {
     "name": "stdout",
     "output_type": "stream",
     "text": [
      "0\n",
      "1\n",
      "2\n",
      "3\n",
      "4\n"
     ]
    },
    {
     "ename": "AssertionError",
     "evalue": "",
     "output_type": "error",
     "traceback": [
      "\u001b[0;31m--------------------------------\u001b[0m",
      "\u001b[0;31mAssertionError\u001b[0mTraceback (most recent call last)",
      "\u001b[0;32m<ipython-input-56-1976ff45543a>\u001b[0m in \u001b[0;36m<module>\u001b[0;34m\u001b[0m\n\u001b[1;32m      8\u001b[0m             \u001b[0mNDMtangos\u001b[0m\u001b[0;34m.\u001b[0m\u001b[0mappend\u001b[0m\u001b[0;34m(\u001b[0m\u001b[0mhalo\u001b[0m\u001b[0;34m.\u001b[0m\u001b[0mNDM\u001b[0m\u001b[0;34m)\u001b[0m\u001b[0;34m\u001b[0m\u001b[0;34m\u001b[0m\u001b[0m\n\u001b[1;32m      9\u001b[0m \u001b[0;34m\u001b[0m\u001b[0m\n\u001b[0;32m---> 10\u001b[0;31m     \u001b[0;32massert\u001b[0m \u001b[0mlen\u001b[0m\u001b[0;34m(\u001b[0m\u001b[0mNDMtangos\u001b[0m\u001b[0;34m)\u001b[0m \u001b[0;34m==\u001b[0m \u001b[0mlen\u001b[0m\u001b[0;34m(\u001b[0m\u001b[0mnp\u001b[0m\u001b[0;34m.\u001b[0m\u001b[0munique\u001b[0m\u001b[0;34m(\u001b[0m\u001b[0mNDMtangos\u001b[0m\u001b[0;34m)\u001b[0m\u001b[0;34m)\u001b[0m\u001b[0;34m\u001b[0m\u001b[0;34m\u001b[0m\u001b[0m\n\u001b[0m\u001b[1;32m     11\u001b[0m \u001b[0;34m\u001b[0m\u001b[0m\n",
      "\u001b[0;31mAssertionError\u001b[0m: "
     ]
    }
   ],
   "source": [
    "for tstep in range(len(s.timesteps)):\n",
    "    print(tstep)\n",
    "\n",
    "    NDMtangos = []\n",
    "    for i in range(nhalos(s.timesteps[tstep])):\n",
    "        halo = s.timesteps[tstep].halos[i]\n",
    "        if halo['n_star'] != 0:\n",
    "            NDMtangos.append(halo.NDM)\n",
    "    \n",
    "    assert len(NDMtangos) == len(np.unique(NDMtangos))\n",
    "    "
   ]
  },
  {
   "cell_type": "markdown",
   "metadata": {},
   "source": [
    "How do we pick the halos we are interested in via pynbody? We choose all halos with n_star != 0. So, Let's try to do that in tangos. Will we get the same values? "
   ]
  },
  {
   "cell_type": "code",
   "execution_count": 70,
   "metadata": {},
   "outputs": [
    {
     "name": "stdout",
     "output_type": "stream",
     "text": [
      "0\n",
      "1\n",
      "2\n",
      "3\n",
      "4\n",
      "5\n",
      "6\n",
      "7\n",
      "8\n",
      "9\n",
      "10\n",
      "11\n",
      "12\n",
      "13\n",
      "Nope! 14\n",
      "15\n",
      "Nope! 16\n",
      "17\n",
      "Nope! 18\n",
      "19\n",
      "20\n",
      "21\n",
      "22\n",
      "23\n",
      "24\n",
      "25\n",
      "26\n",
      "27\n",
      "28\n",
      "29\n",
      "Nope! 30\n",
      "Nope! 31\n",
      "Nope! 32\n",
      "Nope! 33\n",
      "34\n",
      "35\n",
      "36\n",
      "37\n",
      "38\n",
      "39\n",
      "40\n",
      "41\n",
      "42\n",
      "43\n",
      "44\n",
      "45\n",
      "46\n",
      "47\n",
      "48\n",
      "49\n",
      "Nope! 50\n",
      "51\n",
      "52\n",
      "53\n",
      "54\n",
      "55\n",
      "56\n",
      "57\n",
      "58\n",
      "59\n",
      "60\n",
      "61\n"
     ]
    }
   ],
   "source": [
    "for tstep in range(len(s.timesteps)):\n",
    "    haloids_tangos = []\n",
    "    for i in range(1,nhalos(s.timesteps[tstep])+1):\n",
    "        halo = s.timesteps[tstep].halos[i-1]\n",
    "        if halo['n_star'] != 0 and halo.NDM > 1000:\n",
    "            haloids_tangos.append(i)\n",
    "\n",
    "    # print(haloids_tangos)\n",
    "\n",
    "    sim = pynbody.load(path+snapshots[tstep])\n",
    "    h = sim.halos()\n",
    "\n",
    "    haloids_pyn = []\n",
    "    for i in range(1,len(h)):\n",
    "        halo = h[i]\n",
    "        if halo.properties['n_star'] != 0 and halo.properties['npart']-halo.properties['n_star']-halo.properties['n_gas'] > 1000:\n",
    "            haloids_pyn.append(i)\n",
    "\n",
    "    # print(haloids_pyn)\n",
    "\n",
    "    if haloids_tangos == haloids_pyn:\n",
    "        print(tstep)\n",
    "    else:\n",
    "        print('Nope!',tstep)"
   ]
  },
  {
   "cell_type": "code",
   "execution_count": 8,
   "metadata": {},
   "outputs": [
    {
     "name": "stdout",
     "output_type": "stream",
     "text": [
      "T: [1, 2, 3, 4, 5, 6, 7, 8, 9, 10, 11, 12, 13, 14, 15, 16, 17, 19, 20, 21, 22, 23, 24, 25, 26, 27, 28, 29, 30, 32, 37, 38, 39, 41, 43, 44, 45, 47, 49, 55, 56, 58, 65, 67, 76, 79, 92, 98, 104, 108, 114, 120, 126, 135, 177, 324, 384, 526, 682]\n",
      "P: [1, 2, 3, 4, 5, 6, 7, 8, 9, 10, 11, 12, 13, 14, 15, 16, 17, 19, 20, 21, 22, 23, 24, 25, 26, 27, 28, 29, 30, 32, 37, 38, 39, 41, 43, 44, 45, 47, 49, 55, 56, 58, 65, 67, 76, 79, 92, 98, 104, 108, 114, 120, 126, 135, 177, 324, 384, 526, 683]\n",
      "T: [1, 2, 3, 4, 5, 6, 7, 8, 9, 10, 11, 12, 13, 16, 17, 18, 19, 20, 22, 24, 25, 26, 27, 29, 30, 32, 35, 37, 38, 42, 43, 45, 46, 53, 54, 57, 62, 63, 72, 73, 78, 86, 91, 98, 103, 136, 172, 190, 250, 483, 510, 614]\n",
      "P: [1, 2, 3, 4, 5, 6, 7, 8, 9, 10, 11, 12, 13, 16, 17, 18, 19, 20, 22, 24, 25, 26, 27, 29, 30, 32, 35, 37, 38, 42, 43, 45, 46, 53, 54, 57, 62, 63, 72, 73, 78, 86, 91, 98, 103, 136, 172, 190, 251, 484, 511, 615]\n",
      "T: [1, 2, 3, 4, 5, 6, 7, 8, 9, 10, 11, 12, 13, 14, 15, 17, 18, 19, 21, 22, 24, 25, 26, 29, 33, 35, 37, 38, 39, 41, 45, 52, 53, 55, 62, 66, 68, 76, 78, 80, 106, 110, 111, 146, 167, 170, 184, 204, 255, 386, 794]\n",
      "P: [1, 2, 3, 4, 5, 6, 7, 8, 9, 10, 11, 12, 13, 14, 15, 17, 18, 19, 21, 22, 24, 25, 26, 29, 33, 35, 37, 38, 39, 41, 45, 52, 53, 55, 62, 66, 68, 76, 78, 80, 106, 110, 111, 146, 167, 170, 184, 204, 255, 386]\n",
      "T: [1, 2, 3, 5, 9, 10, 11, 14, 16, 18, 19, 22, 24, 27, 28, 31, 34, 36, 42, 44, 51, 73, 74, 79, 106, 142, 151, 168, 279, 356, 786, 787]\n",
      "P: [1, 2, 3, 5, 9, 10, 11, 14, 16, 18, 19, 22, 24, 27, 28, 31, 34, 36, 42, 44, 51, 73, 74, 79, 106, 142, 151, 168, 279, 356]\n",
      "T: [1, 2, 3, 5, 11, 12, 13, 16, 17, 18, 19, 20, 25, 29, 34, 36, 40, 44, 55, 74, 76, 79, 131, 137, 140, 142, 164, 170, 446, 513, 772]\n",
      "P: [1, 2, 3, 5, 11, 12, 13, 16, 17, 18, 19, 20, 25, 29, 34, 36, 40, 44, 55, 74, 76, 79, 131, 137, 140, 142, 164, 170, 446, 513]\n",
      "T: [1, 2, 3, 5, 11, 12, 13, 16, 17, 18, 20, 22, 25, 29, 34, 36, 40, 45, 56, 73, 75, 80, 141, 144, 165, 169, 458, 469, 759]\n",
      "P: [1, 2, 3, 5, 11, 12, 13, 16, 17, 18, 20, 22, 25, 29, 34, 36, 40, 45, 56, 73, 75, 80, 141, 144, 165, 169, 459, 470]\n",
      "T: [1, 2, 3, 5, 11, 12, 13, 16, 17, 19, 20, 25, 28, 32, 35, 39, 50, 62, 70, 73, 80, 138, 144, 157, 168, 494, 752]\n",
      "P: [1, 2, 3, 5, 11, 12, 13, 16, 17, 19, 20, 25, 28, 32, 35, 39, 50, 62, 70, 73, 80, 138, 144, 157, 168, 494]\n",
      "T: [1, 4, 11, 12, 15, 16, 17, 25, 28, 30, 38, 48, 59, 64, 98, 101, 114, 124, 133, 143, 145, 297, 443]\n",
      "P: [1, 4, 11, 12, 15, 16, 17, 25, 28, 30, 38, 48, 59, 64, 98, 101, 114, 124, 133, 143, 145, 298, 444]\n"
     ]
    }
   ],
   "source": [
    "for tstep in [14,16,18,30,31,32,33,50]:\n",
    "    haloids_tangos = []\n",
    "    for i in range(1,nhalos(s.timesteps[tstep])+1):\n",
    "        halo = s.timesteps[tstep].halos[i-1]\n",
    "        if halo['n_star'] != 0:\n",
    "            haloids_tangos.append(i)\n",
    "\n",
    "    # print(haloids_tangos)\n",
    "\n",
    "    sim = pynbody.load(path+snapshots[tstep])\n",
    "    h = sim.halos()\n",
    "\n",
    "    haloids_pyn = []\n",
    "    for i in range(1,len(h)):\n",
    "        halo = h[i]\n",
    "        if halo.properties['n_star'] != 0 and halo.properties['npart']-halo.properties['n_star']-halo.properties['n_gas']>1000:\n",
    "            haloids_pyn.append(i)\n",
    "\n",
    "    # print(haloids_pyn)\n",
    "\n",
    "    if haloids_tangos == haloids_pyn:\n",
    "        print(tstep)\n",
    "    else:\n",
    "        print(\"T:\",haloids_tangos)\n",
    "        print(\"P:\",haloids_pyn)"
   ]
  },
  {
   "cell_type": "code",
   "execution_count": 28,
   "metadata": {},
   "outputs": [
    {
     "name": "stdout",
     "output_type": "stream",
     "text": [
      "2492 2\n",
      "2492 2\n",
      "1518 21\n",
      "1518 21\n"
     ]
    }
   ],
   "source": [
    "tstep = 50\n",
    "tangosids = [297, 443]\n",
    "pynids = [298, 444]\n",
    "\n",
    "for tangosid, pynid in zip(tangosids,pynids):\n",
    "    halo = s.timesteps[tstep].halos[tangosid-1]\n",
    "    print(halo.NDM, halo['n_star'])\n",
    "\n",
    "    sim = pynbody.load(path+snapshots[tstep])\n",
    "    h = sim.halos()\n",
    "    halo = h[pynid]\n",
    "    print(len(halo) - len(halo.s) - len(halo.g), len(halo.s))"
   ]
  },
  {
   "cell_type": "code",
   "execution_count": 26,
   "metadata": {},
   "outputs": [
    {
     "name": "stdout",
     "output_type": "stream",
     "text": [
      "30\n"
     ]
    }
   ],
   "source": [
    "for tstep in [30]:\n",
    "    haloids_tangos = []\n",
    "    for i in range(1,nhalos(s.timesteps[tstep])+1):\n",
    "        halo = s.timesteps[tstep].halos[i-1]\n",
    "        if halo['n_star'] != 0 and halo.NDM > 1000:\n",
    "            haloids_tangos.append(i)\n",
    "\n",
    "    # print(haloids_tangos)\n",
    "\n",
    "    sim = pynbody.load(path+snapshots[tstep])\n",
    "    h = sim.halos()\n",
    "\n",
    "    haloids_pyn = []\n",
    "    for i in range(1,len(h)):\n",
    "        halo = h[i]\n",
    "        if halo.properties['n_star'] != 0 and halo.properties['npart']-halo.properties['n_star']-halo.properties['n_gas']>1000:\n",
    "            haloids_pyn.append(i)\n",
    "\n",
    "    # print(haloids_pyn)\n",
    "\n",
    "    if haloids_tangos == haloids_pyn:\n",
    "        print(tstep)\n",
    "    else:\n",
    "        print(\"T:\",haloids_tangos)\n",
    "        print(\"P:\",haloids_pyn)"
   ]
  },
  {
   "cell_type": "code",
   "execution_count": 21,
   "metadata": {},
   "outputs": [
    {
     "data": {
      "text/plain": [
       "'2.15 Gyr'"
      ]
     },
     "execution_count": 21,
     "metadata": {},
     "output_type": "execute_result"
    }
   ],
   "source": [
    "str(s.timesteps[14])[-9:-1]"
   ]
  },
  {
   "cell_type": "code",
   "execution_count": 30,
   "metadata": {},
   "outputs": [
    {
     "name": "stdout",
     "output_type": "stream",
     "text": [
      "h329.cosmo50PLK.3072gst5HbwK1BH.000637\n",
      "h329.cosmo50PLK.3072gst5HbwK1BH.000768\n",
      "h329.cosmo50PLK.3072gst5HbwK1BH.001740\n",
      "h329.cosmo50PLK.3072gst5HbwK1BH.003195\n"
     ]
    }
   ],
   "source": [
    "\n",
    "# Time step 14:\n",
    "# T: [1, 2, 3, 4, 5, 6, 7, 8, 9, 10, 11, 12, 13, 14, 15, 16, 17, 19, 20, 21, 22, 23, 24, 25, 26, 27, 28, 29, 30, 32, 37, 38, 39, 41, 43, 44, 45, 47, 49, 55, 56, 58, 65, 67, 76, 79, 92, 98, 104, 108, 114, 120, 126, 135, 177, 324, 384, 526, 682]\n",
    "# P: [1, 2, 3, 4, 5, 6, 7, 8, 9, 10, 11, 12, 13, 14, 15, 16, 17, 19, 20, 21, 22, 23, 24, 25, 26, 27, 28, 29, 30, 32, 37, 38, 39, 41, 43, 44, 45, 47, 49, 55, 56, 58, 65, 67, 76, 79, 92, 98, 104, 108, 114, 120, 126, 135, 177, 324, 384, 526, 683]\n",
    "\n",
    "# Time step 16\n",
    "# T: [1, 2, 3, 4, 5, 6, 7, 8, 9, 10, 11, 12, 13, 16, 17, 18, 19, 20, 22, 24, 25, 26, 27, 29, 30, 32, 35, 37, 38, 42, 43, 45, 46, 53, 54, 57, 62, 63, 72, 73, 78, 86, 91, 98, 103, 136, 172, 190, 250, 483, 510, 614]\n",
    "# P: [1, 2, 3, 4, 5, 6, 7, 8, 9, 10, 11, 12, 13, 16, 17, 18, 19, 20, 22, 24, 25, 26, 27, 29, 30, 32, 35, 37, 38, 42, 43, 45, 46, 53, 54, 57, 62, 63, 72, 73, 78, 86, 91, 98, 103, 136, 172, 190, 251, 484, 511, 615]\n",
    "\n",
    "# Time step 32\n",
    "# T: [1, 2, 3, 5, 11, 12, 13, 16, 17, 18, 20, 22, 25, 29, 34, 36, 40, 45, 56, 73, 75, 80, 141, 144, 165, 169, 458, 469]\n",
    "# P: [1, 2, 3, 5, 11, 12, 13, 16, 17, 18, 20, 22, 25, 29, 34, 36, 40, 45, 56, 73, 75, 80, 141, 144, 165, 169, 459, 470]\n",
    "\n",
    "# Time step 50\n",
    "# T: [1, 4, 11, 12, 15, 16, 17, 25, 28, 30, 38, 48, 59, 64, 98, 101, 114, 124, 133, 143, 145, 297, 443]\n",
    "# P: [1, 4, 11, 12, 15, 16, 17, 25, 28, 30, 38, 48, 59, 64, 98, 101, 114, 124, 133, 143, 145, 298, 444]\n",
    "for i in [14,16,32,50]:\n",
    "    print(snapshots[i])\n"
   ]
  },
  {
   "cell_type": "code",
   "execution_count": 25,
   "metadata": {},
   "outputs": [],
   "source": [
    "def tangos_to_pyn(snapshot,tangosids):\n",
    "    '''\n",
    "    Converts from tangos halo id to pynbody halo ID. \n",
    "    '''\n",
    "    snapnum = int(snapshot[-4:])\n",
    "#     print(f'Snapshot # {snapnum}', end=' ')\n",
    "    \n",
    "    if snapnum==637:\n",
    "        alltangosids = np.array([1, 2, 3, 4, 5, 6, 7, 8, 9, 10, 11, 12, 13, 14, 15, 16, 17, 19, 20, 21, 22, 23, 24, 25, 26, \n",
    "                                   27, 28, 29, 30, 32, 37, 38, 39, 41, 43, 44, 45, 47, 49, 55, 56, 58, 65, 67, 76, 79, 92, 98, \n",
    "                                   104, 108, 114, 120, 126, 135, 177, 324, 384, 526, 682])\n",
    "        allpynids = np.array([1, 2, 3, 4, 5, 6, 7, 8, 9, 10, 11, 12, 13, 14, 15, 16, 17, 19, 20, 21, 22, 23, 24, 25, 26, 27, \n",
    "                              28, 29, 30, 32, 37, 38, 39, 41, 43, 44, 45, 47, 49, 55, 56, 58, 65, 67, 76, 79, 92, 98, 104, 108, \n",
    "                              114, 120, 126, 135, 177, 324, 384, 526, 683])\n",
    "        pynids = np.empty(shape=tangosids.shape)\n",
    "        for i in range(len(tangosids)):\n",
    "             if bool(np.isin(tangosids[i],alltangosids)):\n",
    "                pynids[i] = np.where(np.isin(tangosids[i],alltangosids))[0]\n",
    "            else:\n",
    "                pynids[i] = 0\n",
    "                \n",
    "        return pynids\n",
    "    \n",
    "    elif snapnum==768:\n",
    "        alltangosids = np.array([1, 2, 3, 4, 5, 6, 7, 8, 9, 10, 11, 12, 13, 16, 17, 18, 19, 20, 22, 24, 25, 26, 27, 29, 30, 32, 35, 37, 38,\n",
    "                                 42, 43, 45, 46, 53, 54, 57, 62, 63, 72, 73, 78, 86, 91, 98, 103, 136, 172, 190, 250, 483, 510, 614])\n",
    "        allpynids = np.array([1, 2, 3, 4, 5, 6, 7, 8, 9, 10, 11, 12, 13, 16, 17, 18, 19, 20, 22, 24, 25, 26, 27, 29, 30, 32, 35, 37, 38, \n",
    "                              42, 43, 45, 46, 53, 54, 57, 62, 63, 72, 73, 78, 86, 91, 98, 103, 136, 172, 190, 251, 484, 511, 615])\n",
    "        for i in tangosids:\n",
    "            assert bool(np.isin(i,alltangosids)), f\"Tangos halo {i} does not have NDM > 1000 and Nstar > 0, no tangos data available\"\n",
    "        matching_indices = np.where(np.isin(alltangosids,tangosids))[0]\n",
    "        pynids = allpynids[matching_indices]\n",
    "        return pynids\n",
    "    \n",
    "    elif snapnum==1740:\n",
    "        alltangosids = np.array([1, 2, 3, 5, 11, 12, 13, 16, 17, 18, 20, 22, 25, 29, 34, 36, 40, 45, 56, 73, 75, 80, 141, 144, 165, 169, 458, 469])\n",
    "        allpynids = np.array([1, 2, 3, 5, 11, 12, 13, 16, 17, 18, 20, 22, 25, 29, 34, 36, 40, 45, 56, 73, 75, 80, 141, 144, 165, 169, 459, 470])\n",
    "        for i in tangosids:\n",
    "            assert bool(np.isin(i,alltangosids)), f\"Tangos halo {i} does not have NDM > 1000 and Nstar > 0, no tangos data available\"\n",
    "        matching_indices = np.where(np.isin(alltangosids,tangosids))[0]\n",
    "        pynids = allpynids[matching_indices]\n",
    "        return pynids\n",
    "    \n",
    "    elif snapnum==3195:\n",
    "        alltangosids = np.array([1, 4, 11, 12, 15, 16, 17, 25, 28, 30, 38, 48, 59, 64, 98, 101, 114, 124, 133, 143, 145, 297, 443])\n",
    "        allpynids = np.array([1, 4, 11, 12, 15, 16, 17, 25, 28, 30, 38, 48, 59, 64, 98, 101, 114, 124, 133, 143, 145, 298, 444])\n",
    "        for i in tangosids:\n",
    "            assert bool(np.isin(i,alltangosids)), f\"Tangos halo {i} does not have NDM > 1000 and Nstar > 0, no tangos data available\"\n",
    "        matching_indices = np.where(np.isin(alltangosids,tangosids))[0]\n",
    "        pynids = allpynids[matching_indices]\n",
    "        return pynids\n",
    "    else:\n",
    "        for i in range(len(tangosids)):\n",
    "            s = pynbody.load(path+snapshot)\n",
    "            h = s.halos(dummy=True)\n",
    "            halo = h[tangosids[i]].properties\n",
    "            try:\n",
    "                assert halo['npart'] - halo['n_star'] - halo['n_gas'] > 1000, f\"Halo {tangosids[i]} does not have NDM > 1000, no tangos data available\"\n",
    "                assert halo['n_star'] > 0, f\"Halo {tangosids[i]} has no stars, no tangos data has been prepared\"\n",
    "            except AssertionError as err:\n",
    "                print(err)\n",
    "                tangosids[i] = 0\n",
    "        return tangosids\n",
    "        "
   ]
  },
  {
   "cell_type": "code",
   "execution_count": 9,
   "metadata": {},
   "outputs": [
    {
     "name": "stdout",
     "output_type": "stream",
     "text": [
      "Snapshot # 384\n"
     ]
    },
    {
     "data": {
      "text/plain": [
       "[1, 9, 80]"
      ]
     },
     "execution_count": 9,
     "metadata": {},
     "output_type": "execute_result"
    }
   ],
   "source": [
    "tangos_to_pyn(snapshots[10],[1,9, 80])"
   ]
  },
  {
   "cell_type": "code",
   "execution_count": 56,
   "metadata": {},
   "outputs": [
    {
     "name": "stdout",
     "output_type": "stream",
     "text": [
      "1243 5.44 6661.12\n",
      "Snapshot # 4096\n",
      "490\n",
      "1243 5.44 6661.12\n"
     ]
    }
   ],
   "source": [
    "tstep = 61\n",
    "i = 490\n",
    "\n",
    "halo = s.timesteps[tstep].halos[i-1]\n",
    "print(halo.NDM, halo['Rvir'][0], halo['M_star'])\n",
    "\n",
    "sim = pynbody.load(path+snapshots[tstep])\n",
    "h = sim.halos(dummy=True)\n",
    "newi = tangos_to_pyn(snapshots[tstep],np.array([i]))[0]\n",
    "print(newi)\n",
    "halo = h[newi].properties\n",
    "\n",
    "print(halo['npart'] - halo['n_star'] - halo['n_gas'], halo['Rvir'], halo['M_star'])"
   ]
  },
  {
   "cell_type": "code",
   "execution_count": 26,
   "metadata": {},
   "outputs": [
    {
     "name": "stdout",
     "output_type": "stream",
     "text": [
      "7\n",
      "[ 7  6  6  6  6  5  5  4  4  4  4  4  5  5  5  6  6  6  7  6  7  7  8  7\n",
      "  6  6  6  6  5  5  5  5  6  5  6  6  8  8  9 10  8  9  9 10 11 10 14 14\n",
      " 14 16 17 23 22 22 24 30 25 24 33 64]\n",
      "Halo 64 has no stars, no tangos data has been prepared\n",
      "Halo 33 has no stars, no tangos data has been prepared\n",
      "[7, 6, 6, 6, 6, 5, 5, 4, 4, 4, 4, 4, 5, 5, 5, 6, 6, 6, 7, 6, 7, 7, 8, 7, 6, 6, 6, 6, 5, 5, 5, 5, 6, 5, 6, 6, 8, 8, 9, 10, 8, 9, 9, 10, 11, 10, 14, 14, 14, 16, 17, 23, 22, 22, 24, 30, 25, 24, 0, 0]\n",
      "10\n",
      "[ 10  10   9   9   9   9   9   9  11  11  11  11  13  13  13  14  14  14\n",
      "  15  14  16  15  16  15  15  15  14  14  13  13  13  14  14  16  16  16\n",
      "  19  20  22  20  19  19  19  18  19  18  24  28  34  42  44  60  71  87\n",
      "  94 109 169]\n",
      "Halo 169 has no stars, no tangos data has been prepared\n",
      "Halo 109 has no stars, no tangos data has been prepared\n",
      "Halo 94 has no stars, no tangos data has been prepared\n",
      "Halo 87 has no stars, no tangos data has been prepared\n",
      "[10, 10, 9, 9, 9, 9, 9, 9, 11, 11, 11, 11, 13, 13, 13, 14, 14, 14, 15, 14, 16, 15, 16, 15, 15, 15, 14, 14, 13, 13, 13, 14, 14, 16, 16, 16, 19, 20, 22, 20, 19, 19, 19, 18, 19, 18, 24, 28, 34, 42, 44, 60, 71, 0, 0, 0, 0]\n",
      "13\n",
      "[ 13  13  13  13  13  13  13  16  16  15  15  15  16  16  16  17  18  18\n",
      "  17  16  18  17  18  17  17  17  17  15  16  16  18  22  24  26  26  28\n",
      "  25  26  27  28  24  24  25  35  38  38  44  44  54  60  61  89  98 119\n",
      " 120 150 246 238]\n",
      "Halo 238 has no stars, no tangos data has been prepared\n",
      "Halo 246 has no stars, no tangos data has been prepared\n",
      "Halo 150 has no stars, no tangos data has been prepared\n",
      "Halo 120 has no stars, no tangos data has been prepared\n",
      "Halo 119 has no stars, no tangos data has been prepared\n",
      "Halo 98 has no stars, no tangos data has been prepared\n",
      "Halo 89 has no stars, no tangos data has been prepared\n",
      "[13, 13, 13, 13, 13, 13, 13, 16, 16, 15, 15, 15, 16, 16, 16, 17, 18, 18, 17, 16, 18, 17, 18, 17, 17, 17, 17, 15, 16, 16, 18, 22, 24, 26, 26, 28, 25, 26, 27, 28, 24, 24, 25, 35, 38, 38, 44, 44, 54, 60, 61, 0, 0, 0, 0, 0, 0, 0]\n",
      "15\n",
      "[ 15  15  15  15  15  15  16  17  17  16  17  16  17  17  17  20  20  19\n",
      "  22  21  23  22  22  22  23  23  23  24  25  25  25  24  23  25  25  29\n",
      "  33  31  36  35  37  37  37  37  37  37  40  37  41  59  59 111 104 110\n",
      " 122]\n",
      "Halo 122 has no stars, no tangos data has been prepared\n",
      "Halo 110 has no stars, no tangos data has been prepared\n",
      "Halo 104 has no stars, no tangos data has been prepared\n",
      "Halo 111 has no stars, no tangos data has been prepared\n",
      "Halo 59 has no stars, no tangos data has been prepared\n",
      "[15, 15, 15, 15, 15, 15, 16, 17, 17, 16, 17, 16, 17, 17, 17, 20, 20, 19, 22, 21, 23, 22, 22, 22, 23, 23, 23, 24, 25, 25, 25, 24, 23, 25, 25, 29, 33, 31, 36, 35, 37, 37, 37, 37, 37, 37, 40, 37, 41, 59, 0, 0, 0, 0, 0]\n",
      "19\n",
      "[ 19  19  18  18  17  18  18  19  18  17  16  17  18  19  28  31  33  34\n",
      "  34  33  35  33  34  31  31  32  33  35  35  36  36  34  30  27  27  27\n",
      "  31  38  90 106 127 155 152 149 148 147 196 227 188 215 232 519]\n",
      "Halo 519 has no stars, no tangos data has been prepared\n",
      "Halo 232 has no stars, no tangos data has been prepared\n",
      "Halo 215 has no stars, no tangos data has been prepared\n",
      "Halo 188 has no stars, no tangos data has been prepared\n"
     ]
    },
    {
     "ename": "AssertionError",
     "evalue": "Tangos halo 227 does not have NDM > 1000 and Nstar > 0, no tangos data available",
     "output_type": "error",
     "traceback": [
      "\u001b[0;31m--------------------------------\u001b[0m",
      "\u001b[0;31mAssertionError\u001b[0mTraceback (most recent call last)",
      "\u001b[0;32m<ipython-input-26-9ae1dba73626>\u001b[0m in \u001b[0;36m<module>\u001b[0;34m\u001b[0m\n\u001b[1;32m     13\u001b[0m         \u001b[0mhaloids\u001b[0m \u001b[0;34m=\u001b[0m \u001b[0;34m[\u001b[0m\u001b[0;34m]\u001b[0m\u001b[0;34m\u001b[0m\u001b[0;34m\u001b[0m\u001b[0m\n\u001b[1;32m     14\u001b[0m         \u001b[0;32mfor\u001b[0m \u001b[0mi\u001b[0m\u001b[0;34m,\u001b[0m \u001b[0msnapshot\u001b[0m \u001b[0;32min\u001b[0m \u001b[0mzip\u001b[0m\u001b[0;34m(\u001b[0m\u001b[0mhalo_num\u001b[0m\u001b[0;34m,\u001b[0m \u001b[0mabbr_snapshots\u001b[0m\u001b[0;34m)\u001b[0m\u001b[0;34m:\u001b[0m\u001b[0;34m\u001b[0m\u001b[0;34m\u001b[0m\u001b[0m\n\u001b[0;32m---> 15\u001b[0;31m             \u001b[0mnewi\u001b[0m \u001b[0;34m=\u001b[0m \u001b[0mtangos_to_pyn\u001b[0m\u001b[0;34m(\u001b[0m\u001b[0msnapshot\u001b[0m\u001b[0;34m,\u001b[0m\u001b[0mnp\u001b[0m\u001b[0;34m.\u001b[0m\u001b[0marray\u001b[0m\u001b[0;34m(\u001b[0m\u001b[0;34m[\u001b[0m\u001b[0mi\u001b[0m\u001b[0;34m]\u001b[0m\u001b[0;34m)\u001b[0m\u001b[0;34m)\u001b[0m\u001b[0;34m[\u001b[0m\u001b[0;36m0\u001b[0m\u001b[0;34m]\u001b[0m\u001b[0;34m\u001b[0m\u001b[0;34m\u001b[0m\u001b[0m\n\u001b[0m\u001b[1;32m     16\u001b[0m             \u001b[0mhaloids\u001b[0m\u001b[0;34m.\u001b[0m\u001b[0mappend\u001b[0m\u001b[0;34m(\u001b[0m\u001b[0mnewi\u001b[0m\u001b[0;34m)\u001b[0m\u001b[0;34m\u001b[0m\u001b[0;34m\u001b[0m\u001b[0m\n\u001b[1;32m     17\u001b[0m         \u001b[0;31m#     print(',',i, '->', newi)\u001b[0m\u001b[0;34m\u001b[0m\u001b[0;34m\u001b[0m\u001b[0;34m\u001b[0m\u001b[0m\n",
      "\u001b[0;32m<ipython-input-25-a311980697ee>\u001b[0m in \u001b[0;36mtangos_to_pyn\u001b[0;34m(snapshot, tangosids)\u001b[0m\n\u001b[1;32m     14\u001b[0m                               114, 120, 126, 135, 177, 324, 384, 526, 683])\n\u001b[1;32m     15\u001b[0m         \u001b[0;32mfor\u001b[0m \u001b[0mi\u001b[0m \u001b[0;32min\u001b[0m \u001b[0mtangosids\u001b[0m\u001b[0;34m:\u001b[0m\u001b[0;34m\u001b[0m\u001b[0;34m\u001b[0m\u001b[0m\n\u001b[0;32m---> 16\u001b[0;31m             \u001b[0;32massert\u001b[0m \u001b[0mbool\u001b[0m\u001b[0;34m(\u001b[0m\u001b[0mnp\u001b[0m\u001b[0;34m.\u001b[0m\u001b[0misin\u001b[0m\u001b[0;34m(\u001b[0m\u001b[0mi\u001b[0m\u001b[0;34m,\u001b[0m\u001b[0malltangosids\u001b[0m\u001b[0;34m)\u001b[0m\u001b[0;34m)\u001b[0m\u001b[0;34m,\u001b[0m \u001b[0;34mf\"Tangos halo {i} does not have NDM > 1000 and Nstar > 0, no tangos data available\"\u001b[0m\u001b[0;34m\u001b[0m\u001b[0;34m\u001b[0m\u001b[0m\n\u001b[0m\u001b[1;32m     17\u001b[0m         \u001b[0mmatching_indices\u001b[0m \u001b[0;34m=\u001b[0m \u001b[0mnp\u001b[0m\u001b[0;34m.\u001b[0m\u001b[0mwhere\u001b[0m\u001b[0;34m(\u001b[0m\u001b[0mnp\u001b[0m\u001b[0;34m.\u001b[0m\u001b[0misin\u001b[0m\u001b[0;34m(\u001b[0m\u001b[0malltangosids\u001b[0m\u001b[0;34m,\u001b[0m\u001b[0mtangosids\u001b[0m\u001b[0;34m)\u001b[0m\u001b[0;34m)\u001b[0m\u001b[0;34m[\u001b[0m\u001b[0;36m0\u001b[0m\u001b[0;34m]\u001b[0m\u001b[0;34m\u001b[0m\u001b[0;34m\u001b[0m\u001b[0m\n\u001b[1;32m     18\u001b[0m         \u001b[0mpynids\u001b[0m \u001b[0;34m=\u001b[0m \u001b[0mallpynids\u001b[0m\u001b[0;34m[\u001b[0m\u001b[0mmatching_indices\u001b[0m\u001b[0;34m]\u001b[0m\u001b[0;34m\u001b[0m\u001b[0;34m\u001b[0m\u001b[0m\n",
      "\u001b[0;31mAssertionError\u001b[0m: Tangos halo 227 does not have NDM > 1000 and Nstar > 0, no tangos data available"
     ]
    }
   ],
   "source": [
    "tstep = 61\n",
    "\n",
    "for haloid in range(7, nhalos(s.timesteps[tstep])+1):\n",
    "    halo = s.timesteps[61].halos[haloid-1]\n",
    "    if halo['n_star'] > 0:\n",
    "        print(haloid)\n",
    "        halo_num = halo.calculate_for_progenitors('halo_number()')\n",
    "        halo_num = np.flip(halo_num[0])\n",
    "        print(np.flip(halo_num))\n",
    "        abbr_snapshots = snapshots[-len(halo_num):]\n",
    "        assert len(abbr_snapshots) == len(halo_num)\n",
    "\n",
    "        haloids = []\n",
    "        for i, snapshot in zip(halo_num, abbr_snapshots):\n",
    "            newi = tangos_to_pyn(snapshot,np.array([i]))[0]\n",
    "            haloids.append(newi)\n",
    "        #     print(',',i, '->', newi)\n",
    "\n",
    "        haloids = np.flip(np.array(haloids))\n",
    "\n",
    "        print(list(haloids))\n",
    "\n",
    "        if (haloids == np.flip(halo_num)).all():\n",
    "            print('Tangos halo_number() is accurate for pynbody')"
   ]
  },
  {
   "cell_type": "code",
   "execution_count": 17,
   "metadata": {},
   "outputs": [
    {
     "name": "stdout",
     "output_type": "stream",
     "text": [
      "Snapshot # 2554 , 66 -> 66\n",
      "Snapshot # 2592 , 76 -> 76\n",
      "Snapshot # 2688 , 104 -> 104\n",
      "Snapshot # 2784 , 122 -> 122\n",
      "Snapshot # 2880 , 130 -> 130\n",
      "Snapshot # 2976 , 131 -> 131\n",
      "Snapshot # 3072 , 136 -> 136\n",
      "Snapshot # 3168 , 135 -> 135\n",
      "Snapshot # 3195 , 133 -> 133\n",
      "Snapshot # 3264 , 133 -> 133\n",
      "Snapshot # 3360 , 131 -> 131\n",
      "Snapshot # 3456 , 130 -> 130\n",
      "Snapshot # 3552 , 127 -> 127\n",
      "Snapshot # 3606 , 126 -> 126\n",
      "Snapshot # 3648 , 126 -> 126\n",
      "Snapshot # 3744 , 126 -> 126\n",
      "Snapshot # 3840 , 129 -> 129\n",
      "Snapshot # 3936 , 124 -> 124\n",
      "Snapshot # 4032 , 123 -> 123\n",
      "Snapshot # 4096 , 119 -> 119\n",
      "[119 123 124 129 126 126 126 127 130 131 133 133 135 136 131 130 122 104\n",
      "  76  66]\n",
      "Tangos halo_number() is accurate for pynbody\n"
     ]
    }
   ],
   "source": [
    "tstep = 61\n",
    "haloid = 119\n",
    "halo = s.timesteps[61].halos[haloid-1]\n",
    "halo_num = halo.calculate_for_progenitors('halo_number()')\n",
    "halo_num = np.flip(halo_num[0])\n",
    "\n",
    "abbr_snapshots = snapshots[-len(halo_num):]\n",
    "assert len(abbr_snapshots) == len(halo_num)\n",
    "    \n",
    "haloids = []\n",
    "for i, snapshot in zip(halo_num, abbr_snapshots):\n",
    "    newi = tangos_to_pyn(snapshot,np.array([i]))[0]\n",
    "    haloids.append(newi)\n",
    "#     print(',',i, '->', newi)\n",
    "    \n",
    "haloids = np.flip(np.array(haloids))\n",
    "\n",
    "print(list(haloids))\n",
    "\n",
    "if (haloids == np.flip(halo_num)).all():\n",
    "    print('Tangos halo_number() is accurate for pynbody')"
   ]
  },
  {
   "cell_type": "code",
   "execution_count": null,
   "metadata": {},
   "outputs": [],
   "source": []
  },
  {
   "cell_type": "code",
   "execution_count": null,
   "metadata": {},
   "outputs": [],
   "source": []
  },
  {
   "cell_type": "code",
   "execution_count": null,
   "metadata": {},
   "outputs": [],
   "source": []
  },
  {
   "cell_type": "code",
   "execution_count": null,
   "metadata": {},
   "outputs": [],
   "source": []
  },
  {
   "cell_type": "code",
   "execution_count": null,
   "metadata": {},
   "outputs": [],
   "source": []
  },
  {
   "cell_type": "code",
   "execution_count": null,
   "metadata": {},
   "outputs": [],
   "source": []
  },
  {
   "cell_type": "code",
   "execution_count": 73,
   "metadata": {},
   "outputs": [
    {
     "name": "stdout",
     "output_type": "stream",
     "text": [
      "62\n",
      "[1, 7, 10, 13, 15, 19, 27, 29, 31, 32, 49, 55, 91, 94, 116, 119, 131, 132, 154, 443, 490, 786, 1182]\n"
     ]
    }
   ],
   "source": [
    "print(len(s.timesteps))\n",
    "sim = pynbody.load(path+snapshots[61])\n",
    "h = sim.halos()\n",
    "\n",
    "haloids_pyn = []\n",
    "for i in range(1,len(h)):\n",
    "    halo = h[i]\n",
    "    if halo.properties['n_star'] != 0:\n",
    "        haloids_pyn.append(i)\n",
    "        \n",
    "print(haloids_pyn)"
   ]
  },
  {
   "cell_type": "code",
   "execution_count": 68,
   "metadata": {},
   "outputs": [
    {
     "name": "stdout",
     "output_type": "stream",
     "text": [
      "[1, 7, 10, 13, 15, 19, 27, 29, 31, 32, 49, 55, 91, 94, 116, 119, 131, 132, 154, 443, 490]\n"
     ]
    }
   ],
   "source": [
    "\n",
    "\n",
    "haloids_tangos = []\n",
    "for i in range(1,nhalos(s.timesteps[61])+1):\n",
    "    halo = s.timesteps[61].halos[i-1]\n",
    "    if halo['n_star'] != 0:\n",
    "        haloids_tangos.append(i)\n",
    "\n",
    "print(haloids_tangos)"
   ]
  },
  {
   "cell_type": "code",
   "execution_count": 69,
   "metadata": {},
   "outputs": [
    {
     "data": {
      "text/plain": [
       "False"
      ]
     },
     "execution_count": 69,
     "metadata": {},
     "output_type": "execute_result"
    }
   ],
   "source": [
    "haloids_pyn == haloids_tangos"
   ]
  },
  {
   "cell_type": "code",
   "execution_count": null,
   "metadata": {},
   "outputs": [],
   "source": []
  },
  {
   "cell_type": "code",
   "execution_count": null,
   "metadata": {},
   "outputs": [],
   "source": []
  },
  {
   "cell_type": "code",
   "execution_count": null,
   "metadata": {},
   "outputs": [],
   "source": []
  },
  {
   "cell_type": "code",
   "execution_count": null,
   "metadata": {},
   "outputs": [],
   "source": []
  },
  {
   "cell_type": "code",
   "execution_count": null,
   "metadata": {},
   "outputs": [],
   "source": []
  }
 ],
 "metadata": {
  "kernelspec": {
   "display_name": "Python 3",
   "language": "python",
   "name": "python3"
  },
  "language_info": {
   "codemirror_mode": {
    "name": "ipython",
    "version": 3
   },
   "file_extension": ".py",
   "mimetype": "text/x-python",
   "name": "python",
   "nbconvert_exporter": "python",
   "pygments_lexer": "ipython3",
   "version": "3.7.3"
  }
 },
 "nbformat": 4,
 "nbformat_minor": 2
}
