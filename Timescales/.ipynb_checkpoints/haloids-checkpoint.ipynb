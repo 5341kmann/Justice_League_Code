{
 "cells": [
  {
   "cell_type": "code",
   "execution_count": 21,
   "metadata": {},
   "outputs": [],
   "source": [
    "import numpy as np\n",
    "import matplotlib.pyplot as plt\n",
    "import matplotlib as mpl\n",
    "import pynbody\n",
    "import pickle\n",
    "\n",
    "mpl.rc('font',**{'family':'serif','monospace':['Palatino']})\n",
    "mpl.rc('text', usetex=True)\n",
    "mpl.rcParams.update({'font.size': 9})\n",
    "\n",
    "pynbody.config['halo-class-priority'] =  [pynbody.halo.ahf.AHFCatalogue,\n",
    "                                          pynbody.halo.GrpCatalogue,\n",
    "                                          pynbody.halo.AmigaGrpCatalogue,\n",
    "                                          pynbody.halo.legacy.RockstarIntermediateCatalogue,\n",
    "                                          pynbody.halo.rockstar.RockstarCatalogue,\n",
    "                                          pynbody.halo.subfind.SubfindCatalogue,\n",
    "                                          pynbody.halo.hop.HOPCatalogue]"
   ]
  },
  {
   "cell_type": "code",
   "execution_count": 38,
   "metadata": {},
   "outputs": [
    {
     "name": "stdout",
     "output_type": "stream",
     "text": [
      "16410\n"
     ]
    }
   ],
   "source": [
    "s = pynbody.load('/home/christenc/Data/Sims/h148.cosmo50PLK.3072g/h148.cosmo50PLK.3072g3HbwK1BH/snapshots/h148.cosmo50PLK.3072g3HbwK1BH.004096')\n",
    "s.physical_units()\n",
    "h = s.halos()\n",
    "print(len(h))"
   ]
  },
  {
   "cell_type": "code",
   "execution_count": 39,
   "metadata": {},
   "outputs": [
    {
     "name": "stdout",
     "output_type": "stream",
     "text": [
      "Halo ids for bulk processing\n",
      "[1, 2, 3, 4, 6, 7, 10, 11, 12, 13, 15, 21, 23, 27, 28, 29, 33, 34, 36, 38, 39, 44, 48, 52, 53, 54, 62, 69, 90, 98, 116, 121, 132, 133, 150, 189, 217, 223, 234, 244, 263, 290, 306, 367, 380, 436, 438, 563, 653, 709, 779, 901, 932, 1090, 1101, 1292, 2297, 4803, 14068]\n",
      "halo ids for merger trees\n",
      "[1, 2, 3, 4, 6, 7, 10, 11, 12, 13, 15, 21, 23, 27, 28, 29, 33, 34, 36, 38, 39, 44, 48, 52, 53, 54, 62, 69, 90, 98, 116, 121, 132, 133, 150, 189, 217, 223, 234, 244, 263, 290, 306, 367, 380, 436, 438, 563, 653, 709, 779, 901, 932, 1090]\n"
     ]
    }
   ],
   "source": [
    "ids1,ids2,ids3 = [],[],[]\n",
    "for halo in h:\n",
    "    if len(halo.s) != 0 and halo.properties['fMhires'] > 0.9:\n",
    "        ids1.append(halo.properties['halo_id'])\n",
    "        if len(halo.dm)>1000:\n",
    "            ids2.append(halo.properties['halo_id'])\n",
    "        \n",
    "print('Halo ids for bulk processing')\n",
    "print(ids1)\n",
    "print('halo ids for merger trees')\n",
    "print(ids2)"
   ]
  },
  {
   "cell_type": "code",
   "execution_count": null,
   "metadata": {},
   "outputs": [],
   "source": []
  },
  {
   "cell_type": "code",
   "execution_count": null,
   "metadata": {},
   "outputs": [],
   "source": []
  },
  {
   "cell_type": "code",
   "execution_count": 4,
   "metadata": {},
   "outputs": [
    {
     "data": {
      "text/plain": [
       "[<Simulation(\"snapshots\")>]"
      ]
     },
     "execution_count": 4,
     "metadata": {},
     "output_type": "execute_result"
    }
   ],
   "source": [
    "import os\n",
    "os.environ['TANGOS_DB_CONNECTION'] = '/home/akinshol/Data/Timescales/TangosData/h148.db'\n",
    "import tangos\n",
    "tangos.all_simulations()"
   ]
  },
  {
   "cell_type": "code",
   "execution_count": 5,
   "metadata": {},
   "outputs": [
    {
     "data": {
      "text/plain": [
       "[<TimeStep 'snapshots/h242.cosmo50PLK.3072gst5HbwK1BH.000071' z=15.93 t=0.25 Gyr>,\n",
       " <TimeStep 'snapshots/h242.cosmo50PLK.3072gst5HbwK1BH.000096' z=12.94 t=0.33 Gyr>,\n",
       " <TimeStep 'snapshots/h242.cosmo50PLK.3072gst5HbwK1BH.000107' z=11.99 t=0.37 Gyr>,\n",
       " <TimeStep 'snapshots/h242.cosmo50PLK.3072gst5HbwK1BH.000139' z=9.95 t=0.48 Gyr>,\n",
       " <TimeStep 'snapshots/h242.cosmo50PLK.3072gst5HbwK1BH.000188' z=7.99 t=0.64 Gyr>,\n",
       " <TimeStep 'snapshots/h242.cosmo50PLK.3072gst5HbwK1BH.000192' z=7.86 t=0.66 Gyr>,\n",
       " <TimeStep 'snapshots/h242.cosmo50PLK.3072gst5HbwK1BH.000225' z=6.98 t=0.77 Gyr>,\n",
       " <TimeStep 'snapshots/h242.cosmo50PLK.3072gst5HbwK1BH.000275' z=5.99 t=0.94 Gyr>,\n",
       " <TimeStep 'snapshots/h242.cosmo50PLK.3072gst5HbwK1BH.000288' z=5.78 t=0.98 Gyr>,\n",
       " <TimeStep 'snapshots/h242.cosmo50PLK.3072gst5HbwK1BH.000347' z=4.99 t=1.18 Gyr>,\n",
       " <TimeStep 'snapshots/h242.cosmo50PLK.3072gst5HbwK1BH.000384' z=4.60 t=1.30 Gyr>,\n",
       " <TimeStep 'snapshots/h242.cosmo50PLK.3072gst5HbwK1BH.000456' z=4.00 t=1.54 Gyr>,\n",
       " <TimeStep 'snapshots/h242.cosmo50PLK.3072gst5HbwK1BH.000480' z=3.83 t=1.63 Gyr>,\n",
       " <TimeStep 'snapshots/h242.cosmo50PLK.3072gst5HbwK1BH.000576' z=3.28 t=1.95 Gyr>,\n",
       " <TimeStep 'snapshots/h242.cosmo50PLK.3072gst5HbwK1BH.000637' z=3.00 t=2.15 Gyr>,\n",
       " <TimeStep 'snapshots/h242.cosmo50PLK.3072gst5HbwK1BH.000672' z=2.86 t=2.27 Gyr>,\n",
       " <TimeStep 'snapshots/h242.cosmo50PLK.3072gst5HbwK1BH.000768' z=2.52 t=2.60 Gyr>,\n",
       " <TimeStep 'snapshots/h242.cosmo50PLK.3072gst5HbwK1BH.000776' z=2.50 t=2.62 Gyr>,\n",
       " <TimeStep 'snapshots/h242.cosmo50PLK.3072gst5HbwK1BH.000864' z=2.25 t=2.92 Gyr>,\n",
       " <TimeStep 'snapshots/h242.cosmo50PLK.3072gst5HbwK1BH.000960' z=2.03 t=3.24 Gyr>,\n",
       " <TimeStep 'snapshots/h242.cosmo50PLK.3072gst5HbwK1BH.000974' z=2.00 t=3.29 Gyr>,\n",
       " <TimeStep 'snapshots/h242.cosmo50PLK.3072gst5HbwK1BH.001056' z=1.84 t=3.57 Gyr>,\n",
       " <TimeStep 'snapshots/h242.cosmo50PLK.3072gst5HbwK1BH.001106' z=1.75 t=3.73 Gyr>,\n",
       " <TimeStep 'snapshots/h242.cosmo50PLK.3072gst5HbwK1BH.001152' z=1.67 t=3.89 Gyr>,\n",
       " <TimeStep 'snapshots/h242.cosmo50PLK.3072gst5HbwK1BH.001248' z=1.53 t=4.21 Gyr>,\n",
       " <TimeStep 'snapshots/h242.cosmo50PLK.3072gst5HbwK1BH.001269' z=1.50 t=4.28 Gyr>,\n",
       " <TimeStep 'snapshots/h242.cosmo50PLK.3072gst5HbwK1BH.001344' z=1.40 t=4.53 Gyr>,\n",
       " <TimeStep 'snapshots/h242.cosmo50PLK.3072gst5HbwK1BH.001440' z=1.29 t=4.86 Gyr>,\n",
       " <TimeStep 'snapshots/h242.cosmo50PLK.3072gst5HbwK1BH.001475' z=1.25 t=4.98 Gyr>,\n",
       " <TimeStep 'snapshots/h242.cosmo50PLK.3072gst5HbwK1BH.001536' z=1.19 t=5.18 Gyr>,\n",
       " <TimeStep 'snapshots/h242.cosmo50PLK.3072gst5HbwK1BH.001632' z=1.09 t=5.50 Gyr>,\n",
       " <TimeStep 'snapshots/h242.cosmo50PLK.3072gst5HbwK1BH.001728' z=1.01 t=5.83 Gyr>,\n",
       " <TimeStep 'snapshots/h242.cosmo50PLK.3072gst5HbwK1BH.001740' z=1.00 t=5.87 Gyr>,\n",
       " <TimeStep 'snapshots/h242.cosmo50PLK.3072gst5HbwK1BH.001824' z=0.93 t=6.15 Gyr>,\n",
       " <TimeStep 'snapshots/h242.cosmo50PLK.3072gst5HbwK1BH.001920' z=0.86 t=6.47 Gyr>,\n",
       " <TimeStep 'snapshots/h242.cosmo50PLK.3072gst5HbwK1BH.002016' z=0.80 t=6.80 Gyr>,\n",
       " <TimeStep 'snapshots/h242.cosmo50PLK.3072gst5HbwK1BH.002088' z=0.75 t=7.04 Gyr>,\n",
       " <TimeStep 'snapshots/h242.cosmo50PLK.3072gst5HbwK1BH.002112' z=0.73 t=7.12 Gyr>,\n",
       " <TimeStep 'snapshots/h242.cosmo50PLK.3072gst5HbwK1BH.002208' z=0.68 t=7.44 Gyr>,\n",
       " <TimeStep 'snapshots/h242.cosmo50PLK.3072gst5HbwK1BH.002304' z=0.62 t=7.77 Gyr>,\n",
       " <TimeStep 'snapshots/h242.cosmo50PLK.3072gst5HbwK1BH.002400' z=0.57 t=8.09 Gyr>,\n",
       " <TimeStep 'snapshots/h242.cosmo50PLK.3072gst5HbwK1BH.002496' z=0.53 t=8.41 Gyr>,\n",
       " <TimeStep 'snapshots/h242.cosmo50PLK.3072gst5HbwK1BH.002554' z=0.50 t=8.61 Gyr>,\n",
       " <TimeStep 'snapshots/h242.cosmo50PLK.3072gst5HbwK1BH.002592' z=0.48 t=8.74 Gyr>,\n",
       " <TimeStep 'snapshots/h242.cosmo50PLK.3072gst5HbwK1BH.002688' z=0.44 t=9.06 Gyr>,\n",
       " <TimeStep 'snapshots/h242.cosmo50PLK.3072gst5HbwK1BH.002784' z=0.40 t=9.38 Gyr>,\n",
       " <TimeStep 'snapshots/h242.cosmo50PLK.3072gst5HbwK1BH.002880' z=0.36 t=9.71 Gyr>,\n",
       " <TimeStep 'snapshots/h242.cosmo50PLK.3072gst5HbwK1BH.002976' z=0.33 t=10.03 Gyr>,\n",
       " <TimeStep 'snapshots/h242.cosmo50PLK.3072gst5HbwK1BH.003072' z=0.29 t=10.35 Gyr>,\n",
       " <TimeStep 'snapshots/h242.cosmo50PLK.3072gst5HbwK1BH.003168' z=0.26 t=10.68 Gyr>,\n",
       " <TimeStep 'snapshots/h242.cosmo50PLK.3072gst5HbwK1BH.003195' z=0.25 t=10.77 Gyr>,\n",
       " <TimeStep 'snapshots/h242.cosmo50PLK.3072gst5HbwK1BH.003264' z=0.23 t=11.00 Gyr>,\n",
       " <TimeStep 'snapshots/h242.cosmo50PLK.3072gst5HbwK1BH.003360' z=0.20 t=11.32 Gyr>,\n",
       " <TimeStep 'snapshots/h242.cosmo50PLK.3072gst5HbwK1BH.003456' z=0.17 t=11.65 Gyr>,\n",
       " <TimeStep 'snapshots/h242.cosmo50PLK.3072gst5HbwK1BH.003552' z=0.14 t=11.97 Gyr>,\n",
       " <TimeStep 'snapshots/h242.cosmo50PLK.3072gst5HbwK1BH.003606' z=0.12 t=12.15 Gyr>,\n",
       " <TimeStep 'snapshots/h242.cosmo50PLK.3072gst5HbwK1BH.003648' z=0.11 t=12.29 Gyr>,\n",
       " <TimeStep 'snapshots/h242.cosmo50PLK.3072gst5HbwK1BH.003744' z=0.09 t=12.62 Gyr>,\n",
       " <TimeStep 'snapshots/h242.cosmo50PLK.3072gst5HbwK1BH.003840' z=0.06 t=12.94 Gyr>,\n",
       " <TimeStep 'snapshots/h242.cosmo50PLK.3072gst5HbwK1BH.003936' z=0.04 t=13.26 Gyr>,\n",
       " <TimeStep 'snapshots/h242.cosmo50PLK.3072gst5HbwK1BH.004032' z=0.02 t=13.59 Gyr>,\n",
       " <TimeStep 'snapshots/h242.cosmo50PLK.3072gst5HbwK1BH.004096' z=0.00 t=13.80 Gyr>]"
      ]
     },
     "execution_count": 5,
     "metadata": {},
     "output_type": "execute_result"
    }
   ],
   "source": [
    "s = tangos.get_simulation('snapshots')\n",
    "s.timesteps"
   ]
  },
  {
   "cell_type": "code",
   "execution_count": 6,
   "metadata": {},
   "outputs": [],
   "source": [
    "snapshots = ['h242.cosmo50PLK.3072gst5HbwK1BH.004096',\n",
    "             'h242.cosmo50PLK.3072gst5HbwK1BH.004032',\n",
    "             'h242.cosmo50PLK.3072gst5HbwK1BH.003936',\n",
    "             'h242.cosmo50PLK.3072gst5HbwK1BH.003840',\n",
    "             'h242.cosmo50PLK.3072gst5HbwK1BH.003744',\n",
    "             'h242.cosmo50PLK.3072gst5HbwK1BH.003648',\n",
    "             'h242.cosmo50PLK.3072gst5HbwK1BH.003606',\n",
    "             'h242.cosmo50PLK.3072gst5HbwK1BH.003552',\n",
    "             'h242.cosmo50PLK.3072gst5HbwK1BH.003456',\n",
    "             'h242.cosmo50PLK.3072gst5HbwK1BH.003360',\n",
    "             'h242.cosmo50PLK.3072gst5HbwK1BH.003264',\n",
    "             'h242.cosmo50PLK.3072gst5HbwK1BH.003195',\n",
    "             'h242.cosmo50PLK.3072gst5HbwK1BH.003168',\n",
    "             'h242.cosmo50PLK.3072gst5HbwK1BH.003072',\n",
    "             'h242.cosmo50PLK.3072gst5HbwK1BH.002976',\n",
    "             'h242.cosmo50PLK.3072gst5HbwK1BH.002880',\n",
    "             'h242.cosmo50PLK.3072gst5HbwK1BH.002784',\n",
    "             'h242.cosmo50PLK.3072gst5HbwK1BH.002688',\n",
    "             'h242.cosmo50PLK.3072gst5HbwK1BH.002592',\n",
    "             'h242.cosmo50PLK.3072gst5HbwK1BH.002554',\n",
    "             'h242.cosmo50PLK.3072gst5HbwK1BH.002496',\n",
    "             'h242.cosmo50PLK.3072gst5HbwK1BH.002400',\n",
    "             'h242.cosmo50PLK.3072gst5HbwK1BH.002304',\n",
    "             'h242.cosmo50PLK.3072gst5HbwK1BH.002208',\n",
    "             'h242.cosmo50PLK.3072gst5HbwK1BH.002112',\n",
    "             'h242.cosmo50PLK.3072gst5HbwK1BH.002088',\n",
    "             'h242.cosmo50PLK.3072gst5HbwK1BH.002016',\n",
    "             'h242.cosmo50PLK.3072gst5HbwK1BH.001920',\n",
    "             'h242.cosmo50PLK.3072gst5HbwK1BH.001824',\n",
    "             'h242.cosmo50PLK.3072gst5HbwK1BH.001740',\n",
    "             'h242.cosmo50PLK.3072gst5HbwK1BH.001728',\n",
    "             'h242.cosmo50PLK.3072gst5HbwK1BH.001632',\n",
    "             'h242.cosmo50PLK.3072gst5HbwK1BH.001536',\n",
    "             'h242.cosmo50PLK.3072gst5HbwK1BH.001475',\n",
    "             'h242.cosmo50PLK.3072gst5HbwK1BH.001440',\n",
    "             'h242.cosmo50PLK.3072gst5HbwK1BH.001344',\n",
    "             'h242.cosmo50PLK.3072gst5HbwK1BH.001269',\n",
    "             'h242.cosmo50PLK.3072gst5HbwK1BH.001248',\n",
    "             'h242.cosmo50PLK.3072gst5HbwK1BH.001152',\n",
    "             'h242.cosmo50PLK.3072gst5HbwK1BH.001106',\n",
    "             'h242.cosmo50PLK.3072gst5HbwK1BH.001056',\n",
    "             'h242.cosmo50PLK.3072gst5HbwK1BH.000974',\n",
    "             'h242.cosmo50PLK.3072gst5HbwK1BH.000960',\n",
    "             'h242.cosmo50PLK.3072gst5HbwK1BH.000864',\n",
    "             'h242.cosmo50PLK.3072gst5HbwK1BH.000776',\n",
    "             'h242.cosmo50PLK.3072gst5HbwK1BH.000768',\n",
    "             'h242.cosmo50PLK.3072gst5HbwK1BH.000672',\n",
    "             'h242.cosmo50PLK.3072gst5HbwK1BH.000637',\n",
    "             'h242.cosmo50PLK.3072gst5HbwK1BH.000576',\n",
    "             'h242.cosmo50PLK.3072gst5HbwK1BH.000480',\n",
    "             'h242.cosmo50PLK.3072gst5HbwK1BH.000456',\n",
    "             'h242.cosmo50PLK.3072gst5HbwK1BH.000384',\n",
    "             'h242.cosmo50PLK.3072gst5HbwK1BH.000347',\n",
    "             'h242.cosmo50PLK.3072gst5HbwK1BH.000288',\n",
    "             'h242.cosmo50PLK.3072gst5HbwK1BH.000275',\n",
    "             'h242.cosmo50PLK.3072gst5HbwK1BH.000225',\n",
    "             'h242.cosmo50PLK.3072gst5HbwK1BH.000192',\n",
    "             'h242.cosmo50PLK.3072gst5HbwK1BH.000188',\n",
    "             'h242.cosmo50PLK.3072gst5HbwK1BH.000139',\n",
    "             'h242.cosmo50PLK.3072gst5HbwK1BH.000107',\n",
    "             'h242.cosmo50PLK.3072gst5HbwK1BH.000096',\n",
    "             'h242.cosmo50PLK.3072gst5HbwK1BH.000071']\n",
    "\n",
    "path = '/home/christenc/Data/Sims/h242.cosmo50PLK.3072g/h242.cosmo50PLK.3072gst5HbwK1BH/snapshots/'"
   ]
  },
  {
   "cell_type": "code",
   "execution_count": 7,
   "metadata": {},
   "outputs": [
    {
     "name": "stdout",
     "output_type": "stream",
     "text": [
      "h242.cosmo50PLK.3072gst5HbwK1BH.004096\n",
      "h242.cosmo50PLK.3072gst5HbwK1BH.004032\n",
      "h242.cosmo50PLK.3072gst5HbwK1BH.003936\n",
      "h242.cosmo50PLK.3072gst5HbwK1BH.003840\n",
      "h242.cosmo50PLK.3072gst5HbwK1BH.003744\n",
      "h242.cosmo50PLK.3072gst5HbwK1BH.003648\n"
     ]
    },
    {
     "name": "stderr",
     "output_type": "stream",
     "text": [
      "/home/akinshol/anaconda3/envs/py37/lib/python3.7/site-packages/sqlalchemy/ext/declarative/clsregistry.py:129: SAWarning: This declarative base already contains a class with the same class name and module name as tangos.relation_finding.multi_hop.MultiHopHaloLink_ivhc, and will be replaced in the string-lookup table.\n",
      "  % (item.__module__, item.__name__)\n"
     ]
    },
    {
     "name": "stdout",
     "output_type": "stream",
     "text": [
      "h242.cosmo50PLK.3072gst5HbwK1BH.003606\n",
      "h242.cosmo50PLK.3072gst5HbwK1BH.003552\n",
      "h242.cosmo50PLK.3072gst5HbwK1BH.003456\n",
      "h242.cosmo50PLK.3072gst5HbwK1BH.003360\n",
      "h242.cosmo50PLK.3072gst5HbwK1BH.003264\n",
      "h242.cosmo50PLK.3072gst5HbwK1BH.003195\n",
      "h242.cosmo50PLK.3072gst5HbwK1BH.003168\n",
      "h242.cosmo50PLK.3072gst5HbwK1BH.003072\n",
      "h242.cosmo50PLK.3072gst5HbwK1BH.002976\n",
      "h242.cosmo50PLK.3072gst5HbwK1BH.002880\n",
      "h242.cosmo50PLK.3072gst5HbwK1BH.002784\n",
      "h242.cosmo50PLK.3072gst5HbwK1BH.002688\n",
      "h242.cosmo50PLK.3072gst5HbwK1BH.002592\n",
      "h242.cosmo50PLK.3072gst5HbwK1BH.002554\n",
      "h242.cosmo50PLK.3072gst5HbwK1BH.002496\n",
      "h242.cosmo50PLK.3072gst5HbwK1BH.002400\n",
      "h242.cosmo50PLK.3072gst5HbwK1BH.002304\n",
      "h242.cosmo50PLK.3072gst5HbwK1BH.002208\n"
     ]
    },
    {
     "name": "stderr",
     "output_type": "stream",
     "text": [
      "/home/akinshol/anaconda3/envs/py37/lib/python3.7/site-packages/sqlalchemy/ext/declarative/clsregistry.py:129: SAWarning: This declarative base already contains a class with the same class name and module name as tangos.relation_finding.multi_hop.MultiHopHaloLink_eqqn, and will be replaced in the string-lookup table.\n",
      "  % (item.__module__, item.__name__)\n"
     ]
    },
    {
     "name": "stdout",
     "output_type": "stream",
     "text": [
      "h242.cosmo50PLK.3072gst5HbwK1BH.002112\n",
      "h242.cosmo50PLK.3072gst5HbwK1BH.002088\n",
      "h242.cosmo50PLK.3072gst5HbwK1BH.002016\n",
      "h242.cosmo50PLK.3072gst5HbwK1BH.001920\n",
      "h242.cosmo50PLK.3072gst5HbwK1BH.001824\n",
      "h242.cosmo50PLK.3072gst5HbwK1BH.001740\n",
      "h242.cosmo50PLK.3072gst5HbwK1BH.001728\n",
      "h242.cosmo50PLK.3072gst5HbwK1BH.001632\n",
      "h242.cosmo50PLK.3072gst5HbwK1BH.001536\n",
      "h242.cosmo50PLK.3072gst5HbwK1BH.001475\n",
      "h242.cosmo50PLK.3072gst5HbwK1BH.001440\n",
      "h242.cosmo50PLK.3072gst5HbwK1BH.001344\n",
      "h242.cosmo50PLK.3072gst5HbwK1BH.001269\n",
      "h242.cosmo50PLK.3072gst5HbwK1BH.001248\n",
      "h242.cosmo50PLK.3072gst5HbwK1BH.001152\n",
      "h242.cosmo50PLK.3072gst5HbwK1BH.001106\n",
      "h242.cosmo50PLK.3072gst5HbwK1BH.001056\n",
      "h242.cosmo50PLK.3072gst5HbwK1BH.000974\n",
      "h242.cosmo50PLK.3072gst5HbwK1BH.000960\n",
      "h242.cosmo50PLK.3072gst5HbwK1BH.000864\n",
      "h242.cosmo50PLK.3072gst5HbwK1BH.000776\n",
      "h242.cosmo50PLK.3072gst5HbwK1BH.000768\n"
     ]
    },
    {
     "name": "stderr",
     "output_type": "stream",
     "text": [
      "/home/akinshol/anaconda3/envs/py37/lib/python3.7/site-packages/sqlalchemy/ext/declarative/clsregistry.py:129: SAWarning: This declarative base already contains a class with the same class name and module name as tangos.relation_finding.multi_hop.MultiHopHaloLink_hpxr, and will be replaced in the string-lookup table.\n",
      "  % (item.__module__, item.__name__)\n"
     ]
    },
    {
     "name": "stdout",
     "output_type": "stream",
     "text": [
      "h242.cosmo50PLK.3072gst5HbwK1BH.000672\n",
      "h242.cosmo50PLK.3072gst5HbwK1BH.000637\n",
      "h242.cosmo50PLK.3072gst5HbwK1BH.000576\n",
      "h242.cosmo50PLK.3072gst5HbwK1BH.000480\n",
      "h242.cosmo50PLK.3072gst5HbwK1BH.000456\n",
      "h242.cosmo50PLK.3072gst5HbwK1BH.000384\n",
      "h242.cosmo50PLK.3072gst5HbwK1BH.000347\n",
      "h242.cosmo50PLK.3072gst5HbwK1BH.000288\n",
      "h242.cosmo50PLK.3072gst5HbwK1BH.000275\n",
      "h242.cosmo50PLK.3072gst5HbwK1BH.000225\n",
      "h242.cosmo50PLK.3072gst5HbwK1BH.000192\n",
      "h242.cosmo50PLK.3072gst5HbwK1BH.000188\n",
      "h242.cosmo50PLK.3072gst5HbwK1BH.000139\n",
      "h242.cosmo50PLK.3072gst5HbwK1BH.000107\n",
      "h242.cosmo50PLK.3072gst5HbwK1BH.000096\n"
     ]
    },
    {
     "name": "stderr",
     "output_type": "stream",
     "text": [
      "/home/akinshol/anaconda3/envs/py37/lib/python3.7/site-packages/sqlalchemy/ext/declarative/clsregistry.py:129: SAWarning: This declarative base already contains a class with the same class name and module name as tangos.relation_finding.multi_hop.MultiHopHaloLink_jfza, and will be replaced in the string-lookup table.\n",
      "  % (item.__module__, item.__name__)\n"
     ]
    },
    {
     "name": "stdout",
     "output_type": "stream",
     "text": [
      "h242.cosmo50PLK.3072gst5HbwK1BH.000071\n"
     ]
    },
    {
     "name": "stderr",
     "output_type": "stream",
     "text": [
      "/home/akinshol/anaconda3/envs/py37/lib/python3.7/site-packages/sqlalchemy/ext/declarative/clsregistry.py:129: SAWarning: This declarative base already contains a class with the same class name and module name as tangos.relation_finding.multi_hop.MultiHopHaloLink_yzcj, and will be replaced in the string-lookup table.\n",
      "  % (item.__module__, item.__name__)\n"
     ]
    }
   ],
   "source": [
    "\n",
    "for tstep in range(len(snapshots)):\n",
    "    snapshot = snapshots[tstep]\n",
    "    print(snapshot)\n",
    "    sim = pynbody.load(path+snapshot)\n",
    "    sim.physical_units()\n",
    "    h = sim.halos()\n",
    "    \n",
    "    for z0haloid in ids2:\n",
    "        halo = s.timesteps[-1].halos[z0haloid-1]\n",
    "        haloids, ndms = halo.calculate_for_progenitors('halo_number()', 'NDM()')\n",
    "        try:\n",
    "            haloid = haloids[tstep]\n",
    "        except:\n",
    "            continue\n",
    "        ndm = ndms[tstep]\n",
    "        pyn_ndm = len(h[haloid].dm)\n",
    "        if ndm != pyn_ndm:\n",
    "            print(f'z = 0 haloid {z0haloid}, tangos NDM, {ndm}, pynbody {pyn_ndm}')\n",
    "        \n",
    "    "
   ]
  },
  {
   "cell_type": "code",
   "execution_count": 26,
   "metadata": {},
   "outputs": [
    {
     "data": {
      "text/plain": [
       "2790"
      ]
     },
     "execution_count": 26,
     "metadata": {},
     "output_type": "execute_result"
    }
   ],
   "source": [
    "pyn_ndm"
   ]
  },
  {
   "cell_type": "code",
   "execution_count": 27,
   "metadata": {},
   "outputs": [
    {
     "name": "stdout",
     "output_type": "stream",
     "text": [
      "12230\n"
     ]
    }
   ],
   "source": [
    "sim = pynbody.load(path+snapshots[0])\n",
    "h = sim.halos()\n",
    "print(len(h))"
   ]
  },
  {
   "cell_type": "code",
   "execution_count": 8,
   "metadata": {},
   "outputs": [
    {
     "name": "stdout",
     "output_type": "stream",
     "text": [
      "1: [1, 1, 1, 1, 1, 1, 1, 1, 1, 1, 1, 1, 1, 1, 1, 1, 1, 1, 1, 1, 1, 1, 1, 1, 1, 1, 1, 1, 1, 1, 1, 1, 1, 1, 1, 1, 1, 1, 1, 1, 1, 1, 1, 1, 1, 1, 1, 1, 1, 1, 1, 1, 1, 1, 1, 2, 2, 2, 4, 4, 3, 2],\n",
      "4: [4],\n",
      "7: [7, 5, 5, 6, 6, 5, 5, 5, 4, 7, 4, 6, 6, 5, 6, 8, 8, 10, 9, 9, 11, 12, 11, 13, 12, 10, 10, 13, 12, 12, 12, 12, 11, 13, 12, 12, 14, 16, 36, 42, 38, 32, 33, 24, 26, 27, 36, 41, 60, 64, 64, 82, 89, 95, 96, 120, 131, 136, 142],\n",
      "10: [10, 9, 8, 9, 9, 6, 6, 7, 7, 4],\n",
      "11: [11, 10, 10, 10, 11, 11, 11, 11, 11, 11, 10, 11, 11, 11, 11, 11, 13, 13, 14, 14, 15, 15, 14, 38, 15, 13, 14, 16, 15, 16, 16, 16, 13, 10, 10, 15, 21, 25, 63, 31, 40, 16, 17, 36, 41, 42, 65, 77, 74, 90, 90, 100, 109, 141, 143, 167],\n",
      "12: [12, 11, 11, 12, 14, 16, 16, 16, 17, 17, 16, 17, 18, 17, 17, 17, 16, 16, 15, 15, 14, 11, 7, 7, 8, 8, 12, 17, 17, 20, 21, 21, 21, 21, 21, 21, 19, 21, 22, 25, 33, 36, 37, 39, 37, 37, 41, 822, 328],\n",
      "20: [20, 19, 20, 19, 21, 22, 22, 22, 22, 25, 26, 27, 27, 27, 26, 25, 25, 25, 25, 26, 25, 24, 24, 22, 24, 24, 26, 33, 35, 35, 35, 32, 27, 22, 23, 23, 24, 30, 61, 72, 73, 76, 78, 77, 78, 79, 103, 107, 111],\n",
      "21: [21, 20, 21, 20, 20, 20, 21, 21, 21, 21, 19, 21, 22, 22, 21, 22, 21, 19, 18, 19, 19, 18, 19, 17, 18, 17, 18, 20, 18, 19, 19, 19, 19, 18, 18, 17, 15, 17, 17, 20, 17, 18, 19, 19, 20, 20, 21, 22, 26, 28, 31, 27, 24, 32, 31, 24, 21, 21, 14, 12, 16, 17],\n",
      "27: [27, 25, 24, 24, 26, 27, 27, 27, 26, 28, 25, 26, 25, 24, 22, 20, 19, 18, 19, 18, 18, 19, 20, 19, 19, 18, 19, 18, 16, 17, 17, 17, 16, 15, 15, 13, 13, 15, 13, 14, 13, 13, 14, 13, 15, 15, 15, 15, 16, 18, 18, 18, 18, 14, 14, 10, 9, 9, 8, 6, 5, 4],\n",
      "31: [31, 30, 32, 31, 31, 32, 32, 33, 32, 33, 30, 31, 31, 32, 32, 32, 32, 33, 35, 35, 33, 32, 30, 28, 29, 27, 28, 27, 24, 24, 24, 23, 23, 23, 24, 25, 20, 22, 21, 24, 20, 23, 23, 21, 22, 22, 23, 24, 28, 32, 32, 37, 37, 39, 40, 38, 25, 25, 17, 11, 15, 28],\n",
      "35: [35, 32, 27, 27, 34, 21, 20, 18, 18, 18, 17, 19, 19, 20, 20, 19, 20, 20, 21, 21, 20, 20, 21, 20, 21, 20, 21, 26, 26, 28, 28, 28, 29, 29, 29, 30, 29, 29, 31, 39, 37, 31, 31, 25, 24, 24, 33, 40, 62, 73, 73, 78, 78, 77, 73, 73, 64, 62, 41, 28, 27],\n",
      "36: [36, 34, 35, 37, 37, 37, 37, 37, 37, 37, 34, 36, 37, 37, 37, 37, 36, 37, 39, 40, 40, 38, 36, 35, 38, 36, 36, 38, 37, 37, 37, 35, 34, 33, 33, 33, 32, 33, 33, 43, 42, 37, 36, 33, 33, 33, 35, 38, 42, 47, 46, 47, 49, 50, 51, 59, 59, 58, 47, 46, 51],\n",
      "37: [37, 35, 38, 38, 38, 39, 39, 39, 38, 38, 36, 38, 39, 39, 39, 39, 40, 40, 40, 41, 41, 40, 40, 37, 41, 38, 39, 41, 39, 39, 39, 38, 35, 37, 35, 37, 34, 35, 39, 46, 43, 44, 45, 43, 39, 39, 39, 43, 46, 54, 52, 55, 55, 59, 57, 51, 44, 42, 31, 26, 26],\n",
      "45: [45, 44, 45, 44, 46, 44, 45, 45, 44, 45, 45, 46, 46, 47, 47, 46, 47, 48, 51, 49, 48, 48, 47, 47, 52, 51, 51, 53, 52, 51, 50, 45, 44, 42, 43, 45, 44, 45, 44, 51, 49, 51, 52, 44, 42, 41, 42, 47, 49, 55, 53, 52, 51, 54, 54, 54, 42, 41, 36, 31, 28, 26],\n",
      "47: [47, 47, 46, 49, 52, 52, 51, 51, 50, 50, 49, 51, 52, 53, 53, 53, 53, 53, 55, 55, 55, 57, 54, 52, 54, 53, 53, 54, 56, 58, 58, 59, 58, 60, 60, 62, 65, 67, 71, 75, 72, 70, 71, 71, 67, 67, 58, 62, 67, 69, 67, 64, 63, 71, 77, 92, 104, 105, 96, 81],\n",
      "48: [48, 39, 37, 32, 28, 29, 29, 29, 27, 27, 21, 18, 17, 16, 16, 14, 14, 14, 13, 13, 13, 14, 13, 14, 13, 11, 11, 14, 14, 14, 14, 13, 12, 12, 11, 11, 11, 13, 12, 13, 14, 14, 15, 15, 16, 16, 16, 17, 19, 22, 22, 28, 48, 57, 59, 63, 74, 73, 129],\n",
      "49: [49, 48, 49, 50, 53, 53, 53, 53, 53, 53, 54, 55, 63, 56, 57, 55, 55, 57, 58, 58, 58, 60, 59, 58, 61, 61, 61, 67, 66, 70, 69, 73, 74, 80, 80, 85, 85, 91, 89, 94, 91, 87, 85, 85, 79, 78, 73, 78, 87, 103, 104, 104, 97, 98, 97, 102, 94, 98, 166],\n",
      "59: [59, 57, 56, 56, 59, 57, 57, 58, 60, 62, 61, 64, 64, 64, 61, 62, 67, 69, 70, 69, 71, 72, 71, 75, 73, 72, 70, 76, 77, 76, 76, 83, 79, 83, 84, 79, 70, 72, 77, 90, 100, 103, 105, 107, 126, 128, 189, 209, 261],\n",
      "64: [64, 62, 61, 59, 54, 45, 43, 41, 35, 7, 4, 6, 6, 5, 6, 8, 8, 10, 9, 9, 11, 12, 11, 13, 12, 10, 10, 13, 12, 12, 12, 12, 11, 13, 12, 12, 14, 16, 36, 42, 38, 32, 33, 24, 26, 27, 36, 41, 60, 64, 64, 82, 89, 95, 96, 120, 131, 136, 142],\n",
      "65: [65, 64, 63, 65, 67, 68, 67, 67, 70, 68, 69, 71, 71, 72, 72, 73, 74, 75, 77, 76, 75, 301, 406, 76, 98, 86, 81, 72, 79, 79, 78, 78, 91, 125, 97, 107, 285, 280, 296, 310, 305, 295],\n",
      "67: [67, 66, 66, 66, 68, 69, 68, 68, 69, 70, 68, 70, 70, 70, 64, 57, 56, 56, 61, 56, 56, 54, 51, 50, 50, 50, 49, 51, 51, 53, 52, 50, 50, 51, 51, 49, 48, 49, 49, 56, 53, 53, 54, 54, 54, 49, 49, 52, 57, 66, 65, 66, 64, 64, 61, 60, 58, 59, 51, 68],\n",
      "68: [68, 87, 321, 77, 44, 36, 33, 30, 25, 19, 18, 20, 20, 18, 18, 21, 23, 21, 20, 20, 21, 25, 37, 41, 45, 39, 29, 28, 27, 26, 26, 26, 28, 28, 28, 38, 47, 87, 95, 101, 97, 104, 108, 124, 137, 137, 169, 189, 180],\n",
      "70: [70, 69, 68, 67, 69, 70, 69, 69, 71, 71, 71, 72, 72, 74, 76, 77, 81, 84, 86, 87, 86, 83, 79, 77, 72, 70, 68, 68, 68, 69, 68, 84, 113, 117, 115, 121, 124, 123, 112, 115, 103, 90, 92, 84, 117, 119, 106, 115, 151, 192, 205, 247, 319, 436, 427],\n",
      "71: [71, 67, 65, 63, 63, 62, 60, 60, 59, 58, 59, 61, 59, 59, 58, 58, 59, 59, 60, 60, 59, 61, 60, 57, 59, 59, 59, 62, 59, 63, 62, 65, 65, 68, 65, 65, 66, 70, 67, 71, 68, 66, 66, 60, 44, 44, 44, 49, 53, 56, 50, 53, 59, 87, 87, 127, 331, 333],\n",
      "77: [77, 75, 74, 74, 76, 76, 76, 76, 79, 80, 79, 81, 83, 85, 88, 88, 87, 90, 88, 90, 92, 92, 89, 89, 81, 77, 93, 85, 91, 194, 196, 230, 235, 229, 226, 244, 286, 295, 440, 460, 507, 543, 545, 601, 761],\n",
      "81: [81, 79, 76, 72, 70, 63, 59, 55, 55, 51, 44, 45, 45, 45, 45, 44, 45, 45, 47, 47, 47, 46, 46, 42, 42, 41, 38, 39, 25, 29, 32, 39, 36, 36, 36, 42, 39, 37, 40, 47, 44, 42, 40, 40, 40, 40, 55, 56, 59, 61, 59, 58, 58, 79, 80, 83, 93, 97, 113],\n",
      "90: [90, 89, 87, 93, 93, 93, 93, 96, 95, 98, 98, 96, 95, 97, 97, 98, 97, 99, 99, 101, 104, 102, 100, 102, 107, 106, 110, 111, 112, 118, 118, 120, 123, 123, 121, 127, 128, 129, 129, 130, 134, 138, 139, 135, 143, 143, 141, 153, 146, 154, 152, 162, 176, 237, 250, 216, 249, 270],\n",
      "100: [100, 99, 99, 104, 106, 101, 101, 105, 105, 106, 108, 111, 112, 112, 110, 109, 115, 116, 120, 121, 122, 125, 124, 121, 123, 123, 124, 124, 115, 109, 105, 99, 89, 90, 91, 96, 90, 95, 81, 82, 75, 84, 91, 151, 147, 147, 151, 157, 168, 316, 376, 369, 410, 496, 574],\n",
      "102: [102, 90],\n",
      "131: [131, 128, 126, 123, 121, 118, 119, 122, 120, 121, 119, 120, 120, 122, 121, 124, 125, 128, 132, 135, 136, 136, 136, 130, 116, 110, 97, 97, 156, 139, 127, 100, 98, 97, 99, 104, 102, 107, 109, 116, 112, 110, 112, 109, 102, 105, 108, 113, 116, 107, 101, 97, 98, 93, 92, 71, 70, 69, 70],\n",
      "137: [137, 137, 132, 137, 140, 140, 141, 142, 140, 140, 139, 139, 139, 145, 141, 146, 145, 148, 154, 158, 161, 158, 160, 159, 164, 160, 164, 161, 163, 167, 166, 167, 173, 175, 171, 182, 183, 191, 198, 214, 218, 228, 228, 231, 247, 249, 292, 331, 380, 449],\n",
      "195: [195, 196, 197, 202, 199, 198, 201, 204, 202, 204, 207, 205, 206, 214, 216, 222, 225, 222, 223, 224, 223, 222, 227, 227, 230, 229, 229, 230, 231, 239, 233, 223, 229, 238, 247],\n",
      "205: [205, 87, 321, 77, 44, 36, 33, 30, 25, 19, 18, 20, 20, 18, 18, 21, 23, 21, 20, 20, 21, 25, 37, 41, 45, 39, 29, 28, 27, 26, 26, 26, 28, 28, 28, 38, 47, 87, 95, 101, 97, 104, 108, 124, 137, 137, 169, 189, 180],\n",
      "407: [407, 407, 408, 404, 409, 410, 412, 409, 403, 396, 374, 357, 348, 287, 231, 204],\n",
      "418: [418, 420, 414, 411, 414, 420, 419, 420, 428, 428, 422, 419, 419, 417, 423, 418, 415, 403, 399, 401, 401, 402, 405, 405, 411, 406, 410, 413, 415, 423, 422, 423, 418, 399, 398, 399, 381, 387, 372, 359, 349, 342, 345, 298, 186, 174, 114, 95, 83, 63, 58, 48, 57, 58, 56, 55, 53, 50, 40, 39, 45],\n",
      "443: [443, 382, 381, 373, 361, 353, 348, 334, 308, 282, 272, 305, 325, 317, 225, 205, 205, 216, 217, 220, 219, 208, 204, 201, 196, 193, 200, 196, 194, 199, 197, 196, 188, 179, 167, 157, 142, 141, 121, 37, 22, 16, 17, 36, 41, 42, 65, 77, 74, 90, 90, 100, 109, 141, 143, 167],\n"
     ]
    }
   ],
   "source": [
    "for z0haloid in ids2:\n",
    "    halo = s.timesteps[-1].halos[z0haloid-1]\n",
    "    halo_num, = halo.calculate_for_progenitors('halo_number()')\n",
    "    print(str(z0haloid)+': [', end='')\n",
    "    print(*halo_num, sep=', ', end='')\n",
    "    print('],')\n"
   ]
  },
  {
   "cell_type": "code",
   "execution_count": 34,
   "metadata": {},
   "outputs": [
    {
     "data": {
      "text/plain": [
       "62"
      ]
     },
     "execution_count": 34,
     "metadata": {},
     "output_type": "execute_result"
    }
   ],
   "source": [
    "len(snapshots)"
   ]
  },
  {
   "cell_type": "code",
   "execution_count": 16,
   "metadata": {},
   "outputs": [
    {
     "data": {
      "text/plain": [
       "4.934124072198533e-09"
      ]
     },
     "execution_count": 16,
     "metadata": {},
     "output_type": "execute_result"
    }
   ],
   "source": [
    "\n",
    "age = np.array(h[15].star['age'].in_units('Myr'),dtype=float)\n",
    "\n",
    "np.sum(np.array(h[15].star['mass'].in_units('Msol'))[age < 100]) / 100e6 "
   ]
  },
  {
   "cell_type": "code",
   "execution_count": null,
   "metadata": {},
   "outputs": [],
   "source": []
  }
 ],
 "metadata": {
  "kernelspec": {
   "display_name": "Python 3",
   "language": "python",
   "name": "python3"
  },
  "language_info": {
   "codemirror_mode": {
    "name": "ipython",
    "version": 3
   },
   "file_extension": ".py",
   "mimetype": "text/x-python",
   "name": "python",
   "nbconvert_exporter": "python",
   "pygments_lexer": "ipython3",
   "version": "3.7.3"
  }
 },
 "nbformat": 4,
 "nbformat_minor": 2
}
