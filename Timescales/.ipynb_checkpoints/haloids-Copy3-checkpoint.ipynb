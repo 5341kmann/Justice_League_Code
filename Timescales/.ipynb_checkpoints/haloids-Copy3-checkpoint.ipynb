{
 "cells": [
  {
   "cell_type": "code",
   "execution_count": 1,
   "metadata": {},
   "outputs": [],
   "source": [
    "import numpy as np\n",
    "import matplotlib.pyplot as plt\n",
    "import matplotlib as mpl\n",
    "import pynbody\n",
    "import pickle\n",
    "\n",
    "mpl.rc('font',**{'family':'serif','monospace':['Palatino']})\n",
    "mpl.rc('text', usetex=True)\n",
    "mpl.rcParams.update({'font.size': 9})\n",
    "\n",
    "pynbody.config['halo-class-priority'] =  [pynbody.halo.ahf.AHFCatalogue,\n",
    "                                          pynbody.halo.GrpCatalogue,\n",
    "                                          pynbody.halo.AmigaGrpCatalogue,\n",
    "                                          pynbody.halo.legacy.RockstarIntermediateCatalogue,\n",
    "                                          pynbody.halo.rockstar.RockstarCatalogue,\n",
    "                                          pynbody.halo.subfind.SubfindCatalogue,\n",
    "                                          pynbody.halo.hop.HOPCatalogue]"
   ]
  },
  {
   "cell_type": "code",
   "execution_count": 2,
   "metadata": {},
   "outputs": [
    {
     "name": "stdout",
     "output_type": "stream",
     "text": [
      "13671\n"
     ]
    }
   ],
   "source": [
    "s = pynbody.load('/home/christenc/Data/Sims/h242.cosmo50PLK.3072g/h242.cosmo50PLK.3072gst5HbwK1BH/snapshots_200bkgdens/h242.cosmo50PLK.3072gst5HbwK1BH.004096')\n",
    "s.physical_units()\n",
    "h = s.halos()\n",
    "print(len(h))"
   ]
  },
  {
   "cell_type": "code",
   "execution_count": 3,
   "metadata": {},
   "outputs": [
    {
     "name": "stdout",
     "output_type": "stream",
     "text": [
      "Halo ids for bulk processing\n",
      "[1, 10, 12, 24, 30, 34, 40, 41, 44, 48, 49, 71, 78, 80, 86, 165, 223, 439, 480, 1872, 2885, 6054, 9380, 10426, 12297]\n",
      "halo ids for merger trees\n",
      "[1, 10, 12, 24, 30, 34, 40, 41, 44, 48, 49, 71, 78, 80, 86, 165, 223, 439, 480]\n"
     ]
    }
   ],
   "source": [
    "ids1,ids2,ids3 = [],[],[]\n",
    "for halo in h:\n",
    "    if len(halo.s) != 0 and halo.properties['fMhires'] > 0.9:\n",
    "        ids1.append(halo.properties['halo_id'])\n",
    "        if len(halo.dm)>1000:\n",
    "            ids2.append(halo.properties['halo_id'])\n",
    "        \n",
    "print('Halo ids for bulk processing')\n",
    "print(ids1)\n",
    "print('halo ids for merger trees')\n",
    "print(ids2)"
   ]
  },
  {
   "cell_type": "code",
   "execution_count": 4,
   "metadata": {},
   "outputs": [
    {
     "data": {
      "text/plain": [
       "[<Simulation(\"snapshots\")>, <Simulation(\"snapshots_200bkgdens\")>]"
      ]
     },
     "execution_count": 4,
     "metadata": {},
     "output_type": "execute_result"
    }
   ],
   "source": [
    "import os\n",
    "os.environ['TANGOS_DB_CONNECTION'] = '/home/akinshol/Data/Timescales/TangosData/h242.db'\n",
    "import tangos\n",
    "tangos.all_simulations()"
   ]
  },
  {
   "cell_type": "code",
   "execution_count": 6,
   "metadata": {},
   "outputs": [
    {
     "data": {
      "text/plain": [
       "[<TimeStep 'snapshots_200bkgdens/h229.cosmo50PLK.3072gst5HbwK1BH.004096' z=0.00 t=13.80 Gyr>,\n",
       " <TimeStep 'snapshots_200bkgdens/h229.cosmo50PLK.3072gst5HbwK1BH.004032' z=0.02 t=13.59 Gyr>,\n",
       " <TimeStep 'snapshots_200bkgdens/h229.cosmo50PLK.3072gst5HbwK1BH.003936' z=0.04 t=13.26 Gyr>,\n",
       " <TimeStep 'snapshots_200bkgdens/h229.cosmo50PLK.3072gst5HbwK1BH.003840' z=0.06 t=12.94 Gyr>,\n",
       " <TimeStep 'snapshots_200bkgdens/h229.cosmo50PLK.3072gst5HbwK1BH.003744' z=0.09 t=12.62 Gyr>,\n",
       " <TimeStep 'snapshots_200bkgdens/h229.cosmo50PLK.3072gst5HbwK1BH.003648' z=0.11 t=12.29 Gyr>,\n",
       " <TimeStep 'snapshots_200bkgdens/h229.cosmo50PLK.3072gst5HbwK1BH.003606' z=0.12 t=12.15 Gyr>,\n",
       " <TimeStep 'snapshots_200bkgdens/h229.cosmo50PLK.3072gst5HbwK1BH.003552' z=0.14 t=11.97 Gyr>,\n",
       " <TimeStep 'snapshots_200bkgdens/h229.cosmo50PLK.3072gst5HbwK1BH.003456' z=0.17 t=11.65 Gyr>,\n",
       " <TimeStep 'snapshots_200bkgdens/h229.cosmo50PLK.3072gst5HbwK1BH.003360' z=0.20 t=11.32 Gyr>,\n",
       " <TimeStep 'snapshots_200bkgdens/h229.cosmo50PLK.3072gst5HbwK1BH.003264' z=0.23 t=11.00 Gyr>,\n",
       " <TimeStep 'snapshots_200bkgdens/h229.cosmo50PLK.3072gst5HbwK1BH.003195' z=0.25 t=10.77 Gyr>,\n",
       " <TimeStep 'snapshots_200bkgdens/h229.cosmo50PLK.3072gst5HbwK1BH.003168' z=0.26 t=10.68 Gyr>,\n",
       " <TimeStep 'snapshots_200bkgdens/h229.cosmo50PLK.3072gst5HbwK1BH.003072' z=0.29 t=10.35 Gyr>,\n",
       " <TimeStep 'snapshots_200bkgdens/h229.cosmo50PLK.3072gst5HbwK1BH.002976' z=0.33 t=10.03 Gyr>,\n",
       " <TimeStep 'snapshots_200bkgdens/h229.cosmo50PLK.3072gst5HbwK1BH.002880' z=0.36 t=9.71 Gyr>,\n",
       " <TimeStep 'snapshots_200bkgdens/h229.cosmo50PLK.3072gst5HbwK1BH.002784' z=0.40 t=9.38 Gyr>,\n",
       " <TimeStep 'snapshots_200bkgdens/h229.cosmo50PLK.3072gst5HbwK1BH.002688' z=0.44 t=9.06 Gyr>,\n",
       " <TimeStep 'snapshots_200bkgdens/h229.cosmo50PLK.3072gst5HbwK1BH.002592' z=0.48 t=8.74 Gyr>,\n",
       " <TimeStep 'snapshots_200bkgdens/h229.cosmo50PLK.3072gst5HbwK1BH.002554' z=0.50 t=8.61 Gyr>,\n",
       " <TimeStep 'snapshots_200bkgdens/h229.cosmo50PLK.3072gst5HbwK1BH.002496' z=0.53 t=8.41 Gyr>,\n",
       " <TimeStep 'snapshots_200bkgdens/h229.cosmo50PLK.3072gst5HbwK1BH.002400' z=0.57 t=8.09 Gyr>,\n",
       " <TimeStep 'snapshots_200bkgdens/h229.cosmo50PLK.3072gst5HbwK1BH.002304' z=0.62 t=7.77 Gyr>,\n",
       " <TimeStep 'snapshots_200bkgdens/h229.cosmo50PLK.3072gst5HbwK1BH.002208' z=0.68 t=7.44 Gyr>,\n",
       " <TimeStep 'snapshots_200bkgdens/h229.cosmo50PLK.3072gst5HbwK1BH.002112' z=0.73 t=7.12 Gyr>,\n",
       " <TimeStep 'snapshots_200bkgdens/h229.cosmo50PLK.3072gst5HbwK1BH.002088' z=0.75 t=7.04 Gyr>,\n",
       " <TimeStep 'snapshots_200bkgdens/h229.cosmo50PLK.3072gst5HbwK1BH.002016' z=0.80 t=6.80 Gyr>,\n",
       " <TimeStep 'snapshots_200bkgdens/h229.cosmo50PLK.3072gst5HbwK1BH.001920' z=0.86 t=6.47 Gyr>,\n",
       " <TimeStep 'snapshots_200bkgdens/h229.cosmo50PLK.3072gst5HbwK1BH.001824' z=0.93 t=6.15 Gyr>,\n",
       " <TimeStep 'snapshots_200bkgdens/h229.cosmo50PLK.3072gst5HbwK1BH.001740' z=1.00 t=5.87 Gyr>,\n",
       " <TimeStep 'snapshots_200bkgdens/h229.cosmo50PLK.3072gst5HbwK1BH.001728' z=1.01 t=5.83 Gyr>,\n",
       " <TimeStep 'snapshots_200bkgdens/h229.cosmo50PLK.3072gst5HbwK1BH.001632' z=1.09 t=5.50 Gyr>,\n",
       " <TimeStep 'snapshots_200bkgdens/h229.cosmo50PLK.3072gst5HbwK1BH.001536' z=1.19 t=5.18 Gyr>,\n",
       " <TimeStep 'snapshots_200bkgdens/h229.cosmo50PLK.3072gst5HbwK1BH.001475' z=1.25 t=4.98 Gyr>,\n",
       " <TimeStep 'snapshots_200bkgdens/h229.cosmo50PLK.3072gst5HbwK1BH.001440' z=1.29 t=4.86 Gyr>,\n",
       " <TimeStep 'snapshots_200bkgdens/h229.cosmo50PLK.3072gst5HbwK1BH.001344' z=1.40 t=4.53 Gyr>,\n",
       " <TimeStep 'snapshots_200bkgdens/h229.cosmo50PLK.3072gst5HbwK1BH.001269' z=1.50 t=4.28 Gyr>,\n",
       " <TimeStep 'snapshots_200bkgdens/h229.cosmo50PLK.3072gst5HbwK1BH.001248' z=1.53 t=4.21 Gyr>,\n",
       " <TimeStep 'snapshots_200bkgdens/h229.cosmo50PLK.3072gst5HbwK1BH.001152' z=1.67 t=3.89 Gyr>,\n",
       " <TimeStep 'snapshots_200bkgdens/h229.cosmo50PLK.3072gst5HbwK1BH.001106' z=1.75 t=3.73 Gyr>,\n",
       " <TimeStep 'snapshots_200bkgdens/h229.cosmo50PLK.3072gst5HbwK1BH.001056' z=1.84 t=3.57 Gyr>,\n",
       " <TimeStep 'snapshots_200bkgdens/h229.cosmo50PLK.3072gst5HbwK1BH.000974' z=2.00 t=3.29 Gyr>,\n",
       " <TimeStep 'snapshots_200bkgdens/h229.cosmo50PLK.3072gst5HbwK1BH.000960' z=2.03 t=3.24 Gyr>,\n",
       " <TimeStep 'snapshots_200bkgdens/h229.cosmo50PLK.3072gst5HbwK1BH.000864' z=2.25 t=2.92 Gyr>,\n",
       " <TimeStep 'snapshots_200bkgdens/h229.cosmo50PLK.3072gst5HbwK1BH.000776' z=2.50 t=2.62 Gyr>,\n",
       " <TimeStep 'snapshots_200bkgdens/h229.cosmo50PLK.3072gst5HbwK1BH.000768' z=2.52 t=2.60 Gyr>,\n",
       " <TimeStep 'snapshots_200bkgdens/h229.cosmo50PLK.3072gst5HbwK1BH.000672' z=2.86 t=2.27 Gyr>,\n",
       " <TimeStep 'snapshots_200bkgdens/h229.cosmo50PLK.3072gst5HbwK1BH.000637' z=3.00 t=2.15 Gyr>,\n",
       " <TimeStep 'snapshots_200bkgdens/h229.cosmo50PLK.3072gst5HbwK1BH.000576' z=3.28 t=1.95 Gyr>,\n",
       " <TimeStep 'snapshots_200bkgdens/h229.cosmo50PLK.3072gst5HbwK1BH.000480' z=3.83 t=1.63 Gyr>,\n",
       " <TimeStep 'snapshots_200bkgdens/h229.cosmo50PLK.3072gst5HbwK1BH.000456' z=4.00 t=1.54 Gyr>,\n",
       " <TimeStep 'snapshots_200bkgdens/h229.cosmo50PLK.3072gst5HbwK1BH.000384' z=4.60 t=1.30 Gyr>,\n",
       " <TimeStep 'snapshots_200bkgdens/h229.cosmo50PLK.3072gst5HbwK1BH.000347' z=4.99 t=1.18 Gyr>,\n",
       " <TimeStep 'snapshots_200bkgdens/h229.cosmo50PLK.3072gst5HbwK1BH.000288' z=5.78 t=0.98 Gyr>,\n",
       " <TimeStep 'snapshots_200bkgdens/h229.cosmo50PLK.3072gst5HbwK1BH.000275' z=5.99 t=0.94 Gyr>,\n",
       " <TimeStep 'snapshots_200bkgdens/h229.cosmo50PLK.3072gst5HbwK1BH.000225' z=6.98 t=0.77 Gyr>,\n",
       " <TimeStep 'snapshots_200bkgdens/h229.cosmo50PLK.3072gst5HbwK1BH.000192' z=7.86 t=0.66 Gyr>,\n",
       " <TimeStep 'snapshots_200bkgdens/h229.cosmo50PLK.3072gst5HbwK1BH.000188' z=7.99 t=0.64 Gyr>,\n",
       " <TimeStep 'snapshots_200bkgdens/h229.cosmo50PLK.3072gst5HbwK1BH.000139' z=9.95 t=0.48 Gyr>,\n",
       " <TimeStep 'snapshots_200bkgdens/h229.cosmo50PLK.3072gst5HbwK1BH.000107' z=11.99 t=0.37 Gyr>,\n",
       " <TimeStep 'snapshots_200bkgdens/h229.cosmo50PLK.3072gst5HbwK1BH.000096' z=12.94 t=0.33 Gyr>,\n",
       " <TimeStep 'snapshots_200bkgdens/h229.cosmo50PLK.3072gst5HbwK1BH.000071' z=15.93 t=0.25 Gyr>]"
      ]
     },
     "execution_count": 6,
     "metadata": {},
     "output_type": "execute_result"
    }
   ],
   "source": [
    "s = tangos.get_simulation('snapshots_200bkgdens')\n",
    "list(np.flip(list(s.timesteps)))"
   ]
  },
  {
   "cell_type": "code",
   "execution_count": 9,
   "metadata": {},
   "outputs": [],
   "source": [
    "\n",
    "snapshots =['h229.cosmo50PLK.3072gst5HbwK1BH.004096',\n",
    "            'h229.cosmo50PLK.3072gst5HbwK1BH.004032',\n",
    "            'h229.cosmo50PLK.3072gst5HbwK1BH.003936',\n",
    "            'h229.cosmo50PLK.3072gst5HbwK1BH.003840',\n",
    "            'h229.cosmo50PLK.3072gst5HbwK1BH.003744',\n",
    "            'h229.cosmo50PLK.3072gst5HbwK1BH.003648',\n",
    "            'h229.cosmo50PLK.3072gst5HbwK1BH.003606',\n",
    "            'h229.cosmo50PLK.3072gst5HbwK1BH.003552',\n",
    "            'h229.cosmo50PLK.3072gst5HbwK1BH.003456',\n",
    "            'h229.cosmo50PLK.3072gst5HbwK1BH.003360',\n",
    "            'h229.cosmo50PLK.3072gst5HbwK1BH.003264',\n",
    "            'h229.cosmo50PLK.3072gst5HbwK1BH.003195',\n",
    "            'h229.cosmo50PLK.3072gst5HbwK1BH.003168',\n",
    "            'h229.cosmo50PLK.3072gst5HbwK1BH.003072',\n",
    "            'h229.cosmo50PLK.3072gst5HbwK1BH.002976',\n",
    "            'h229.cosmo50PLK.3072gst5HbwK1BH.002880',\n",
    "            'h229.cosmo50PLK.3072gst5HbwK1BH.002784',\n",
    "            'h229.cosmo50PLK.3072gst5HbwK1BH.002688',\n",
    "            'h229.cosmo50PLK.3072gst5HbwK1BH.002592',\n",
    "            'h229.cosmo50PLK.3072gst5HbwK1BH.002554',\n",
    "            'h229.cosmo50PLK.3072gst5HbwK1BH.002496',\n",
    "            'h229.cosmo50PLK.3072gst5HbwK1BH.002400',\n",
    "            'h229.cosmo50PLK.3072gst5HbwK1BH.002304',\n",
    "            'h229.cosmo50PLK.3072gst5HbwK1BH.002208',\n",
    "            'h229.cosmo50PLK.3072gst5HbwK1BH.002112',\n",
    "            'h229.cosmo50PLK.3072gst5HbwK1BH.002088',\n",
    "            'h229.cosmo50PLK.3072gst5HbwK1BH.002016',\n",
    "            'h229.cosmo50PLK.3072gst5HbwK1BH.001920',\n",
    "            'h229.cosmo50PLK.3072gst5HbwK1BH.001824',\n",
    "            'h229.cosmo50PLK.3072gst5HbwK1BH.001740',\n",
    "            'h229.cosmo50PLK.3072gst5HbwK1BH.001728',\n",
    "            'h229.cosmo50PLK.3072gst5HbwK1BH.001632',\n",
    "            'h229.cosmo50PLK.3072gst5HbwK1BH.001536',\n",
    "            'h229.cosmo50PLK.3072gst5HbwK1BH.001475',\n",
    "            'h229.cosmo50PLK.3072gst5HbwK1BH.001440',\n",
    "            'h229.cosmo50PLK.3072gst5HbwK1BH.001344',\n",
    "            'h229.cosmo50PLK.3072gst5HbwK1BH.001269',\n",
    "            'h229.cosmo50PLK.3072gst5HbwK1BH.001248',\n",
    "            'h229.cosmo50PLK.3072gst5HbwK1BH.001152',\n",
    "            'h229.cosmo50PLK.3072gst5HbwK1BH.001106',\n",
    "            'h229.cosmo50PLK.3072gst5HbwK1BH.001056',\n",
    "            'h229.cosmo50PLK.3072gst5HbwK1BH.000974',\n",
    "            'h229.cosmo50PLK.3072gst5HbwK1BH.000960',\n",
    "            'h229.cosmo50PLK.3072gst5HbwK1BH.000864',\n",
    "            'h229.cosmo50PLK.3072gst5HbwK1BH.000776',\n",
    "            'h229.cosmo50PLK.3072gst5HbwK1BH.000768',\n",
    "            'h229.cosmo50PLK.3072gst5HbwK1BH.000672',\n",
    "            'h229.cosmo50PLK.3072gst5HbwK1BH.000637',\n",
    "            'h229.cosmo50PLK.3072gst5HbwK1BH.000576',\n",
    "            'h229.cosmo50PLK.3072gst5HbwK1BH.000480',\n",
    "            'h229.cosmo50PLK.3072gst5HbwK1BH.000456',\n",
    "            'h229.cosmo50PLK.3072gst5HbwK1BH.000384',\n",
    "            'h229.cosmo50PLK.3072gst5HbwK1BH.000347',\n",
    "            'h229.cosmo50PLK.3072gst5HbwK1BH.000288',\n",
    "            'h229.cosmo50PLK.3072gst5HbwK1BH.000275',\n",
    "            'h229.cosmo50PLK.3072gst5HbwK1BH.000225',\n",
    "            'h229.cosmo50PLK.3072gst5HbwK1BH.000192',\n",
    "            'h229.cosmo50PLK.3072gst5HbwK1BH.000188',\n",
    "            'h229.cosmo50PLK.3072gst5HbwK1BH.000139',\n",
    "            'h229.cosmo50PLK.3072gst5HbwK1BH.000107',\n",
    "            'h229.cosmo50PLK.3072gst5HbwK1BH.000096',\n",
    "            'h229.cosmo50PLK.3072gst5HbwK1BH.000071']\n",
    "\n",
    "path = '/home/christenc/Data/Sims/h229.cosmo50PLK.3072g/h229.cosmo50PLK.3072gst5HbwK1BH/snapshots_200bkgdens/'"
   ]
  },
  {
   "cell_type": "code",
   "execution_count": null,
   "metadata": {},
   "outputs": [
    {
     "name": "stdout",
     "output_type": "stream",
     "text": [
      "h229.cosmo50PLK.3072gst5HbwK1BH.004096\n",
      "h229.cosmo50PLK.3072gst5HbwK1BH.004032\n",
      "h229.cosmo50PLK.3072gst5HbwK1BH.003936\n",
      "h229.cosmo50PLK.3072gst5HbwK1BH.003840\n",
      "h229.cosmo50PLK.3072gst5HbwK1BH.003744\n",
      "h229.cosmo50PLK.3072gst5HbwK1BH.003648\n",
      "h229.cosmo50PLK.3072gst5HbwK1BH.003606\n",
      "h229.cosmo50PLK.3072gst5HbwK1BH.003552\n"
     ]
    }
   ],
   "source": [
    "\n",
    "for tstep in range(len(snapshots)):\n",
    "    snapshot = snapshots[tstep]\n",
    "    print(snapshot)\n",
    "    sim = pynbody.load(path+snapshot)\n",
    "    sim.physical_units()\n",
    "    h = sim.halos()\n",
    "    \n",
    "    for z0haloid in ids2:\n",
    "        halo = s.timesteps[-1].halos[z0haloid-1]\n",
    "        haloids, ndms = halo.calculate_for_progenitors('halo_number()', 'NDM()')\n",
    "        try:\n",
    "            haloid = haloids[tstep]\n",
    "        except:\n",
    "            continue\n",
    "        ndm = ndms[tstep]\n",
    "        pyn_ndm = len(h[haloid].dm)\n",
    "        if ndm != pyn_ndm:\n",
    "            print(f'z = 0 haloid {z0haloid}, tangos NDM, {ndm}, pynbody {pyn_ndm}')\n",
    "        \n",
    "    "
   ]
  },
  {
   "cell_type": "code",
   "execution_count": 9,
   "metadata": {},
   "outputs": [
    {
     "name": "stdout",
     "output_type": "stream",
     "text": [
      "1: [1, 1, 1, 1, 1, 1, 1, 1, 1, 1, 1, 1, 1, 1, 1, 1, 1, 1, 1, 1, 1, 1, 1, 1, 1, 1, 1, 1, 1, 1, 1, 1, 1, 1, 1, 1, 1, 1, 1, 1, 1, 1, 1, 1, 1, 1, 1, 1, 1, 1, 1, 1, 1, 1, 1, 1, 2, 2, 5, 19, 16],\n",
      "11: [11, 8, 7, 7, 7, 7, 7, 6, 5, 6, 6, 5, 5, 6, 6, 7, 6, 6, 6, 6, 8, 8, 8, 7, 7, 7, 7, 7, 5, 5, 5, 6, 6, 6, 6, 6, 7, 7, 8, 8, 8, 9, 9, 10, 10, 10, 14, 13, 15, 16, 18, 20, 21, 20, 21, 24, 20, 21, 32],\n",
      "31: [31, 31, 31, 32, 32, 29, 28, 19, 15, 14, 15, 14, 14, 15, 14, 14, 14, 14, 14, 14, 13, 13, 13, 12, 11, 11, 11, 11, 11, 11, 11, 10, 10, 9, 10, 10, 19, 23, 24, 26, 27, 38, 39, 38, 41, 41, 48, 43, 46, 46, 49, 61, 62, 70, 73, 92, 84, 81, 106],\n",
      "33: [33, 33, 34, 34, 33, 33, 33, 35, 35, 34, 34, 32, 32, 32, 31, 31, 27, 27, 28, 32, 17, 16, 16, 16, 15, 14, 13, 15, 14, 14, 13, 12, 12, 12, 12, 15, 14, 16, 15, 14, 14, 15, 15, 14, 17, 17, 22, 69, 52, 50, 52, 65, 95, 179, 196, 189, 212, 205],\n",
      "40: [40, 39, 30, 28, 27, 27, 26, 27, 26, 27, 28, 27, 27, 29, 28, 29, 28, 28, 26, 27, 28, 27, 27, 28, 28, 28, 29, 29, 28, 27, 28, 27, 27, 28, 29, 29, 28, 29, 30, 28, 28, 23, 24, 24, 26, 28, 43, 41, 45, 41, 40, 54, 86, 91, 90, 74, 61, 60, 91],\n",
      "64: [64, 63, 63, 62, 61, 65, 64, 64, 60, 58, 59, 56, 57, 56, 52, 50, 47, 44, 45, 44, 43, 44, 41, 41, 40, 40, 40, 38, 39, 41, 41, 43, 43, 43, 42, 39, 44, 46, 45, 43, 44, 41, 41, 40, 53, 52, 54, 59, 70, 151, 151, 157, 159, 170, 176, 143, 99, 95, 77, 60],\n",
      "103: [103, 102, 103, 104, 107, 108, 109, 110, 108, 108, 107, 105, 106, 107, 109, 114, 124, 125, 111, 105, 98, 96, 99, 113, 96, 93, 81, 76, 76, 73, 75, 74, 72, 68, 68, 63, 61, 60, 48, 45, 41, 29, 28, 32, 33, 34, 41, 38, 39, 48, 50, 51, 49, 49, 50, 48, 67, 69, 64],\n",
      "133: [133, 132, 132, 128, 131, 129, 131, 130, 125, 125, 123, 117, 118, 118, 114, 100, 95, 95, 93, 92, 92, 87, 89, 84, 83, 84, 83, 78, 69, 64, 67, 66, 54, 38, 37, 32, 33, 33, 33, 31, 30, 27, 27, 25, 27, 26, 32, 33, 33, 33, 38, 47, 65, 130, 136, 219],\n",
      "137: [137, 138, 136, 137, 140, 136, 137, 138, 139, 139, 139, 137, 140, 143, 140, 133, 122, 122, 117, 113, 66, 55, 56, 53, 54, 54, 52, 52, 52, 46, 45, 44, 37, 31, 24, 14, 13, 15, 14, 13, 13, 16, 16, 15, 16, 16, 20, 21, 23, 23, 20, 23, 23, 22, 19, 19, 15, 15, 11, 20, 23],\n",
      "146: [146, 148, 148, 147, 148, 148, 148, 148, 150, 152, 151, 150, 154, 154, 155, 158, 157, 159, 157, 154, 154, 152, 152, 151, 154, 157, 158, 160, 155, 155, 156, 161, 162, 158, 155, 156, 160, 162, 165, 162, 156, 163, 164, 159, 156, 159, 161, 165, 163, 155, 153, 143, 145, 141, 141, 117, 111, 108, 62, 40, 28, 8],\n",
      "185: [185, 185, 183, 179, 181, 181, 178, 175, 174, 172, 169, 165, 166, 167, 166, 163, 159, 155, 146, 141, 137, 125, 119, 104, 97, 99, 94, 86, 83, 82, 80, 78, 73, 66, 66, 60, 59, 59, 55, 56, 53, 48, 47, 49, 59, 60, 58, 58, 60, 66, 65, 64, 61, 71, 69, 66, 64, 64, 44, 44, 43],\n",
      "447: [447, 438, 429, 409, 381, 359, 549, 434, 230, 191, 213],\n"
     ]
    }
   ],
   "source": [
    "for z0haloid in ids2:\n",
    "    halo = s.timesteps[-1].halos[z0haloid-1]\n",
    "    halo_num, = halo.calculate_for_progenitors('halo_number()')\n",
    "    print(str(z0haloid)+': [', end='')\n",
    "    print(*halo_num, sep=', ', end='')\n",
    "    print('],')\n"
   ]
  },
  {
   "cell_type": "code",
   "execution_count": 34,
   "metadata": {},
   "outputs": [
    {
     "data": {
      "text/plain": [
       "62"
      ]
     },
     "execution_count": 34,
     "metadata": {},
     "output_type": "execute_result"
    }
   ],
   "source": [
    "len(snapshots)"
   ]
  },
  {
   "cell_type": "code",
   "execution_count": 16,
   "metadata": {},
   "outputs": [
    {
     "data": {
      "text/plain": [
       "4.934124072198533e-09"
      ]
     },
     "execution_count": 16,
     "metadata": {},
     "output_type": "execute_result"
    }
   ],
   "source": [
    "\n",
    "age = np.array(h[15].star['age'].in_units('Myr'),dtype=float)\n",
    "\n",
    "np.sum(np.array(h[15].star['mass'].in_units('Msol'))[age < 100]) / 100e6 "
   ]
  },
  {
   "cell_type": "code",
   "execution_count": null,
   "metadata": {},
   "outputs": [],
   "source": []
  }
 ],
 "metadata": {
  "kernelspec": {
   "display_name": "Python 3",
   "language": "python",
   "name": "python3"
  },
  "language_info": {
   "codemirror_mode": {
    "name": "ipython",
    "version": 3
   },
   "file_extension": ".py",
   "mimetype": "text/x-python",
   "name": "python",
   "nbconvert_exporter": "python",
   "pygments_lexer": "ipython3",
   "version": "3.7.3"
  }
 },
 "nbformat": 4,
 "nbformat_minor": 2
}
