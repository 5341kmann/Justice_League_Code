{
 "cells": [
  {
   "cell_type": "code",
   "execution_count": 85,
   "metadata": {},
   "outputs": [],
   "source": [
    "import os\n",
    "import matplotlib.pyplot as plt\n",
    "import matplotlib as mpl\n",
    "%matplotlib inline\n",
    "import numpy as np\n",
    "os.environ['TANGOS_DB_CONNECTION'] = '/home/akinshol/Data/Timescales/TangosData/h329.db'\n",
    "\n",
    "#mpl.rcParams['font.monospace'] = 'Terminal'\n",
    "mpl.rc('font',**{'family':'serif','monospace':['Palatino']})\n",
    "mpl.rc('text', usetex=True)\n",
    "mpl.rcParams.update({'font.size': 9})"
   ]
  },
  {
   "cell_type": "code",
   "execution_count": null,
   "metadata": {},
   "outputs": [],
   "source": []
  },
  {
   "cell_type": "markdown",
   "metadata": {},
   "source": [
    "We load in the tangos data for the h329 simulation."
   ]
  },
  {
   "cell_type": "code",
   "execution_count": 2,
   "metadata": {},
   "outputs": [],
   "source": [
    "import tangos"
   ]
  },
  {
   "cell_type": "code",
   "execution_count": 3,
   "metadata": {},
   "outputs": [
    {
     "data": {
      "text/plain": [
       "[<Simulation(\"snapshots\")>]"
      ]
     },
     "execution_count": 3,
     "metadata": {},
     "output_type": "execute_result"
    }
   ],
   "source": [
    "tangos.all_simulations()"
   ]
  },
  {
   "cell_type": "code",
   "execution_count": null,
   "metadata": {},
   "outputs": [],
   "source": []
  },
  {
   "cell_type": "code",
   "execution_count": 4,
   "metadata": {},
   "outputs": [],
   "source": [
    "s = tangos.get_simulation('snapshots')"
   ]
  },
  {
   "cell_type": "code",
   "execution_count": 69,
   "metadata": {},
   "outputs": [
    {
     "data": {
      "text/plain": [
       "[<TimeStep 'snapshots/h329.cosmo50PLK.3072gst5HbwK1BH.000071' z=15.93 t=0.25 Gyr>,\n",
       " <TimeStep 'snapshots/h329.cosmo50PLK.3072gst5HbwK1BH.000096' z=12.94 t=0.33 Gyr>,\n",
       " <TimeStep 'snapshots/h329.cosmo50PLK.3072gst5HbwK1BH.000107' z=11.99 t=0.37 Gyr>,\n",
       " <TimeStep 'snapshots/h329.cosmo50PLK.3072gst5HbwK1BH.000139' z=9.95 t=0.48 Gyr>,\n",
       " <TimeStep 'snapshots/h329.cosmo50PLK.3072gst5HbwK1BH.000188' z=7.99 t=0.64 Gyr>,\n",
       " <TimeStep 'snapshots/h329.cosmo50PLK.3072gst5HbwK1BH.000192' z=7.86 t=0.66 Gyr>,\n",
       " <TimeStep 'snapshots/h329.cosmo50PLK.3072gst5HbwK1BH.000225' z=6.98 t=0.77 Gyr>,\n",
       " <TimeStep 'snapshots/h329.cosmo50PLK.3072gst5HbwK1BH.000275' z=5.99 t=0.94 Gyr>,\n",
       " <TimeStep 'snapshots/h329.cosmo50PLK.3072gst5HbwK1BH.000288' z=5.78 t=0.98 Gyr>,\n",
       " <TimeStep 'snapshots/h329.cosmo50PLK.3072gst5HbwK1BH.000347' z=4.99 t=1.18 Gyr>,\n",
       " <TimeStep 'snapshots/h329.cosmo50PLK.3072gst5HbwK1BH.000384' z=4.60 t=1.30 Gyr>,\n",
       " <TimeStep 'snapshots/h329.cosmo50PLK.3072gst5HbwK1BH.000456' z=4.00 t=1.54 Gyr>,\n",
       " <TimeStep 'snapshots/h329.cosmo50PLK.3072gst5HbwK1BH.000480' z=3.83 t=1.63 Gyr>,\n",
       " <TimeStep 'snapshots/h329.cosmo50PLK.3072gst5HbwK1BH.000576' z=3.28 t=1.95 Gyr>,\n",
       " <TimeStep 'snapshots/h329.cosmo50PLK.3072gst5HbwK1BH.000637' z=3.00 t=2.15 Gyr>,\n",
       " <TimeStep 'snapshots/h329.cosmo50PLK.3072gst5HbwK1BH.000672' z=2.86 t=2.27 Gyr>,\n",
       " <TimeStep 'snapshots/h329.cosmo50PLK.3072gst5HbwK1BH.000768' z=2.52 t=2.60 Gyr>,\n",
       " <TimeStep 'snapshots/h329.cosmo50PLK.3072gst5HbwK1BH.000776' z=2.50 t=2.62 Gyr>,\n",
       " <TimeStep 'snapshots/h329.cosmo50PLK.3072gst5HbwK1BH.000864' z=2.25 t=2.92 Gyr>,\n",
       " <TimeStep 'snapshots/h329.cosmo50PLK.3072gst5HbwK1BH.000960' z=2.03 t=3.24 Gyr>,\n",
       " <TimeStep 'snapshots/h329.cosmo50PLK.3072gst5HbwK1BH.000974' z=2.00 t=3.29 Gyr>,\n",
       " <TimeStep 'snapshots/h329.cosmo50PLK.3072gst5HbwK1BH.001056' z=1.84 t=3.57 Gyr>,\n",
       " <TimeStep 'snapshots/h329.cosmo50PLK.3072gst5HbwK1BH.001106' z=1.75 t=3.73 Gyr>,\n",
       " <TimeStep 'snapshots/h329.cosmo50PLK.3072gst5HbwK1BH.001152' z=1.67 t=3.89 Gyr>,\n",
       " <TimeStep 'snapshots/h329.cosmo50PLK.3072gst5HbwK1BH.001248' z=1.53 t=4.21 Gyr>,\n",
       " <TimeStep 'snapshots/h329.cosmo50PLK.3072gst5HbwK1BH.001269' z=1.50 t=4.28 Gyr>,\n",
       " <TimeStep 'snapshots/h329.cosmo50PLK.3072gst5HbwK1BH.001344' z=1.40 t=4.53 Gyr>,\n",
       " <TimeStep 'snapshots/h329.cosmo50PLK.3072gst5HbwK1BH.001440' z=1.29 t=4.86 Gyr>,\n",
       " <TimeStep 'snapshots/h329.cosmo50PLK.3072gst5HbwK1BH.001475' z=1.25 t=4.98 Gyr>,\n",
       " <TimeStep 'snapshots/h329.cosmo50PLK.3072gst5HbwK1BH.001536' z=1.19 t=5.18 Gyr>,\n",
       " <TimeStep 'snapshots/h329.cosmo50PLK.3072gst5HbwK1BH.001632' z=1.09 t=5.50 Gyr>,\n",
       " <TimeStep 'snapshots/h329.cosmo50PLK.3072gst5HbwK1BH.001728' z=1.01 t=5.83 Gyr>,\n",
       " <TimeStep 'snapshots/h329.cosmo50PLK.3072gst5HbwK1BH.001740' z=1.00 t=5.87 Gyr>,\n",
       " <TimeStep 'snapshots/h329.cosmo50PLK.3072gst5HbwK1BH.001824' z=0.93 t=6.15 Gyr>,\n",
       " <TimeStep 'snapshots/h329.cosmo50PLK.3072gst5HbwK1BH.001920' z=0.86 t=6.47 Gyr>,\n",
       " <TimeStep 'snapshots/h329.cosmo50PLK.3072gst5HbwK1BH.002016' z=0.80 t=6.80 Gyr>,\n",
       " <TimeStep 'snapshots/h329.cosmo50PLK.3072gst5HbwK1BH.002088' z=0.75 t=7.04 Gyr>,\n",
       " <TimeStep 'snapshots/h329.cosmo50PLK.3072gst5HbwK1BH.002112' z=0.73 t=7.12 Gyr>,\n",
       " <TimeStep 'snapshots/h329.cosmo50PLK.3072gst5HbwK1BH.002208' z=0.68 t=7.44 Gyr>,\n",
       " <TimeStep 'snapshots/h329.cosmo50PLK.3072gst5HbwK1BH.002304' z=0.62 t=7.77 Gyr>,\n",
       " <TimeStep 'snapshots/h329.cosmo50PLK.3072gst5HbwK1BH.002400' z=0.57 t=8.09 Gyr>,\n",
       " <TimeStep 'snapshots/h329.cosmo50PLK.3072gst5HbwK1BH.002496' z=0.53 t=8.41 Gyr>,\n",
       " <TimeStep 'snapshots/h329.cosmo50PLK.3072gst5HbwK1BH.002554' z=0.50 t=8.61 Gyr>,\n",
       " <TimeStep 'snapshots/h329.cosmo50PLK.3072gst5HbwK1BH.002592' z=0.48 t=8.74 Gyr>,\n",
       " <TimeStep 'snapshots/h329.cosmo50PLK.3072gst5HbwK1BH.002688' z=0.44 t=9.06 Gyr>,\n",
       " <TimeStep 'snapshots/h329.cosmo50PLK.3072gst5HbwK1BH.002784' z=0.40 t=9.38 Gyr>,\n",
       " <TimeStep 'snapshots/h329.cosmo50PLK.3072gst5HbwK1BH.002880' z=0.36 t=9.71 Gyr>,\n",
       " <TimeStep 'snapshots/h329.cosmo50PLK.3072gst5HbwK1BH.002976' z=0.33 t=10.03 Gyr>,\n",
       " <TimeStep 'snapshots/h329.cosmo50PLK.3072gst5HbwK1BH.003072' z=0.29 t=10.35 Gyr>,\n",
       " <TimeStep 'snapshots/h329.cosmo50PLK.3072gst5HbwK1BH.003168' z=0.26 t=10.68 Gyr>,\n",
       " <TimeStep 'snapshots/h329.cosmo50PLK.3072gst5HbwK1BH.003195' z=0.25 t=10.77 Gyr>,\n",
       " <TimeStep 'snapshots/h329.cosmo50PLK.3072gst5HbwK1BH.003264' z=0.23 t=11.00 Gyr>,\n",
       " <TimeStep 'snapshots/h329.cosmo50PLK.3072gst5HbwK1BH.003360' z=0.20 t=11.32 Gyr>,\n",
       " <TimeStep 'snapshots/h329.cosmo50PLK.3072gst5HbwK1BH.003456' z=0.17 t=11.65 Gyr>,\n",
       " <TimeStep 'snapshots/h329.cosmo50PLK.3072gst5HbwK1BH.003552' z=0.14 t=11.97 Gyr>,\n",
       " <TimeStep 'snapshots/h329.cosmo50PLK.3072gst5HbwK1BH.003606' z=0.12 t=12.15 Gyr>,\n",
       " <TimeStep 'snapshots/h329.cosmo50PLK.3072gst5HbwK1BH.003648' z=0.11 t=12.29 Gyr>,\n",
       " <TimeStep 'snapshots/h329.cosmo50PLK.3072gst5HbwK1BH.003744' z=0.09 t=12.62 Gyr>,\n",
       " <TimeStep 'snapshots/h329.cosmo50PLK.3072gst5HbwK1BH.003840' z=0.06 t=12.94 Gyr>,\n",
       " <TimeStep 'snapshots/h329.cosmo50PLK.3072gst5HbwK1BH.003936' z=0.04 t=13.26 Gyr>,\n",
       " <TimeStep 'snapshots/h329.cosmo50PLK.3072gst5HbwK1BH.004032' z=0.02 t=13.59 Gyr>,\n",
       " <TimeStep 'snapshots/h329.cosmo50PLK.3072gst5HbwK1BH.004096' z=0.00 t=13.80 Gyr>]"
      ]
     },
     "execution_count": 69,
     "metadata": {},
     "output_type": "execute_result"
    }
   ],
   "source": [
    "s.timesteps"
   ]
  },
  {
   "cell_type": "code",
   "execution_count": 5,
   "metadata": {},
   "outputs": [
    {
     "data": {
      "text/plain": [
       "12"
      ]
     },
     "execution_count": 5,
     "metadata": {},
     "output_type": "execute_result"
    }
   ],
   "source": [
    "def nhalos(tstep):\n",
    "    l = 0\n",
    "    while True:\n",
    "        try:\n",
    "            tstep.halos[l]\n",
    "            l += 1\n",
    "        except:\n",
    "            break\n",
    "    return l\n",
    "\n",
    "nhalos(s.timesteps[0])"
   ]
  },
  {
   "cell_type": "code",
   "execution_count": 6,
   "metadata": {},
   "outputs": [],
   "source": [
    "import pynbody\n",
    "pynbody.config['halo-class-priority'] =  [pynbody.halo.ahf.AHFCatalogue,\n",
    "                                          pynbody.halo.GrpCatalogue,\n",
    "                                          pynbody.halo.AmigaGrpCatalogue,\n",
    "                                          pynbody.halo.legacy.RockstarIntermediateCatalogue,\n",
    "                                          pynbody.halo.rockstar.RockstarCatalogue,\n",
    "                                          pynbody.halo.subfind.SubfindCatalogue,\n",
    "                                          pynbody.halo.hop.HOPCatalogue]\n",
    "\n",
    "path = '/home/christenc/Data/Sims/h329.cosmo50PLK.3072g/h329.cosmo50PLK.3072gst5HbwK1BH/snapshots/'"
   ]
  },
  {
   "cell_type": "code",
   "execution_count": 68,
   "metadata": {},
   "outputs": [
    {
     "name": "stdout",
     "output_type": "stream",
     "text": [
      "['h329.cosmo50PLK.3072gst5HbwK1BH.004096', 'h329.cosmo50PLK.3072gst5HbwK1BH.004032', 'h329.cosmo50PLK.3072gst5HbwK1BH.003936', 'h329.cosmo50PLK.3072gst5HbwK1BH.003840', 'h329.cosmo50PLK.3072gst5HbwK1BH.003744', 'h329.cosmo50PLK.3072gst5HbwK1BH.003648', 'h329.cosmo50PLK.3072gst5HbwK1BH.003606', 'h329.cosmo50PLK.3072gst5HbwK1BH.003552', 'h329.cosmo50PLK.3072gst5HbwK1BH.003456', 'h329.cosmo50PLK.3072gst5HbwK1BH.003360', 'h329.cosmo50PLK.3072gst5HbwK1BH.003264', 'h329.cosmo50PLK.3072gst5HbwK1BH.003195', 'h329.cosmo50PLK.3072gst5HbwK1BH.003168', 'h329.cosmo50PLK.3072gst5HbwK1BH.003072', 'h329.cosmo50PLK.3072gst5HbwK1BH.002976', 'h329.cosmo50PLK.3072gst5HbwK1BH.002880', 'h329.cosmo50PLK.3072gst5HbwK1BH.002784', 'h329.cosmo50PLK.3072gst5HbwK1BH.002688', 'h329.cosmo50PLK.3072gst5HbwK1BH.002592', 'h329.cosmo50PLK.3072gst5HbwK1BH.002554', 'h329.cosmo50PLK.3072gst5HbwK1BH.002496', 'h329.cosmo50PLK.3072gst5HbwK1BH.002400', 'h329.cosmo50PLK.3072gst5HbwK1BH.002304', 'h329.cosmo50PLK.3072gst5HbwK1BH.002208', 'h329.cosmo50PLK.3072gst5HbwK1BH.002112', 'h329.cosmo50PLK.3072gst5HbwK1BH.002088', 'h329.cosmo50PLK.3072gst5HbwK1BH.002016', 'h329.cosmo50PLK.3072gst5HbwK1BH.001920', 'h329.cosmo50PLK.3072gst5HbwK1BH.001824', 'h329.cosmo50PLK.3072gst5HbwK1BH.001740', 'h329.cosmo50PLK.3072gst5HbwK1BH.001728', 'h329.cosmo50PLK.3072gst5HbwK1BH.001632', 'h329.cosmo50PLK.3072gst5HbwK1BH.001536', 'h329.cosmo50PLK.3072gst5HbwK1BH.001475', 'h329.cosmo50PLK.3072gst5HbwK1BH.001440', 'h329.cosmo50PLK.3072gst5HbwK1BH.001344', 'h329.cosmo50PLK.3072gst5HbwK1BH.001269', 'h329.cosmo50PLK.3072gst5HbwK1BH.001248', 'h329.cosmo50PLK.3072gst5HbwK1BH.001152', 'h329.cosmo50PLK.3072gst5HbwK1BH.001106', 'h329.cosmo50PLK.3072gst5HbwK1BH.001056', 'h329.cosmo50PLK.3072gst5HbwK1BH.000974', 'h329.cosmo50PLK.3072gst5HbwK1BH.000960', 'h329.cosmo50PLK.3072gst5HbwK1BH.000864', 'h329.cosmo50PLK.3072gst5HbwK1BH.000776', 'h329.cosmo50PLK.3072gst5HbwK1BH.000768', 'h329.cosmo50PLK.3072gst5HbwK1BH.000672', 'h329.cosmo50PLK.3072gst5HbwK1BH.000637', 'h329.cosmo50PLK.3072gst5HbwK1BH.000576', 'h329.cosmo50PLK.3072gst5HbwK1BH.000480', 'h329.cosmo50PLK.3072gst5HbwK1BH.000456', 'h329.cosmo50PLK.3072gst5HbwK1BH.000384', 'h329.cosmo50PLK.3072gst5HbwK1BH.000347', 'h329.cosmo50PLK.3072gst5HbwK1BH.000288', 'h329.cosmo50PLK.3072gst5HbwK1BH.000275', 'h329.cosmo50PLK.3072gst5HbwK1BH.000225', 'h329.cosmo50PLK.3072gst5HbwK1BH.000192', 'h329.cosmo50PLK.3072gst5HbwK1BH.000188', 'h329.cosmo50PLK.3072gst5HbwK1BH.000139', 'h329.cosmo50PLK.3072gst5HbwK1BH.000107', 'h329.cosmo50PLK.3072gst5HbwK1BH.000096', 'h329.cosmo50PLK.3072gst5HbwK1BH.000071']\n"
     ]
    }
   ],
   "source": [
    "snapshots = ['h329.cosmo50PLK.3072gst5HbwK1BH.000071',\n",
    "             'h329.cosmo50PLK.3072gst5HbwK1BH.000096',\n",
    "             'h329.cosmo50PLK.3072gst5HbwK1BH.000107',\n",
    "             'h329.cosmo50PLK.3072gst5HbwK1BH.000139',\n",
    "             'h329.cosmo50PLK.3072gst5HbwK1BH.000188',\n",
    "             'h329.cosmo50PLK.3072gst5HbwK1BH.000192',\n",
    "             'h329.cosmo50PLK.3072gst5HbwK1BH.000225',\n",
    "             'h329.cosmo50PLK.3072gst5HbwK1BH.000275',\n",
    "             'h329.cosmo50PLK.3072gst5HbwK1BH.000288',\n",
    "             'h329.cosmo50PLK.3072gst5HbwK1BH.000347',\n",
    "             'h329.cosmo50PLK.3072gst5HbwK1BH.000384',\n",
    "             'h329.cosmo50PLK.3072gst5HbwK1BH.000456',\n",
    "             'h329.cosmo50PLK.3072gst5HbwK1BH.000480',\n",
    "             'h329.cosmo50PLK.3072gst5HbwK1BH.000576',\n",
    "             'h329.cosmo50PLK.3072gst5HbwK1BH.000637',\n",
    "             'h329.cosmo50PLK.3072gst5HbwK1BH.000672',\n",
    "             'h329.cosmo50PLK.3072gst5HbwK1BH.000768',\n",
    "             'h329.cosmo50PLK.3072gst5HbwK1BH.000776',\n",
    "             'h329.cosmo50PLK.3072gst5HbwK1BH.000864',\n",
    "             'h329.cosmo50PLK.3072gst5HbwK1BH.000960',\n",
    "             'h329.cosmo50PLK.3072gst5HbwK1BH.000974',\n",
    "             'h329.cosmo50PLK.3072gst5HbwK1BH.001056',\n",
    "             'h329.cosmo50PLK.3072gst5HbwK1BH.001106',\n",
    "             'h329.cosmo50PLK.3072gst5HbwK1BH.001152',\n",
    "             'h329.cosmo50PLK.3072gst5HbwK1BH.001248',\n",
    "             'h329.cosmo50PLK.3072gst5HbwK1BH.001269',\n",
    "             'h329.cosmo50PLK.3072gst5HbwK1BH.001344',\n",
    "             'h329.cosmo50PLK.3072gst5HbwK1BH.001440',\n",
    "             'h329.cosmo50PLK.3072gst5HbwK1BH.001475',\n",
    "             'h329.cosmo50PLK.3072gst5HbwK1BH.001536',\n",
    "             'h329.cosmo50PLK.3072gst5HbwK1BH.001632',\n",
    "             'h329.cosmo50PLK.3072gst5HbwK1BH.001728',\n",
    "             'h329.cosmo50PLK.3072gst5HbwK1BH.001740',\n",
    "             'h329.cosmo50PLK.3072gst5HbwK1BH.001824',\n",
    "             'h329.cosmo50PLK.3072gst5HbwK1BH.001920',\n",
    "             'h329.cosmo50PLK.3072gst5HbwK1BH.002016',\n",
    "             'h329.cosmo50PLK.3072gst5HbwK1BH.002088',\n",
    "             'h329.cosmo50PLK.3072gst5HbwK1BH.002112',\n",
    "             'h329.cosmo50PLK.3072gst5HbwK1BH.002208',\n",
    "             'h329.cosmo50PLK.3072gst5HbwK1BH.002304',\n",
    "             'h329.cosmo50PLK.3072gst5HbwK1BH.002400',\n",
    "             'h329.cosmo50PLK.3072gst5HbwK1BH.002496',\n",
    "             'h329.cosmo50PLK.3072gst5HbwK1BH.002554',\n",
    "             'h329.cosmo50PLK.3072gst5HbwK1BH.002592',\n",
    "             'h329.cosmo50PLK.3072gst5HbwK1BH.002688',\n",
    "             'h329.cosmo50PLK.3072gst5HbwK1BH.002784',\n",
    "             'h329.cosmo50PLK.3072gst5HbwK1BH.002880',\n",
    "             'h329.cosmo50PLK.3072gst5HbwK1BH.002976',\n",
    "             'h329.cosmo50PLK.3072gst5HbwK1BH.003072',\n",
    "             'h329.cosmo50PLK.3072gst5HbwK1BH.003168',\n",
    "             'h329.cosmo50PLK.3072gst5HbwK1BH.003195',\n",
    "             'h329.cosmo50PLK.3072gst5HbwK1BH.003264',\n",
    "             'h329.cosmo50PLK.3072gst5HbwK1BH.003360',\n",
    "             'h329.cosmo50PLK.3072gst5HbwK1BH.003456',\n",
    "             'h329.cosmo50PLK.3072gst5HbwK1BH.003552',\n",
    "             'h329.cosmo50PLK.3072gst5HbwK1BH.003606',\n",
    "             'h329.cosmo50PLK.3072gst5HbwK1BH.003648',\n",
    "             'h329.cosmo50PLK.3072gst5HbwK1BH.003744',\n",
    "             'h329.cosmo50PLK.3072gst5HbwK1BH.003840',\n",
    "             'h329.cosmo50PLK.3072gst5HbwK1BH.003936',\n",
    "             'h329.cosmo50PLK.3072gst5HbwK1BH.004032',\n",
    "             'h329.cosmo50PLK.3072gst5HbwK1BH.004096']\n",
    "\n",
    "print(list(np.flip(snapshots)))"
   ]
  },
  {
   "cell_type": "code",
   "execution_count": 54,
   "metadata": {},
   "outputs": [],
   "source": [
    "i = 18\n",
    "print(tstep)\n",
    "haloidstangos = []\n",
    "NDMtangos = []\n",
    "for i in range(nhalos(s.timesteps[tstep])):\n",
    "    halo = s.timesteps[tstep].halos[i]\n",
    "    if halo['n_star'] != 0:\n",
    "        NDMtangos.append(halo.NDM)\n",
    "        haloidstangos.append(i)\n",
    "        \n",
    "NDMtangos = np.array(NDMtangos)\n",
    "\n",
    "\n",
    "sim = pynbody.load(path+snapshots[tstep])\n",
    "h = sim.halos()\n",
    "\n",
    "NDM = []\n",
    "haloids = []\n",
    "for halo in h:\n",
    "    if halo.properties['n_star'] != 0:\n",
    "        NDM.append(halo.properties['npart']-halo.properties['n_star']-halo.properties['n_gas'])\n",
    "        haloids.append(halo.properties['#ID']+1)\n",
    "\n",
    "NDM = np.array(NDM)\n",
    "haloids = np.array(haloids)\n",
    "\n",
    "print('Tangos # of halos:', len(NDMtangos))\n",
    "print('Pynbody # of halos w/ NDM > 1000:',len(NDM[NDM>1000]))\n",
    "print('Halo id of last halo w/ NDM > 1000:', haloids[NDM>1000][-1])"
   ]
  },
  {
   "cell_type": "code",
   "execution_count": 55,
   "metadata": {},
   "outputs": [
    {
     "data": {
      "image/png": "[encoded data removed]",
      "text/plain": [
       "<Figure size 1200x800 with 1 Axes>"
      ]
     },
     "metadata": {
      "needs_background": "light"
     },
     "output_type": "display_data"
    }
   ],
   "source": [
    "plt.figure(dpi=200)\n",
    "plt.scatter(haloids,NDM,c='b',s=2)\n",
    "plt.scatter(haloids[NDM>1000],NDM[NDM>1000],c='r',s=7)\n",
    "plt.scatter(np.array(haloidstangos)+1, NDMtangos, c='k', s=1)\n",
    "# plt.xlim(80,200)\n",
    "# plt.ylim(3e2,2e3)\n",
    "plt.loglog()\n",
    "plt.show()"
   ]
  },
  {
   "cell_type": "code",
   "execution_count": 53,
   "metadata": {},
   "outputs": [
    {
     "name": "stdout",
     "output_type": "stream",
     "text": [
      "0\n",
      "1\n",
      "2\n",
      "3\n",
      "4\n",
      "5\n",
      "6\n",
      "7\n",
      "8\n",
      "9\n",
      "10\n",
      "11\n",
      "12\n",
      "13\n",
      "14\n",
      "15\n",
      "16\n",
      "17\n",
      "18\n"
     ]
    },
    {
     "ename": "AssertionError",
     "evalue": "",
     "output_type": "error",
     "traceback": [
      "\u001b[0;31m--------------------------------\u001b[0m",
      "\u001b[0;31mAssertionError\u001b[0mTraceback (most recent call last)",
      "\u001b[0;32m<ipython-input-53-46a82120d239>\u001b[0m in \u001b[0;36m<module>\u001b[0;34m\u001b[0m\n\u001b[1;32m     30\u001b[0m \u001b[0;31m#     print('Halo id of last halo w/ NDM > 1000:', haloids[NDM>1000][-1])\u001b[0m\u001b[0;34m\u001b[0m\u001b[0;34m\u001b[0m\u001b[0;34m\u001b[0m\u001b[0m\n\u001b[1;32m     31\u001b[0m \u001b[0;34m\u001b[0m\u001b[0m\n\u001b[0;32m---> 32\u001b[0;31m     \u001b[0;32massert\u001b[0m \u001b[0mlen\u001b[0m\u001b[0;34m(\u001b[0m\u001b[0mNDMtangos\u001b[0m\u001b[0;34m)\u001b[0m \u001b[0;34m==\u001b[0m \u001b[0mlen\u001b[0m\u001b[0;34m(\u001b[0m\u001b[0mNDM\u001b[0m\u001b[0;34m[\u001b[0m\u001b[0mNDM\u001b[0m\u001b[0;34m>\u001b[0m\u001b[0;36m1000\u001b[0m\u001b[0;34m]\u001b[0m\u001b[0;34m)\u001b[0m\u001b[0;34m\u001b[0m\u001b[0;34m\u001b[0m\u001b[0m\n\u001b[0m\u001b[1;32m     33\u001b[0m \u001b[0;34m\u001b[0m\u001b[0m\n\u001b[1;32m     34\u001b[0m \u001b[0;34m\u001b[0m\u001b[0m\n",
      "\u001b[0;31mAssertionError\u001b[0m: "
     ]
    }
   ],
   "source": [
    "for tstep in range(len(s.timesteps)):\n",
    "    print(tstep)\n",
    "\n",
    "    haloidstangos = []\n",
    "    NDMtangos = []\n",
    "    for i in range(nhalos(s.timesteps[tstep])):\n",
    "        halo = s.timesteps[tstep].halos[i]\n",
    "        if halo['n_star'] != 0:\n",
    "            NDMtangos.append(halo.NDM)\n",
    "            haloidstangos.append(i)\n",
    "\n",
    "    NDMtangos = np.array(NDMtangos)\n",
    "\n",
    "\n",
    "    sim = pynbody.load(path+snapshots[tstep])\n",
    "    h = sim.halos()\n",
    "\n",
    "    NDM = []\n",
    "    haloids = []\n",
    "    for halo in h:\n",
    "        if halo.properties['n_star'] != 0:\n",
    "            NDM.append(halo.properties['npart']-halo.properties['n_star']-halo.properties['n_gas'])\n",
    "            haloids.append(halo.properties['#ID']+1)\n",
    "\n",
    "    NDM = np.array(NDM)\n",
    "    haloids = np.array(haloids)\n",
    "    \n",
    "#     print('Tangos # of halos:', len(NDMtangos))\n",
    "#     print('Pynbody # of halos w/ NDM > 1000:',len(NDM[NDM>1000]))\n",
    "#     print('Halo id of last halo w/ NDM > 1000:', haloids[NDM>1000][-1])\n",
    "    \n",
    "    assert len(NDMtangos) == len(NDM[NDM>1000])\n",
    "\n",
    "\n",
    "# plt.figure(dpi=200)\n",
    "# plt.scatter(range(1,len(h)),NDM,c='b',s=2)\n",
    "# plt.scatter(haloids[NDM>1000],NDM[NDM>1000],c='r',s=7)\n",
    "# plt.scatter(range(1,nhalos(s.timesteps[tstep])+1), NDMtangos, c='k', s=1)\n",
    "# plt.loglog()\n",
    "# plt.show()"
   ]
  },
  {
   "cell_type": "code",
   "execution_count": 56,
   "metadata": {},
   "outputs": [
    {
     "name": "stdout",
     "output_type": "stream",
     "text": [
      "0\n",
      "1\n",
      "2\n",
      "3\n",
      "4\n"
     ]
    },
    {
     "ename": "AssertionError",
     "evalue": "",
     "output_type": "error",
     "traceback": [
      "\u001b[0;31m--------------------------------\u001b[0m",
      "\u001b[0;31mAssertionError\u001b[0mTraceback (most recent call last)",
      "\u001b[0;32m<ipython-input-56-1976ff45543a>\u001b[0m in \u001b[0;36m<module>\u001b[0;34m\u001b[0m\n\u001b[1;32m      8\u001b[0m             \u001b[0mNDMtangos\u001b[0m\u001b[0;34m.\u001b[0m\u001b[0mappend\u001b[0m\u001b[0;34m(\u001b[0m\u001b[0mhalo\u001b[0m\u001b[0;34m.\u001b[0m\u001b[0mNDM\u001b[0m\u001b[0;34m)\u001b[0m\u001b[0;34m\u001b[0m\u001b[0;34m\u001b[0m\u001b[0m\n\u001b[1;32m      9\u001b[0m \u001b[0;34m\u001b[0m\u001b[0m\n\u001b[0;32m---> 10\u001b[0;31m     \u001b[0;32massert\u001b[0m \u001b[0mlen\u001b[0m\u001b[0;34m(\u001b[0m\u001b[0mNDMtangos\u001b[0m\u001b[0;34m)\u001b[0m \u001b[0;34m==\u001b[0m \u001b[0mlen\u001b[0m\u001b[0;34m(\u001b[0m\u001b[0mnp\u001b[0m\u001b[0;34m.\u001b[0m\u001b[0munique\u001b[0m\u001b[0;34m(\u001b[0m\u001b[0mNDMtangos\u001b[0m\u001b[0;34m)\u001b[0m\u001b[0;34m)\u001b[0m\u001b[0;34m\u001b[0m\u001b[0;34m\u001b[0m\u001b[0m\n\u001b[0m\u001b[1;32m     11\u001b[0m \u001b[0;34m\u001b[0m\u001b[0m\n",
      "\u001b[0;31mAssertionError\u001b[0m: "
     ]
    }
   ],
   "source": [
    "for tstep in range(len(s.timesteps)):\n",
    "    print(tstep)\n",
    "\n",
    "    NDMtangos = []\n",
    "    for i in range(nhalos(s.timesteps[tstep])):\n",
    "        halo = s.timesteps[tstep].halos[i]\n",
    "        if halo['n_star'] != 0:\n",
    "            NDMtangos.append(halo.NDM)\n",
    "    \n",
    "    assert len(NDMtangos) == len(np.unique(NDMtangos))\n",
    "    "
   ]
  },
  {
   "cell_type": "markdown",
   "metadata": {},
   "source": [
    "How do we pick the halos we are interested in via pynbody? We choose all halos with n_star != 0. So, Let's try to do that in tangos. Will we get the same values? "
   ]
  },
  {
   "cell_type": "code",
   "execution_count": 70,
   "metadata": {},
   "outputs": [
    {
     "name": "stdout",
     "output_type": "stream",
     "text": [
      "0\n",
      "1\n",
      "2\n",
      "3\n",
      "4\n",
      "5\n",
      "6\n",
      "7\n",
      "8\n",
      "9\n",
      "10\n",
      "11\n",
      "12\n",
      "13\n",
      "Nope! 14\n",
      "15\n",
      "Nope! 16\n",
      "17\n",
      "Nope! 18\n",
      "19\n",
      "20\n",
      "21\n",
      "22\n",
      "23\n",
      "24\n",
      "25\n",
      "26\n",
      "27\n",
      "28\n",
      "29\n",
      "Nope! 30\n",
      "Nope! 31\n",
      "Nope! 32\n",
      "Nope! 33\n",
      "34\n",
      "35\n",
      "36\n",
      "37\n",
      "38\n",
      "39\n",
      "40\n",
      "41\n",
      "42\n",
      "43\n",
      "44\n",
      "45\n",
      "46\n",
      "47\n",
      "48\n",
      "49\n",
      "Nope! 50\n",
      "51\n",
      "52\n",
      "53\n",
      "54\n",
      "55\n",
      "56\n",
      "57\n",
      "58\n",
      "59\n",
      "60\n",
      "61\n"
     ]
    }
   ],
   "source": [
    "for tstep in range(len(s.timesteps)):\n",
    "    haloids_tangos = []\n",
    "    for i in range(1,nhalos(s.timesteps[tstep])+1):\n",
    "        halo = s.timesteps[tstep].halos[i-1]\n",
    "        if halo['n_star'] != 0 and halo.NDM > 1000:\n",
    "            haloids_tangos.append(i)\n",
    "\n",
    "    # print(haloids_tangos)\n",
    "\n",
    "    sim = pynbody.load(path+snapshots[tstep])\n",
    "    h = sim.halos()\n",
    "\n",
    "    haloids_pyn = []\n",
    "    for i in range(1,len(h)):\n",
    "        halo = h[i]\n",
    "        if halo.properties['n_star'] != 0 and halo.properties['npart']-halo.properties['n_star']-halo.properties['n_gas'] > 1000:\n",
    "            haloids_pyn.append(i)\n",
    "\n",
    "    # print(haloids_pyn)\n",
    "\n",
    "    if haloids_tangos == haloids_pyn:\n",
    "        print(tstep)\n",
    "    else:\n",
    "        print('Nope!',tstep)"
   ]
  },
  {
   "cell_type": "code",
   "execution_count": 8,
   "metadata": {},
   "outputs": [
    {
     "name": "stdout",
     "output_type": "stream",
     "text": [
      "T: [1, 2, 3, 4, 5, 6, 7, 8, 9, 10, 11, 12, 13, 14, 15, 16, 17, 19, 20, 21, 22, 23, 24, 25, 26, 27, 28, 29, 30, 32, 37, 38, 39, 41, 43, 44, 45, 47, 49, 55, 56, 58, 65, 67, 76, 79, 92, 98, 104, 108, 114, 120, 126, 135, 177, 324, 384, 526, 682]\n",
      "P: [1, 2, 3, 4, 5, 6, 7, 8, 9, 10, 11, 12, 13, 14, 15, 16, 17, 19, 20, 21, 22, 23, 24, 25, 26, 27, 28, 29, 30, 32, 37, 38, 39, 41, 43, 44, 45, 47, 49, 55, 56, 58, 65, 67, 76, 79, 92, 98, 104, 108, 114, 120, 126, 135, 177, 324, 384, 526, 683]\n",
      "T: [1, 2, 3, 4, 5, 6, 7, 8, 9, 10, 11, 12, 13, 16, 17, 18, 19, 20, 22, 24, 25, 26, 27, 29, 30, 32, 35, 37, 38, 42, 43, 45, 46, 53, 54, 57, 62, 63, 72, 73, 78, 86, 91, 98, 103, 136, 172, 190, 250, 483, 510, 614]\n",
      "P: [1, 2, 3, 4, 5, 6, 7, 8, 9, 10, 11, 12, 13, 16, 17, 18, 19, 20, 22, 24, 25, 26, 27, 29, 30, 32, 35, 37, 38, 42, 43, 45, 46, 53, 54, 57, 62, 63, 72, 73, 78, 86, 91, 98, 103, 136, 172, 190, 251, 484, 511, 615]\n",
      "T: [1, 2, 3, 4, 5, 6, 7, 8, 9, 10, 11, 12, 13, 14, 15, 17, 18, 19, 21, 22, 24, 25, 26, 29, 33, 35, 37, 38, 39, 41, 45, 52, 53, 55, 62, 66, 68, 76, 78, 80, 106, 110, 111, 146, 167, 170, 184, 204, 255, 386, 794]\n",
      "P: [1, 2, 3, 4, 5, 6, 7, 8, 9, 10, 11, 12, 13, 14, 15, 17, 18, 19, 21, 22, 24, 25, 26, 29, 33, 35, 37, 38, 39, 41, 45, 52, 53, 55, 62, 66, 68, 76, 78, 80, 106, 110, 111, 146, 167, 170, 184, 204, 255, 386]\n",
      "T: [1, 2, 3, 5, 9, 10, 11, 14, 16, 18, 19, 22, 24, 27, 28, 31, 34, 36, 42, 44, 51, 73, 74, 79, 106, 142, 151, 168, 279, 356, 786, 787]\n",
      "P: [1, 2, 3, 5, 9, 10, 11, 14, 16, 18, 19, 22, 24, 27, 28, 31, 34, 36, 42, 44, 51, 73, 74, 79, 106, 142, 151, 168, 279, 356]\n",
      "T: [1, 2, 3, 5, 11, 12, 13, 16, 17, 18, 19, 20, 25, 29, 34, 36, 40, 44, 55, 74, 76, 79, 131, 137, 140, 142, 164, 170, 446, 513, 772]\n",
      "P: [1, 2, 3, 5, 11, 12, 13, 16, 17, 18, 19, 20, 25, 29, 34, 36, 40, 44, 55, 74, 76, 79, 131, 137, 140, 142, 164, 170, 446, 513]\n",
      "T: [1, 2, 3, 5, 11, 12, 13, 16, 17, 18, 20, 22, 25, 29, 34, 36, 40, 45, 56, 73, 75, 80, 141, 144, 165, 169, 458, 469, 759]\n",
      "P: [1, 2, 3, 5, 11, 12, 13, 16, 17, 18, 20, 22, 25, 29, 34, 36, 40, 45, 56, 73, 75, 80, 141, 144, 165, 169, 459, 470]\n",
      "T: [1, 2, 3, 5, 11, 12, 13, 16, 17, 19, 20, 25, 28, 32, 35, 39, 50, 62, 70, 73, 80, 138, 144, 157, 168, 494, 752]\n",
      "P: [1, 2, 3, 5, 11, 12, 13, 16, 17, 19, 20, 25, 28, 32, 35, 39, 50, 62, 70, 73, 80, 138, 144, 157, 168, 494]\n",
      "T: [1, 4, 11, 12, 15, 16, 17, 25, 28, 30, 38, 48, 59, 64, 98, 101, 114, 124, 133, 143, 145, 297, 443]\n",
      "P: [1, 4, 11, 12, 15, 16, 17, 25, 28, 30, 38, 48, 59, 64, 98, 101, 114, 124, 133, 143, 145, 298, 444]\n"
     ]
    }
   ],
   "source": [
    "for tstep in [14,16,18,30,31,32,33,50]:\n",
    "    haloids_tangos = []\n",
    "    for i in range(1,nhalos(s.timesteps[tstep])+1):\n",
    "        halo = s.timesteps[tstep].halos[i-1]\n",
    "        if halo['n_star'] != 0:\n",
    "            haloids_tangos.append(i)\n",
    "\n",
    "    # print(haloids_tangos)\n",
    "\n",
    "    sim = pynbody.load(path+snapshots[tstep])\n",
    "    h = sim.halos()\n",
    "\n",
    "    haloids_pyn = []\n",
    "    for i in range(1,len(h)):\n",
    "        halo = h[i]\n",
    "        if halo.properties['n_star'] != 0 and halo.properties['npart']-halo.properties['n_star']-halo.properties['n_gas']>1000:\n",
    "            haloids_pyn.append(i)\n",
    "\n",
    "    # print(haloids_pyn)\n",
    "\n",
    "    if haloids_tangos == haloids_pyn:\n",
    "        print(tstep)\n",
    "    else:\n",
    "        print(\"T:\",haloids_tangos)\n",
    "        print(\"P:\",haloids_pyn)"
   ]
  },
  {
   "cell_type": "code",
   "execution_count": 97,
   "metadata": {},
   "outputs": [
    {
     "name": "stdout",
     "output_type": "stream",
     "text": [
      "17340.72524146 16273.8306588 17137.46247688 [80.0, 80.0]\n",
      "17225.27227742 16182.26619762 16580.15570612 [22.82, 22.82]\n",
      "7.2057298618849\n",
      "27863 161\n",
      "27863 161\n",
      "17340.72524146 16273.8306588 17137.46247688 80.0\n",
      "17225.27227742 16182.26619762 16580.15570612 [22.82, 22.82]\n",
      "7.2057298618849\n"
     ]
    }
   ],
   "source": [
    "s = tangos.get_simulation('snapshots')\n",
    "\n",
    "tstep = 11\n",
    "tangosids = [30]\n",
    "pynids = [30]\n",
    "\n",
    "for tangosid, pynid in zip(tangosids,pynids):\n",
    "    halo1 = s.timesteps[tstep].halos[0]\n",
    "    h1x, h1y, h1z, h1r = halo1['Xc'], halo1['Yc'], halo1['Zc'], halo1['Rvir']\n",
    "    print(h1x, h1y, h1z, h1r)\n",
    "    halo = s.timesteps[tstep].halos[tangosid-1]\n",
    "    x, y, z, r = halo['Xc'], halo['Yc'], halo['Zc'], halo['Rvir']\n",
    "    print(x, y, z, r)\n",
    "    \n",
    "    print(np.sqrt((x-h1x)**2 + (y-h1y)**2 + (z-h1z)**2)/h1r[0])\n",
    "    \n",
    "    \n",
    "    \n",
    "    print(halo.NDM, halo['n_star'])\n",
    "\n",
    "    sim = pynbody.load(path+snapshots[tstep])\n",
    "    h = sim.halos()\n",
    "    halo = h[1]\n",
    "    hp = halo.properties\n",
    "    \n",
    "    h1x, h1y, h1z, h1r = hp['Xc'], hp['Yc'], hp['Zc'], hp['Rvir']\n",
    "    \n",
    "    sim = pynbody.load(path+snapshots[tstep])\n",
    "    h = sim.halos()\n",
    "    halo = h[pynid]\n",
    "    print(len(halo) - len(halo.s) - len(halo.g), len(halo.s))\n",
    "    hp = halo.properties\n",
    "    x, y, z = hp['Xc'], hp['Yc'], hp['Zc']\n",
    "    print(h1x, h1y, h1z, h1r)\n",
    "    print(x, y, z, r)\n",
    "    print(np.sqrt((x-h1x)**2 + (y-h1y)**2 + (z-h1z)**2)/h1r)\n"
   ]
  },
  {
   "cell_type": "code",
   "execution_count": null,
   "metadata": {},
   "outputs": [],
   "source": []
  },
  {
   "cell_type": "code",
   "execution_count": 98,
   "metadata": {},
   "outputs": [
    {
     "name": "stdout",
     "output_type": "stream",
     "text": [
      "[ 32  32  32  32  32  34  34  35  34  33  32  30  31  31  27  19  17  16\n",
      "  25  29  15  13  13  12  11  11  12  13  12  12  12  11  13  13  13  14\n",
      "  14  15  14  13  14  15  15  14  17  16  19  22  55  55  53  65  88 187\n",
      " 204 193 202 198 154]\n"
     ]
    }
   ],
   "source": [
    "halo = s.timesteps[-1].halos[31]\n",
    "halo_num = halo.calculate_for_progenitors('halo_number()')\n",
    "print(halo_num[0])"
   ]
  },
  {
   "cell_type": "code",
   "execution_count": 26,
   "metadata": {},
   "outputs": [
    {
     "name": "stdout",
     "output_type": "stream",
     "text": [
      "30\n"
     ]
    }
   ],
   "source": [
    "for tstep in [30]:\n",
    "    haloids_tangos = []\n",
    "    for i in range(1,nhalos(s.timesteps[tstep])+1):\n",
    "        halo = s.timesteps[tstep].halos[i-1]\n",
    "        if halo['n_star'] != 0 and halo.NDM > 1000:\n",
    "            haloids_tangos.append(i)\n",
    "\n",
    "    # print(haloids_tangos)\n",
    "\n",
    "    sim = pynbody.load(path+snapshots[tstep])\n",
    "    h = sim.halos()\n",
    "\n",
    "    haloids_pyn = []\n",
    "    for i in range(1,len(h)):\n",
    "        halo = h[i]\n",
    "        if halo.properties['n_star'] != 0 and halo.properties['npart']-halo.properties['n_star']-halo.properties['n_gas']>1000:\n",
    "            haloids_pyn.append(i)\n",
    "\n",
    "    # print(haloids_pyn)\n",
    "\n",
    "    if haloids_tangos == haloids_pyn:\n",
    "        print(tstep)\n",
    "    else:\n",
    "        print(\"T:\",haloids_tangos)\n",
    "        print(\"P:\",haloids_pyn)"
   ]
  },
  {
   "cell_type": "code",
   "execution_count": 21,
   "metadata": {},
   "outputs": [
    {
     "data": {
      "text/plain": [
       "'2.15 Gyr'"
      ]
     },
     "execution_count": 21,
     "metadata": {},
     "output_type": "execute_result"
    }
   ],
   "source": [
    "str(s.timesteps[14])[-9:-1]"
   ]
  },
  {
   "cell_type": "code",
   "execution_count": 30,
   "metadata": {},
   "outputs": [
    {
     "name": "stdout",
     "output_type": "stream",
     "text": [
      "h329.cosmo50PLK.3072gst5HbwK1BH.000637\n",
      "h329.cosmo50PLK.3072gst5HbwK1BH.000768\n",
      "h329.cosmo50PLK.3072gst5HbwK1BH.001740\n",
      "h329.cosmo50PLK.3072gst5HbwK1BH.003195\n"
     ]
    }
   ],
   "source": [
    "\n",
    "# Time step 14:\n",
    "# T: [1, 2, 3, 4, 5, 6, 7, 8, 9, 10, 11, 12, 13, 14, 15, 16, 17, 19, 20, 21, 22, 23, 24, 25, 26, 27, 28, 29, 30, 32, 37, 38, 39, 41, 43, 44, 45, 47, 49, 55, 56, 58, 65, 67, 76, 79, 92, 98, 104, 108, 114, 120, 126, 135, 177, 324, 384, 526, 682]\n",
    "# P: [1, 2, 3, 4, 5, 6, 7, 8, 9, 10, 11, 12, 13, 14, 15, 16, 17, 19, 20, 21, 22, 23, 24, 25, 26, 27, 28, 29, 30, 32, 37, 38, 39, 41, 43, 44, 45, 47, 49, 55, 56, 58, 65, 67, 76, 79, 92, 98, 104, 108, 114, 120, 126, 135, 177, 324, 384, 526, 683]\n",
    "\n",
    "# Time step 16\n",
    "# T: [1, 2, 3, 4, 5, 6, 7, 8, 9, 10, 11, 12, 13, 16, 17, 18, 19, 20, 22, 24, 25, 26, 27, 29, 30, 32, 35, 37, 38, 42, 43, 45, 46, 53, 54, 57, 62, 63, 72, 73, 78, 86, 91, 98, 103, 136, 172, 190, 250, 483, 510, 614]\n",
    "# P: [1, 2, 3, 4, 5, 6, 7, 8, 9, 10, 11, 12, 13, 16, 17, 18, 19, 20, 22, 24, 25, 26, 27, 29, 30, 32, 35, 37, 38, 42, 43, 45, 46, 53, 54, 57, 62, 63, 72, 73, 78, 86, 91, 98, 103, 136, 172, 190, 251, 484, 511, 615]\n",
    "\n",
    "# Time step 32\n",
    "# T: [1, 2, 3, 5, 11, 12, 13, 16, 17, 18, 20, 22, 25, 29, 34, 36, 40, 45, 56, 73, 75, 80, 141, 144, 165, 169, 458, 469]\n",
    "# P: [1, 2, 3, 5, 11, 12, 13, 16, 17, 18, 20, 22, 25, 29, 34, 36, 40, 45, 56, 73, 75, 80, 141, 144, 165, 169, 459, 470]\n",
    "\n",
    "# Time step 50\n",
    "# T: [1, 4, 11, 12, 15, 16, 17, 25, 28, 30, 38, 48, 59, 64, 98, 101, 114, 124, 133, 143, 145, 297, 443]\n",
    "# P: [1, 4, 11, 12, 15, 16, 17, 25, 28, 30, 38, 48, 59, 64, 98, 101, 114, 124, 133, 143, 145, 298, 444]\n",
    "for i in [14,16,32,50]:\n",
    "    print(snapshots[i])\n"
   ]
  },
  {
   "cell_type": "code",
   "execution_count": 45,
   "metadata": {},
   "outputs": [],
   "source": [
    "def tangos_to_pyn(snapshot,tangosids):\n",
    "    '''\n",
    "    Converts from tangos halo id to pynbody halo ID. \n",
    "    '''\n",
    "    snapnum = int(snapshot[-4:])\n",
    "#     print(f'Snapshot # {snapnum}', end=' ')\n",
    "    \n",
    "    if snapnum==637:\n",
    "        alltangosids = np.array([1, 2, 3, 4, 5, 6, 7, 8, 9, 10, 11, 12, 13, 14, 15, 16, 17, 19, 20, 21, 22, 23, 24, 25, 26, \n",
    "                                   27, 28, 29, 30, 32, 37, 38, 39, 41, 43, 44, 45, 47, 49, 55, 56, 58, 65, 67, 76, 79, 92, 98, \n",
    "                                   104, 108, 114, 120, 126, 135, 177, 324, 384, 526, 682])\n",
    "        allpynids = np.array([1, 2, 3, 4, 5, 6, 7, 8, 9, 10, 11, 12, 13, 14, 15, 16, 17, 19, 20, 21, 22, 23, 24, 25, 26, 27, \n",
    "                              28, 29, 30, 32, 37, 38, 39, 41, 43, 44, 45, 47, 49, 55, 56, 58, 65, 67, 76, 79, 92, 98, 104, 108, \n",
    "                              114, 120, 126, 135, 177, 324, 384, 526, 683])\n",
    "        pynids = np.empty(shape=np.array(tangosids).shape)\n",
    "        for i in range(len(tangosids)):\n",
    "            if bool(np.isin(tangosids[i],alltangosids)):\n",
    "                pynids[i] = int(np.where(np.isin(alltangosids,tangosids[i]))[0]+1)\n",
    "            else:\n",
    "                pynids[i] = 0\n",
    "                \n",
    "        return pynids\n",
    "    \n",
    "    elif snapnum==768:\n",
    "        alltangosids = np.array([1, 2, 3, 4, 5, 6, 7, 8, 9, 10, 11, 12, 13, 16, 17, 18, 19, 20, 22, 24, 25, 26, 27, 29, 30, 32, 35, 37, 38,\n",
    "                                 42, 43, 45, 46, 53, 54, 57, 62, 63, 72, 73, 78, 86, 91, 98, 103, 136, 172, 190, 250, 483, 510, 614])\n",
    "        allpynids = np.array([1, 2, 3, 4, 5, 6, 7, 8, 9, 10, 11, 12, 13, 16, 17, 18, 19, 20, 22, 24, 25, 26, 27, 29, 30, 32, 35, 37, 38, \n",
    "                              42, 43, 45, 46, 53, 54, 57, 62, 63, 72, 73, 78, 86, 91, 98, 103, 136, 172, 190, 251, 484, 511, 615])\n",
    "        pynids = np.empty(shape=np.array(tangosids).shape)\n",
    "        for i in range(len(tangosids)):\n",
    "            if bool(np.isin(tangosids[i],alltangosids)):\n",
    "                pynids[i] = int(np.where(np.isin(alltangosids,tangosids[i]))[0]+1)\n",
    "            else:\n",
    "                pynids[i] = 0\n",
    "                \n",
    "        return pynids\n",
    "    \n",
    "    elif snapnum==1740:\n",
    "        alltangosids = np.array([1, 2, 3, 5, 11, 12, 13, 16, 17, 18, 20, 22, 25, 29, 34, 36, 40, 45, 56, 73, 75, 80, 141, 144, 165, 169, 458, 469])\n",
    "        allpynids = np.array([1, 2, 3, 5, 11, 12, 13, 16, 17, 18, 20, 22, 25, 29, 34, 36, 40, 45, 56, 73, 75, 80, 141, 144, 165, 169, 459, 470])\n",
    "        pynids = np.empty(shape=np.array(tangosids).shape)\n",
    "        for i in range(len(tangosids)):\n",
    "            if bool(np.isin(tangosids[i],alltangosids)):\n",
    "                pynids[i] = int(np.where(np.isin(alltangosids,tangosids[i]))[0]+1)\n",
    "            else:\n",
    "                pynids[i] = 0\n",
    "                \n",
    "        return pynids\n",
    "    \n",
    "    elif snapnum==3195:\n",
    "        alltangosids = np.array([1, 4, 11, 12, 15, 16, 17, 25, 28, 30, 38, 48, 59, 64, 98, 101, 114, 124, 133, 143, 145, 297, 443])\n",
    "        allpynids = np.array([1, 4, 11, 12, 15, 16, 17, 25, 28, 30, 38, 48, 59, 64, 98, 101, 114, 124, 133, 143, 145, 298, 444])\n",
    "        pynids = np.empty(shape=np.array(tangosids).shape)\n",
    "        for i in range(len(tangosids)):\n",
    "            if bool(np.isin(tangosids[i],alltangosids)):\n",
    "                pynids[i] = int(np.where(np.isin(alltangosids,tangosids[i]))[0]+1)\n",
    "            else:\n",
    "                pynids[i] = 0\n",
    "                \n",
    "        return pynids\n",
    "    else:\n",
    "        for i in range(len(tangosids)):\n",
    "            s = pynbody.load(path+snapshot)\n",
    "            h = s.halos(dummy=True)\n",
    "            halo = h[tangosids[i]].properties\n",
    "            try:\n",
    "                assert halo['npart'] - halo['n_star'] - halo['n_gas'] > 1000, f\"Halo {tangosids[i]} does not have NDM > 1000, no tangos data available\"\n",
    "                assert halo['n_star'] > 0, f\"Halo {tangosids[i]} has no stars, no tangos data has been prepared\"\n",
    "            except AssertionError as err:\n",
    "                print(err)\n",
    "                tangosids[i] = 0\n",
    "        return tangosids\n",
    "        "
   ]
  },
  {
   "cell_type": "code",
   "execution_count": 44,
   "metadata": {},
   "outputs": [
    {
     "data": {
      "text/plain": [
       "array([1., 9., 0.])"
      ]
     },
     "execution_count": 44,
     "metadata": {},
     "output_type": "execute_result"
    }
   ],
   "source": [
    "tangos_to_pyn(snapshots[14],[1,9, 80])"
   ]
  },
  {
   "cell_type": "code",
   "execution_count": 56,
   "metadata": {},
   "outputs": [
    {
     "name": "stdout",
     "output_type": "stream",
     "text": [
      "1243 5.44 6661.12\n",
      "Snapshot # 4096\n",
      "490\n",
      "1243 5.44 6661.12\n"
     ]
    }
   ],
   "source": [
    "tstep = 61\n",
    "i = 490\n",
    "\n",
    "halo = s.timesteps[tstep].halos[i-1]\n",
    "print(halo.NDM, halo['Rvir'][0], halo['M_star'])\n",
    "\n",
    "sim = pynbody.load(path+snapshots[tstep])\n",
    "h = sim.halos(dummy=True)\n",
    "newi = tangos_to_pyn(snapshots[tstep],np.array([i]))[0]\n",
    "print(newi)\n",
    "halo = h[newi].properties\n",
    "\n",
    "print(halo['npart'] - halo['n_star'] - halo['n_gas'], halo['Rvir'], halo['M_star'])"
   ]
  },
  {
   "cell_type": "code",
   "execution_count": 46,
   "metadata": {},
   "outputs": [
    {
     "name": "stdout",
     "output_type": "stream",
     "text": [
      "7\n",
      "[ 7  6  6  6  6  5  5  4  4  4  4  4  5  5  5  6  6  6  7  6  7  7  8  7\n",
      "  6  6  6  6  5  5  5  5  6  5  6  6  8  8  9 10  8  9  9 10 11 10 14 14\n",
      " 14 16 17 23 22 22 24 30 25 24 33 64]\n",
      "Halo 64 has no stars, no tangos data has been prepared\n",
      "Halo 33 has no stars, no tangos data has been prepared\n",
      "[7.0, 6.0, 6.0, 6.0, 6.0, 5.0, 5.0, 4.0, 4.0, 4.0, 4.0, 2.0, 5.0, 5.0, 5.0, 6.0, 6.0, 6.0, 7.0, 6.0, 7.0, 7.0, 8.0, 7.0, 6.0, 6.0, 6.0, 6.0, 5.0, 4.0, 5.0, 5.0, 6.0, 5.0, 6.0, 6.0, 8.0, 8.0, 9.0, 10.0, 8.0, 9.0, 9.0, 10.0, 11.0, 10.0, 14.0, 14.0, 14.0, 16.0, 17.0, 23.0, 22.0, 22.0, 24.0, 30.0, 25.0, 24.0, 0.0, 0.0]\n",
      "10\n",
      "[ 10  10   9   9   9   9   9   9  11  11  11  11  13  13  13  14  14  14\n",
      "  15  14  16  15  16  15  15  15  14  14  13  13  13  14  14  16  16  16\n",
      "  19  20  22  20  19  19  19  18  19  18  24  28  34  42  44  60  71  87\n",
      "  94 109 169]\n",
      "Halo 169 has no stars, no tangos data has been prepared\n",
      "Halo 109 has no stars, no tangos data has been prepared\n",
      "Halo 94 has no stars, no tangos data has been prepared\n",
      "Halo 87 has no stars, no tangos data has been prepared\n",
      "[10.0, 10.0, 9.0, 9.0, 9.0, 9.0, 9.0, 9.0, 11.0, 11.0, 11.0, 3.0, 13.0, 13.0, 13.0, 14.0, 14.0, 14.0, 15.0, 14.0, 16.0, 15.0, 16.0, 15.0, 15.0, 15.0, 14.0, 14.0, 13.0, 7.0, 13.0, 14.0, 14.0, 16.0, 16.0, 16.0, 19.0, 20.0, 22.0, 20.0, 19.0, 19.0, 19.0, 18.0, 19.0, 16.0, 24.0, 27.0, 34.0, 42.0, 44.0, 60.0, 71.0, 0.0, 0.0, 0.0, 0.0]\n",
      "13\n",
      "[ 13  13  13  13  13  13  13  16  16  15  15  15  16  16  16  17  18  18\n",
      "  17  16  18  17  18  17  17  17  17  15  16  16  18  22  24  26  26  28\n",
      "  25  26  27  28  24  24  25  35  38  38  44  44  54  60  61  89  98 119\n",
      " 120 150 246 238]\n",
      "Halo 238 has no stars, no tangos data has been prepared\n",
      "Halo 246 has no stars, no tangos data has been prepared\n",
      "Halo 150 has no stars, no tangos data has been prepared\n",
      "Halo 120 has no stars, no tangos data has been prepared\n",
      "Halo 119 has no stars, no tangos data has been prepared\n",
      "Halo 98 has no stars, no tangos data has been prepared\n",
      "Halo 89 has no stars, no tangos data has been prepared\n",
      "[13.0, 13.0, 13.0, 13.0, 13.0, 13.0, 13.0, 16.0, 16.0, 15.0, 15.0, 5.0, 16.0, 16.0, 16.0, 17.0, 18.0, 18.0, 17.0, 16.0, 18.0, 17.0, 18.0, 17.0, 17.0, 17.0, 17.0, 15.0, 16.0, 8.0, 18.0, 22.0, 24.0, 26.0, 26.0, 28.0, 25.0, 26.0, 27.0, 28.0, 24.0, 24.0, 25.0, 35.0, 38.0, 29.0, 44.0, 36.0, 54.0, 60.0, 61.0, 0.0, 0.0, 0.0, 0.0, 0.0, 0.0, 0.0]\n",
      "15\n",
      "[ 15  15  15  15  15  15  16  17  17  16  17  16  17  17  17  20  20  19\n",
      "  22  21  23  22  22  22  23  23  23  24  25  25  25  24  23  25  25  29\n",
      "  33  31  36  35  37  37  37  37  37  37  40  37  41  59  59 111 104 110\n",
      " 122]\n",
      "Halo 122 has no stars, no tangos data has been prepared\n",
      "Halo 110 has no stars, no tangos data has been prepared\n",
      "Halo 104 has no stars, no tangos data has been prepared\n",
      "Halo 111 has no stars, no tangos data has been prepared\n",
      "Halo 59 has no stars, no tangos data has been prepared\n",
      "[15.0, 15.0, 15.0, 15.0, 15.0, 15.0, 16.0, 17.0, 17.0, 16.0, 17.0, 6.0, 17.0, 17.0, 17.0, 20.0, 20.0, 19.0, 22.0, 21.0, 23.0, 22.0, 22.0, 22.0, 23.0, 23.0, 23.0, 24.0, 25.0, 13.0, 25.0, 24.0, 23.0, 25.0, 25.0, 29.0, 33.0, 31.0, 36.0, 35.0, 37.0, 37.0, 37.0, 37.0, 37.0, 28.0, 40.0, 31.0, 41.0, 59.0, 0.0, 0.0, 0.0, 0.0, 0.0]\n",
      "19\n",
      "[ 19  19  18  18  17  18  18  19  18  17  16  17  18  19  28  31  33  34\n",
      "  34  33  35  33  34  31  31  32  33  35  35  36  36  34  30  27  27  27\n",
      "  31  38  90 106 127 155 152 149 148 147 196 227 188 215 232 519]\n",
      "Halo 519 has no stars, no tangos data has been prepared\n",
      "Halo 232 has no stars, no tangos data has been prepared\n",
      "Halo 215 has no stars, no tangos data has been prepared\n",
      "Halo 188 has no stars, no tangos data has been prepared\n",
      "Halo 196 has no stars, no tangos data has been prepared\n",
      "Halo 148 has no stars, no tangos data has been prepared\n",
      "Halo 149 has no stars, no tangos data has been prepared\n",
      "Halo 152 has no stars, no tangos data has been prepared\n",
      "Halo 155 has no stars, no tangos data has been prepared\n",
      "Halo 127 has no stars, no tangos data has been prepared\n",
      "Halo 106 has no stars, no tangos data has been prepared\n",
      "Halo 90 has no stars, no tangos data has been prepared\n",
      "Halo 38 has no stars, no tangos data has been prepared\n",
      "Halo 31 has no stars, no tangos data has been prepared\n",
      "Halo 27 has no stars, no tangos data has been prepared\n",
      "Halo 27 has no stars, no tangos data has been prepared\n",
      "Halo 27 has no stars, no tangos data has been prepared\n",
      "Halo 30 has no stars, no tangos data has been prepared\n",
      "[19.0, 19.0, 18.0, 18.0, 17.0, 18.0, 18.0, 19.0, 18.0, 17.0, 16.0, 7.0, 18.0, 19.0, 28.0, 31.0, 33.0, 34.0, 34.0, 33.0, 35.0, 33.0, 34.0, 31.0, 31.0, 32.0, 33.0, 35.0, 35.0, 16.0, 36.0, 34.0, 0.0, 0.0, 0.0, 0.0, 0.0, 0.0, 0.0, 0.0, 0.0, 0.0, 0.0, 0.0, 0.0, 0.0, 0.0, 0.0, 0.0, 0.0, 0.0, 0.0]\n",
      "27\n",
      "[ 27  29  29  27  27  27  27  28  29  28  29  28  30  32  31  32  31  32\n",
      "  32  31  32  32  42  30  30  31  30  33  32  34  34  42  39  44  43  43\n",
      "  47  48  52  49  48  59  62  62  61  63  76  78 172 194 186 256 377]\n",
      "Halo 377 has no stars, no tangos data has been prepared\n",
      "Halo 256 has no stars, no tangos data has been prepared\n",
      "Halo 186 has no stars, no tangos data has been prepared\n",
      "Halo 194 has no stars, no tangos data has been prepared\n",
      "Halo 172 has no stars, no tangos data has been prepared\n",
      "Halo 76 has no stars, no tangos data has been prepared\n",
      "[27.0, 29.0, 29.0, 27.0, 27.0, 27.0, 27.0, 28.0, 29.0, 28.0, 29.0, 9.0, 30.0, 32.0, 31.0, 32.0, 31.0, 32.0, 32.0, 31.0, 32.0, 32.0, 42.0, 30.0, 30.0, 31.0, 30.0, 33.0, 32.0, 15.0, 34.0, 42.0, 39.0, 44.0, 43.0, 43.0, 47.0, 48.0, 52.0, 49.0, 48.0, 59.0, 62.0, 62.0, 61.0, 38.0, 0.0, 0.0, 0.0, 0.0, 0.0, 0.0, 0.0]\n",
      "29\n",
      "[ 29  27  23  21  18  17  15  14  13  12  12  12  12  12  12  13  12  12\n",
      "  12  11  13  12  14  13  12  12  11  11  11  11  11  10  11  10   9   9\n",
      "  20  22  26  27  25  39  39  39  42  42  48  49  50  50  49  66  68  74\n",
      "  77  97  89  88 109]\n",
      "Halo 109 has no stars, no tangos data has been prepared\n",
      "Halo 88 has no stars, no tangos data has been prepared\n",
      "[29.0, 27.0, 23.0, 21.0, 18.0, 17.0, 15.0, 14.0, 13.0, 12.0, 12.0, 4.0, 12.0, 12.0, 12.0, 13.0, 12.0, 12.0, 12.0, 11.0, 13.0, 12.0, 14.0, 13.0, 12.0, 12.0, 11.0, 11.0, 11.0, 5.0, 11.0, 10.0, 11.0, 10.0, 9.0, 9.0, 20.0, 22.0, 26.0, 27.0, 25.0, 39.0, 39.0, 39.0, 42.0, 30.0, 48.0, 39.0, 50.0, 50.0, 49.0, 66.0, 68.0, 74.0, 77.0, 97.0, 89.0, 0.0, 0.0]\n",
      "31\n",
      "[31 31 27 25 25 25 24 25 25 24 25 25 26 28 26 27 27 28 29 27 29 28 29 28\n",
      " 29 30 29 28 28 29 29 28 28 30 29 30 30 28 30 31 27 23 23 25 27 27 42 41\n",
      " 40 45 43 39 80 90 89 78 66 65 88]\n",
      "Halo 88 has no stars, no tangos data has been prepared\n",
      "[31.0, 31.0, 27.0, 25.0, 25.0, 25.0, 24.0, 25.0, 25.0, 24.0, 25.0, 8.0, 26.0, 28.0, 26.0, 27.0, 27.0, 28.0, 29.0, 27.0, 29.0, 28.0, 29.0, 28.0, 29.0, 30.0, 29.0, 28.0, 28.0, 14.0, 29.0, 28.0, 28.0, 30.0, 29.0, 30.0, 30.0, 28.0, 30.0, 31.0, 27.0, 23.0, 23.0, 25.0, 27.0, 23.0, 42.0, 34.0, 40.0, 45.0, 43.0, 39.0, 80.0, 90.0, 89.0, 78.0, 66.0, 65.0, 0.0]\n",
      "32\n",
      "[ 32  32  32  32  32  34  34  35  34  33  32  30  31  31  27  19  17  16\n",
      "  25  29  15  13  13  12  11  11  12  13  12  12  12  11  13  13  13  14\n",
      "  14  15  14  13  14  15  15  14  17  16  19  22  55  55  53  65  88 187\n",
      " 204 193 202 198 154]\n",
      "Halo 154 has no stars, no tangos data has been prepared\n",
      "Halo 198 has no stars, no tangos data has been prepared\n",
      "Halo 202 has no stars, no tangos data has been prepared\n",
      "Halo 193 has no stars, no tangos data has been prepared\n",
      "Halo 204 has no stars, no tangos data has been prepared\n",
      "Halo 187 has no stars, no tangos data has been prepared\n",
      "Halo 88 has no stars, no tangos data has been prepared\n",
      "Halo 65 has no stars, no tangos data has been prepared\n",
      "Halo 53 has no stars, no tangos data has been prepared\n",
      "Halo 55 has no stars, no tangos data has been prepared\n",
      "[32.0, 32.0, 32.0, 32.0, 32.0, 34.0, 34.0, 35.0, 34.0, 33.0, 32.0, 10.0, 31.0, 31.0, 27.0, 19.0, 17.0, 16.0, 25.0, 29.0, 15.0, 13.0, 13.0, 12.0, 11.0, 11.0, 12.0, 13.0, 12.0, 6.0, 12.0, 11.0, 13.0, 13.0, 13.0, 14.0, 14.0, 15.0, 14.0, 13.0, 14.0, 15.0, 15.0, 14.0, 17.0, 14.0, 19.0, 21.0, 55.0, 0.0, 0.0, 0.0, 0.0, 0.0, 0.0, 0.0, 0.0, 0.0, 0.0]\n",
      "49\n",
      "[ 49  50  50  50  51  52  51  56  56  56  58  59  60  64  61  61  62  60\n",
      "  59  57  60  59  59  59  59  60  60  63  61  62  61  65  69  75  95 107\n",
      " 114 110  99  98  85  90  90 162 189 185 227 239]\n",
      "Halo 227 has no stars, no tangos data has been prepared\n",
      "Halo 189 has no stars, no tangos data has been prepared\n",
      "Halo 162 has no stars, no tangos data has been prepared\n",
      "Halo 90 has no stars, no tangos data has been prepared\n",
      "Halo 90 has no stars, no tangos data has been prepared\n",
      "Halo 85 has no stars, no tangos data has been prepared\n",
      "Halo 98 has no stars, no tangos data has been prepared\n",
      "Halo 99 has no stars, no tangos data has been prepared\n",
      "Halo 110 has no stars, no tangos data has been prepared\n",
      "Halo 114 has no stars, no tangos data has been prepared\n",
      "Halo 107 has no stars, no tangos data has been prepared\n",
      "Halo 95 has no stars, no tangos data has been prepared\n",
      "Halo 75 has no stars, no tangos data has been prepared\n",
      "Halo 69 has no stars, no tangos data has been prepared\n",
      "Halo 65 has no stars, no tangos data has been prepared\n",
      "Halo 61 has no stars, no tangos data has been prepared\n",
      "Halo 61 has no stars, no tangos data has been prepared\n",
      "Halo 63 has no stars, no tangos data has been prepared\n",
      "Halo 60 has no stars, no tangos data has been prepared\n",
      "[49.0, 50.0, 50.0, 50.0, 51.0, 52.0, 51.0, 56.0, 56.0, 56.0, 58.0, 13.0, 60.0, 64.0, 61.0, 61.0, 62.0, 60.0, 59.0, 57.0, 60.0, 59.0, 59.0, 59.0, 59.0, 60.0, 0.0, 0.0, 0.0, 0.0, 0.0, 0.0, 0.0, 0.0, 0.0, 0.0, 0.0, 0.0, 0.0, 0.0, 0.0, 0.0, 0.0, 0.0, 0.0, 0.0, 0.0, 0.0]\n",
      "55\n",
      "[ 55  56  54  54  55  55  55  55  51  48  49  48  49  48  46  43  44  44\n",
      "  41  41  42  42  41  42  40  41  39  41  39  40  40  44  44  43  41  41\n",
      "  46  46  48  46  43  42  41  45  53  53  53  58  64 159 158 171 169 191\n",
      " 193 148 106 105  89  65]\n",
      "Halo 65 has no stars, no tangos data has been prepared\n",
      "Halo 89 has no stars, no tangos data has been prepared\n",
      "[55.0, 56.0, 54.0, 54.0, 55.0, 55.0, 55.0, 55.0, 51.0, 48.0, 49.0, 12.0, 49.0, 48.0, 46.0, 43.0, 44.0, 44.0, 41.0, 41.0, 42.0, 42.0, 41.0, 42.0, 40.0, 41.0, 39.0, 41.0, 39.0, 17.0, 40.0, 44.0, 44.0, 43.0, 41.0, 41.0, 46.0, 46.0, 48.0, 46.0, 43.0, 42.0, 41.0, 45.0, 53.0, 34.0, 53.0, 42.0, 64.0, 159.0, 158.0, 171.0, 169.0, 191.0, 193.0, 148.0, 106.0, 105.0, 0.0, 0.0]\n",
      "91\n",
      "[ 91  91  93  93  92  92  90  89  91  97 110 124 137 152 125 111 111 113\n",
      " 111 107 111 107 110 109 111 113 113 118 112 119 117 124 125 127 129 139\n",
      " 139 141 149 152 152 168 167 164 185 181 201 206 217 256 248 274 337]\n",
      "Halo 337 has no stars, no tangos data has been prepared\n",
      "Halo 274 has no stars, no tangos data has been prepared\n",
      "Halo 248 has no stars, no tangos data has been prepared\n",
      "Halo 256 has no stars, no tangos data has been prepared\n",
      "Halo 217 has no stars, no tangos data has been prepared\n",
      "Halo 201 has no stars, no tangos data has been prepared\n",
      "Halo 185 has no stars, no tangos data has been prepared\n",
      "Halo 164 has no stars, no tangos data has been prepared\n",
      "Halo 167 has no stars, no tangos data has been prepared\n",
      "Halo 168 has no stars, no tangos data has been prepared\n",
      "Halo 152 has no stars, no tangos data has been prepared\n",
      "Halo 152 has no stars, no tangos data has been prepared\n",
      "Halo 149 has no stars, no tangos data has been prepared\n",
      "Halo 141 has no stars, no tangos data has been prepared\n",
      "Halo 139 has no stars, no tangos data has been prepared\n",
      "Halo 139 has no stars, no tangos data has been prepared\n",
      "Halo 129 has no stars, no tangos data has been prepared\n",
      "Halo 127 has no stars, no tangos data has been prepared\n",
      "Halo 125 has no stars, no tangos data has been prepared\n",
      "Halo 124 has no stars, no tangos data has been prepared\n",
      "Halo 117 has no stars, no tangos data has been prepared\n",
      "Halo 112 has no stars, no tangos data has been prepared\n",
      "Halo 118 has no stars, no tangos data has been prepared\n",
      "Halo 113 has no stars, no tangos data has been prepared\n",
      "[91.0, 91.0, 93.0, 93.0, 92.0, 92.0, 90.0, 89.0, 91.0, 97.0, 110.0, 18.0, 137.0, 152.0, 125.0, 111.0, 111.0, 113.0, 111.0, 107.0, 111.0, 107.0, 110.0, 109.0, 111.0, 113.0, 0.0, 0.0, 0.0, 0.0, 0.0, 0.0, 0.0, 0.0, 0.0, 0.0, 0.0, 0.0, 0.0, 0.0, 0.0, 0.0, 0.0, 0.0, 0.0, 0.0, 0.0, 0.0, 0.0, 0.0, 0.0, 0.0, 0.0]\n",
      "94\n",
      "[ 94  96  97  99  99 101 101 100 101 104 102  98 101  99  92 103 120 118\n",
      " 101  97  90  85  85 110  84  84  69  71  70  73  74  73  72  70  69  62\n",
      "  57  50  42  39  36  30  31  33  36  35  41  38  44  52  52  56  49  54\n",
      "  54  52  71  73  72]\n",
      "Halo 72 has no stars, no tangos data has been prepared\n",
      "[94.0, 96.0, 97.0, 99.0, 99.0, 101.0, 101.0, 100.0, 101.0, 104.0, 102.0, 15.0, 101.0, 99.0, 92.0, 103.0, 120.0, 118.0, 101.0, 97.0, 90.0, 85.0, 85.0, 110.0, 84.0, 84.0, 69.0, 71.0, 70.0, 20.0, 74.0, 73.0, 72.0, 70.0, 69.0, 62.0, 57.0, 50.0, 42.0, 39.0, 36.0, 30.0, 31.0, 33.0, 36.0, 27.0, 41.0, 32.0, 44.0, 52.0, 52.0, 56.0, 49.0, 54.0, 54.0, 52.0, 71.0, 73.0, 0.0]\n",
      "116\n",
      "[116 118 119 123 121 122 119 116 114 113 111 101 105 102 100  96  92  92\n",
      "  91  84  86  87  84  82  80  81  79  70  62  56  55  51  43  37  34  34\n",
      "  34  30  32  29  28  25  26  21  28  26  30  32  33  35  37  52  66 121\n",
      " 132 218 201 199]\n",
      "Halo 199 has no stars, no tangos data has been prepared\n",
      "Halo 201 has no stars, no tangos data has been prepared\n",
      "Halo 218 has no stars, no tangos data has been prepared\n",
      "Halo 132 has no stars, no tangos data has been prepared\n",
      "Halo 121 has no stars, no tangos data has been prepared\n",
      "Halo 66 has no stars, no tangos data has been prepared\n",
      "Halo 52 has no stars, no tangos data has been prepared\n",
      "Halo 37 has no stars, no tangos data has been prepared\n",
      "[116.0, 118.0, 119.0, 123.0, 121.0, 122.0, 119.0, 116.0, 114.0, 113.0, 111.0, 16.0, 105.0, 102.0, 100.0, 96.0, 92.0, 92.0, 91.0, 84.0, 86.0, 87.0, 84.0, 82.0, 80.0, 81.0, 79.0, 70.0, 62.0, 19.0, 55.0, 51.0, 43.0, 37.0, 34.0, 34.0, 34.0, 30.0, 32.0, 29.0, 28.0, 25.0, 26.0, 21.0, 28.0, 22.0, 30.0, 30.0, 33.0, 35.0, 0.0, 0.0, 0.0, 0.0, 0.0, 0.0, 0.0, 0.0]\n",
      "119\n",
      "[119 123 124 129 126 126 126 127 130 131 133 133 135 136 131 130 122 104\n",
      "  76  66]\n",
      "[119.0, 123.0, 124.0, 129.0, 126.0, 126.0, 126.0, 127.0, 130.0, 131.0, 133.0, 19.0, 135.0, 136.0, 131.0, 130.0, 122.0, 104.0, 76.0, 66.0]\n",
      "131\n",
      "[131 136 133 138 138 137 138 137 139 142 143 143 146 149 147 151 150 150\n",
      " 151 150 149 148 152 152 155 158 159 158 157 169 170 168 168 163 160 167\n",
      " 171 172 172 175 170 178 176 170 173 172 169 177 180 176 171 164 163 165\n",
      " 163 136 130 123  71  42  34   9]\n",
      "[131.0, 136.0, 133.0, 138.0, 138.0, 137.0, 138.0, 137.0, 139.0, 142.0, 143.0, 20.0, 146.0, 149.0, 147.0, 151.0, 150.0, 150.0, 151.0, 150.0, 149.0, 148.0, 152.0, 152.0, 155.0, 158.0, 159.0, 158.0, 157.0, 26.0, 170.0, 168.0, 168.0, 163.0, 160.0, 167.0, 171.0, 172.0, 172.0, 175.0, 170.0, 178.0, 176.0, 170.0, 173.0, 47.0, 169.0, 55.0, 180.0, 176.0, 171.0, 164.0, 163.0, 165.0, 163.0, 136.0, 130.0, 123.0, 71.0, 42.0, 34.0, 9.0]\n",
      "132\n",
      "[132 119 107 106 113 151 168 160 111  83  71  64  64  58  52  53  56  58\n",
      "  58  56  58  57  60  60  61  64  66  77  78  87  85  89  90  94  92  90\n",
      "  95  94  89  91  93 102 103]\n",
      "Halo 103 has no stars, no tangos data has been prepared\n",
      "Halo 102 has no stars, no tangos data has been prepared\n",
      "Halo 93 has no stars, no tangos data has been prepared\n",
      "Halo 91 has no stars, no tangos data has been prepared\n",
      "Halo 89 has no stars, no tangos data has been prepared\n",
      "Halo 94 has no stars, no tangos data has been prepared\n",
      "Halo 95 has no stars, no tangos data has been prepared\n",
      "Halo 90 has no stars, no tangos data has been prepared\n",
      "Halo 92 has no stars, no tangos data has been prepared\n",
      "Halo 94 has no stars, no tangos data has been prepared\n",
      "Halo 90 has no stars, no tangos data has been prepared\n",
      "Halo 89 has no stars, no tangos data has been prepared\n",
      "Halo 85 has no stars, no tangos data has been prepared\n",
      "Halo 78 has no stars, no tangos data has been prepared\n",
      "Halo 77 has no stars, no tangos data has been prepared\n",
      "Halo 66 has no stars, no tangos data has been prepared\n",
      "Halo 64 has no stars, no tangos data has been prepared\n",
      "Halo 61 has no stars, no tangos data has been prepared\n",
      "Halo 60 has no stars, no tangos data has been prepared\n",
      "Halo 60 has no stars, no tangos data has been prepared\n",
      "Halo 57 has no stars, no tangos data has been prepared\n",
      "Halo 58 has no stars, no tangos data has been prepared\n",
      "Halo 56 has no stars, no tangos data has been prepared\n",
      "Halo 58 has no stars, no tangos data has been prepared\n",
      "Halo 58 has no stars, no tangos data has been prepared\n",
      "[132.0, 119.0, 107.0, 106.0, 113.0, 151.0, 168.0, 160.0, 111.0, 83.0, 71.0, 14.0, 64.0, 58.0, 52.0, 53.0, 56.0, 0.0, 0.0, 0.0, 0.0, 0.0, 0.0, 0.0, 0.0, 0.0, 0.0, 0.0, 0.0, 0.0, 0.0, 0.0, 0.0, 0.0, 0.0, 0.0, 0.0, 0.0, 0.0, 0.0, 0.0, 0.0, 0.0]\n",
      "154\n",
      "[154 154 152 156 151 162 149 150 149 150 146 145 149 150 146 147 144 139\n",
      " 135 131 126 112 108  96  85  88  89  88  80  80  79  79  70  67  66  58\n",
      "  49  49  51  58  53  51  50  55  60  62  67  67  69  68  71  70  70  76\n",
      "  74  73  72  69  47  50  46]\n",
      "Halo 46 has no stars, no tangos data has been prepared\n",
      "Halo 50 has no stars, no tangos data has been prepared\n",
      "Halo 47 has no stars, no tangos data has been prepared\n",
      "[154.0, 154.0, 152.0, 156.0, 151.0, 162.0, 149.0, 150.0, 149.0, 150.0, 146.0, 21.0, 149.0, 150.0, 146.0, 147.0, 144.0, 139.0, 135.0, 131.0, 126.0, 112.0, 108.0, 96.0, 85.0, 88.0, 89.0, 88.0, 80.0, 22.0, 79.0, 79.0, 70.0, 67.0, 66.0, 58.0, 49.0, 49.0, 51.0, 58.0, 53.0, 51.0, 50.0, 55.0, 60.0, 37.0, 67.0, 44.0, 69.0, 68.0, 71.0, 70.0, 70.0, 76.0, 74.0, 73.0, 72.0, 69.0, 0.0, 0.0, 0.0]\n",
      "443\n",
      "[443 435 416 375 336 309 455 336 156  73  48]\n",
      "[443, 435, 416, 375, 336, 309, 455, 336, 156, 73, 48]\n",
      "Tangos halo_number() is accurate for pynbody\n",
      "490\n",
      "[490]\n",
      "[490]\n",
      "Tangos halo_number() is accurate for pynbody\n"
     ]
    }
   ],
   "source": [
    "tstep = 61\n",
    "\n",
    "for haloid in range(7, nhalos(s.timesteps[tstep])+1):\n",
    "    halo = s.timesteps[61].halos[haloid-1]\n",
    "    if halo['n_star'] > 0:\n",
    "        print(haloid)\n",
    "        halo_num = halo.calculate_for_progenitors('halo_number()')\n",
    "        halo_num = np.flip(halo_num[0])\n",
    "        print(np.flip(halo_num))\n",
    "        abbr_snapshots = snapshots[-len(halo_num):]\n",
    "        assert len(abbr_snapshots) == len(halo_num)\n",
    "\n",
    "        haloids = []\n",
    "        for i, snapshot in zip(halo_num, abbr_snapshots):\n",
    "            newi = tangos_to_pyn(snapshot,np.array([i]))[0]\n",
    "            haloids.append(newi)\n",
    "        #     print(',',i, '->', newi)\n",
    "\n",
    "        haloids = np.flip(np.array(haloids))\n",
    "\n",
    "        print(list(haloids))\n",
    "\n",
    "        if (haloids == np.flip(halo_num)).all():\n",
    "            print('Tangos halo_number() is accurate for pynbody')"
   ]
  },
  {
   "cell_type": "code",
   "execution_count": 66,
   "metadata": {},
   "outputs": [
    {
     "name": "stdout",
     "output_type": "stream",
     "text": [
      "[7, 6, 6, 6, 6, 5, 5, 4, 4, 4, 4, 2, 5, 5, 5, 6, 6, 6, 7, 6, 7, 7, 8, 7, 6, 6, 6, 6, 5, 4, 5, 5, 6, 5, 6, 6, 8, 8, 9, 10, 8, 9, 9, 10, 11, 10, 14, 14, 14, 16, 17, 23, 22, 22, 24, 30, 25, 24, 0, 0]\n"
     ]
    }
   ],
   "source": [
    "l = [7.0, 6.0, 6.0, 6.0, 6.0, 5.0, 5.0, 4.0, 4.0, 4.0, 4.0, 2.0, 5.0, 5.0, 5.0, 6.0, 6.0, 6.0, 7.0, 6.0, 7.0, 7.0, 8.0, 7.0, 6.0, 6.0, 6.0, 6.0, 5.0, 4.0, 5.0, 5.0, 6.0, 5.0, 6.0, 6.0, 8.0, 8.0, 9.0, 10.0, 8.0, 9.0, 9.0, 10.0, 11.0, 10.0, 14.0, 14.0, 14.0, 16.0, 17.0, 23.0, 22.0, 22.0, 24.0, 30.0, 25.0, 24.0, 0.0, 0.0]\n",
    "print([int(i) for i in l])\n"
   ]
  },
  {
   "cell_type": "code",
   "execution_count": 48,
   "metadata": {},
   "outputs": [
    {
     "name": "stdout",
     "output_type": "stream",
     "text": [
      "[1, 1, 1, 1, 1, 1, 1, 1, 1, 1, 1, 1, 1, 1, 1, 1, 1, 1, 1, 1, 1, 1, 1, 1, 1, 1, 1, 1, 1, 1, 1, 1, 1, 1, 1, 1, 1, 1, 1, 1, 1, 1, 1, 1, 1, 1, 1, 1, 1, 1, 1, 1, 1, 1, 1, 1, 2, 2, 5, 19, 18, 11]\n"
     ]
    },
    {
     "ename": "AssertionError",
     "evalue": "",
     "output_type": "error",
     "traceback": [
      "\u001b[0;31m--------------------------------\u001b[0m",
      "\u001b[0;31mAssertionError\u001b[0mTraceback (most recent call last)",
      "\u001b[0;32m<ipython-input-48-7a6afe645997>\u001b[0m in \u001b[0;36m<module>\u001b[0;34m\u001b[0m\n\u001b[1;32m      7\u001b[0m \u001b[0mprint\u001b[0m\u001b[0;34m(\u001b[0m\u001b[0mlist\u001b[0m\u001b[0;34m(\u001b[0m\u001b[0mnp\u001b[0m\u001b[0;34m.\u001b[0m\u001b[0mflip\u001b[0m\u001b[0;34m(\u001b[0m\u001b[0mhalo_num\u001b[0m\u001b[0;34m)\u001b[0m\u001b[0;34m)\u001b[0m\u001b[0;34m)\u001b[0m\u001b[0;34m\u001b[0m\u001b[0;34m\u001b[0m\u001b[0m\n\u001b[1;32m      8\u001b[0m \u001b[0;34m\u001b[0m\u001b[0m\n\u001b[0;32m----> 9\u001b[0;31m \u001b[0;32massert\u001b[0m \u001b[0;36m1\u001b[0m\u001b[0;34m==\u001b[0m\u001b[0;36m2\u001b[0m\u001b[0;34m\u001b[0m\u001b[0;34m\u001b[0m\u001b[0m\n\u001b[0m\u001b[1;32m     10\u001b[0m \u001b[0;34m\u001b[0m\u001b[0m\n\u001b[1;32m     11\u001b[0m \u001b[0mabbr_snapshots\u001b[0m \u001b[0;34m=\u001b[0m \u001b[0msnapshots\u001b[0m\u001b[0;34m[\u001b[0m\u001b[0;34m-\u001b[0m\u001b[0mlen\u001b[0m\u001b[0;34m(\u001b[0m\u001b[0mhalo_num\u001b[0m\u001b[0;34m)\u001b[0m\u001b[0;34m:\u001b[0m\u001b[0;34m]\u001b[0m\u001b[0;34m\u001b[0m\u001b[0;34m\u001b[0m\u001b[0m\n",
      "\u001b[0;31mAssertionError\u001b[0m: "
     ]
    }
   ],
   "source": [
    "tstep = 11\n",
    "haloid = 32\n",
    "halo = s.timesteps[61].halos[haloid-1]\n",
    "halo_num = halo.calculate_for_progenitors('halo_number()')\n",
    "halo_num = np.flip(halo_num[0])\n",
    "\n",
    "print(list(np.flip(halo_num)))\n",
    "\n",
    "assert 1==2\n",
    "\n",
    "abbr_snapshots = snapshots[-len(halo_num):]\n",
    "assert len(abbr_snapshots) == len(halo_num)\n",
    "    \n",
    "haloids = []\n",
    "for i, snapshot in zip(halo_num, abbr_snapshots):\n",
    "    newi = tangos_to_pyn(snapshot,np.array([i]))[0]\n",
    "    haloids.append(newi)\n",
    "#     print(',',i, '->', newi)\n",
    "    \n",
    "haloids = np.flip(np.array(haloids))\n",
    "\n",
    "print(list(haloids))\n",
    "\n",
    "if (haloids == np.flip(halo_num)).all():\n",
    "    print('Tangos halo_number() is accurate for pynbody')"
   ]
  },
  {
   "cell_type": "code",
   "execution_count": null,
   "metadata": {},
   "outputs": [],
   "source": []
  },
  {
   "cell_type": "code",
   "execution_count": null,
   "metadata": {},
   "outputs": [],
   "source": []
  },
  {
   "cell_type": "code",
   "execution_count": null,
   "metadata": {},
   "outputs": [],
   "source": []
  },
  {
   "cell_type": "code",
   "execution_count": null,
   "metadata": {},
   "outputs": [],
   "source": []
  },
  {
   "cell_type": "code",
   "execution_count": null,
   "metadata": {},
   "outputs": [],
   "source": []
  },
  {
   "cell_type": "code",
   "execution_count": null,
   "metadata": {},
   "outputs": [],
   "source": []
  },
  {
   "cell_type": "code",
   "execution_count": 73,
   "metadata": {},
   "outputs": [
    {
     "name": "stdout",
     "output_type": "stream",
     "text": [
      "62\n",
      "[1, 7, 10, 13, 15, 19, 27, 29, 31, 32, 49, 55, 91, 94, 116, 119, 131, 132, 154, 443, 490, 786, 1182]\n"
     ]
    }
   ],
   "source": [
    "print(len(s.timesteps))\n",
    "sim = pynbody.load(path+snapshots[61])\n",
    "h = sim.halos()\n",
    "\n",
    "haloids_pyn = []\n",
    "for i in range(1,len(h)):\n",
    "    halo = h[i]\n",
    "    if halo.properties['n_star'] != 0:\n",
    "        haloids_pyn.append(i)\n",
    "        \n",
    "print(haloids_pyn)"
   ]
  },
  {
   "cell_type": "code",
   "execution_count": 68,
   "metadata": {},
   "outputs": [
    {
     "name": "stdout",
     "output_type": "stream",
     "text": [
      "[1, 7, 10, 13, 15, 19, 27, 29, 31, 32, 49, 55, 91, 94, 116, 119, 131, 132, 154, 443, 490]\n"
     ]
    }
   ],
   "source": [
    "\n",
    "\n",
    "haloids_tangos = []\n",
    "for i in range(1,nhalos(s.timesteps[61])+1):\n",
    "    halo = s.timesteps[61].halos[i-1]\n",
    "    if halo['n_star'] != 0:\n",
    "        haloids_tangos.append(i)\n",
    "\n",
    "print(haloids_tangos)"
   ]
  },
  {
   "cell_type": "code",
   "execution_count": 69,
   "metadata": {},
   "outputs": [
    {
     "data": {
      "text/plain": [
       "False"
      ]
     },
     "execution_count": 69,
     "metadata": {},
     "output_type": "execute_result"
    }
   ],
   "source": [
    "haloids_pyn == haloids_tangos"
   ]
  },
  {
   "cell_type": "code",
   "execution_count": 78,
   "metadata": {},
   "outputs": [],
   "source": [
    "s = pynbody.load(path+snapshots[-1])\n",
    "s.physical_units()\n",
    "h = s.halos()\n",
    "\n",
    "h1rvir = h[1].properties['Rvir']"
   ]
  },
  {
   "cell_type": "code",
   "execution_count": 79,
   "metadata": {},
   "outputs": [
    {
     "data": {
      "text/plain": [
       "<pynbody.transformation.GenericRotation at 0x7f1bdda8feb8>"
      ]
     },
     "execution_count": 79,
     "metadata": {},
     "output_type": "execute_result"
    }
   ],
   "source": [
    "pynbody.analysis.angmom.faceon(h[1])"
   ]
  },
  {
   "cell_type": "code",
   "execution_count": 80,
   "metadata": {},
   "outputs": [],
   "source": [
    "p = pynbody.analysis.profile.Profile(s.g, min=0.01, max=5*h1rvir, ndim = 3)"
   ]
  },
  {
   "cell_type": "code",
   "execution_count": 81,
   "metadata": {},
   "outputs": [],
   "source": [
    "rbins = p['rbins']\n",
    "density = p['density']"
   ]
  },
  {
   "cell_type": "code",
   "execution_count": 83,
   "metadata": {},
   "outputs": [
    {
     "data": {
      "image/png": "[encoded data removed]",
      "text/plain": [
       "<Figure size 432x288 with 1 Axes>"
      ]
     },
     "metadata": {
      "needs_background": "light"
     },
     "output_type": "display_data"
    }
   ],
   "source": [
    "plt.plot(rbins/h1rvir,density)\n",
    "plt.semilogy()\n",
    "plt.show()"
   ]
  },
  {
   "cell_type": "code",
   "execution_count": 77,
   "metadata": {},
   "outputs": [
    {
     "name": "stdout",
     "output_type": "stream",
     "text": [
      "21.82\n"
     ]
    }
   ],
   "source": [
    "print(h1rvir)"
   ]
  },
  {
   "cell_type": "code",
   "execution_count": null,
   "metadata": {},
   "outputs": [],
   "source": []
  }
 ],
 "metadata": {
  "kernelspec": {
   "display_name": "Python 3",
   "language": "python",
   "name": "python3"
  },
  "language_info": {
   "codemirror_mode": {
    "name": "ipython",
    "version": 3
   },
   "file_extension": ".py",
   "mimetype": "text/x-python",
   "name": "python",
   "nbconvert_exporter": "python",
   "pygments_lexer": "ipython3",
   "version": "3.7.3"
  }
 },
 "nbformat": 4,
 "nbformat_minor": 2
}
