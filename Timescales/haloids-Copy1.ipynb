{
 "cells": [
  {
   "cell_type": "code",
   "execution_count": 1,
   "metadata": {},
   "outputs": [],
   "source": [
    "import numpy as np\n",
    "import matplotlib.pyplot as plt\n",
    "import matplotlib as mpl\n",
    "import pynbody\n",
    "import pickle\n",
    "\n",
    "mpl.rc('font',**{'family':'serif','monospace':['Palatino']})\n",
    "mpl.rc('text', usetex=True)\n",
    "mpl.rcParams.update({'font.size': 9})\n",
    "\n",
    "pynbody.config['halo-class-priority'] =  [pynbody.halo.ahf.AHFCatalogue,\n",
    "                                          pynbody.halo.GrpCatalogue,\n",
    "                                          pynbody.halo.AmigaGrpCatalogue,\n",
    "                                          pynbody.halo.legacy.RockstarIntermediateCatalogue,\n",
    "                                          pynbody.halo.rockstar.RockstarCatalogue,\n",
    "                                          pynbody.halo.subfind.SubfindCatalogue,\n",
    "                                          pynbody.halo.hop.HOPCatalogue]"
   ]
  },
  {
   "cell_type": "code",
   "execution_count": 2,
   "metadata": {},
   "outputs": [
    {
     "name": "stdout",
     "output_type": "stream",
     "text": [
      "13671\n"
     ]
    }
   ],
   "source": [
    "s = pynbody.load('/home/christenc/Data/Sims/h242.cosmo50PLK.3072g/h242.cosmo50PLK.3072gst5HbwK1BH/snapshots_200bkgdens/h242.cosmo50PLK.3072gst5HbwK1BH.004096')\n",
    "s.physical_units()\n",
    "h = s.halos()\n",
    "print(len(h))"
   ]
  },
  {
   "cell_type": "code",
   "execution_count": 3,
   "metadata": {},
   "outputs": [
    {
     "name": "stdout",
     "output_type": "stream",
     "text": [
      "Halo ids for bulk processing\n",
      "[1, 10, 12, 24, 30, 34, 40, 41, 44, 48, 49, 71, 78, 80, 86, 165, 223, 439, 480, 1872, 2885, 6054, 9380, 10426, 12297]\n",
      "halo ids for merger trees\n",
      "[1, 10, 12, 24, 30, 34, 40, 41, 44, 48, 49, 71, 78, 80, 86, 165, 223, 439, 480]\n"
     ]
    }
   ],
   "source": [
    "ids1,ids2,ids3 = [],[],[]\n",
    "for halo in h:\n",
    "    if len(halo.s) != 0 and halo.properties['fMhires'] > 0.9:\n",
    "        ids1.append(halo.properties['halo_id'])\n",
    "        if len(halo.dm)>1000:\n",
    "            ids2.append(halo.properties['halo_id'])\n",
    "        \n",
    "print('Halo ids for bulk processing')\n",
    "print(ids1)\n",
    "print('halo ids for merger trees')\n",
    "print(ids2)"
   ]
  },
  {
   "cell_type": "code",
   "execution_count": 4,
   "metadata": {},
   "outputs": [
    {
     "data": {
      "text/plain": [
       "[<Simulation(\"snapshots\")>, <Simulation(\"snapshots_200bkgdens\")>]"
      ]
     },
     "execution_count": 4,
     "metadata": {},
     "output_type": "execute_result"
    }
   ],
   "source": [
    "import os\n",
    "os.environ['TANGOS_DB_CONNECTION'] = '/home/akinshol/Data/Timescales/TangosData/h242.db'\n",
    "import tangos\n",
    "tangos.all_simulations()"
   ]
  },
  {
   "cell_type": "code",
   "execution_count": 5,
   "metadata": {},
   "outputs": [
    {
     "data": {
      "text/plain": [
       "[<TimeStep 'snapshots_200bkgdens/h242.cosmo50PLK.3072gst5HbwK1BH.004096' z=0.00 t=13.80 Gyr>,\n",
       " <TimeStep 'snapshots_200bkgdens/h242.cosmo50PLK.3072gst5HbwK1BH.004032' z=0.02 t=13.59 Gyr>,\n",
       " <TimeStep 'snapshots_200bkgdens/h242.cosmo50PLK.3072gst5HbwK1BH.003936' z=0.04 t=13.26 Gyr>,\n",
       " <TimeStep 'snapshots_200bkgdens/h242.cosmo50PLK.3072gst5HbwK1BH.003840' z=0.06 t=12.94 Gyr>,\n",
       " <TimeStep 'snapshots_200bkgdens/h242.cosmo50PLK.3072gst5HbwK1BH.003744' z=0.09 t=12.62 Gyr>,\n",
       " <TimeStep 'snapshots_200bkgdens/h242.cosmo50PLK.3072gst5HbwK1BH.003648' z=0.11 t=12.29 Gyr>,\n",
       " <TimeStep 'snapshots_200bkgdens/h242.cosmo50PLK.3072gst5HbwK1BH.003606' z=0.12 t=12.15 Gyr>,\n",
       " <TimeStep 'snapshots_200bkgdens/h242.cosmo50PLK.3072gst5HbwK1BH.003552' z=0.14 t=11.97 Gyr>,\n",
       " <TimeStep 'snapshots_200bkgdens/h242.cosmo50PLK.3072gst5HbwK1BH.003456' z=0.17 t=11.65 Gyr>,\n",
       " <TimeStep 'snapshots_200bkgdens/h242.cosmo50PLK.3072gst5HbwK1BH.003360' z=0.20 t=11.32 Gyr>,\n",
       " <TimeStep 'snapshots_200bkgdens/h242.cosmo50PLK.3072gst5HbwK1BH.003264' z=0.23 t=11.00 Gyr>,\n",
       " <TimeStep 'snapshots_200bkgdens/h242.cosmo50PLK.3072gst5HbwK1BH.003195' z=0.25 t=10.77 Gyr>,\n",
       " <TimeStep 'snapshots_200bkgdens/h242.cosmo50PLK.3072gst5HbwK1BH.003168' z=0.26 t=10.68 Gyr>,\n",
       " <TimeStep 'snapshots_200bkgdens/h242.cosmo50PLK.3072gst5HbwK1BH.003072' z=0.29 t=10.35 Gyr>,\n",
       " <TimeStep 'snapshots_200bkgdens/h242.cosmo50PLK.3072gst5HbwK1BH.002976' z=0.33 t=10.03 Gyr>,\n",
       " <TimeStep 'snapshots_200bkgdens/h242.cosmo50PLK.3072gst5HbwK1BH.002880' z=0.36 t=9.71 Gyr>,\n",
       " <TimeStep 'snapshots_200bkgdens/h242.cosmo50PLK.3072gst5HbwK1BH.002784' z=0.40 t=9.38 Gyr>,\n",
       " <TimeStep 'snapshots_200bkgdens/h242.cosmo50PLK.3072gst5HbwK1BH.002688' z=0.44 t=9.06 Gyr>,\n",
       " <TimeStep 'snapshots_200bkgdens/h242.cosmo50PLK.3072gst5HbwK1BH.002592' z=0.48 t=8.74 Gyr>,\n",
       " <TimeStep 'snapshots_200bkgdens/h242.cosmo50PLK.3072gst5HbwK1BH.002554' z=0.50 t=8.61 Gyr>,\n",
       " <TimeStep 'snapshots_200bkgdens/h242.cosmo50PLK.3072gst5HbwK1BH.002496' z=0.53 t=8.41 Gyr>,\n",
       " <TimeStep 'snapshots_200bkgdens/h242.cosmo50PLK.3072gst5HbwK1BH.002400' z=0.57 t=8.09 Gyr>,\n",
       " <TimeStep 'snapshots_200bkgdens/h242.cosmo50PLK.3072gst5HbwK1BH.002304' z=0.62 t=7.77 Gyr>,\n",
       " <TimeStep 'snapshots_200bkgdens/h242.cosmo50PLK.3072gst5HbwK1BH.002208' z=0.68 t=7.44 Gyr>,\n",
       " <TimeStep 'snapshots_200bkgdens/h242.cosmo50PLK.3072gst5HbwK1BH.002112' z=0.73 t=7.12 Gyr>,\n",
       " <TimeStep 'snapshots_200bkgdens/h242.cosmo50PLK.3072gst5HbwK1BH.002088' z=0.75 t=7.04 Gyr>,\n",
       " <TimeStep 'snapshots_200bkgdens/h242.cosmo50PLK.3072gst5HbwK1BH.002016' z=0.80 t=6.80 Gyr>,\n",
       " <TimeStep 'snapshots_200bkgdens/h242.cosmo50PLK.3072gst5HbwK1BH.001920' z=0.86 t=6.47 Gyr>,\n",
       " <TimeStep 'snapshots_200bkgdens/h242.cosmo50PLK.3072gst5HbwK1BH.001824' z=0.93 t=6.15 Gyr>,\n",
       " <TimeStep 'snapshots_200bkgdens/h242.cosmo50PLK.3072gst5HbwK1BH.001740' z=1.00 t=5.87 Gyr>,\n",
       " <TimeStep 'snapshots_200bkgdens/h242.cosmo50PLK.3072gst5HbwK1BH.001728' z=1.01 t=5.83 Gyr>,\n",
       " <TimeStep 'snapshots_200bkgdens/h242.cosmo50PLK.3072gst5HbwK1BH.001632' z=1.09 t=5.50 Gyr>,\n",
       " <TimeStep 'snapshots_200bkgdens/h242.cosmo50PLK.3072gst5HbwK1BH.001536' z=1.19 t=5.18 Gyr>,\n",
       " <TimeStep 'snapshots_200bkgdens/h242.cosmo50PLK.3072gst5HbwK1BH.001475' z=1.25 t=4.98 Gyr>,\n",
       " <TimeStep 'snapshots_200bkgdens/h242.cosmo50PLK.3072gst5HbwK1BH.001440' z=1.29 t=4.86 Gyr>,\n",
       " <TimeStep 'snapshots_200bkgdens/h242.cosmo50PLK.3072gst5HbwK1BH.001344' z=1.40 t=4.53 Gyr>,\n",
       " <TimeStep 'snapshots_200bkgdens/h242.cosmo50PLK.3072gst5HbwK1BH.001269' z=1.50 t=4.28 Gyr>,\n",
       " <TimeStep 'snapshots_200bkgdens/h242.cosmo50PLK.3072gst5HbwK1BH.001248' z=1.53 t=4.21 Gyr>,\n",
       " <TimeStep 'snapshots_200bkgdens/h242.cosmo50PLK.3072gst5HbwK1BH.001152' z=1.67 t=3.89 Gyr>,\n",
       " <TimeStep 'snapshots_200bkgdens/h242.cosmo50PLK.3072gst5HbwK1BH.001106' z=1.75 t=3.73 Gyr>,\n",
       " <TimeStep 'snapshots_200bkgdens/h242.cosmo50PLK.3072gst5HbwK1BH.001056' z=1.84 t=3.57 Gyr>,\n",
       " <TimeStep 'snapshots_200bkgdens/h242.cosmo50PLK.3072gst5HbwK1BH.000974' z=2.00 t=3.29 Gyr>,\n",
       " <TimeStep 'snapshots_200bkgdens/h242.cosmo50PLK.3072gst5HbwK1BH.000960' z=2.03 t=3.24 Gyr>,\n",
       " <TimeStep 'snapshots_200bkgdens/h242.cosmo50PLK.3072gst5HbwK1BH.000864' z=2.25 t=2.92 Gyr>,\n",
       " <TimeStep 'snapshots_200bkgdens/h242.cosmo50PLK.3072gst5HbwK1BH.000776' z=2.50 t=2.62 Gyr>,\n",
       " <TimeStep 'snapshots_200bkgdens/h242.cosmo50PLK.3072gst5HbwK1BH.000768' z=2.52 t=2.60 Gyr>,\n",
       " <TimeStep 'snapshots_200bkgdens/h242.cosmo50PLK.3072gst5HbwK1BH.000672' z=2.86 t=2.27 Gyr>,\n",
       " <TimeStep 'snapshots_200bkgdens/h242.cosmo50PLK.3072gst5HbwK1BH.000637' z=3.00 t=2.15 Gyr>,\n",
       " <TimeStep 'snapshots_200bkgdens/h242.cosmo50PLK.3072gst5HbwK1BH.000576' z=3.28 t=1.95 Gyr>,\n",
       " <TimeStep 'snapshots_200bkgdens/h242.cosmo50PLK.3072gst5HbwK1BH.000480' z=3.83 t=1.63 Gyr>,\n",
       " <TimeStep 'snapshots_200bkgdens/h242.cosmo50PLK.3072gst5HbwK1BH.000456' z=4.00 t=1.54 Gyr>,\n",
       " <TimeStep 'snapshots_200bkgdens/h242.cosmo50PLK.3072gst5HbwK1BH.000384' z=4.60 t=1.30 Gyr>,\n",
       " <TimeStep 'snapshots_200bkgdens/h242.cosmo50PLK.3072gst5HbwK1BH.000347' z=4.99 t=1.18 Gyr>,\n",
       " <TimeStep 'snapshots_200bkgdens/h242.cosmo50PLK.3072gst5HbwK1BH.000288' z=5.78 t=0.98 Gyr>,\n",
       " <TimeStep 'snapshots_200bkgdens/h242.cosmo50PLK.3072gst5HbwK1BH.000275' z=5.99 t=0.94 Gyr>,\n",
       " <TimeStep 'snapshots_200bkgdens/h242.cosmo50PLK.3072gst5HbwK1BH.000225' z=6.98 t=0.77 Gyr>,\n",
       " <TimeStep 'snapshots_200bkgdens/h242.cosmo50PLK.3072gst5HbwK1BH.000192' z=7.86 t=0.66 Gyr>,\n",
       " <TimeStep 'snapshots_200bkgdens/h242.cosmo50PLK.3072gst5HbwK1BH.000188' z=7.99 t=0.64 Gyr>,\n",
       " <TimeStep 'snapshots_200bkgdens/h242.cosmo50PLK.3072gst5HbwK1BH.000139' z=9.95 t=0.48 Gyr>,\n",
       " <TimeStep 'snapshots_200bkgdens/h242.cosmo50PLK.3072gst5HbwK1BH.000107' z=11.99 t=0.37 Gyr>,\n",
       " <TimeStep 'snapshots_200bkgdens/h242.cosmo50PLK.3072gst5HbwK1BH.000096' z=12.94 t=0.33 Gyr>,\n",
       " <TimeStep 'snapshots_200bkgdens/h242.cosmo50PLK.3072gst5HbwK1BH.000071' z=15.93 t=0.25 Gyr>]"
      ]
     },
     "execution_count": 5,
     "metadata": {},
     "output_type": "execute_result"
    }
   ],
   "source": [
    "s = tangos.get_simulation('snapshots_200bkgdens')\n",
    "list(np.flip(list(s.timesteps)))"
   ]
  },
  {
   "cell_type": "code",
   "execution_count": 6,
   "metadata": {},
   "outputs": [],
   "source": [
    "\n",
    "snapshots =['h242.cosmo50PLK.3072gst5HbwK1BH.004096',\n",
    "            'h242.cosmo50PLK.3072gst5HbwK1BH.004032',\n",
    "            'h242.cosmo50PLK.3072gst5HbwK1BH.003936',\n",
    "            'h242.cosmo50PLK.3072gst5HbwK1BH.003840',\n",
    "            'h242.cosmo50PLK.3072gst5HbwK1BH.003744',\n",
    "            'h242.cosmo50PLK.3072gst5HbwK1BH.003648',\n",
    "            'h242.cosmo50PLK.3072gst5HbwK1BH.003606',\n",
    "            'h242.cosmo50PLK.3072gst5HbwK1BH.003552',\n",
    "            'h242.cosmo50PLK.3072gst5HbwK1BH.003456',\n",
    "            'h242.cosmo50PLK.3072gst5HbwK1BH.003360',\n",
    "            'h242.cosmo50PLK.3072gst5HbwK1BH.003264',\n",
    "            'h242.cosmo50PLK.3072gst5HbwK1BH.003195',\n",
    "            'h242.cosmo50PLK.3072gst5HbwK1BH.003168',\n",
    "            'h242.cosmo50PLK.3072gst5HbwK1BH.003072',\n",
    "            'h242.cosmo50PLK.3072gst5HbwK1BH.002976',\n",
    "            'h242.cosmo50PLK.3072gst5HbwK1BH.002880',\n",
    "            'h242.cosmo50PLK.3072gst5HbwK1BH.002784',\n",
    "            'h242.cosmo50PLK.3072gst5HbwK1BH.002688',\n",
    "            'h242.cosmo50PLK.3072gst5HbwK1BH.002592',\n",
    "            'h242.cosmo50PLK.3072gst5HbwK1BH.002554',\n",
    "            'h242.cosmo50PLK.3072gst5HbwK1BH.002496',\n",
    "            'h242.cosmo50PLK.3072gst5HbwK1BH.002400',\n",
    "            'h242.cosmo50PLK.3072gst5HbwK1BH.002304',\n",
    "            'h242.cosmo50PLK.3072gst5HbwK1BH.002208',\n",
    "            'h242.cosmo50PLK.3072gst5HbwK1BH.002112',\n",
    "            'h242.cosmo50PLK.3072gst5HbwK1BH.002088',\n",
    "            'h242.cosmo50PLK.3072gst5HbwK1BH.002016',\n",
    "            'h242.cosmo50PLK.3072gst5HbwK1BH.001920',\n",
    "            'h242.cosmo50PLK.3072gst5HbwK1BH.001824',\n",
    "            'h242.cosmo50PLK.3072gst5HbwK1BH.001740',\n",
    "            'h242.cosmo50PLK.3072gst5HbwK1BH.001728',\n",
    "            'h242.cosmo50PLK.3072gst5HbwK1BH.001632',\n",
    "            'h242.cosmo50PLK.3072gst5HbwK1BH.001536',\n",
    "            'h242.cosmo50PLK.3072gst5HbwK1BH.001475',\n",
    "            'h242.cosmo50PLK.3072gst5HbwK1BH.001440',\n",
    "            'h242.cosmo50PLK.3072gst5HbwK1BH.001344',\n",
    "            'h242.cosmo50PLK.3072gst5HbwK1BH.001269',\n",
    "            'h242.cosmo50PLK.3072gst5HbwK1BH.001248',\n",
    "            'h242.cosmo50PLK.3072gst5HbwK1BH.001152',\n",
    "            'h242.cosmo50PLK.3072gst5HbwK1BH.001106',\n",
    "            'h242.cosmo50PLK.3072gst5HbwK1BH.001056',\n",
    "            'h242.cosmo50PLK.3072gst5HbwK1BH.000974',\n",
    "            'h242.cosmo50PLK.3072gst5HbwK1BH.000960',\n",
    "            'h242.cosmo50PLK.3072gst5HbwK1BH.000864',\n",
    "            'h242.cosmo50PLK.3072gst5HbwK1BH.000776',\n",
    "            'h242.cosmo50PLK.3072gst5HbwK1BH.000768',\n",
    "            'h242.cosmo50PLK.3072gst5HbwK1BH.000672',\n",
    "            'h242.cosmo50PLK.3072gst5HbwK1BH.000637',\n",
    "            'h242.cosmo50PLK.3072gst5HbwK1BH.000576',\n",
    "            'h242.cosmo50PLK.3072gst5HbwK1BH.000480',\n",
    "            'h242.cosmo50PLK.3072gst5HbwK1BH.000456',\n",
    "            'h242.cosmo50PLK.3072gst5HbwK1BH.000384',\n",
    "            'h242.cosmo50PLK.3072gst5HbwK1BH.000347',\n",
    "            'h242.cosmo50PLK.3072gst5HbwK1BH.000288',\n",
    "            'h242.cosmo50PLK.3072gst5HbwK1BH.000275',\n",
    "            'h242.cosmo50PLK.3072gst5HbwK1BH.000225',\n",
    "            'h242.cosmo50PLK.3072gst5HbwK1BH.000192',\n",
    "            'h242.cosmo50PLK.3072gst5HbwK1BH.000188',\n",
    "            'h242.cosmo50PLK.3072gst5HbwK1BH.000139',\n",
    "            'h242.cosmo50PLK.3072gst5HbwK1BH.000107',\n",
    "            'h242.cosmo50PLK.3072gst5HbwK1BH.000096',\n",
    "            'h242.cosmo50PLK.3072gst5HbwK1BH.000071']\n",
    "\n",
    "path = '/home/christenc/Data/Sims/h242.cosmo50PLK.3072g/h242.cosmo50PLK.3072gst5HbwK1BH/snapshots_200bkgdens/'"
   ]
  },
  {
   "cell_type": "code",
   "execution_count": 7,
   "metadata": {},
   "outputs": [
    {
     "name": "stdout",
     "output_type": "stream",
     "text": [
      "h242.cosmo50PLK.3072gst5HbwK1BH.004096\n",
      "h242.cosmo50PLK.3072gst5HbwK1BH.004032\n",
      "h242.cosmo50PLK.3072gst5HbwK1BH.003936\n",
      "h242.cosmo50PLK.3072gst5HbwK1BH.003840\n",
      "h242.cosmo50PLK.3072gst5HbwK1BH.003744\n",
      "h242.cosmo50PLK.3072gst5HbwK1BH.003648\n",
      "h242.cosmo50PLK.3072gst5HbwK1BH.003606\n",
      "h242.cosmo50PLK.3072gst5HbwK1BH.003552\n",
      "h242.cosmo50PLK.3072gst5HbwK1BH.003456\n",
      "h242.cosmo50PLK.3072gst5HbwK1BH.003360\n",
      "h242.cosmo50PLK.3072gst5HbwK1BH.003264\n",
      "h242.cosmo50PLK.3072gst5HbwK1BH.003195\n",
      "h242.cosmo50PLK.3072gst5HbwK1BH.003168\n",
      "h242.cosmo50PLK.3072gst5HbwK1BH.003072\n",
      "h242.cosmo50PLK.3072gst5HbwK1BH.002976\n",
      "h242.cosmo50PLK.3072gst5HbwK1BH.002880\n",
      "h242.cosmo50PLK.3072gst5HbwK1BH.002784\n",
      "h242.cosmo50PLK.3072gst5HbwK1BH.002688\n",
      "h242.cosmo50PLK.3072gst5HbwK1BH.002592\n",
      "h242.cosmo50PLK.3072gst5HbwK1BH.002554\n",
      "h242.cosmo50PLK.3072gst5HbwK1BH.002496\n",
      "h242.cosmo50PLK.3072gst5HbwK1BH.002400\n",
      "h242.cosmo50PLK.3072gst5HbwK1BH.002304\n",
      "h242.cosmo50PLK.3072gst5HbwK1BH.002208\n",
      "h242.cosmo50PLK.3072gst5HbwK1BH.002112\n",
      "h242.cosmo50PLK.3072gst5HbwK1BH.002088\n",
      "h242.cosmo50PLK.3072gst5HbwK1BH.002016\n",
      "h242.cosmo50PLK.3072gst5HbwK1BH.001920\n",
      "h242.cosmo50PLK.3072gst5HbwK1BH.001824\n",
      "h242.cosmo50PLK.3072gst5HbwK1BH.001740\n",
      "h242.cosmo50PLK.3072gst5HbwK1BH.001728\n",
      "h242.cosmo50PLK.3072gst5HbwK1BH.001632\n",
      "h242.cosmo50PLK.3072gst5HbwK1BH.001536\n",
      "h242.cosmo50PLK.3072gst5HbwK1BH.001475\n",
      "h242.cosmo50PLK.3072gst5HbwK1BH.001440\n",
      "h242.cosmo50PLK.3072gst5HbwK1BH.001344\n",
      "h242.cosmo50PLK.3072gst5HbwK1BH.001269\n",
      "h242.cosmo50PLK.3072gst5HbwK1BH.001248\n",
      "h242.cosmo50PLK.3072gst5HbwK1BH.001152\n",
      "h242.cosmo50PLK.3072gst5HbwK1BH.001106\n",
      "h242.cosmo50PLK.3072gst5HbwK1BH.001056\n",
      "h242.cosmo50PLK.3072gst5HbwK1BH.000974\n",
      "h242.cosmo50PLK.3072gst5HbwK1BH.000960\n",
      "h242.cosmo50PLK.3072gst5HbwK1BH.000864\n"
     ]
    },
    {
     "name": "stderr",
     "output_type": "stream",
     "text": [
      "/home/akinshol/anaconda3/envs/py37/lib/python3.7/site-packages/sqlalchemy/ext/declarative/clsregistry.py:129: SAWarning: This declarative base already contains a class with the same class name and module name as tangos.relation_finding.multi_hop.MultiHopHaloLink_hkia, and will be replaced in the string-lookup table.\n",
      "  % (item.__module__, item.__name__)\n"
     ]
    },
    {
     "name": "stdout",
     "output_type": "stream",
     "text": [
      "h242.cosmo50PLK.3072gst5HbwK1BH.000776\n",
      "h242.cosmo50PLK.3072gst5HbwK1BH.000768\n",
      "h242.cosmo50PLK.3072gst5HbwK1BH.000672\n",
      "h242.cosmo50PLK.3072gst5HbwK1BH.000637\n",
      "h242.cosmo50PLK.3072gst5HbwK1BH.000576\n",
      "h242.cosmo50PLK.3072gst5HbwK1BH.000480\n",
      "h242.cosmo50PLK.3072gst5HbwK1BH.000456\n",
      "h242.cosmo50PLK.3072gst5HbwK1BH.000384\n",
      "h242.cosmo50PLK.3072gst5HbwK1BH.000347\n",
      "h242.cosmo50PLK.3072gst5HbwK1BH.000288\n"
     ]
    },
    {
     "name": "stderr",
     "output_type": "stream",
     "text": [
      "/home/akinshol/anaconda3/envs/py37/lib/python3.7/site-packages/sqlalchemy/ext/declarative/clsregistry.py:129: SAWarning: This declarative base already contains a class with the same class name and module name as tangos.relation_finding.multi_hop.MultiHopHaloLink_graf, and will be replaced in the string-lookup table.\n",
      "  % (item.__module__, item.__name__)\n"
     ]
    },
    {
     "name": "stdout",
     "output_type": "stream",
     "text": [
      "h242.cosmo50PLK.3072gst5HbwK1BH.000275\n",
      "h242.cosmo50PLK.3072gst5HbwK1BH.000225\n",
      "h242.cosmo50PLK.3072gst5HbwK1BH.000192\n",
      "h242.cosmo50PLK.3072gst5HbwK1BH.000188\n",
      "h242.cosmo50PLK.3072gst5HbwK1BH.000139\n",
      "h242.cosmo50PLK.3072gst5HbwK1BH.000107\n",
      "h242.cosmo50PLK.3072gst5HbwK1BH.000096\n",
      "h242.cosmo50PLK.3072gst5HbwK1BH.000071\n"
     ]
    }
   ],
   "source": [
    "\n",
    "for tstep in range(len(snapshots)):\n",
    "    snapshot = snapshots[tstep]\n",
    "    print(snapshot)\n",
    "    sim = pynbody.load(path+snapshot)\n",
    "    sim.physical_units()\n",
    "    h = sim.halos()\n",
    "    \n",
    "    for z0haloid in ids2:\n",
    "        halo = s.timesteps[-1].halos[z0haloid-1]\n",
    "        haloids, ndms = halo.calculate_for_progenitors('halo_number()', 'NDM()')\n",
    "        try:\n",
    "            haloid = haloids[tstep]\n",
    "        except:\n",
    "            continue\n",
    "        ndm = ndms[tstep]\n",
    "        pyn_ndm = len(h[haloid].dm)\n",
    "        if ndm != pyn_ndm:\n",
    "            print(f'z = 0 haloid {z0haloid}, tangos NDM, {ndm}, pynbody {pyn_ndm}')\n",
    "        \n",
    "    "
   ]
  },
  {
   "cell_type": "code",
   "execution_count": 8,
   "metadata": {},
   "outputs": [
    {
     "name": "stdout",
     "output_type": "stream",
     "text": [
      "1: [1, 1, 1, 1, 1, 1, 1, 1, 1, 1, 1, 1, 1, 1, 1, 1, 1, 1, 1, 1, 1, 1, 1, 1, 1, 1, 1, 1, 1, 1, 1, 1, 1, 1, 1, 1, 1, 1, 1, 1, 1, 1, 1, 1, 1, 1, 1, 1, 1, 1, 1, 1, 1, 1, 1, 2, 2, 2, 4, 4, 4, 2],\n",
      "10: [10, 10, 9, 7, 7, 8, 7, 7, 7, 4, 5, 5, 5, 6, 6, 4, 3, 3, 3, 3, 3, 4, 5, 5, 6, 6, 4, 6, 6, 6, 6, 6, 5, 5, 5, 5, 5, 5, 5, 5, 4, 4, 4, 4, 4, 4, 4, 4, 6, 9, 9, 9, 10, 10, 9, 13, 14, 16, 18, 18, 18, 20],\n",
      "12: [12, 12, 12, 9, 10, 11, 10, 10, 10, 9, 10, 6, 6, 5, 4, 3, 4, 4, 4, 4, 4, 5, 4, 4, 5, 5, 5, 5, 5, 5, 5, 5, 6, 6, 6, 4, 4, 4, 4, 4, 5, 6, 6, 7, 8, 8, 8, 8, 10, 11, 10, 7, 6, 11, 11, 7, 11, 11, 9, 5, 6, 9],\n",
      "24: [24, 24, 25, 26, 25, 25, 25, 24, 24, 23, 24, 25, 24, 22, 22, 22, 21, 20, 19, 19, 19, 19, 19, 20, 19, 19, 17, 20, 21, 21, 20, 21, 17, 16, 17, 15, 15, 16, 15, 18, 17, 17, 17, 20, 21, 21, 20, 21, 24, 26, 28, 25, 24, 27, 29, 23, 20, 19, 14, 12, 16, 17],\n",
      "30: [30, 29, 29, 31, 29, 28, 29, 29, 30, 32, 30, 29, 28, 26, 25, 24, 22, 22, 20, 20, 20, 21, 21, 22, 21, 21, 18, 19, 18, 17, 16, 17, 15, 13, 14, 12, 13, 14, 13, 13, 13, 14, 14, 13, 15, 15, 14, 15, 16, 16, 17, 18, 16, 14, 12, 8, 9, 9, 8, 6, 5, 4],\n",
      "34: [34, 33, 34, 36, 35, 35, 34, 34, 35, 36, 33, 33, 33, 33, 33, 33, 33, 32, 32, 32, 32, 31, 31, 30, 30, 31, 28],\n",
      "40: [40, 40, 41, 44, 41, 41, 42, 41, 42, 42, 40, 39, 40, 39, 38, 38, 38, 38, 38, 38, 39, 38, 37, 38, 38, 38, 37, 36, 37, 35, 34, 34, 34, 32, 33, 34, 32, 34, 35, 38, 40, 38, 38, 42, 38, 38, 39, 40, 45, 50, 49, 49, 52, 57, 55, 50, 40, 41, 31, 25, 26],\n",
      "41: [41, 41, 42, 43, 44, 29, 26, 23, 20, 19, 19, 19, 19, 18, 18, 18, 19, 18, 18, 18, 18, 20, 20, 21, 22, 22, 21, 23, 28, 28, 28, 27, 29, 27, 28, 29, 27, 29, 32, 34, 35, 29, 29, 28, 26, 26, 34, 43, 121, 121, 115, 101, 103, 87, 82, 77, 122, 156, 122],\n",
      "44: [44, 44, 45, 48, 46, 45, 47, 46, 48, 50, 48, 50, 53, 51, 51, 52, 50, 52, 52, 53, 51, 51, 49, 50, 49, 50, 49, 50, 51, 48, 48, 45, 43, 39, 41, 41, 37, 39, 41, 46, 46, 46, 44, 46, 39, 39, 41, 41, 47, 53, 50, 46, 47, 50, 52, 53, 41, 40, 34, 30, 28, 25],\n",
      "48: [48, 50, 48, 51, 51, 50, 52, 51, 54, 54, 52, 53, 57, 55, 53, 53, 53, 54, 54, 54, 54, 53, 51, 49, 48, 48, 47, 51, 55, 54, 53, 57, 57, 57, 59, 60, 58, 61, 68, 68, 67, 67, 66, 69, 66, 66, 56, 57, 66, 67, 65, 59, 64, 71, 75, 85, 95, 94, 86, 77],\n",
      "49: [49, 49, 47, 50, 50, 49, 50, 50, 53, 55, 53, 55, 69, 56, 55, 55, 56, 55, 55, 57, 56, 58, 54, 57, 57, 57, 57, 60, 64, 65, 65, 69, 72, 73, 75, 79, 78, 83, 86, 86, 85, 81, 81, 83, 79, 79, 85, 94, 97, 100, 100, 103, 95, 92, 87, 91, 83, 84, 150],\n",
      "71: [71, 70, 72, 75, 75, 75, 75, 73, 72, 75, 71, 72, 72, 68, 66, 66, 67, 66, 66, 58, 57, 55, 53, 53, 50, 49, 48, 49, 53, 52, 51, 48, 48, 47, 50, 48, 42, 44, 46, 49, 48, 51, 53, 56, 50, 50, 48, 48, 56, 64, 62, 63, 65, 63, 58, 58, 55, 56, 47, 65],\n",
      "78: [78, 76, 76, 78, 76, 71, 70, 68, 64, 65, 63, 66, 65, 64, 62, 61, 62, 62, 60, 61, 59, 59, 60, 59, 59, 58, 56, 57, 60, 63, 62, 64, 62, 61, 62, 62, 60, 62, 67, 69, 68, 63, 63, 60, 45, 44, 47, 47, 54, 57, 51, 52, 62, 82, 77],\n",
      "80: [80, 268, 64, 39, 33, 31, 31, 30, 29, 29, 27, 26, 25, 25, 24, 19, 15, 14, 14, 14, 14, 14, 14, 14, 14, 14, 12, 14, 15, 14, 14, 13, 12, 12, 11, 11, 12, 13, 12, 14, 15, 15, 15, 15, 17, 17, 16, 17, 18, 21, 22, 29, 55, 53, 50, 47, 48, 48, 100],\n",
      "86: [86, 82, 83, 84, 82, 79, 80, 80, 76, 67, 51, 48, 47, 46, 47, 46, 46, 47, 45, 46, 45, 43, 42, 40, 39, 39, 38, 37, 39, 36, 35, 35, 35, 33, 34, 38, 35, 37, 36, 39, 42, 37, 35, 40, 41, 41, 51, 54, 58, 58, 56, 55, 57, 74, 73, 76, 88, 87, 112],\n",
      "165: [165, 153, 146, 140, 132, 125, 126, 129, 128, 134, 132, 131, 134, 128, 129, 127, 128, 127, 132, 132, 135, 136, 132, 125, 122, 116, 111, 113, 194, 133, 121, 87, 87, 92, 94, 97, 99, 102, 111, 108, 107, 102, 101, 102, 98, 101, 101, 105, 103, 95, 91, 90, 90, 91, 86, 68, 65, 64, 62],\n",
      "223: [223, 214, 228, 69, 52, 48, 48, 47, 49, 52, 50, 51, 54, 52, 52, 51, 51, 53, 53, 52, 50, 50, 48, 48, 51, 51, 50, 52, 54, 53, 52, 49, 50, 49, 52, 52, 47, 50, 49, 50, 50, 49, 49, 51, 44, 45, 49, 50, 55, 56, 54, 95, 134, 140, 135, 134, 157, 184, 146],\n",
      "439: [439, 441, 439, 442, 439, 432, 431, 430, 416, 401, 379, 367, 366, 341, 318, 283, 223, 176, 174, 170, 174, 173, 176, 178, 174, 173, 174, 176, 176, 176, 175, 168, 158, 141, 136, 122, 89, 78, 65, 63, 60, 53, 52, 43, 31, 31, 22, 22, 23, 27, 27, 26, 26, 30, 30, 31, 34, 36, 74],\n",
      "480: [480, 481, 466, 463, 462, 461, 459, 456, 460, 470, 467, 469, 472, 468, 472, 471, 460, 450, 437, 432, 425, 419, 415, 408, 409, 405, 408, 405, 405, 413, 411, 410, 404, 399, 393, 393, 368, 368, 356, 351, 342, 321, 320, 294, 224, 215, 118, 104, 89, 62, 57, 51, 54, 55, 54, 52, 49, 47, 37, 38, 42],\n"
     ]
    }
   ],
   "source": [
    "for z0haloid in ids2:\n",
    "    halo = s.timesteps[-1].halos[z0haloid-1]\n",
    "    halo_num, = halo.calculate_for_progenitors('halo_number()')\n",
    "    print(str(z0haloid)+': [', end='')\n",
    "    print(*halo_num, sep=', ', end='')\n",
    "    print('],')\n"
   ]
  },
  {
   "cell_type": "code",
   "execution_count": 34,
   "metadata": {},
   "outputs": [
    {
     "data": {
      "text/plain": [
       "62"
      ]
     },
     "execution_count": 34,
     "metadata": {},
     "output_type": "execute_result"
    }
   ],
   "source": [
    "len(snapshots)"
   ]
  },
  {
   "cell_type": "code",
   "execution_count": 16,
   "metadata": {},
   "outputs": [
    {
     "data": {
      "text/plain": [
       "4.934124072198533e-09"
      ]
     },
     "execution_count": 16,
     "metadata": {},
     "output_type": "execute_result"
    }
   ],
   "source": [
    "\n",
    "age = np.array(h[15].star['age'].in_units('Myr'),dtype=float)\n",
    "\n",
    "np.sum(np.array(h[15].star['mass'].in_units('Msol'))[age < 100]) / 100e6 "
   ]
  },
  {
   "cell_type": "code",
   "execution_count": null,
   "metadata": {},
   "outputs": [],
   "source": []
  }
 ],
 "metadata": {
  "kernelspec": {
   "display_name": "Python 3",
   "language": "python",
   "name": "python3"
  },
  "language_info": {
   "codemirror_mode": {
    "name": "ipython",
    "version": 3
   },
   "file_extension": ".py",
   "mimetype": "text/x-python",
   "name": "python",
   "nbconvert_exporter": "python",
   "pygments_lexer": "ipython3",
   "version": "3.7.3"
  }
 },
 "nbformat": 4,
 "nbformat_minor": 2
}
