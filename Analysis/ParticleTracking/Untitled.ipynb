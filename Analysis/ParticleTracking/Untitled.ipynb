{
 "cells": [
  {
   "cell_type": "code",
   "execution_count": 2,
   "metadata": {},
   "outputs": [],
   "source": [
    "# first we import all relevant packages\n",
    "import matplotlib.pyplot as plt\n",
    "import numpy as np\n",
    "import matplotlib as mpl\n",
    "import pynbody\n",
    "from scipy import stats\n",
    "from scipy.stats import binned_statistic\n",
    "import pickle\n",
    "import pandas as pd\n",
    "\n",
    "pynbody.config['halo-class-priority'] =  [pynbody.halo.ahf.AHFCatalogue,\n",
    "                                          pynbody.halo.GrpCatalogue,\n",
    "                                          pynbody.halo.AmigaGrpCatalogue,\n",
    "                                          pynbody.halo.legacy.RockstarIntermediateCatalogue,\n",
    "                                          pynbody.halo.rockstar.RockstarCatalogue,\n",
    "                                          pynbody.halo.subfind.SubfindCatalogue, pynbody.halo.hop.HOPCatalogue]"
   ]
  },
  {
   "cell_type": "code",
   "execution_count": 3,
   "metadata": {},
   "outputs": [],
   "source": [
    "# we set the global matplotlib parameters so the fonts are all consistent and serif \n",
    "mpl.rc('font',**{'family':'serif','monospace':['Palatino']})\n",
    "mpl.rc('text', usetex=True)\n",
    "mpl.rcParams.update({'font.size': 9})\n",
    "mpl.rcParams['hatch.linewidth'] = 0.8"
   ]
  },
  {
   "cell_type": "code",
   "execution_count": 4,
   "metadata": {},
   "outputs": [],
   "source": [
    "def read_timescales():\n",
    "    '''Function to read in the resulting data file which contains quenching and infall times'''\n",
    "    data = []\n",
    "    with open('../../Data/QuenchingTimescales.data', 'rb') as f:\n",
    "        while True:\n",
    "            try:\n",
    "                data.append(pickle.load(f,encoding='latin1'))\n",
    "            except EOFError:\n",
    "                break\n",
    "\n",
    "    data = pd.DataFrame(data)\n",
    "    return data"
   ]
  },
  {
   "cell_type": "code",
   "execution_count": 5,
   "metadata": {},
   "outputs": [],
   "source": [
    "def read_z0(simname):\n",
    "    '''Function to read in the data file which contains z=0 information for the various halos'''\n",
    "    data = []\n",
    "    with open('../../Data/z0_data/'+ simname + '.data', 'rb') as f:\n",
    "        while True:\n",
    "            try:\n",
    "                data.append(pickle.load(f,encoding='latin1'))\n",
    "            except EOFError:\n",
    "                break\n",
    "\n",
    "    data1 = pd.DataFrame(data)\n",
    "    return data1"
   ]
  },
  {
   "cell_type": "code",
   "execution_count": 24,
   "metadata": {},
   "outputs": [
    {
     "name": "stderr",
     "output_type": "stream",
     "text": [
      "/Users/hollis/anaconda3/lib/python3.7/site-packages/ipykernel_launcher.py:4: RuntimeWarning: invalid value encountered in greater\n",
      "  after removing the cwd from sys.path.\n"
     ]
    },
    {
     "data": {
      "text/plain": [
       "22"
      ]
     },
     "execution_count": 24,
     "metadata": {},
     "output_type": "execute_result"
    }
   ],
   "source": [
    "timescales = read_timescales()\n",
    "quenched = np.array(timescales.quenched, dtype=bool)\n",
    "tau = np.array(timescales.tinfall) - np.array(timescales.tquench)\n",
    "quench_after_infall = tau > 0\n",
    "\n",
    "resolved = np.array(timescales.n_star, dtype=int) > 100\n",
    "satellites = ~np.isnan(np.array(timescales.tinfall))\n",
    "\n",
    "timescales = timescales[quenched & quench_after_infall]\n",
    "\n",
    "len(timescales)"
   ]
  },
  {
   "cell_type": "code",
   "execution_count": 41,
   "metadata": {},
   "outputs": [
    {
     "name": "stderr",
     "output_type": "stream",
     "text": [
      "/Users/hollis/anaconda3/lib/python3.7/site-packages/ipykernel_launcher.py:4: RuntimeWarning: invalid value encountered in greater\n",
      "  after removing the cwd from sys.path.\n"
     ]
    },
    {
     "name": "stdout",
     "output_type": "stream",
     "text": [
      "There are 35 resolved satellites that are quenched at z=0.\n",
      "Of these 35, only 8 have gas at z=0.\n",
      "These are:\n",
      "h148-13 h148-28 h148-37 h148-68 h242-40 h242-80 h229-20 h229-23\n",
      "(With the caveat that our haloids might be different from what you are using, since we re-ran AHF a while back to use the background density to get Rvir)\n"
     ]
    }
   ],
   "source": [
    "timescales = read_timescales()\n",
    "quenched = np.array(timescales.quenched, dtype=bool)\n",
    "tau = np.array(timescales.tinfall) - np.array(timescales.tquench)\n",
    "quench_after_infall = tau > 0\n",
    "\n",
    "resolved = np.array(timescales.n_star, dtype=int) > 100\n",
    "satellites = ~np.isnan(np.array(timescales.tinfall))\n",
    "\n",
    "timescales = timescales[quenched & satellites & resolved]\n",
    "\n",
    "print(f'There are {len(timescales)} resolved satellites that are quenched at z=0.')\n",
    "\n",
    "gas_masses = np.array([])\n",
    "sims, haloids = np.array(timescales.sim), np.array(timescales.haloid)\n",
    "for sim, haloid in zip(sims,haloids):\n",
    "    d = read_z0(sim)\n",
    "    d = d[d.haloid==haloid]\n",
    "    Mgas = d.M_gas.tolist()[0]\n",
    "    gas_masses = np.append(gas_masses, Mgas)\n",
    "\n",
    "print(f'Of these {len(timescales)}, only {len(gas_masses[gas_masses != 0])} have gas at z=0.')\n",
    "print(fr\"These are:\")\n",
    "print(*[str(s)+'-'+str(h) for s,h in zip(sims[gas_masses != 0], haloids[gas_masses != 0])])\n",
    "print('(With the caveat that our haloids might be different from what you are using, since we re-ran AHF a while back to use the background density to get Rvir)')\n"
   ]
  },
  {
   "cell_type": "code",
   "execution_count": 11,
   "metadata": {},
   "outputs": [],
   "source": [
    "data = read_z0('h148')"
   ]
  },
  {
   "cell_type": "code",
   "execution_count": 12,
   "metadata": {},
   "outputs": [
    {
     "name": "stdout",
     "output_type": "stream",
     "text": [
      "1.93e+11\n"
     ]
    }
   ],
   "source": [
    "data = data[data.haloid == 1]\n",
    "Mstar = data.M_star.tolist()[0]\n",
    "print(f'{Mstar:.2e}')"
   ]
  },
  {
   "cell_type": "code",
   "execution_count": 16,
   "metadata": {},
   "outputs": [
    {
     "name": "stdout",
     "output_type": "stream",
     "text": [
      "2.66e+12\n"
     ]
    }
   ],
   "source": [
    "mass = data.mass.tolist()[0]\n",
    "print(f'{mass:.2e}')"
   ]
  },
  {
   "cell_type": "code",
   "execution_count": 17,
   "metadata": {},
   "outputs": [
    {
     "name": "stdout",
     "output_type": "stream",
     "text": [
      "[   1   11   31   33   40   64  103  133  137  146  185  447  729  996\n",
      " 1509]\n"
     ]
    }
   ],
   "source": [
    "data = read_z0('h329')\n",
    "print(np.unique(data.haloid))"
   ]
  }
 ],
 "metadata": {
  "kernelspec": {
   "display_name": "Python 3",
   "language": "python",
   "name": "python3"
  },
  "language_info": {
   "codemirror_mode": {
    "name": "ipython",
    "version": 3
   },
   "file_extension": ".py",
   "mimetype": "text/x-python",
   "name": "python",
   "nbconvert_exporter": "python",
   "pygments_lexer": "ipython3",
   "version": "3.7.3"
  }
 },
 "nbformat": 4,
 "nbformat_minor": 4
}
