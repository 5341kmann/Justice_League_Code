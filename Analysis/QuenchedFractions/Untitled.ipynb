{
 "cells": [
  {
   "cell_type": "code",
   "execution_count": null,
   "metadata": {},
   "outputs": [],
   "source": []
  },
  {
   "cell_type": "code",
   "execution_count": 1,
   "metadata": {},
   "outputs": [],
   "source": [
    "# first we import all relevant packages\n",
    "from bulk import * # bulk.py stores a lot of my personal functions, i.e. for reading from the .data files and such\n",
    "import matplotlib.pyplot as plt\n",
    "import numpy as np\n",
    "import matplotlib as mpl\n",
    "import pynbody\n",
    "from scipy import stats\n",
    "from scipy.stats import binned_statistic\n"
   ]
  },
  {
   "cell_type": "code",
   "execution_count": 2,
   "metadata": {},
   "outputs": [],
   "source": [
    "# we set the global matplotlib parameters so the fonts are all consistent and serif \n",
    "mpl.rc('font',**{'family':'serif','monospace':['Palatino']})\n",
    "mpl.rc('text', usetex=True)\n",
    "mpl.rcParams['figure.constrained_layout.use'] = True\n",
    "mpl.rcParams.update({'font.size': 9})"
   ]
  },
  {
   "cell_type": "code",
   "execution_count": 4,
   "metadata": {},
   "outputs": [
    {
     "data": {
      "text/plain": [
       "Index(['haloid', 'hostHalo', 'n_particles', 'n_star', 'n_gas', 'M_star',\n",
       "       'M_gas', 'mass', 'Rvir', 'G_outflow_2.5', 'G_outflow_1.5',\n",
       "       'G_inflow_2.5', 'G_inflow_1.5', 'G_inflow_0', 'G_outflow_0', 'Gout_T',\n",
       "       'Gin_T', 'Xc', 'Yc', 'Zc', 'feh_avg', 'zstar', 'zgas', 'g_temp',\n",
       "       'V_mag', 'B_mag', 'U_mag', 'R_mag', 'I_mag', 'r_mag', 'gasfrac', 'mHI',\n",
       "       'HIgasfrac', 'sfh', 'sfhbins', 'SFR', 'sSFR', 'tquench', 'age', 'B-V',\n",
       "       'h1dist', 'id2', 'Rmax', 'ovdens', 'fMhires', 'c_a', 'c', 'a',\n",
       "       'V90_Vdisp', 'hostVirialR', 'hostDist', 'sim', 'g-r'],\n",
       "      dtype='object')"
      ]
     },
     "execution_count": 4,
     "metadata": {},
     "output_type": "execute_result"
    }
   ],
   "source": [
    "\n",
    "data.keys()"
   ]
  },
  {
   "cell_type": "code",
   "execution_count": 10,
   "metadata": {},
   "outputs": [
    {
     "name": "stdout",
     "output_type": "stream",
     "text": [
      "h148, main halo mvir 2.66e+12\n",
      "h148, all subahlos mvir 2.96e+12\n",
      "h229, main halo mvir 1.29e+12\n",
      "h229, all subahlos mvir 1.30e+12\n",
      "h242, main halo mvir 1.22e+12\n",
      "h242, all subahlos mvir 1.26e+12\n",
      "h329, main halo mvir 8.25e+11\n",
      "h329, all subahlos mvir 8.32e+11\n"
     ]
    }
   ],
   "source": [
    "# load in distance to nearest host\n",
    "def suite_mass(name):\n",
    "    data = read_file(name) # function defined in bulk.py\n",
    "    data = data[data['n_star']>50] # limit analysis to \"resolved\" halos w/ more than 100 star particles\n",
    "    dist, vir = distance_to_nearest_host(data)\n",
    "    s = dist < vir \n",
    "    print(f'{name}, main halo mvir {data.mass[data.haloid==1].tolist()[0]:.2e}')\n",
    "    print(f'{name}, all subahlos mvir {np.sum(data.mass[s]):.2e}')\n",
    "    \n",
    "suite_mass('h148')\n",
    "suite_mass('h229')\n",
    "suite_mass('h242')\n",
    "suite_mass('h329')"
   ]
  },
  {
   "cell_type": "code",
   "execution_count": null,
   "metadata": {},
   "outputs": [],
   "source": []
  }
 ],
 "metadata": {
  "kernelspec": {
   "display_name": "Python 3",
   "language": "python",
   "name": "python3"
  },
  "language_info": {
   "codemirror_mode": {
    "name": "ipython",
    "version": 3
   },
   "file_extension": ".py",
   "mimetype": "text/x-python",
   "name": "python",
   "nbconvert_exporter": "python",
   "pygments_lexer": "ipython3",
   "version": "3.7.3"
  }
 },
 "nbformat": 4,
 "nbformat_minor": 4
}
