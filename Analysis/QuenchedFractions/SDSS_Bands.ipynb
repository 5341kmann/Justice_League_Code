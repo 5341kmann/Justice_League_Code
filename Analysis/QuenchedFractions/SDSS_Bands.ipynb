{
 "cells": [
  {
   "cell_type": "code",
   "execution_count": 1,
   "metadata": {},
   "outputs": [],
   "source": [
    "import pynbody\n",
    "import numpy as np\n",
    "import pickle\n",
    "import pandas as pd\n",
    "import logging\n",
    "\n",
    "\n",
    "# set the config to prioritize the AHF catalog\n",
    "# otherwise it prioritizes AmgiaGrpCatalogue and you lose a lot of important info\n",
    "pynbody.config['halo-class-priority'] =  [pynbody.halo.ahf.AHFCatalogue,\n",
    "                                          pynbody.halo.GrpCatalogue,\n",
    "                                          pynbody.halo.AmigaGrpCatalogue,\n",
    "                                          pynbody.halo.legacy.RockstarIntermediateCatalogue,\n",
    "                                          pynbody.halo.rockstar.RockstarCatalogue,\n",
    "                                          pynbody.halo.subfind.SubfindCatalogue, pynbody.halo.hop.HOPCatalogue]"
   ]
  },
  {
   "cell_type": "code",
   "execution_count": 2,
   "metadata": {},
   "outputs": [],
   "source": [
    "\n",
    "h148 = '/home/christenc/Data/Sims/h148.cosmo50PLK.3072g/h148.cosmo50PLK.3072g3HbwK1BH/snapshots_200bkgdens/h148.cosmo50PLK.3072g3HbwK1BH.004096'\n",
    "h229 = '/home/christenc/Data/Sims/h229.cosmo50PLK.3072g/h229.cosmo50PLK.3072gst5HbwK1BH/snapshots_200bkgdens/h229.cosmo50PLK.3072gst5HbwK1BH.004096'\n",
    "h242 = '/home/christenc/Data/Sims/h242.cosmo50PLK.3072g/h242.cosmo50PLK.3072gst5HbwK1BH/snapshots_200bkgdens/h242.cosmo50PLK.3072gst5HbwK1BH.004096'\n",
    "h329 = '/home/christenc/Data/Sims/h329.cosmo50PLK.3072g/h329.cosmo50PLK.3072gst5HbwK1BH/snapshots_200bkgdens/h329.cosmo50PLK.3072gst5HbwK1BH.004096'"
   ]
  },
  {
   "cell_type": "code",
   "execution_count": 5,
   "metadata": {},
   "outputs": [],
   "source": [
    "h329 = '/home/akinshol/Data/Sims/h329_200bkgdens/h329.cosmo50PLK.3072gst5HbwK1BH.004096'"
   ]
  },
  {
   "cell_type": "code",
   "execution_count": 6,
   "metadata": {},
   "outputs": [],
   "source": [
    "s = pynbody.load(h329)\n",
    "s.physical_units()\n",
    "h = s.halos()"
   ]
  },
  {
   "cell_type": "code",
   "execution_count": 16,
   "metadata": {},
   "outputs": [
    {
     "name": "stdout",
     "output_type": "stream",
     "text": [
      "Calculating for u-band\n",
      "5520\n",
      "Calculating for g-band\n",
      "5520\n",
      "Calculating for r-band\n",
      "5520\n",
      "Calculating for i-band\n",
      "5520\n",
      "Calculating for z-band\n",
      "5520\n"
     ]
    }
   ],
   "source": [
    "halo = h.load_copy(11)\n",
    "\n",
    "# workaround for SDSS bands (Thank You Elaad!)\n",
    "for band in ['u','g','r','i','z']:\n",
    "    print(f'Calculating for {band}-band')\n",
    "    print(len(halo.s))\n",
    "    halo.s['sdss_'+band+'_mag'] = pynbody.analysis.luminosity.calc_mags(halo.s, band='sdss_'+band, cmd_path='cmd.sdss_ugriz.npz')"
   ]
  },
  {
   "cell_type": "code",
   "execution_count": 20,
   "metadata": {},
   "outputs": [
    {
     "name": "stdout",
     "output_type": "stream",
     "text": [
      "-13.578913743371217 -13.65749569697237\n"
     ]
    }
   ],
   "source": [
    "M_r = pynbody.analysis.luminosity.halo_mag(halo, band='sdss_r')\n",
    "M_v = pynbody.analysis.luminosity.halo_mag(halo, band='v')\n",
    "\n",
    "print(M_r, M_v)"
   ]
  },
  {
   "cell_type": "code",
   "execution_count": 19,
   "metadata": {},
   "outputs": [
    {
     "data": {
      "text/plain": [
       "0.043353"
      ]
     },
     "execution_count": 19,
     "metadata": {},
     "output_type": "execute_result"
    }
   ],
   "source": [
    "h[13].properties['fMhires']"
   ]
  },
  {
   "cell_type": "code",
   "execution_count": null,
   "metadata": {},
   "outputs": [],
   "source": []
  }
 ],
 "metadata": {
  "kernelspec": {
   "display_name": "Python 3",
   "language": "python",
   "name": "python3"
  },
  "language_info": {
   "codemirror_mode": {
    "name": "ipython",
    "version": 3
   },
   "file_extension": ".py",
   "mimetype": "text/x-python",
   "name": "python",
   "nbconvert_exporter": "python",
   "pygments_lexer": "ipython3",
   "version": "3.7.3"
  }
 },
 "nbformat": 4,
 "nbformat_minor": 2
}
