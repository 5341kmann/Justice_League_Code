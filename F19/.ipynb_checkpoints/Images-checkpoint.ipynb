{
 "cells": [
  {
   "cell_type": "code",
   "execution_count": 1,
   "metadata": {},
   "outputs": [],
   "source": [
    "import matplotlib.pyplot as plt\n",
    "import matplotlib.mlab as mlab\n",
    "import matplotlib.colors as colors\n",
    "import matplotlib.cm as cm\n",
    "import pynbody\n",
    "import math\n",
    "import numpy as np\n",
    "import socket"
   ]
  },
  {
   "cell_type": "code",
   "execution_count": 34,
   "metadata": {},
   "outputs": [],
   "source": [
    "def plt_halos(tfile,outfilebase,tfile_base,*halo_nums):\n",
    "\n",
    "    #min_mass = 1e9 #Minimum halo mass for analysis in solar masses\n",
    "    min_nstar =  100 #Minimum number of stars for\n",
    "    min_vmass = 1e8\n",
    "    min_noncontamFrac = 0.9 #Mass fraction in low mass DM particles\n",
    "\n",
    "    if halo_nums:\n",
    "        halo_nums = halo_nums[0]\n",
    "        \n",
    "    s = pynbody.load(tfile)\n",
    "    s.physical_units()\n",
    "    h = s.halos()\n",
    "    h_dummy = s.halos(dummy = True)\n",
    "    print('Loaded simulation')\n",
    "\n",
    "    fig1 = plt.figure(1)\n",
    "    fig2 = plt.figure(2)\n",
    "    ax1 = fig1.add_subplot(111)\n",
    "    ax2 = fig2.add_subplot(111)   \n",
    "    \n",
    "    \n",
    "    \n",
    "    labels = []\n",
    "\n",
    "    i = 0\n",
    "    #Loop through all the halos, breaking when the virial mass is below min_mass\n",
    "    h1x = h_dummy[1].properties['Xc']\n",
    "    h1y = h_dummy[1].properties['Yc']\n",
    "    h1z = h_dummy[1].properties['Zc']\n",
    "    \n",
    "    smin, smax = -300, 300\n",
    "    print('Centering halo 1')\n",
    "    pynbody.analysis.halo.center(h[1])\n",
    "    print('Making DM image...')\n",
    "    pynbody.plot.sph.image(s.dm, width = '%s kpc' % str(smax-smin), cmap='Greys', subplot=ax1, av_z = 'rho')\n",
    "    \n",
    "    \n",
    "    \n",
    "    print('Adding circles...')\n",
    "    for ihalo in range(1,len(h)): #len(h)-1):\n",
    "        if not halo_nums:\n",
    "            nstar = h_dummy[ihalo].properties['n_star']\n",
    "            fMhires = h_dummy[ihalo].properties['fMhires']\n",
    "            mass = h_dummy[ihalo].properties['mass']\n",
    "            valid_halo = (nstar >= min_nstar) and (fMhires >= min_noncontamFrac) and (mass >= min_vmass)\n",
    "        else:\n",
    "            valid_halo = str(h_dummy[ihalo].properties['halo_id']) in halo_nums\n",
    "\n",
    "            \n",
    "        if valid_halo:\n",
    "            labels.append(str(ihalo))\n",
    "            print(h_dummy[ihalo].properties['halo_id'])\n",
    "            \n",
    "            \n",
    "            colorVal = 'm' # this is setting the color of the circle, \n",
    "            # so you will want to change this to set the color based on quenched/vs/unquenched \n",
    "            x = (h_dummy[ihalo].properties['Xc']-h1x)/0.6776942783267969\n",
    "            y = (h_dummy[ihalo].properties['Yc']-h1y)/0.6776942783267969\n",
    "            z = (h_dummy[ihalo].properties['Zc']-h1z)/0.6776942783267969\n",
    "            rvir = h_dummy[ihalo].properties['Rvir']/0.6776942783267969\n",
    "\n",
    "            \n",
    "            circlexy = plt.Circle((x,y),rvir,color = colorVal,fill=False)\n",
    "            circlexz = plt.Circle((x,z),rvir,color = colorVal,fill=False)\n",
    "            ax1.add_artist(circlexy)\n",
    "            ax1.set_xlim(smin,smax)\n",
    "            ax1.set_ylim(smin,smax)\n",
    "            ax2.add_artist(circlexz)\n",
    "            ax2.set_xlim(smin,smax)\n",
    "            ax2.set_ylim(smin,smax)            \n",
    "            fig1.show()\n",
    "            fig2.show()\n",
    "            i += 1\n",
    "            \n",
    "    ax1.set_xlabel('X [kpc]')\n",
    "    ax1.set_ylabel('Y [kpc]')\n",
    "    ax1.set_title(tfile_base)\n",
    "    ax1.legend(labels,loc = 1)\n",
    "    fig1.show()\n",
    "    fig1.savefig(outfilebase + '.halos_xy.png')\n",
    "\n",
    "    fig1.clear()\n",
    "\n",
    "    \n",
    "    ax2.set_xlabel('X [kpc]')\n",
    "    ax2.set_ylabel('Z [kpc]')\n",
    "    ax2.set_title(tfile_base)\n",
    "    ax2.legend(labels,loc = 4)\n",
    "    fig2.show()\n",
    "    fig2.savefig(outfilebase + '.halos_xz.png')\n",
    "\n",
    "    fig2.clear()"
   ]
  },
  {
   "cell_type": "code",
   "execution_count": 35,
   "metadata": {},
   "outputs": [
    {
     "name": "stdout",
     "output_type": "stream",
     "text": [
      "Loaded simulation\n",
      "Centering halo 1\n",
      "Making DM image...\n",
      "Adding circles...\n",
      "1\n"
     ]
    },
    {
     "name": "stderr",
     "output_type": "stream",
     "text": [
      "/home/akinshol/anaconda3/envs/py37/lib/python3.7/site-packages/ipykernel_launcher.py:72: UserWarning: Matplotlib is currently using module://ipykernel.pylab.backend_inline, which is a non-GUI backend, so cannot show the figure.\n",
      "/home/akinshol/anaconda3/envs/py37/lib/python3.7/site-packages/ipykernel_launcher.py:73: UserWarning: Matplotlib is currently using module://ipykernel.pylab.backend_inline, which is a non-GUI backend, so cannot show the figure.\n"
     ]
    },
    {
     "name": "stdout",
     "output_type": "stream",
     "text": [
      "9\n",
      "32\n",
      "126\n",
      "129\n"
     ]
    },
    {
     "name": "stderr",
     "output_type": "stream",
     "text": [
      "/home/akinshol/anaconda3/envs/py37/lib/python3.7/site-packages/ipykernel_launcher.py:80: UserWarning: Matplotlib is currently using module://ipykernel.pylab.backend_inline, which is a non-GUI backend, so cannot show the figure.\n",
      "/home/akinshol/anaconda3/envs/py37/lib/python3.7/site-packages/ipykernel_launcher.py:90: UserWarning: Matplotlib is currently using module://ipykernel.pylab.backend_inline, which is a non-GUI backend, so cannot show the figure.\n"
     ]
    },
    {
     "data": {
      "text/plain": [
       "<Figure size 432x288 with 0 Axes>"
      ]
     },
     "metadata": {},
     "output_type": "display_data"
    },
    {
     "data": {
      "text/plain": [
       "<Figure size 432x288 with 0 Axes>"
      ]
     },
     "metadata": {},
     "output_type": "display_data"
    }
   ],
   "source": [
    "prefix = '/home/christenc/Data/Sims/'\n",
    "prefix_outfile = '/home/akinshol/Data/Final Notebooks/images/'\n",
    "tfile_base = 'h329.cosmo50PLK.3072gst5HbwK1BH.004096'\n",
    "tfile = prefix + 'h329.cosmo50PLK.3072g/h329.cosmo50PLK.3072gst5HbwK1BH/h329.cosmo50PLK.3072gst5HbwK1BH.004096/h329.cosmo50PLK.3072gst5HbwK1BH.004096'    \n",
    "outfile_base = prefix_outfile + tfile_base\n",
    "# halo_nums = ['1','9','32','126','129']\n",
    "plt_halos(tfile,outfile_base,tfile_base)#,halo_nums)"
   ]
  },
  {
   "cell_type": "code",
   "execution_count": 5,
   "metadata": {},
   "outputs": [
    {
     "data": {
      "text/plain": [
       "<pynbody.transformation.GenericTranslation at 0x7f9236919128>"
      ]
     },
     "execution_count": 5,
     "metadata": {},
     "output_type": "execute_result"
    }
   ],
   "source": [
    "s = pynbody.load('/home/christenc/Data/Sims/h329.cosmo50PLK.3072g/h329.cosmo50PLK.3072gst5HbwK1BH/h329.cosmo50PLK.3072gst5HbwK1BH.004096/h329.cosmo50PLK.3072gst5HbwK1BH.004096')\n",
    "s.physical_units()\n",
    "h = s.halos()\n",
    "\n",
    "pynbody.analysis.halo.center(h[1])"
   ]
  },
  {
   "cell_type": "code",
   "execution_count": 9,
   "metadata": {},
   "outputs": [
    {
     "data": {
      "text/plain": [
       "SimArray([[3.8087761, 3.8243458, 3.8397927, ..., 1.4992098, 1.4926306,\n",
       "           1.4859385],\n",
       "          [3.8096886, 3.8249283, 3.8400323, ..., 1.5021806, 1.4961281,\n",
       "           1.4899732],\n",
       "          [3.8106146, 3.825519 , 3.8402781, ..., 1.5051132, 1.4995791,\n",
       "           1.4939533],\n",
       "          ...,\n",
       "          [2.5591097, 2.5974302, 2.6348693, ..., 2.9534774, 2.9203625,\n",
       "           2.8863587],\n",
       "          [2.5598676, 2.6021116, 2.6433125, ..., 2.9242535, 2.890029 ,\n",
       "           2.854881 ],\n",
       "          [2.560634 , 2.606835 , 2.651814 , ..., 2.8948019, 2.8594527,\n",
       "           2.8231435]], dtype=float32, 'Msol kpc**-3')"
      ]
     },
     "execution_count": 9,
     "metadata": {},
     "output_type": "execute_result"
    },
    {
     "data": {
      "image/png": "[encoded data removed]",
      "text/plain": [
       "<Figure size 432x288 with 2 Axes>"
      ]
     },
     "metadata": {
      "needs_background": "light"
     },
     "output_type": "display_data"
    }
   ],
   "source": [
    "pynbody.plot.sph.image(s.g, width = '1 Mpc', cmap='cubehelix', av_z = 'rho')"
   ]
  },
  {
   "cell_type": "code",
   "execution_count": 32,
   "metadata": {},
   "outputs": [],
   "source": [
    "def plt_halos(tfile,outfilebase,tfile_base,*halo_nums):\n",
    "\n",
    "    #min_mass = 1e9 #Minimum halo mass for analysis in solar masses\n",
    "    min_nstar =  100 #Minimum number of stars for\n",
    "    min_vmass = 1e8\n",
    "    min_noncontamFrac = 0.9 #Mass fraction in low mass DM particles\n",
    "\n",
    "    if halo_nums:\n",
    "        halo_nums = halo_nums[0]\n",
    "        \n",
    "    s = pynbody.load(tfile)\n",
    "    s.physical_units()\n",
    "    h = s.halos()\n",
    "    h_dummy = s.halos(dummy = True)\n",
    "    print('Loaded simulation')\n",
    "\n",
    "    fig1, ax1 = plt.subplots(1,1,dpi=300)\n",
    "    fig2, ax2 = plt.subplots(1,1,dpi=300)\n",
    "    \n",
    "    labels = []\n",
    "\n",
    "    i = 0\n",
    "    #Loop through all the halos, breaking when the virial mass is below min_mass\n",
    "    h1x = h_dummy[1].properties['Xc']\n",
    "    h1y = h_dummy[1].properties['Yc']\n",
    "    h1z = h_dummy[1].properties['Zc']\n",
    "    \n",
    "    smin, smax = -300, 300\n",
    "    print('Centering halo 1')\n",
    "    pynbody.analysis.halo.center(h[1])\n",
    "    print('Making DM image...')\n",
    "    im = pynbody.plot.sph.image(s.dm, width = '%s kpc' % str(smax-smin), cmap='Greys', \n",
    "                                subplot=ax1, av_z = 'rho', ret_im = True, show_cbar = False)\n",
    "    \n",
    "    divider = make_axes_locatable(ax1)\n",
    "    cax = divider.new_vertical(size=\"5%\", pad=0.1, pack_start=True)\n",
    "    fig.add_axes(cax)\n",
    "    cbar = fig.colorbar(im, cax=cax, orientation=\"horizontal\")\n",
    "    cbar.set_label(r'Dark Mattery Density [$\\mathrm{M}_{\\odot}\\ \\mathrm{kpc}^{-3}$]')\n",
    "    \n",
    "    \n",
    "    h1rvir = 0\n",
    "    print('Adding circles...')\n",
    "    for ihalo in range(1,len(h)): #len(h)-1):\n",
    "        if not halo_nums:\n",
    "            nstar = h_dummy[ihalo].properties['n_star']\n",
    "            fMhires = h_dummy[ihalo].properties['fMhires']\n",
    "            mass = h_dummy[ihalo].properties['mass']\n",
    "            valid_halo = (nstar >= min_nstar) and (fMhires >= min_noncontamFrac) and (mass >= min_vmass)\n",
    "        else:\n",
    "            valid_halo = str(h_dummy[ihalo].properties['halo_id']) in halo_nums\n",
    "\n",
    "            \n",
    "        if valid_halo:\n",
    "            labels.append(str(ihalo))\n",
    "            print(h_dummy[ihalo].properties['halo_id'])\n",
    "            \n",
    "            \n",
    "            x = (h_dummy[ihalo].properties['Xc']-h1x)/0.6776942783267969\n",
    "            y = (h_dummy[ihalo].properties['Yc']-h1y)/0.6776942783267969\n",
    "            z = (h_dummy[ihalo].properties['Zc']-h1z)/0.6776942783267969\n",
    "            rvir = h_dummy[ihalo].properties['Rvir']/0.6776942783267969\n",
    "            \n",
    "            \n",
    "            colorVal = 'm'\n",
    "            \n",
    "            if ihalo==1:\n",
    "                h1rvir = rvir\n",
    "            else:\n",
    "                if x < h1rvir and y < h1rvir and z < h1rvir:\n",
    "                    style = '--'\n",
    "                else:\n",
    "                    style = '-'\n",
    "\n",
    "            \n",
    "            circlexy = plt.Circle((x,y),rvir,color = colorVal, linestyle=style, fill=False)\n",
    "            circlexz = plt.Circle((x,z),rvir,color = colorVal, linestyle=style, fill=False)\n",
    "            ax1.add_artist(circlexy)\n",
    "            ax1.set_xlim(smin,smax)\n",
    "            ax1.set_ylim(smin,smax)\n",
    "            ax2.add_artist(circlexz)\n",
    "            ax2.set_xlim(smin,smax)\n",
    "            ax2.set_ylim(smin,smax)            \n",
    "            fig1.show()\n",
    "            fig2.show()\n",
    "            i += 1\n",
    "            \n",
    "    ax1.set_xlabel('X [kpc]')\n",
    "    ax1.set_ylabel('Y [kpc]')\n",
    "    ax1.set_title(tfile_base)\n",
    "    ax1.legend(labels,loc = 1)\n",
    "    fig1.show()\n",
    "    fig1.savefig(outfilebase + '.halos_xy.png')\n",
    "\n",
    "    fig1.clear()\n",
    "\n",
    "    \n",
    "    ax2.set_xlabel('X [kpc]')\n",
    "    ax2.set_ylabel('Z [kpc]')\n",
    "    ax2.set_title(tfile_base)\n",
    "    ax2.legend(labels,loc = 4)\n",
    "    fig2.show()\n",
    "    fig2.savefig(outfilebase + '.halos_xz.png')\n",
    "\n",
    "    fig2.clear()"
   ]
  },
  {
   "cell_type": "code",
   "execution_count": null,
   "metadata": {},
   "outputs": [],
   "source": []
  }
 ],
 "metadata": {
  "kernelspec": {
   "display_name": "Python 3",
   "language": "python",
   "name": "python3"
  },
  "language_info": {
   "codemirror_mode": {
    "name": "ipython",
    "version": 3
   },
   "file_extension": ".py",
   "mimetype": "text/x-python",
   "name": "python",
   "nbconvert_exporter": "python",
   "pygments_lexer": "ipython3",
   "version": "3.7.3"
  }
 },
 "nbformat": 4,
 "nbformat_minor": 2
}
