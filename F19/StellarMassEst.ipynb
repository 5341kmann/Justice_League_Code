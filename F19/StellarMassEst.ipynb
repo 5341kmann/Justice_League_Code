{
 "cells": [
  {
   "cell_type": "code",
   "execution_count": 35,
   "metadata": {},
   "outputs": [],
   "source": [
    "from bulk import *"
   ]
  },
  {
   "cell_type": "code",
   "execution_count": 36,
   "metadata": {},
   "outputs": [],
   "source": [
    "import numpy as np"
   ]
  },
  {
   "cell_type": "code",
   "execution_count": 3,
   "metadata": {},
   "outputs": [],
   "source": []
  },
  {
   "cell_type": "code",
   "execution_count": 55,
   "metadata": {},
   "outputs": [
    {
     "name": "stdout",
     "output_type": "stream",
     "text": [
      "h148\n",
      "Direct from pynbody: 1.93e+11 Msol\n",
      "Estimated from V-band magnitude: 1.01e+11 Msol\n",
      "h229\n",
      "Direct from pynbody: 1.02e+11 Msol\n",
      "Estimated from V-band magnitude: 4.35e+10 Msol\n",
      "h242\n",
      "Direct from pynbody: 8.97e+10 Msol\n",
      "Estimated from V-band magnitude: 3.01e+10 Msol\n",
      "h329\n",
      "Direct from pynbody: 8.99e+10 Msol\n",
      "Estimated from V-band magnitude: 4.30e+10 Msol\n"
     ]
    }
   ],
   "source": [
    "for name in ['h148','h229','h242','h329']:\n",
    "    print(name)\n",
    "    data = read_file(name)\n",
    "    halo1data = data[data.haloid==1]\n",
    "    Mv = halo1data.V_mag[0]\n",
    "\n",
    "    Mv_sol = 4.83\n",
    "    L = 10**((Mv_sol - Mv)/2.5)\n",
    "    print('Direct from pynbody: %.2e Msol' % halo1data.M_star[0])\n",
    "    print('Estimated from V-band magnitude: %.2e Msol' % L)"
   ]
  },
  {
   "cell_type": "code",
   "execution_count": 84,
   "metadata": {},
   "outputs": [
    {
     "name": "stdout",
     "output_type": "stream",
     "text": [
      "h148\n",
      "-23.08905060854771\n",
      "Direct from pynbody: 1.93e+11 Msol\n",
      "Estimated from V-band magnitude: 1.25e+11 Msol\n",
      "h229\n",
      "-22.209932972374887\n",
      "Direct from pynbody: 1.02e+11 Msol\n",
      "Estimated from V-band magnitude: 5.55e+10 Msol\n",
      "h242\n",
      "-21.856687997688095\n",
      "Direct from pynbody: 8.97e+10 Msol\n",
      "Estimated from V-band magnitude: 4.01e+10 Msol\n",
      "h329\n",
      "-22.189838951920162\n",
      "Direct from pynbody: 8.99e+10 Msol\n",
      "Estimated from V-band magnitude: 5.44e+10 Msol\n"
     ]
    }
   ],
   "source": [
    "for name in ['h148','h229','h242','h329']:\n",
    "    print(name)\n",
    "    data = read_file(name)\n",
    "    halo1data = data[data.haloid==1]\n",
    "    Mv = halo1data.R_mag[0]\n",
    "    print(Mv)\n",
    "\n",
    "    Mv_sol = 4.65\n",
    "    L = 10**((Mv_sol - Mv)/2.5)\n",
    "    print('Direct from pynbody: %.2e Msol' % halo1data.M_star[0])\n",
    "    print('Estimated from V-band magnitude: %.2e Msol' % L)"
   ]
  },
  {
   "cell_type": "code",
   "execution_count": 11,
   "metadata": {},
   "outputs": [
    {
     "data": {
      "text/plain": [
       "0.7634408602150538"
      ]
     },
     "execution_count": 11,
     "metadata": {},
     "output_type": "execute_result"
    }
   ],
   "source": [
    "\n",
    "data = read_sat()\n",
    "data = data[data.n_star > 10]\n",
    "\n",
    "len(data[data.sSFR<1e-11])/len(data)"
   ]
  },
  {
   "cell_type": "code",
   "execution_count": 12,
   "metadata": {},
   "outputs": [],
   "source": [
    "import pynbody\n",
    "s = pynbody.load('/home/akinshol/Data/Sims/newh329/h329.cosmo50PLK.3072gst5HbwK1BH.004096')\n",
    "s.physical_units()\n",
    "h = s.halos()"
   ]
  },
  {
   "cell_type": "code",
   "execution_count": 22,
   "metadata": {},
   "outputs": [],
   "source": [
    "\n",
    "halo = h[29]"
   ]
  },
  {
   "cell_type": "code",
   "execution_count": 23,
   "metadata": {},
   "outputs": [
    {
     "data": {
      "text/plain": [
       "22"
      ]
     },
     "execution_count": 23,
     "metadata": {},
     "output_type": "execute_result"
    }
   ],
   "source": [
    "len(halo.s)"
   ]
  },
  {
   "cell_type": "code",
   "execution_count": 24,
   "metadata": {},
   "outputs": [
    {
     "data": {
      "text/plain": [
       "SimArray(-7.90493193)"
      ]
     },
     "execution_count": 24,
     "metadata": {},
     "output_type": "execute_result"
    }
   ],
   "source": [
    "pynbody.analysis.luminosity.halo_mag(halo.s, band='v')"
   ]
  },
  {
   "cell_type": "code",
   "execution_count": 33,
   "metadata": {},
   "outputs": [
    {
     "data": {
      "text/plain": [
       "SimArray(-8.29735023)"
      ]
     },
     "execution_count": 33,
     "metadata": {},
     "output_type": "execute_result"
    }
   ],
   "source": [
    "pynbody.analysis.luminosity.halo_mag(halo.s, band='r')"
   ]
  },
  {
   "cell_type": "code",
   "execution_count": 40,
   "metadata": {},
   "outputs": [],
   "source": [
    "data = read_sat()\n",
    "data = data[data.n_star > 10]\n",
    "JL_rmags = data.R_mag"
   ]
  },
  {
   "cell_type": "code",
   "execution_count": 39,
   "metadata": {},
   "outputs": [],
   "source": []
  },
  {
   "cell_type": "code",
   "execution_count": 47,
   "metadata": {},
   "outputs": [
    {
     "data": {
      "image/png": "[encoded data removed]",
      "text/plain": [
       "<Figure size 900x600 with 1 Axes>"
      ]
     },
     "metadata": {
      "needs_background": "light"
     },
     "output_type": "display_data"
    }
   ],
   "source": [
    "y, binEdges = np.histogram(np.array(JL_rmags,dtype=float),bins=10)\n",
    "plt.figure(dpi=150)\n",
    "plt.hist(np.array(JL_rmags,dtype=float),bins=binEdges, histtype='step', linewidth=2, label='JL')\n",
    "plt.hist(saga_rmags,bins=binEdges, histtype='step', linewidth=2, label='SAGA')\n",
    "plt.gca().invert_xaxis()\n",
    "plt.legend()\n",
    "plt.show()\n"
   ]
  },
  {
   "cell_type": "code",
   "execution_count": null,
   "metadata": {},
   "outputs": [],
   "source": []
  },
  {
   "cell_type": "code",
   "execution_count": 83,
   "metadata": {},
   "outputs": [
    {
     "data": {
      "image/png": "[encoded data removed]",
      "text/plain": [
       "<Figure size 432x288 with 1 Axes>"
      ]
     },
     "metadata": {
      "needs_background": "light"
     },
     "output_type": "display_data"
    }
   ],
   "source": [
    "SAGA = pd.read_csv('SAGA_data_cleaned.csv')\n",
    "\n",
    "Mv_sol = 4.65\n",
    "L = 10**((Mv_sol - np.array(SAGA.M_r))/2.5)\n",
    "mass = np.log10(L)\n",
    "\n",
    "y1, binEdges = np.histogram(mass)\n",
    "bincenters = 0.5*(binEdges[1:]+binEdges[:-1])\n",
    "y2, binEdges = np.histogram(mass[SAGA.halpha=='N'], bins = binEdges)\n",
    "plt.plot(10**bincenters,y2/y1, label='all')\n",
    "\n",
    "plt.gca().invert_xaxis()\n",
    "plt.semilogx()\n",
    "plt.show()"
   ]
  },
  {
   "cell_type": "code",
   "execution_count": null,
   "metadata": {},
   "outputs": [],
   "source": [
    "\n",
    "\n"
   ]
  },
  {
   "cell_type": "code",
   "execution_count": null,
   "metadata": {},
   "outputs": [],
   "source": []
  },
  {
   "cell_type": "code",
   "execution_count": null,
   "metadata": {},
   "outputs": [],
   "source": []
  }
 ],
 "metadata": {
  "kernelspec": {
   "display_name": "Python 3",
   "language": "python",
   "name": "python3"
  },
  "language_info": {
   "codemirror_mode": {
    "name": "ipython",
    "version": 3
   },
   "file_extension": ".py",
   "mimetype": "text/x-python",
   "name": "python",
   "nbconvert_exporter": "python",
   "pygments_lexer": "ipython3",
   "version": "3.7.3"
  }
 },
 "nbformat": 4,
 "nbformat_minor": 2
}
